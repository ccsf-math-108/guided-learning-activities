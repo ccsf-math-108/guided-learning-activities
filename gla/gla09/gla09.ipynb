{
 "cells": [
  {
   "cell_type": "code",
   "execution_count": null,
   "id": "e25a2b36",
   "metadata": {
    "deletable": false,
    "editable": false
   },
   "outputs": [],
   "source": [
    "# Initialize Otter\n",
    "import otter\n",
    "grader = otter.Notebook(\"gla09.ipynb\")"
   ]
  },
  {
   "cell_type": "markdown",
   "id": "692fbc6d-0645-4e75-b205-29989ec616ab",
   "metadata": {},
   "source": [
    "<img src=\"./ccsf.png\" alt=\"CCSF Logo\" width=200px style=\"margin:0px -5px\">"
   ]
  },
  {
   "cell_type": "markdown",
   "id": "c83b268c-d46e-450b-b4af-a2390020878c",
   "metadata": {
    "tags": []
   },
   "source": [
    "# Guided Learning Activity 09: Parameter Estimation"
   ]
  },
  {
   "cell_type": "markdown",
   "id": "f5c0e5f0-1759-4129-8e2e-8301f1db6953",
   "metadata": {},
   "source": [
    "This Guided Learning Activity is designed for you to complete alongside a Data Ambassador from the course. You might find that it feels like a combination of the lectures and lab assignment. Whether you are participating live or watching the recording of the live meeting, let the Data Ambassador guide you through the following tasks. There will be moments for you to reflect and explore your own ideas as a way to solidify concepts and skills introduced by your instructor. Keep in mind that this is not a graded assignment for MATH 108 by default. If you have any concerns about participation, reach out to your instructor."
   ]
  },
  {
   "cell_type": "markdown",
   "id": "20d80b08-8562-4cc5-aa65-1e0c97ac6985",
   "metadata": {},
   "source": [
    "---"
   ]
  },
  {
   "cell_type": "markdown",
   "id": "eccd253c-ffd2-40f0-98ac-cc06cc8dec20",
   "metadata": {},
   "source": [
    "## Learning Objectives"
   ]
  },
  {
   "cell_type": "markdown",
   "id": "66e18ccd-f8f0-4f7c-a1f9-c872f5ca01af",
   "metadata": {},
   "source": [
    "1. Outline the process of estimating a parameter using a bootstrap confidence interval.\n",
    "2. Explore various topics in finance and stock portfolio management.\n",
    "3. Access stock market data from Yahoo Finance using `yfinance`.\n",
    "4. Generate a bootstrap confidence interval for various parameters.\n",
    "5. Interpret confidence intervals."
   ]
  },
  {
   "cell_type": "markdown",
   "id": "9a45b759-69b8-4061-b2f8-06483c0e2e92",
   "metadata": {},
   "source": [
    "---"
   ]
  },
  {
   "cell_type": "markdown",
   "id": "0c2302a6-fda0-41de-a349-169954a09cf8",
   "metadata": {},
   "source": [
    "## Configure the Notebook"
   ]
  },
  {
   "cell_type": "markdown",
   "id": "06843add-4d19-4e8d-a8ca-a9bcbee58f31",
   "metadata": {},
   "source": [
    "Run the following code cell to set up the notebook."
   ]
  },
  {
   "cell_type": "code",
   "execution_count": null,
   "id": "253bae4d-e069-42ce-b797-c3cfe5a9fc12",
   "metadata": {},
   "outputs": [],
   "source": [
    "from datascience import *\n",
    "import numpy as np\n",
    "%matplotlib inline\n",
    "import matplotlib.pyplot as plt\n",
    "plt.style.use('fivethirtyeight')"
   ]
  },
  {
   "cell_type": "markdown",
   "id": "0768ab18-070d-487b-96eb-6578f455d5c2",
   "metadata": {},
   "source": [
    "---"
   ]
  },
  {
   "cell_type": "markdown",
   "id": "005bfc25-da71-4dce-bfd8-169a3329e5a0",
   "metadata": {},
   "source": [
    "## Parameters vs. Statistics"
   ]
  },
  {
   "cell_type": "markdown",
   "id": "cf2b8198-56b6-453b-b9b3-2a1d2cb79db3",
   "metadata": {},
   "source": [
    "* A **parameter** is a measurement of the population\n",
    "    * From a philosophical perspective, we consider the parameter to be a fixed value\n",
    "        * Considering a population that changes is a more realistic scenario\n",
    "* A **statistic** is some measurement on a sample\n",
    "    * The value of the statistic varies with the samples\n",
    "    * Random samples give random statistics\n",
    "* Our goal is to have you estimate a parameter using sample data"
   ]
  },
  {
   "cell_type": "markdown",
   "id": "630d0137-9592-4408-9519-7126caf6d1cf",
   "metadata": {},
   "source": [
    "---"
   ]
  },
  {
   "cell_type": "markdown",
   "id": "d47b1242-c7bc-4ff8-a3fb-4a1048e2c854",
   "metadata": {},
   "source": [
    "## A Parameter Estimation Process"
   ]
  },
  {
   "cell_type": "markdown",
   "id": "92da8757-38cf-4f5e-b6f1-19e9662dd0ff",
   "metadata": {},
   "source": [
    "```mermaid\n",
    "graph TD;\n",
    "    A[\"What is the value of some\\n parameter for a given population?\"]\n",
    "    A --> B{\"Do we have all the related\\n data on the population?\"}\n",
    "    B -->|\"Yes\"| C[\"Calculate the parameter.\"]\n",
    "    B -->|\"No\"| D[\"Generate a random sample\\n from the population.\"]\n",
    "    D --> E[\"Calculate a related statistic on the sample.\"]\n",
    "    E --> F[\"Store the statistic value.\"]\n",
    "    F --> G[\"Resample (with replacement) from the sample.\"]\n",
    "    G --> H[\"Calculate the same statistic on the resample.\"]\n",
    "    H --> I[\"Store the statistic value.\"]\n",
    "    I -->|\"Repeat Many Times\"| G\n",
    "    I --> J[\"Generate a distribution from stored statistics.\"]\n",
    "    J --> k[\"Use the center and spread of the\\n distribution to estimate the parameter.\"]\n",
    "```"
   ]
  },
  {
   "cell_type": "markdown",
   "id": "a2b61c5e-0f9c-4a1c-a3cb-8cc6eaf894ff",
   "metadata": {},
   "source": [
    "---"
   ]
  },
  {
   "cell_type": "markdown",
   "id": "ca1b040c-a9fb-4d1e-afea-91ecc00dc5ac",
   "metadata": {
    "tags": []
   },
   "source": [
    "### Task 01 📍🔎"
   ]
  },
  {
   "cell_type": "markdown",
   "id": "7c352ea8-c6c6-4a8b-88d0-74a949877b93",
   "metadata": {
    "deletable": false,
    "editable": false
   },
   "source": [
    "<!-- BEGIN QUESTION -->\n",
    "\n",
    "In the parameter estimation process outlined above, list some pros and cons of resampling from the original random sample from the population."
   ]
  },
  {
   "cell_type": "markdown",
   "id": "4eea65d2",
   "metadata": {},
   "source": [
    "_Type your answer here, replacing this text._"
   ]
  },
  {
   "cell_type": "markdown",
   "id": "af4e8867-fa9e-4ef0-a50c-f5fcbc90756f",
   "metadata": {
    "deletable": false,
    "editable": false,
    "slideshow": {
     "slide_type": "fragment"
    }
   },
   "source": [
    "<!-- END QUESTION -->\n",
    "\n",
    "---"
   ]
  },
  {
   "cell_type": "markdown",
   "id": "a9dfb439-cc30-4fcb-b3b3-c7f4c74afae5",
   "metadata": {},
   "source": [
    "## Stock Data"
   ]
  },
  {
   "cell_type": "markdown",
   "id": "7cadafe0-b000-408a-a366-ee460f83acf8",
   "metadata": {},
   "source": [
    "* A **portfolio manager** makes investment decisions for individuals or institutions  \n",
    "* An **investment strategy** is a plan for how to choose those investments  \n",
    "* For example, a portfolio manager might:  \n",
    "    * Focus on large, stable companies  \n",
    "    * Target fast-growing tech startups  \n",
    "    * Invest in funds that track the entire stock market  \n",
    "    * Prioritize sustainable or ethical companies  \n",
    "    * etc.  \n",
    "* A portfolio manager can choose between strategies by estimating expected returns using historical data\n",
    "    * **Returns** are the profits from an investment "
   ]
  },
  {
   "cell_type": "markdown",
   "id": "52467cf7-561a-4b76-b69d-a0ca6514aae5",
   "metadata": {},
   "source": [
    "---"
   ]
  },
  {
   "cell_type": "markdown",
   "id": "14c99e63-9d05-47e6-9b80-3a10670b0eb0",
   "metadata": {},
   "source": [
    "### Yahoo Finance"
   ]
  },
  {
   "cell_type": "markdown",
   "id": "766d0add-f009-48b5-87d7-0814d135c329",
   "metadata": {},
   "source": [
    "<center><img src=\"Yahoo!_Finance_logo_2021.png\" width=150px alt=\"Yahoo Finance logo\"></center>\n",
    "\n",
    "*  [Yahoo Finance](https://finance.yahoo.com/) is a financial news and data platform that provides financial news, data, and commentary\n",
    "*  [`yfinance`](https://yfinance-python.org/) is a Python library used to access data from Yahoo Finance"
   ]
  },
  {
   "cell_type": "markdown",
   "id": "008f2197-2959-4f40-b55b-2e1d0d04dd64",
   "metadata": {},
   "source": [
    "---"
   ]
  },
  {
   "cell_type": "markdown",
   "id": "896e8015-4ec0-464b-9f30-e3a9f29540bd",
   "metadata": {
    "tags": []
   },
   "source": [
    "### Task 02 📍"
   ]
  },
  {
   "cell_type": "markdown",
   "id": "63cb102f-c49c-4dfa-b13f-309561daa420",
   "metadata": {
    "deletable": false,
    "editable": false
   },
   "source": [
    "Run the command `!pip install yfinance` to install `yfinance` on this system, and import `yfinance` as `yf`."
   ]
  },
  {
   "cell_type": "code",
   "execution_count": null,
   "id": "bab3acc1-766e-4656-b26b-a2128faacfff",
   "metadata": {
    "tags": []
   },
   "outputs": [],
   "source": [
    "..."
   ]
  },
  {
   "cell_type": "code",
   "execution_count": null,
   "id": "ea7718e4",
   "metadata": {
    "deletable": false,
    "editable": false
   },
   "outputs": [],
   "source": [
    "grader.check(\"task_02\")"
   ]
  },
  {
   "cell_type": "markdown",
   "id": "2e0b111c-4284-42b4-8f4f-1094c92f3337",
   "metadata": {
    "editable": true,
    "slideshow": {
     "slide_type": ""
    },
    "tags": []
   },
   "source": [
    "---"
   ]
  },
  {
   "cell_type": "markdown",
   "id": "c5f4fd26-161b-4ab7-a690-36efe75c50a0",
   "metadata": {},
   "source": [
    "### Downloading Stock Data"
   ]
  },
  {
   "cell_type": "markdown",
   "id": "88147491-0b66-41ea-aace-775dc5cdd93b",
   "metadata": {},
   "source": [
    "* A **stock** (or **share**) is a unit of ownership of a company\n",
    "* Stocks are traded on stock exchanges, meaning that individuals or organizations come together to buy and sell stock\n",
    "    *  The price of a stock varies over any given trading day\n",
    "* The `yfinance` function `download` allows you to download stock information for an organization over a specified period of time\n",
    "* The `download` function has several parameters. We will focus on a few for this activity:\n",
    "    * `tickers` (`str`) allows you to specify the ticker for the company that you want to download information for\n",
    "        * An organization is referenced by its ticker, a unique alphabetic name that identifies the stock\n",
    "        * For example, the ticker for Apple is `'AAPL'`\n",
    "    * `start` (`str`) allows you to specify the start date for the stock data and uses the format `'YYYY-MM-DD'`\n",
    "    * `end` (`str`) allows you to specify the end date for the stock data and uses the format `'YYYY-MM-DD'`\n",
    "    "
   ]
  },
  {
   "cell_type": "markdown",
   "id": "d152ee44-a148-4bcc-b439-391043fe5e1d",
   "metadata": {
    "editable": true,
    "slideshow": {
     "slide_type": ""
    },
    "tags": []
   },
   "source": [
    "---"
   ]
  },
  {
   "cell_type": "markdown",
   "id": "9e9caa1f-986d-4fc7-9d1f-ea80e58baf4e",
   "metadata": {
    "tags": []
   },
   "source": [
    "### Task 03 📍"
   ]
  },
  {
   "cell_type": "markdown",
   "id": "e6eefaa5-f48d-4a97-8a3e-85971b166921",
   "metadata": {
    "deletable": false,
    "editable": false
   },
   "source": [
    "Using the `yf.download` function, download Apple's daily stock information for the last 5 years as `AAPL_df`, and use `Table.from_df` to create a `Table` called `AAPL` containing the downloaded information.\n",
    "\n",
    "**Notes:** \n",
    "* We've utilized the parameters `progress`, `auto_adjust`, and `multi_level_index` to clean up the response you get from the `download` function.\n",
    "* This function will download the data as a [Pandas](https://pandas.pydata.org/) `DataFrame`.\n",
    "* We don't work directly with Pandas in MATH 108, so `Table.from_df` converts that `DataFrame` into a `Table`."
   ]
  },
  {
   "cell_type": "code",
   "execution_count": null,
   "id": "a5c469ef-98fb-4268-ba73-6d848b574222",
   "metadata": {
    "tags": []
   },
   "outputs": [],
   "source": [
    "AAPL_df = yf.download(tickers=..., \n",
    "                      start=..., \n",
    "                      end=...,\n",
    "                      progress=False, # Turn off the download progress bar\n",
    "                      auto_adjust=True, # Adjust all Open, High, Low, and Close values automatically\n",
    "                      multi_level_index=False) # To make the DataFrame to Table conversion easier\n",
    "AAPL = Table.from_df(AAPL_df.reset_index()) # Needed to include the dates in the Table\n",
    "AAPL"
   ]
  },
  {
   "cell_type": "code",
   "execution_count": null,
   "id": "22fbfabd",
   "metadata": {
    "deletable": false,
    "editable": false
   },
   "outputs": [],
   "source": [
    "grader.check(\"task_03\")"
   ]
  },
  {
   "cell_type": "markdown",
   "id": "5daffa83-6eaa-4a5c-b2be-c16aaa128ec3",
   "metadata": {
    "editable": true,
    "slideshow": {
     "slide_type": ""
    },
    "tags": []
   },
   "source": [
    "---"
   ]
  },
  {
   "cell_type": "markdown",
   "id": "cfbedfab-25c1-4031-82e5-58a04b6d7a04",
   "metadata": {},
   "source": [
    "### Reading the Data"
   ]
  },
  {
   "cell_type": "markdown",
   "id": "53f50cda-ca09-4825-bb07-fc44dc7f5190",
   "metadata": {},
   "source": [
    "The data from `yfinance` in the `AAPL` table should show you:\n",
    "* `'Date'`: The date of the stock trading information\n",
    "* `'Close'`: The closing price of the stock for the given day\n",
    "* `'High'`: The highest price of the stock for the given day\n",
    "* `'Low'`: The lowest price of the stock for the given day\n",
    "* `'Open'`: The opening price of the stock for the given day\n",
    "* `'Volume'`: The total number of shares of the stock traded for the day"
   ]
  },
  {
   "cell_type": "markdown",
   "id": "962e63c8-a474-46de-b5fb-cc596716ea7d",
   "metadata": {
    "editable": true,
    "slideshow": {
     "slide_type": ""
    },
    "tags": []
   },
   "source": [
    "---"
   ]
  },
  {
   "cell_type": "markdown",
   "id": "73e96315-3ccb-4742-a162-b7e2546009f3",
   "metadata": {
    "tags": []
   },
   "source": [
    "### Task 04 📍"
   ]
  },
  {
   "cell_type": "markdown",
   "id": "d52bccaf-0f4b-406a-8d2d-1c488021ad21",
   "metadata": {
    "deletable": false,
    "editable": false
   },
   "source": [
    "Download Tesla's (`'TSLA'`) daily stock information in the same way you did for Apple to create the `Table` `TSLA`."
   ]
  },
  {
   "cell_type": "code",
   "execution_count": null,
   "id": "fe7835db-6f76-4b64-b38b-9b431a24cf72",
   "metadata": {
    "tags": []
   },
   "outputs": [],
   "source": [
    "TSLA_df = yf.download(tickers=..., \n",
    "                      start=..., \n",
    "                      end=...,\n",
    "                      progress=False, \n",
    "                      auto_adjust=True, \n",
    "                      multi_level_index=False)\n",
    "TSLA = Table.from_df(TSLA_df.reset_index())\n",
    "TSLA"
   ]
  },
  {
   "cell_type": "code",
   "execution_count": null,
   "id": "1313b553",
   "metadata": {
    "deletable": false,
    "editable": false
   },
   "outputs": [],
   "source": [
    "grader.check(\"task_04\")"
   ]
  },
  {
   "cell_type": "markdown",
   "id": "77f075fa-5999-4f8b-93c1-766782bbd54b",
   "metadata": {
    "editable": true,
    "slideshow": {
     "slide_type": ""
    },
    "tags": []
   },
   "source": [
    "---"
   ]
  },
  {
   "cell_type": "markdown",
   "id": "a69218a0-813c-4ac0-8167-3773334e3e46",
   "metadata": {
    "tags": []
   },
   "source": [
    "### Task 05 📍"
   ]
  },
  {
   "cell_type": "markdown",
   "id": "8a5e38d7-9324-4a5a-976d-bbff9c02cd40",
   "metadata": {
    "deletable": false,
    "editable": false
   },
   "source": [
    "Create a table called `closings` which contains all the closing prices for the Apple and Tesla stocks for the last five years. The table should have the following 3 columns, in the presented order:\n",
    "* `'Date'`: The date\n",
    "* `'AAPL'`: Apple's closing stock price\n",
    "* `'TSLA'`:  Tesla's closing stock price"
   ]
  },
  {
   "cell_type": "code",
   "execution_count": null,
   "id": "45187f6a-56f6-4578-84ec-44530608aec1",
   "metadata": {
    "tags": []
   },
   "outputs": [],
   "source": [
    "..."
   ]
  },
  {
   "cell_type": "code",
   "execution_count": null,
   "id": "812701d7",
   "metadata": {
    "deletable": false,
    "editable": false
   },
   "outputs": [],
   "source": [
    "grader.check(\"task_05\")"
   ]
  },
  {
   "cell_type": "markdown",
   "id": "3c3357e3-51b9-423e-a34a-f96636ba32d4",
   "metadata": {
    "editable": true,
    "slideshow": {
     "slide_type": ""
    },
    "tags": []
   },
   "source": [
    "---"
   ]
  },
  {
   "cell_type": "markdown",
   "id": "a77f8432-35e7-42d4-baeb-b5032d2ad226",
   "metadata": {},
   "source": [
    "## Choosing Between Investment Strategies"
   ]
  },
  {
   "cell_type": "markdown",
   "id": "507b071c-91a0-4848-b248-80241c422253",
   "metadata": {},
   "source": [
    "Suppose that you are a portfolio manager who is trying to decide between the following two strategies:\n",
    "\n",
    "1. Invest your client's money based on Apple's stock.\n",
    "2. Invest your client's money based on Tesla's stock.\n",
    "\n",
    "You can only speculate what will happen in the future, but you can use historical data to inform your speculation."
   ]
  },
  {
   "cell_type": "markdown",
   "id": "d3248124-1765-4501-bd5d-b73f66102ca0",
   "metadata": {},
   "source": [
    "---"
   ]
  },
  {
   "cell_type": "markdown",
   "id": "ce30857f-bbb1-4fee-9e35-b64be3b5f13f",
   "metadata": {
    "tags": []
   },
   "source": [
    "### Task 06 📍🔎"
   ]
  },
  {
   "cell_type": "markdown",
   "id": "966fa343-7ae4-43e9-ae8d-d641f3bbf62a",
   "metadata": {
    "deletable": false,
    "editable": false
   },
   "source": [
    "<!-- BEGIN QUESTION -->\n",
    "\n",
    "Run the following line plot to see the trends in closing prices for Apple and Tesla stock over the last five years."
   ]
  },
  {
   "cell_type": "code",
   "execution_count": null,
   "id": "79d8c623-cff8-48a2-a4bf-9d9e30e440bd",
   "metadata": {
    "deletable": false,
    "editable": false
   },
   "outputs": [],
   "source": [
    "closings.iplot('Date', title='Closing Prices Over Time')"
   ]
  },
  {
   "cell_type": "markdown",
   "id": "2d17b063-5729-41e6-9a21-00d4a4eebd57",
   "metadata": {
    "deletable": false,
    "editable": false
   },
   "source": [
    "Compare and contrast the trend of Apple and Tesla's closing stock prices over the provided time period. In particular, how does this graphic inform your choice of using an Apple- or Tesla-based strategy for your client's investments? "
   ]
  },
  {
   "cell_type": "markdown",
   "id": "5dda27cd",
   "metadata": {},
   "source": [
    "_Type your answer here, replacing this text._"
   ]
  },
  {
   "cell_type": "markdown",
   "id": "55b40946-4d19-477f-89e2-86ddd5d2a498",
   "metadata": {
    "deletable": false,
    "editable": false,
    "slideshow": {
     "slide_type": "fragment"
    }
   },
   "source": [
    "<!-- END QUESTION -->\n",
    "\n",
    "---"
   ]
  },
  {
   "cell_type": "markdown",
   "id": "df98a7cb-725b-417f-9e01-2202e3ec9420",
   "metadata": {},
   "source": [
    "### Daily Returns"
   ]
  },
  {
   "cell_type": "markdown",
   "id": "3d441748-9d3e-47d7-bd66-1a37643b6308",
   "metadata": {},
   "source": [
    "* A simple **return** for a stock from one time period to the next is defined by subtracting the previous closing price from the current closing price, then dividing by the previous closing price. \n",
    "* Analyzing returns lets us focus on the relative changes in stock prices over time, rather than being distracted by the fact that Apple and Tesla have different price scales."
   ]
  },
  {
   "cell_type": "markdown",
   "id": "2d36ee3b-7a49-4e34-8a36-dc1740471344",
   "metadata": {},
   "source": [
    "---"
   ]
  },
  {
   "cell_type": "markdown",
   "id": "1ef72780-e1d7-4a33-8ebc-a664c8821385",
   "metadata": {
    "tags": []
   },
   "source": [
    "### Task 07 📍"
   ]
  },
  {
   "cell_type": "markdown",
   "id": "5c8567ea-0e0b-4412-8a5b-75e3a4dc72b7",
   "metadata": {
    "deletable": false,
    "editable": false
   },
   "source": [
    "Create a table called `returns` that contains the daily returns for Apple and Tesla stock based on the data in `closings` to show the trend in the returns for both stocks over the last five years. `returns` should have the following 3 columns, in the presented order:\n",
    "\n",
    "* `'Date'`: The date\n",
    "* `'AAPL'`: Apple's return for the given date\n",
    "* '`TSLA'`: Tesla's return for the given date\n",
    "\n",
    "Observe the way the returns trend for both stocks.\n",
    "\n",
    "**Notes**:\n",
    "* If you have an array called `arr`, then\n",
    "    * `arr[1:]` would provide you with a new array that contains everything in `arr` except the first item.\n",
    "    * `arr[:-1]` would provide you with a new array that contains everything in `arr` except the last item.\n",
    "* In the template code, we've used `iplot` to provide a better default image for the trends. "
   ]
  },
  {
   "cell_type": "code",
   "execution_count": null,
   "id": "c9b7fc65-66a2-4584-a399-bce61d8ce102",
   "metadata": {
    "tags": []
   },
   "outputs": [],
   "source": [
    "AAPL_closings = ...\n",
    "TSLA_closings = ...\n",
    "AAPL_returns = ...\n",
    "TSLA_returns = ...\n",
    "returns = ...\n",
    "returns\n",
    "\n",
    "returns.iplot('Date', title='Returns Over Time')"
   ]
  },
  {
   "cell_type": "code",
   "execution_count": null,
   "id": "534020f1",
   "metadata": {
    "deletable": false,
    "editable": false
   },
   "outputs": [],
   "source": [
    "grader.check(\"task_07\")"
   ]
  },
  {
   "cell_type": "markdown",
   "id": "bf151e34-706a-4c19-b276-d657f41b83bb",
   "metadata": {
    "editable": true,
    "slideshow": {
     "slide_type": ""
    },
    "tags": []
   },
   "source": [
    "---"
   ]
  },
  {
   "cell_type": "markdown",
   "id": "a62ade98-251a-4fb8-b9a1-ac332ca67579",
   "metadata": {},
   "source": [
    "### Parameters"
   ]
  },
  {
   "cell_type": "markdown",
   "id": "bfab77ce-f0f8-4e93-90f5-021ecbf4bd3a",
   "metadata": {},
   "source": [
    "* Considering the graph and your own experience, you might have an opinion on which stock to base the investments on\n",
    "* Data Science involves using data to make decisions\n",
    "* Since the returns vary for both stocks over time, you need some measurement to assess\n",
    "    * An **average return** could be a useful measure to capture the expected return\n",
    "    * Another consideration is the **standard deviation (volatility)** of the returns to capture the spread of the return values (risk)\n",
    "* Estimate the average return and volatility of each stock and use those estimates to make your strategy decision."
   ]
  },
  {
   "cell_type": "markdown",
   "id": "2bb40fc7-357c-4989-b469-837695f11c45",
   "metadata": {
    "editable": true,
    "slideshow": {
     "slide_type": ""
    },
    "tags": []
   },
   "source": [
    "---"
   ]
  },
  {
   "cell_type": "markdown",
   "id": "add4497d-3b5d-4de2-bf0b-8b8a9f8bfdd6",
   "metadata": {
    "tags": []
   },
   "source": [
    "### Task 08 📍"
   ]
  },
  {
   "cell_type": "markdown",
   "id": "5dac6e3e-2f45-4ba1-91a7-6a33c816a3bf",
   "metadata": {
    "deletable": false,
    "editable": false
   },
   "source": [
    "Calculate the average return and volatility of the Apple and Tesla stocks over the last five years using the following assignments."
   ]
  },
  {
   "cell_type": "code",
   "execution_count": null,
   "id": "4a1e4eeb-92d0-40a8-b9eb-5a9cf3884977",
   "metadata": {
    "tags": []
   },
   "outputs": [],
   "source": [
    "..."
   ]
  },
  {
   "cell_type": "code",
   "execution_count": null,
   "id": "435ee3f2",
   "metadata": {
    "deletable": false,
    "editable": false
   },
   "outputs": [],
   "source": [
    "grader.check(\"task_08\")"
   ]
  },
  {
   "cell_type": "markdown",
   "id": "5ac065c6-3471-46a3-8a3e-57de0316942f",
   "metadata": {
    "editable": true,
    "slideshow": {
     "slide_type": ""
    },
    "tags": []
   },
   "source": [
    "---"
   ]
  },
  {
   "cell_type": "markdown",
   "id": "c6180714-e9a4-493f-ba46-72afcd833086",
   "metadata": {},
   "source": [
    "### Estimating the Parameters"
   ]
  },
  {
   "cell_type": "markdown",
   "id": "0e58a70a-7ace-4c26-97c1-368e43d79809",
   "metadata": {},
   "source": [
    "* We want to understand an investment's true long-term behavior (the **population**)\n",
    "* But we only have access to historical data (a **sample**)\n",
    "* Simply using historical averages as fixed values **falsely** assumes the past fully represents the future\n",
    "    * Past data gives us a **guess** of future return and volatility, not a guarantee\n",
    "    * Estimating helps account for **uncertainty** in using a sample to predict the future\n",
    "* The sample average return and sample volatility could have turned out differently if we used a different time period, used opening prices, etc\n",
    "* To reduce the bias in these estimates, it's standard to create an interval estimate based on them\n",
    "* Resampling returns from the past five years using sampling with replacement gives us a structured way to introduce variability in the statistics"
   ]
  },
  {
   "cell_type": "markdown",
   "id": "95fdaded-6cd0-4c2b-b0b3-219b123d6b22",
   "metadata": {
    "editable": true,
    "slideshow": {
     "slide_type": ""
    },
    "tags": []
   },
   "source": [
    "---"
   ]
  },
  {
   "cell_type": "markdown",
   "id": "5d40aacf-0a17-470b-b955-62aa154f8b7f",
   "metadata": {
    "tags": []
   },
   "source": [
    "### Task 09 📍"
   ]
  },
  {
   "cell_type": "markdown",
   "id": "75338731-8a56-473f-8d16-adf9b7cb06be",
   "metadata": {
    "deletable": false,
    "editable": false
   },
   "source": [
    "Create a function `bootstrap_average_returns(tbl, values_label, n)` that creates `n` bootstrap resamples from the original sample of return data in a provided table `tbl` where the return data is in the column `values_label` and returns an array of average returns based on the resamples."
   ]
  },
  {
   "cell_type": "code",
   "execution_count": null,
   "id": "a5dfec1c-4c47-4b65-ac2f-933b7d65316d",
   "metadata": {
    "tags": []
   },
   "outputs": [],
   "source": [
    "def bootstrap_average_returns(tbl, values_label, n):\n",
    "    ...\n",
    "\n",
    "# Visualize the distribution of resampled Apple returns with n=500\n",
    "Table().with_column('Average Returns', bootstrap_average_returns(returns, 'AAPL', 500)).hist()\n",
    "plt.title('Distribution of Resampled Average Returns')\n",
    "plt.show()"
   ]
  },
  {
   "cell_type": "code",
   "execution_count": null,
   "id": "a38f2743",
   "metadata": {
    "deletable": false,
    "editable": false
   },
   "outputs": [],
   "source": [
    "grader.check(\"task_09\")"
   ]
  },
  {
   "cell_type": "markdown",
   "id": "db01d886-fd4f-427c-b233-a33adceba74e",
   "metadata": {
    "editable": true,
    "slideshow": {
     "slide_type": ""
    },
    "tags": []
   },
   "source": [
    "---"
   ]
  },
  {
   "cell_type": "markdown",
   "id": "adc2e0b4-7dc9-4eb9-bf71-b201278d4ab3",
   "metadata": {
    "tags": []
   },
   "source": [
    "### Task 10 📍"
   ]
  },
  {
   "cell_type": "markdown",
   "id": "94381a03-d096-4a9e-bf79-9dfc845fca94",
   "metadata": {
    "deletable": false,
    "editable": false
   },
   "source": [
    "Create a function `bootstrap_volatilities(tbl, values_label, n)` that creates `n` bootstrap resamples from the original sample of return data in a provided table `tbl` where the return data is in the column `values_label` and returns an array of average returns based on the resamples."
   ]
  },
  {
   "cell_type": "code",
   "execution_count": null,
   "id": "1bd837c3-b4d1-4a6c-bda9-a289da8779a5",
   "metadata": {
    "tags": []
   },
   "outputs": [],
   "source": [
    "def bootstrap_volatilities(tbl, values_label, n):\n",
    "    ...\n",
    "\n",
    "# Visualize the distribution of resampled Apple returns with n=500\n",
    "Table().with_column('Volatilities', bootstrap_volatilities(returns, 'AAPL', 500)).hist()\n",
    "plt.title('Distribution of Resampled Volatilities')\n",
    "plt.show()"
   ]
  },
  {
   "cell_type": "code",
   "execution_count": null,
   "id": "22f188a2",
   "metadata": {
    "deletable": false,
    "editable": false
   },
   "outputs": [],
   "source": [
    "grader.check(\"task_10\")"
   ]
  },
  {
   "cell_type": "markdown",
   "id": "4f0fcaa4-efa7-4461-83a0-68637395d138",
   "metadata": {
    "editable": true,
    "slideshow": {
     "slide_type": ""
    },
    "tags": []
   },
   "source": [
    "---"
   ]
  },
  {
   "cell_type": "markdown",
   "id": "93517403-c880-4950-b845-16c23f04d362",
   "metadata": {},
   "source": [
    "### Confidence Interval"
   ]
  },
  {
   "cell_type": "markdown",
   "id": "0f44a7ed-fd99-4768-a350-98f76dbe9ade",
   "metadata": {},
   "source": [
    "* A confidence interval is an interval estimate for a parameter based on sample data\n",
    "* In MATH 108, you create a confidence interval by considering the range of the middle of the resampled statistics\n",
    "* The range depends on the confidence level\n",
    "    * The standard level is 95%\n",
    "    * A 95% confidence interval will include the middle 95% of the resampled statistics\n",
    "    * A larger (smaller) confidence level will lead to a wider (narrower) confidence interval."
   ]
  },
  {
   "cell_type": "markdown",
   "id": "4444b44e-da28-45fb-a6f1-f7ace52c332e",
   "metadata": {
    "editable": true,
    "slideshow": {
     "slide_type": ""
    },
    "tags": []
   },
   "source": [
    "---"
   ]
  },
  {
   "cell_type": "markdown",
   "id": "62ca297c-4e94-4faf-bf63-e1a90e2d79e6",
   "metadata": {
    "tags": []
   },
   "source": [
    "### Task 11 📍"
   ]
  },
  {
   "cell_type": "markdown",
   "id": "8d2c8071-bffd-4c60-922b-1991d36896f0",
   "metadata": {
    "deletable": false,
    "editable": false
   },
   "source": [
    "Create 95% confidence interval estimates for Apple and Tesla's average returns using `bootstrap_average_return` and `n=5000`.\n",
    "\n",
    "**Notes**: \n",
    "* This code will take about a minute to run.\n",
    "* Your intervals should include the average return values from [Task 08](#Task-08-📍)"
   ]
  },
  {
   "cell_type": "code",
   "execution_count": null,
   "id": "1498e934-358d-4e3b-a789-48e2db3fda6b",
   "metadata": {
    "tags": []
   },
   "outputs": [],
   "source": [
    "AAPL_returns = ...\n",
    "AAPL_ave_return_ci_lower = ...\n",
    "AAPL_ave_return_ci_upper = ...\n",
    "\n",
    "print(f\"95% Bootstrap CI for AAPL average return:\\\n",
    "({AAPL_ave_return_ci_lower:.5f}, {AAPL_ave_return_ci_upper:.5f})\")\n",
    "\n",
    "TSLA_returns = ...\n",
    "TSLA_ave_return_ci_lower = ...\n",
    "TSLA_ave_return_ci_upper = ...\n",
    "\n",
    "print(f\"95% Bootstrap CI for TSLA average return:\\\n",
    "({TSLA_ave_return_ci_lower:.5f}, {TSLA_ave_return_ci_upper:.5f})\")"
   ]
  },
  {
   "cell_type": "code",
   "execution_count": null,
   "id": "bfcccb1f",
   "metadata": {
    "deletable": false,
    "editable": false
   },
   "outputs": [],
   "source": [
    "grader.check(\"task_11\")"
   ]
  },
  {
   "cell_type": "markdown",
   "id": "c439b30e-c0c2-4b3b-a14e-b73a3dda4199",
   "metadata": {
    "editable": true,
    "slideshow": {
     "slide_type": ""
    },
    "tags": []
   },
   "source": [
    "---"
   ]
  },
  {
   "cell_type": "markdown",
   "id": "70eeace2-2b44-4192-9917-33aa59b44b56",
   "metadata": {
    "tags": []
   },
   "source": [
    "### Task 12 📍"
   ]
  },
  {
   "cell_type": "markdown",
   "id": "96ec0451-1617-4902-b282-4d882597ca73",
   "metadata": {
    "deletable": false,
    "editable": false
   },
   "source": [
    "Create 95% confidence interval estimates for Apple and Tesla's volatility using `bootstrap_volatilities` and `n=5000`.\n",
    "\n",
    "**Notes**: \n",
    "* This code will take about a minute to run.\n",
    "* Your intervals should include the volatility values from [Task 08](#Task-08-📍)"
   ]
  },
  {
   "cell_type": "code",
   "execution_count": null,
   "id": "ca7ccdeb-c23b-4518-b4ad-0a4133acfec3",
   "metadata": {
    "tags": []
   },
   "outputs": [],
   "source": [
    "AAPL_volatilites = ...\n",
    "AAPL_volatility_ci_lower = = ...\n",
    "AAPL_volatility_ci_upper = = ...\n",
    "\n",
    "print(f\"95% Bootstrap CI for AAPL volatility:\\\n",
    "({AAPL_volatility_ci_lower:.5f}, {AAPL_volatility_ci_upper:.5f})\")\n",
    "\n",
    "TSLA_volatilites = ...\n",
    "TSLA_volatility_ci_lower = ...\n",
    "TSLA_volatility_ci_upper = ...\n",
    "\n",
    "print(f\"95% Bootstrap CI for TSLA volatility:\\\n",
    "({TSLA_volatility_ci_lower:.5f}, {TSLA_volatility_ci_upper:.5f})\")"
   ]
  },
  {
   "cell_type": "code",
   "execution_count": null,
   "id": "a0e97ba3",
   "metadata": {
    "deletable": false,
    "editable": false
   },
   "outputs": [],
   "source": [
    "grader.check(\"task_12\")"
   ]
  },
  {
   "cell_type": "markdown",
   "id": "775e254b-3978-4254-beed-e7a01551109d",
   "metadata": {
    "editable": true,
    "slideshow": {
     "slide_type": ""
    },
    "tags": []
   },
   "source": [
    "---"
   ]
  },
  {
   "cell_type": "markdown",
   "id": "ad578b6c-1dff-4713-a6ae-2072d637fdfe",
   "metadata": {},
   "source": [
    "### Interpreting Confidence"
   ]
  },
  {
   "cell_type": "markdown",
   "id": "b967af8c-74e3-469b-a0f7-275bcd759cd8",
   "metadata": {},
   "source": [
    "* Remember, we are assuming there is a true, fixed value for the average return and volatility of Apple and Tesla stocks.  \n",
    "* These \"true\" parameters can't actually be calculated — not unless we had all the data from now until the end of time (or until Apple and Tesla cease to exist).  \n",
    "* While this assumption may seem unhelpful, it provides a philosophical foundation that allows us to estimate and make informed decisions based on partial data.\n",
    "* What Does \"Confidence\" Mean? A 95% confidence interval means:  \n",
    "  > \"If we repeated this analysis many times, 95% of the calculated intervals would contain the true value.\"  \n",
    "  It's not a guarantee — it's a statement about the method, not a single outcome.\n",
    "* Average Return CI  \n",
    "  * This interval estimates the range for the true average daily return.  \n",
    "  * Example: `(0.00004, 0.00206)` means we're 95% confident the true average return is between 0.0% and 0.2%.\n",
    "* Volatility CI  \n",
    "  * This interval estimates how much the return varies from day to day.  \n",
    "  * Example: `(0.01711, 0.01932)` means daily returns typically vary by 1.7% to 1.9%.\n",
    "* CI Width and Reliability  \n",
    "  * A narrow CI implies a more precise estimate  \n",
    "  * A wide CI implies greater uncertainty  "
   ]
  },
  {
   "cell_type": "markdown",
   "id": "9cc9f071-79ad-46cb-9e15-2622a2f5392b",
   "metadata": {
    "editable": true,
    "slideshow": {
     "slide_type": ""
    },
    "tags": []
   },
   "source": [
    "---"
   ]
  },
  {
   "cell_type": "markdown",
   "id": "406c90e8-f513-40d8-bd4c-051f89ccb9a7",
   "metadata": {
    "tags": []
   },
   "source": [
    "### Task 13 📍🔎"
   ]
  },
  {
   "cell_type": "markdown",
   "id": "c3e0f280-3254-4d22-965f-fbcd26169cf4",
   "metadata": {
    "deletable": false,
    "editable": false
   },
   "source": [
    "<!-- BEGIN QUESTION -->\n",
    "\n",
    "Based on the estimates for average return and volatility, which strategy would you recommend?"
   ]
  },
  {
   "cell_type": "markdown",
   "id": "ebb6b9bb",
   "metadata": {},
   "source": [
    "_Type your answer here, replacing this text._"
   ]
  },
  {
   "cell_type": "markdown",
   "id": "203a2b35-b5d6-4377-b9cd-35a693771fe1",
   "metadata": {
    "deletable": false,
    "editable": false,
    "slideshow": {
     "slide_type": "fragment"
    }
   },
   "source": [
    "<!-- END QUESTION -->\n",
    "\n",
    "---"
   ]
  },
  {
   "cell_type": "markdown",
   "id": "c11c8fb1-554c-4ce0-b48b-78b84fe7404f",
   "metadata": {},
   "source": [
    "## Reflection"
   ]
  },
  {
   "cell_type": "markdown",
   "id": "8bb442e3-93ec-4e95-b913-ae40f3d100ff",
   "metadata": {},
   "source": [
    "In this notebook, you explored parameter estimation by distinguishing between parameters and statistics, then learning to estimate a parameter using bootstrap resampling. After reviewing a conceptual process for parameter estimation, you apply the method in a practical context by analyzing real-world stock market data retrieved from Yahoo Finance using the `yfinance` Python library. You generated bootstrap confidence intervals and interpreted the results, deepening your understanding of statistical inference."
   ]
  },
  {
   "cell_type": "markdown",
   "id": "6f1a1575-d1cc-4e5b-9e36-6d2fce3c3b00",
   "metadata": {
    "editable": true,
    "slideshow": {
     "slide_type": ""
    },
    "tags": []
   },
   "source": [
    "---"
   ]
  },
  {
   "cell_type": "markdown",
   "id": "830cd3aa-7268-4b8d-9de1-b8291a77d457",
   "metadata": {
    "editable": true,
    "slideshow": {
     "slide_type": "notes"
    },
    "tags": []
   },
   "source": [
    "## License"
   ]
  },
  {
   "cell_type": "markdown",
   "id": "55e19cd7-8808-4101-a381-c0897b12ce07",
   "metadata": {
    "editable": true,
    "slideshow": {
     "slide_type": ""
    },
    "tags": []
   },
   "source": [
    "This content is licensed under the <a href=\"https://creativecommons.org/licenses/by-nc-sa/4.0/\">Creative Commons Attribution-NonCommercial-ShareAlike 4.0 International License (CC BY-NC-SA 4.0)</a>.\n",
    "\n",
    "<img src=\"./by-nc-sa.png\" width=100px>"
   ]
  }
 ],
 "metadata": {
  "kernelspec": {
   "display_name": "Python 3 (ipykernel)",
   "language": "python",
   "name": "python3"
  },
  "language_info": {
   "codemirror_mode": {
    "name": "ipython",
    "version": 3
   },
   "file_extension": ".py",
   "mimetype": "text/x-python",
   "name": "python",
   "nbconvert_exporter": "python",
   "pygments_lexer": "ipython3",
   "version": "3.11.9"
  },
  "otter": {
   "OK_FORMAT": true,
   "assignment_name": "gla09_sp25",
   "tests": {
    "task_02": {
     "name": "task_02",
     "points": null,
     "suites": [
      {
       "cases": [
        {
         "code": ">>> def test_yfinance():\n...     try:\n...         import yfinance as yf\n...         return True\n...     except ImportError:\n...         return False\n>>> test_yfinance()\nTrue",
         "failure_message": "\"❌ yfinance is not installed.\"",
         "hidden": false,
         "locked": false,
         "success_message": "\"✅ yfinance is installed.\"\n"
        },
        {
         "code": ">>> def test_yf():\n...     try:\n...         yf.version.version\n...         return True\n...     except:\n...         return False\n>>> test_yf()\nTrue",
         "failure_message": "\"❌ yfinance is not imported as yf.\"",
         "hidden": false,
         "locked": false,
         "success_message": "\"✅ yfinance is imported as yf.\"\n"
        }
       ],
       "scored": true,
       "setup": "",
       "teardown": "",
       "type": "doctest"
      }
     ]
    },
    "task_03": {
     "name": "task_03",
     "points": null,
     "suites": [
      {
       "cases": [
        {
         "code": ">>> import pandas as pd\n>>> isinstance(AAPL_df, pd.DataFrame)\nTrue",
         "failure_message": "\"❌ AAPL_df is not a DataFrame.\"",
         "hidden": false,
         "locked": false,
         "success_message": "\"✅ AAPL_df is a DataFrame.\"\n"
        },
        {
         "code": ">>> isinstance(AAPL, Table)\nTrue",
         "failure_message": "\"❌ AAPL is not a Table.\"",
         "hidden": false,
         "locked": false,
         "success_message": "\"✅ AAPL is a Table.\"\n"
        },
        {
         "code": ">>> AAPL.labels\n('Date', 'Close', 'High', 'Low', 'Open', 'Volume')",
         "failure_message": "\"❌ AAPL does not have the correct labels.\"",
         "hidden": false,
         "locked": false,
         "success_message": "\"✅ AAPL has the correct labels.\"\n"
        }
       ],
       "scored": true,
       "setup": "",
       "teardown": "",
       "type": "doctest"
      }
     ]
    },
    "task_04": {
     "name": "task_04",
     "points": null,
     "suites": [
      {
       "cases": [
        {
         "code": ">>> import pandas as pd\n>>> isinstance(TSLA_df, pd.DataFrame)\nTrue",
         "failure_message": "\"❌ TSLA_df is not a DataFrame.\"",
         "hidden": false,
         "locked": false,
         "success_message": "\"✅ TSLA_df is a DataFrame.\"\n"
        },
        {
         "code": ">>> isinstance(TSLA, Table)\nTrue",
         "failure_message": "\"❌ TSLA is not a Table.\"",
         "hidden": false,
         "locked": false,
         "success_message": "\"✅ TSLA is a Table.\"\n"
        },
        {
         "code": ">>> TSLA.labels\n('Date', 'Close', 'High', 'Low', 'Open', 'Volume')",
         "failure_message": "\"❌ TSLA does not have the correct labels.\"",
         "hidden": false,
         "locked": false,
         "success_message": "\"✅ TSLA has the correct labels.\"\n"
        }
       ],
       "scored": true,
       "setup": "",
       "teardown": "",
       "type": "doctest"
      }
     ]
    },
    "task_05": {
     "name": "task_05",
     "points": null,
     "suites": [
      {
       "cases": [
        {
         "code": ">>> isinstance(closings, Table)\nTrue",
         "failure_message": "\"❌ closingss is not a Table\"",
         "hidden": false,
         "locked": false,
         "success_message": "\"✅ closings is a Table.\"\n"
        },
        {
         "code": ">>> closings.labels\n('Date', 'AAPL', 'TSLA')",
         "failure_message": "\"❌ closings does not have the correct labels.\"",
         "hidden": false,
         "locked": false,
         "success_message": "\"✅ closings has the correct labels.\"\n"
        }
       ],
       "scored": true,
       "setup": "",
       "teardown": "",
       "type": "doctest"
      }
     ]
    },
    "task_07": {
     "name": "task_07",
     "points": null,
     "suites": [
      {
       "cases": [
        {
         "code": ">>> isinstance(returns, Table)\nTrue",
         "failure_message": "\"❌ returns should be a Table.\"",
         "hidden": false,
         "locked": false,
         "success_message": "\"✅ returns is a Table.\"\n"
        },
        {
         "code": ">>> returns.labels\n('Date', 'AAPL', 'TSLA')",
         "failure_message": "\"❌ returns does not have the correct labels.\"",
         "hidden": false,
         "locked": false,
         "success_message": "\"✅ returns has the correct labels.\"\n"
        },
        {
         "code": ">>> first_date = returns.column('Date')[0]\n>>> first_AAPL_return = returns.where('Date', first_date).column('AAPL')[0]\n>>> first_TSLA_return = returns.where('Date', first_date).column('TSLA')[0]\n>>> first_two_closings_AAPL = closings.where('Date', are.below_or_equal_to(first_date)).column('AAPL')\n>>> first_two_closings_TSLA = closings.where('Date', are.below_or_equal_to(first_date)).column('TSLA')\n>>> calculated_AAPL_return = (first_two_closings_AAPL[1] - first_two_closings_AAPL[0]) / first_two_closings_AAPL[0]\n>>> calculated_TSLA_return = (first_two_closings_TSLA[1] - first_two_closings_TSLA[0]) / first_two_closings_TSLA[0]\n>>> np.isclose(first_AAPL_return, calculated_AAPL_return) and np.isclose(first_TSLA_return, calculated_TSLA_return)\nTrue",
         "failure_message": "\"❌ The first return does not seem correct for both stocks.\"",
         "hidden": false,
         "locked": false,
         "success_message": "\"✅ The first return seems correct for both stocks.\"\n"
        }
       ],
       "scored": true,
       "setup": "",
       "teardown": "",
       "type": "doctest"
      }
     ]
    },
    "task_08": {
     "name": "task_08",
     "points": null,
     "suites": [
      {
       "cases": [
        {
         "code": ">>> True\nTrue",
         "failure_message": "\"❌ \"",
         "hidden": false,
         "locked": false,
         "success_message": "\"✅ \"\n"
        }
       ],
       "scored": true,
       "setup": "",
       "teardown": "",
       "type": "doctest"
      }
     ]
    },
    "task_09": {
     "name": "task_09",
     "points": null,
     "suites": [
      {
       "cases": [
        {
         "code": ">>> callable(bootstrap_average_returns)\nTrue",
         "failure_message": "\"❌ bootstrap_average_returns is not callable.\"",
         "hidden": false,
         "locked": false,
         "success_message": "\"✅ bootstrap_average_returns is callable.\"\n"
        },
        {
         "code": ">>> import numbers\n>>> test_bootstrap_AAPL_return = bootstrap_average_returns(returns, 'AAPL', 500)\n>>> isinstance(test_bootstrap_AAPL_return, np.ndarray) and isinstance(test_bootstrap_AAPL_return[0], numbers.Number)\nTrue",
         "failure_message": "\"❌ bootstrap_average_returns does not return an array of numerical values based on Apple returns.\"",
         "hidden": false,
         "locked": false,
         "success_message": "\"✅ bootstrap_average_returns returns an array of numerical values based on Apple returns.\"\n"
        },
        {
         "code": ">>> import numbers\n>>> test_bootstrap_TSLA_return = bootstrap_average_returns(returns, 'TSLA', 500)\n>>> isinstance(test_bootstrap_TSLA_return, np.ndarray) and isinstance(test_bootstrap_TSLA_return[0], numbers.Number)\nTrue",
         "failure_message": "\"❌ bootstrap_average_returns does not return a numerical value based on Tesla returns.\"",
         "hidden": false,
         "locked": false,
         "success_message": "\"✅ bootstrap_average_returns returns a numerical value based on Tesla returns.\"\n"
        }
       ],
       "scored": true,
       "setup": "",
       "teardown": "",
       "type": "doctest"
      }
     ]
    },
    "task_10": {
     "name": "task_10",
     "points": null,
     "suites": [
      {
       "cases": [
        {
         "code": ">>> callable(bootstrap_volatilities)\nTrue",
         "failure_message": "\"❌ bootstrap_volatilitiesis not callable.\"",
         "hidden": false,
         "locked": false,
         "success_message": "\"✅ bootstrap_volatilities is callable.\"\n"
        },
        {
         "code": ">>> import numbers\n>>> test_bootstrap_AAPL_volatilities = bootstrap_volatilities(returns, 'AAPL', 500)\n>>> isinstance(test_bootstrap_AAPL_volatilities, np.ndarray) and isinstance(test_bootstrap_AAPL_volatilities[0], numbers.Number)\nTrue",
         "failure_message": "\"❌ bootstrap_volatilities does not return an array of numerical values based on Apple returns.\"",
         "hidden": false,
         "locked": false,
         "success_message": "\"✅ bootstrap_volatilities returns an array of numerical values based on Apple returns.\"\n"
        },
        {
         "code": ">>> import numbers\n>>> test_bootstrap_TSLA_volatilities = bootstrap_volatilities(returns, 'TSLA', 500)\n>>> isinstance(test_bootstrap_TSLA_volatilities, np.ndarray) and isinstance(test_bootstrap_TSLA_volatilities[0], numbers.Number)\nTrue",
         "failure_message": "\"❌ bootstrap_volatilities does not return a numerical value based on Tesla returns.\"",
         "hidden": false,
         "locked": false,
         "success_message": "\"✅ bootstrap_volatilities returns a numerical value based on Tesla returns.\"\n"
        }
       ],
       "scored": true,
       "setup": "",
       "teardown": "",
       "type": "doctest"
      }
     ]
    },
    "task_11": {
     "name": "task_11",
     "points": null,
     "suites": [
      {
       "cases": [
        {
         "code": ">>> import numbers\n>>> isinstance(AAPL_ave_return_ci_lower, numbers.Number)\nTrue",
         "failure_message": "\"❌ AAPL_ave_return_ci_lower is not assigned to a numerical value.\"",
         "hidden": false,
         "locked": false,
         "success_message": "\"✅ AAPL_ave_return_ci_lower is assigned to a numerical value.\"\n"
        },
        {
         "code": ">>> import numbers\n>>> isinstance(AAPL_ave_return_ci_upper, numbers.Number)\nTrue",
         "failure_message": "\"❌ AAPL_ave_return_ci_upper is not assigned to a numerical value.\"",
         "hidden": false,
         "locked": false,
         "success_message": "\"✅ AAPL_ave_return_ci_upper is assigned to a numerical value.\"\n"
        },
        {
         "code": ">>> import numbers\n>>> isinstance(TSLA_ave_return_ci_lower, numbers.Number)\nTrue",
         "failure_message": "\"❌ TSLA_ave_return_ci_lower is not assigned to a numerical value.\"",
         "hidden": false,
         "locked": false,
         "success_message": "\"✅ TSLA_ave_return_ci_lower is assigned to a numerical value.\"\n"
        },
        {
         "code": ">>> import numbers\n>>> isinstance(TSLA_ave_return_ci_upper, numbers.Number)\nTrue",
         "failure_message": "\"❌ TSLA_ave_return_ci_upper is not assigned to a numerical value.\"",
         "hidden": false,
         "locked": false,
         "success_message": "\"✅ TSLA_ave_return_ci_upper is assigned to a numerical value.\"\n"
        }
       ],
       "scored": true,
       "setup": "",
       "teardown": "",
       "type": "doctest"
      }
     ]
    },
    "task_12": {
     "name": "task_12",
     "points": null,
     "suites": [
      {
       "cases": [
        {
         "code": ">>> import numbers\n>>> isinstance(AAPL_ave_return_ci_lower, numbers.Number)\nTrue",
         "failure_message": "\"❌ AAPL_ave_return_ci_lower is not assigned to a numerical value.\"",
         "hidden": false,
         "locked": false,
         "success_message": "\"✅ AAPL_ave_return_ci_lower is assigned to a numerical value.\"\n"
        },
        {
         "code": ">>> import numbers\n>>> isinstance(AAPL_ave_return_ci_upper, numbers.Number)\nTrue",
         "failure_message": "\"❌ AAPL_ave_return_ci_upper is not assigned to a numerical value.\"",
         "hidden": false,
         "locked": false,
         "success_message": "\"✅ AAPL_ave_return_ci_upper is assigned to a numerical value.\"\n"
        },
        {
         "code": ">>> import numbers\n>>> isinstance(TSLA_ave_return_ci_lower, numbers.Number)\nTrue",
         "failure_message": "\"❌ TSLA_ave_return_ci_lower is not assigned to a numerical value.\"",
         "hidden": false,
         "locked": false,
         "success_message": "\"✅ TSLA_ave_return_ci_lower is assigned to a numerical value.\"\n"
        },
        {
         "code": ">>> import numbers\n>>> isinstance(TSLA_ave_return_ci_upper, numbers.Number)\nTrue",
         "failure_message": "\"❌ TSLA_ave_return_ci_upper is not assigned to a numerical value.\"",
         "hidden": false,
         "locked": false,
         "success_message": "\"✅ TSLA_ave_return_ci_upper is assigned to a numerical value.\"\n"
        }
       ],
       "scored": true,
       "setup": "",
       "teardown": "",
       "type": "doctest"
      }
     ]
    }
   }
  }
 },
 "nbformat": 4,
 "nbformat_minor": 5
}
