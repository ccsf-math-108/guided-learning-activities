{
 "cells": [
  {
   "cell_type": "code",
   "execution_count": null,
   "id": "84d99278",
   "metadata": {
    "deletable": false,
    "editable": false
   },
   "outputs": [],
   "source": [
    "# Initialize Otter\n",
    "import otter\n",
    "grader = otter.Notebook(\"gla07.ipynb\")"
   ]
  },
  {
   "cell_type": "markdown",
   "id": "692fbc6d-0645-4e75-b205-29989ec616ab",
   "metadata": {},
   "source": [
    "<img src=\"./ccsf.png\" alt=\"CCSF Logo\" width=200px style=\"margin:0px -5px\">"
   ]
  },
  {
   "cell_type": "markdown",
   "id": "c83b268c-d46e-450b-b4af-a2390020878c",
   "metadata": {
    "tags": []
   },
   "source": [
    "# Guided Learning Activity 07: Simulation-Based Hypothesis Testing"
   ]
  },
  {
   "cell_type": "markdown",
   "id": "f5c0e5f0-1759-4129-8e2e-8301f1db6953",
   "metadata": {},
   "source": [
    "This Guided Learning Activity is designed for you to complete alongside a Data Ambassador from the course. You might find that it feels like a combination of the lectures and lab assignment. Whether you are participating live or watching the recording of the live meeting, let the Data Ambassador guide you through the following tasks. There will be moments for you to reflect and explore your own ideas as a way to solidify concepts and skills introduced by your instructor. Keep in mind that this is not a graded assignment for MATH 108 by default. If you have any concerns about participation, reach out to your instructor."
   ]
  },
  {
   "cell_type": "markdown",
   "id": "20d80b08-8562-4cc5-aa65-1e0c97ac6985",
   "metadata": {},
   "source": [
    "---"
   ]
  },
  {
   "cell_type": "markdown",
   "id": "eccd253c-ffd2-40f0-98ac-cc06cc8dec20",
   "metadata": {},
   "source": [
    "## Learning Objectives"
   ]
  },
  {
   "cell_type": "markdown",
   "id": "66e18ccd-f8f0-4f7c-a1f9-c872f5ca01af",
   "metadata": {},
   "source": [
    "1. Outline the general process of a simulation-based hypothesis test.\n",
    "2. Perform operations on tables and arrays.\n",
    "3. Visualize distributions.\n",
    "4. Iteratively simulate generating data based on some hypothesis.\n",
    "5. Perform a simulation-based hypothesis test.\n",
    "6. Reflect on the possible error of the conclusion from a hypothesis test."
   ]
  },
  {
   "cell_type": "markdown",
   "id": "9a45b759-69b8-4061-b2f8-06483c0e2e92",
   "metadata": {},
   "source": [
    "---"
   ]
  },
  {
   "cell_type": "markdown",
   "id": "0c2302a6-fda0-41de-a349-169954a09cf8",
   "metadata": {},
   "source": [
    "## Configure the Notebook"
   ]
  },
  {
   "cell_type": "markdown",
   "id": "06843add-4d19-4e8d-a8ca-a9bcbee58f31",
   "metadata": {},
   "source": [
    "Run the following code cell to set up the notebook."
   ]
  },
  {
   "cell_type": "code",
   "execution_count": null,
   "id": "253bae4d-e069-42ce-b797-c3cfe5a9fc12",
   "metadata": {},
   "outputs": [],
   "source": [
    "from datascience import *\n",
    "import numpy as np\n",
    "%matplotlib inline\n",
    "import matplotlib.pyplot as plt\n",
    "plt.style.use('fivethirtyeight')"
   ]
  },
  {
   "cell_type": "markdown",
   "id": "0768ab18-070d-487b-96eb-6578f455d5c2",
   "metadata": {},
   "source": [
    "---"
   ]
  },
  {
   "cell_type": "markdown",
   "id": "005bfc25-da71-4dce-bfd8-169a3329e5a0",
   "metadata": {},
   "source": [
    "## Hypothesis Testing"
   ]
  },
  {
   "cell_type": "markdown",
   "id": "5582bcaa-f6db-41ee-b5d6-237930b3829b",
   "metadata": {},
   "source": [
    "Hypothesis testing was [initially developed](https://en.wikipedia.org/wiki/Statistical_hypothesis_test) as a tool for guiding research.\n",
    "\n",
    "```mermaid\n",
    "graph LR;\n",
    "    A[\"Research under Null Hypothesis\"] --> B[\"Propose Alternative Hypothesis\"]\n",
    "    B --> C{\"Does evidence support \\n rejecting the Null Hypothesis?\"}\n",
    "    C -->|\"No (Fail to reject Null)\"| E[\"Continue research under Null Hypothesis\"]\n",
    "    C -->|\"Yes (Reject Null)\"| D[\"Shift research towards Alternative Hypothesis\"]\n",
    "```\n",
    "\n",
    "* Provides a framework for rejecting claims surrounding a random process.\n",
    "* Decisions are based on empirical evidence.\n",
    "* Considers that the results of the decision could be wrong."
   ]
  },
  {
   "cell_type": "markdown",
   "id": "630d0137-9592-4408-9519-7126caf6d1cf",
   "metadata": {},
   "source": [
    "---"
   ]
  },
  {
   "cell_type": "markdown",
   "id": "0f31d34a-4f90-4652-ab7e-60c36183dc4d",
   "metadata": {},
   "source": [
    "### Statistical Significance"
   ]
  },
  {
   "cell_type": "markdown",
   "id": "744b1dec-fe14-4eb2-a367-c25fc62ab3a3",
   "metadata": {},
   "source": [
    "How is the decision to reject the null hypothesis made (Simulation-Based Approach)?\n",
    "\n",
    "* **Observe data:** Collect the empirical data relevant to the research question.\n",
    "* **Define a testable hypothesis:** Formulate a null hypothesis and an alternative hypothesis based on the data.\n",
    "* **Develop a test statistic:** Choose a statistic (e.g., mean difference, correlation) that quantifies the effect of interest.\n",
    "* **Apply the test statistic to the observed data:** Calculate the test statistic value using the collected data.\n",
    "* **Derive a distribution for the test statistic under the null hypothesis (Simulation):**\n",
    "    * Develop a function to randomly generate data assuming the null hypothesis is true.\n",
    "    * Run the function many times (e.g., thousands of simulations).\n",
    "    * Calculate the test statistic for each simulated dataset.\n",
    "    * Collect the test statistic values from all simulations to create a distribution.\n",
    "* **Compare the observed test statistic to the simulated distribution:** Determine the position of the observed test statistic within the simulated distribution.\n",
    "* **Calculate the p-value:** Determine the proportion of simulated test statistic values that are equal to or more extreme than the observed test statistic value.\n",
    "* **Make a decision:**\n",
    "    * If the p-value is below the pre-defined significance level (alpha), reject the null hypothesis.\n",
    "    * If the p-value is greater than or equal to alpha, fail to reject the null hypothesis."
   ]
  },
  {
   "cell_type": "markdown",
   "id": "868dd564-d664-4194-a134-3da025c2d3bd",
   "metadata": {},
   "source": [
    "---"
   ]
  },
  {
   "cell_type": "markdown",
   "id": "8dcff3c9-d10c-413e-ac2c-2c254a9c7815",
   "metadata": {},
   "source": [
    "## Is Yawning Contagious?"
   ]
  },
  {
   "cell_type": "markdown",
   "id": "ebd29105-132b-4d20-99a5-7f27aff863ec",
   "metadata": {},
   "source": [
    "<a href=\"https://unsplash.com/photos/yawning-white-and-brown-short-coated-puppy-IE2Z11zKsso\"><img src=\"./daniel-lincoln-IE2Z11zKsso-unsplash.jpg\" width=300px alt=\"yawning white and brown short coated puppy\"></a>\n",
    "\n",
    "This activity follows the research from [_Interspecific Contagious Yawning in Humans_](https://pmc.ncbi.nlm.nih.gov/articles/PMC9332820/) by Andrew C Gallup and Sabina Wozny published in 2022."
   ]
  },
  {
   "cell_type": "markdown",
   "id": "15c57f46-b799-4ba5-a195-f46dfac3a3ca",
   "metadata": {},
   "source": [
    "---"
   ]
  },
  {
   "cell_type": "markdown",
   "id": "099aef53-bca5-44e4-91cc-fbe67112ac84",
   "metadata": {},
   "source": [
    "### Research Summary"
   ]
  },
  {
   "cell_type": "markdown",
   "id": "6a609f70-05a2-4b4c-bc19-f2a23bb642bb",
   "metadata": {},
   "source": [
    "* Contagious yawning is well-documented in humans and social vertebrates, with some non-human animals yawning in response to human caregivers.\n",
    "* This study investigated whether humans yawn contagiously in response to non-human animals and if this is influenced by phylogenetic relatedness or domestication.\n",
    "* Researchers analyzed self-reported yawning behavior from 296 participants exposed to yawning stimuli from various animal groups, including fish, amphibians, reptiles, birds, mammals, and domesticated pets.\n",
    "* The study found strong evidence for interspecific yawn contagion, meaning people yawned in response to animal yawns.\n",
    "* However, yawning frequency and likelihood did not vary significantly across different animal groups, suggesting that diverse yawning stimuli can trigger contagious yawning regardless of species."
   ]
  },
  {
   "cell_type": "markdown",
   "id": "03758fca-b572-4d7d-a7d9-a48f5f487885",
   "metadata": {},
   "source": [
    "---"
   ]
  },
  {
   "cell_type": "markdown",
   "id": "50eb0c6b-ed54-488d-b1c9-4c56a339f066",
   "metadata": {},
   "source": [
    "## Participants"
   ]
  },
  {
   "cell_type": "markdown",
   "id": "4a43e430-a2f9-49c6-a33b-0df8e879c0ed",
   "metadata": {},
   "source": [
    "* The researchers collected data from 167 men and 137 women using Amazon Mechanical Turk (MTurk).\n",
    "* MTurk is a crowdsourcing platform that allows businesses, researchers, and individuals to outsource small tasks, known as Human Intelligence Tasks (HITs), to a large pool of remote workers.\n",
    "* The participants needed to:\n",
    "    * Claim residency status in the United States\n",
    "    * Have a successful completion rate > 95%\n",
    "    * Completed a minimum of 50 tasks\n",
    "    * Pass a few checks to distinguish between computers and humans"
   ]
  },
  {
   "cell_type": "markdown",
   "id": "1d883915-b80a-4d0f-983a-8be00c396808",
   "metadata": {},
   "source": [
    "---"
   ]
  },
  {
   "cell_type": "markdown",
   "id": "5adbfca2-0bf2-4334-9f4a-eda0d6c419e7",
   "metadata": {},
   "source": [
    "## Study Design"
   ]
  },
  {
   "cell_type": "markdown",
   "id": "6e65cbb1-fc7b-4b49-bc8d-35dfd783330b",
   "metadata": {},
   "source": [
    "* Participants were shown 12 pairs of images and were asked to pick (left or right) based on which image depicted the subject yawning\n",
    "```mermaid\n",
    "graph LR;\n",
    "    A[\"Participants\"] --> B[\"Random Assignment to One Condition\"]\n",
    "    B --> C[\"Building Windows (Control)\"]\n",
    "    B --> D[\"Fish\"]\n",
    "    B --> E[\"Amphibians\"]\n",
    "    B --> F[\"Reptiles\"]\n",
    "    B --> G[\"Birds\"]\n",
    "    B --> H[\"Non-Primate Mammals\"]\n",
    "    B --> I[\"Apes\"]\n",
    "    B --> J[\"Pets\"]\n",
    "\n",
    "    C --> K[\"12 Open + 12 Closed Windows\"]\n",
    "    D --> L[\"12 Yawning + 12 Non-Yawning Fish\"]\n",
    "    E --> M[\"12 Yawning + 12 Non-Yawning Amphibians (Frogs, Salamanders)\"]\n",
    "    F --> N[\"12 Yawning + 12 Non-Yawning Reptiles (Monitors, Tortoises, Geckos, etc.)\"]\n",
    "    G --> O[\"12 Yawning + 12 Non-Yawning Birds (Shorebirds, Birds of Prey, etc.)\"]\n",
    "    H --> P[\"12 Yawning + 12 Non-Yawning Mammals (Elephant, Camel, Panda, etc.)\"]\n",
    "    I --> Q[\"12 Yawning + 12 Non-Yawning Apes (Chimpanzees, Gorillas, etc.)\"]\n",
    "    J --> R[\"12 Yawning + 12 Non-Yawning Pets (Dogs, Cats)\"]\n",
    "```\n",
    "* Afterwards, participants were then asked\n",
    "    *  Whether they yawned while reviewing the stimuli (yes/no), and if so, how many times\n",
    "    *  How many hours of sleep they had the previous night\n",
    "    *  How tired they were on a 10-point scale (1: not tired at all; 10: extremely tired)\n",
    "\n",
    "```mermaid\n",
    "graph TD;\n",
    "    A[\"Post-Viewing Questions\"] --> B[\"Most Satisfying Image (Not Analyzed)\"]\n",
    "    A --> C{\"Did You Yawn? (Yes/No)\"}\n",
    "    C --> D[\"How Many Times?\"]\n",
    "    A --> E[\"Sleep Hours Last Night\"]\n",
    "    A --> F[\"Tiredness Rating (1-10)\"]\n",
    "```"
   ]
  },
  {
   "cell_type": "markdown",
   "id": "966848b5-6a44-442d-a2dc-6cafe338335e",
   "metadata": {},
   "source": [
    "---"
   ]
  },
  {
   "cell_type": "markdown",
   "id": "9f278bc7-35db-4d47-80bc-63aa9b0c9b4e",
   "metadata": {},
   "source": [
    "## The Data"
   ]
  },
  {
   "cell_type": "markdown",
   "id": "72711525-dd95-42a0-8c19-b194265ee72c",
   "metadata": {},
   "source": [
    "The datasets used to generate the results in the paper are provided in `Comparative CY dataset FINAL.csv` and sourced from [Harvard Dataverse](https://doi.org/10.7910/DVN/3STP5S)."
   ]
  },
  {
   "cell_type": "markdown",
   "id": "33bfc072-71c4-4cf5-a1b8-1a9836a8adbe",
   "metadata": {
    "tags": []
   },
   "source": [
    "### Task 01 📍"
   ]
  },
  {
   "cell_type": "markdown",
   "id": "71f1c84e-764a-463b-b717-3d1b8242206b",
   "metadata": {
    "deletable": false,
    "editable": false
   },
   "source": [
    "Create the table `results` from the CSV file `Comparative CY dataset FINAL.csv`."
   ]
  },
  {
   "cell_type": "code",
   "execution_count": null,
   "id": "246bf590-44e6-4c27-9484-6e7336413b0a",
   "metadata": {
    "tags": []
   },
   "outputs": [],
   "source": [
    "results = ...\n",
    "results"
   ]
  },
  {
   "cell_type": "code",
   "execution_count": null,
   "id": "26e65d41",
   "metadata": {
    "deletable": false,
    "editable": false
   },
   "outputs": [],
   "source": [
    "grader.check(\"task_01\")"
   ]
  },
  {
   "cell_type": "markdown",
   "id": "abb7e15c-1272-4382-8ad5-abb7dd0aa8e4",
   "metadata": {},
   "source": [
    "---"
   ]
  },
  {
   "cell_type": "markdown",
   "id": "f10d1ede-6c89-4288-8eb4-7c771d5928f7",
   "metadata": {},
   "source": [
    "## Analyzing Yawn Frequency"
   ]
  },
  {
   "cell_type": "markdown",
   "id": "5020e52b-f63d-44fe-b9e8-becbc2d2c724",
   "metadata": {
    "tags": []
   },
   "source": [
    "### Task 02 📍"
   ]
  },
  {
   "cell_type": "markdown",
   "id": "116a6c5e-5b54-4867-834c-f04291eb8601",
   "metadata": {
    "deletable": false,
    "editable": false
   },
   "source": [
    "In the analysis portion of the paper, the researchers write:\n",
    "\n",
    "> The complete distribution of yawning frequency revealed eight outliers, as defined by 1.5 times the interquartile range. In each case, participants reported more than 12 contagious yawns during the stimulus evaluation (which took ~1 min to complete in pretesting), or greater than 1 yawn per stimulus pairing. After excluding these participants from the analysis, the final sample was 296 (control N = 38; fish N = 32; amphibians N = 38; reptiles N = 34; birds N = 34; non-primate mammals N = 37; apes N = 44; pets N = 39).\n",
    "\n",
    "Confirm these counts for the eight groups by creating a table called `by_condition` that contains two columns `'Condition'` and `'count'` where each row shows the frequency of the condition in the `results` table."
   ]
  },
  {
   "cell_type": "code",
   "execution_count": null,
   "id": "f75e8fe6-d359-4944-a7a1-6217e8421ed2",
   "metadata": {
    "tags": []
   },
   "outputs": [],
   "source": [
    "by_condition = ...\n",
    "by_condition"
   ]
  },
  {
   "cell_type": "code",
   "execution_count": null,
   "id": "81daa8ef",
   "metadata": {
    "deletable": false,
    "editable": false
   },
   "outputs": [],
   "source": [
    "grader.check(\"task_02\")"
   ]
  },
  {
   "cell_type": "markdown",
   "id": "433b853d-2b68-4fac-846e-851a4a9610ac",
   "metadata": {
    "editable": true,
    "slideshow": {
     "slide_type": ""
    },
    "tags": []
   },
   "source": [
    "---"
   ]
  },
  {
   "cell_type": "markdown",
   "id": "8b7a1390-4913-45b8-9a87-1e2e6902b7c4",
   "metadata": {
    "tags": []
   },
   "source": [
    "### Task 03 📍🔎"
   ]
  },
  {
   "cell_type": "markdown",
   "id": "739dd5d6-9da5-4af8-a00b-a7076f4ea282",
   "metadata": {
    "deletable": false,
    "editable": false
   },
   "source": [
    "<!-- BEGIN QUESTION -->\n",
    "\n",
    "How are the yawn frequencies distributed among each group? Create a histogram to visualize the distribution of yawn frequency values for each condition. We recommend using `overlay=False` with the [`hist` method](https://datascience.readthedocs.io/en/master/_autosummary/datascience.tables.Table.hist.html#datascience.tables.Table.hist). Then, provide a brief summary of your observations. (Do any conditions stand out in their distribution?)"
   ]
  },
  {
   "cell_type": "markdown",
   "id": "adad9a9c",
   "metadata": {},
   "source": [
    "_Type your answer here, replacing this text._"
   ]
  },
  {
   "cell_type": "code",
   "execution_count": null,
   "id": "aa4020b7-c326-4e03-bf76-3433673e9eb1",
   "metadata": {
    "tags": []
   },
   "outputs": [],
   "source": [
    "..."
   ]
  },
  {
   "cell_type": "markdown",
   "id": "f64ec6b2-8293-4449-aa2d-8d0c496a9e50",
   "metadata": {
    "deletable": false,
    "editable": false,
    "slideshow": {
     "slide_type": ""
    },
    "tags": []
   },
   "source": [
    "<!-- END QUESTION -->\n",
    "\n",
    "---"
   ]
  },
  {
   "cell_type": "markdown",
   "id": "e3a05843-bb21-4e16-9791-56d239ab3a99",
   "metadata": {
    "tags": []
   },
   "source": [
    "### Task 04 📍"
   ]
  },
  {
   "cell_type": "markdown",
   "id": "f12e9a4c-d019-4334-b0c8-951aac5538fd",
   "metadata": {
    "deletable": false,
    "editable": false
   },
   "source": [
    "How do the yawn frequencies compare across the eight conditions? Create a table called `ave_yawn_by_condition` that has two columns:\n",
    "* `'Condition'`: the eight condition labels as presented in `results`.\n",
    "* `'Average Yawn Frequency'`: The average yawn frequency for the participants exposed to each of the eight conditions."
   ]
  },
  {
   "cell_type": "code",
   "execution_count": null,
   "id": "f9c3e5a7-4067-447d-922f-9190cede3138",
   "metadata": {
    "tags": []
   },
   "outputs": [],
   "source": [
    "ave_yawn_by_condition = ...\n",
    "ave_yawn_by_condition"
   ]
  },
  {
   "cell_type": "code",
   "execution_count": null,
   "id": "6b023ae8",
   "metadata": {
    "deletable": false,
    "editable": false
   },
   "outputs": [],
   "source": [
    "grader.check(\"task_04\")"
   ]
  },
  {
   "cell_type": "markdown",
   "id": "833520e9-58bd-4434-a8c4-6909a700ff15",
   "metadata": {
    "editable": true,
    "slideshow": {
     "slide_type": ""
    },
    "tags": []
   },
   "source": [
    "---"
   ]
  },
  {
   "cell_type": "markdown",
   "id": "c483fcb1-9c74-40ce-9dd2-9fa251baf1bf",
   "metadata": {
    "tags": []
   },
   "source": [
    "### Lowest Average Frequency"
   ]
  },
  {
   "cell_type": "markdown",
   "id": "40027d1b-269d-4740-be8b-b7a5f715adfc",
   "metadata": {},
   "source": [
    "Run the following code cell to generate a an interactive bar chart that allows you to compare the average yawn frequencies between the condition groups."
   ]
  },
  {
   "cell_type": "code",
   "execution_count": null,
   "id": "b6327bf2-926e-4db5-b26d-168e823f4c02",
   "metadata": {},
   "outputs": [],
   "source": [
    "ave_yawn_by_condition.ibar('Condition', \n",
    "                           title='Average Yawn Frequency by Condition')"
   ]
  },
  {
   "attachments": {},
   "cell_type": "markdown",
   "id": "ec44fc38-e6bf-4720-b2a7-08acd22d5a1d",
   "metadata": {},
   "source": [
    "Examine the graphic. Notice that the averages do not seem all equal. The lowest average frequency (approx. 2.08 yawns) is for the control group (windows). This suggests that all the other conditions have some measurable effect on human yawning, where birds might have the strongest effect and amphibians the weakest effect."
   ]
  },
  {
   "cell_type": "markdown",
   "id": "eebad415-1c84-406d-b638-3091beb626a2",
   "metadata": {
    "editable": true,
    "slideshow": {
     "slide_type": ""
    },
    "tags": []
   },
   "source": [
    "---"
   ]
  },
  {
   "cell_type": "markdown",
   "id": "84aa9a5f-2f44-432e-83c4-2e30d85a42a2",
   "metadata": {},
   "source": [
    "### Forming Hypotheses"
   ]
  },
  {
   "cell_type": "markdown",
   "id": "035198b0-b3d6-4004-b6cd-bf2124b2d54f",
   "metadata": {
    "tags": []
   },
   "source": [
    "### Task 06 📍🔎"
   ]
  },
  {
   "cell_type": "markdown",
   "id": "c8f2e18f-49db-4816-aa8c-30f97a93b30c",
   "metadata": {
    "deletable": false,
    "editable": false
   },
   "source": [
    "<!-- BEGIN QUESTION -->\n",
    "\n",
    "Form two hypotheses to assess whether observing yawning in a non-human animal has a significant effect on human yawning based on average yawn frequencies."
   ]
  },
  {
   "cell_type": "markdown",
   "id": "fdcb1b58",
   "metadata": {},
   "source": [
    "_Type your answer here, replacing this text._"
   ]
  },
  {
   "cell_type": "markdown",
   "id": "bb6d14da-a04f-492e-bdd2-042a0a50b0c6",
   "metadata": {
    "deletable": false,
    "editable": false,
    "slideshow": {
     "slide_type": "fragment"
    }
   },
   "source": [
    "<!-- END QUESTION -->\n",
    "\n",
    "---"
   ]
  },
  {
   "cell_type": "markdown",
   "id": "b281b6a6-1f24-4675-bdbc-bf75c57f4b68",
   "metadata": {},
   "source": [
    "## Testing Against the Null Hypothesis"
   ]
  },
  {
   "cell_type": "markdown",
   "id": "591dbffd-f617-45c6-a7b1-44a79286a0ae",
   "metadata": {},
   "source": [
    "Now, you can implement a simulation-based hypothesis test to measure the evidence against the null hypothesis. "
   ]
  },
  {
   "cell_type": "markdown",
   "id": "33eaec13-dc8d-4f1e-bda9-b3fee219e719",
   "metadata": {
    "slideshow": {
     "slide_type": "fragment"
    }
   },
   "source": [
    "---"
   ]
  },
  {
   "cell_type": "markdown",
   "id": "ed3d5cfd-21f1-41dc-ba0a-cd9c72b6fee5",
   "metadata": {},
   "source": [
    "### Test Statistic"
   ]
  },
  {
   "cell_type": "markdown",
   "id": "710d1ac6-7ea2-4cc5-a128-7c57d204f5e0",
   "metadata": {},
   "source": [
    "For a test statistic, you will use the average yawn frequency for the control group. What you can allow to vary is the way the participants were assigned to the conditions. Maybe it was just by chance that this particular group of participants assigned to the control group had a low average yawn frequency."
   ]
  },
  {
   "cell_type": "markdown",
   "id": "9dce18c6-0b5c-4a5b-b38d-e684f15b745a",
   "metadata": {
    "slideshow": {
     "slide_type": "fragment"
    }
   },
   "source": [
    "---"
   ]
  },
  {
   "cell_type": "markdown",
   "id": "0aa8e795-9ef5-4755-b965-6df1f2f784d9",
   "metadata": {
    "tags": []
   },
   "source": [
    "### Task 07 📍"
   ]
  },
  {
   "cell_type": "markdown",
   "id": "cc5bab14-8035-4ff7-a2ef-e455e3315716",
   "metadata": {
    "deletable": false,
    "editable": false
   },
   "source": [
    "What is the observed value of the test statistic? Using the data in `results`, assign the average yawn frequency (`float`) for the control group to `observed_average`."
   ]
  },
  {
   "cell_type": "code",
   "execution_count": null,
   "id": "f661965e-db76-499e-8cb2-e8ed8dd276e9",
   "metadata": {
    "tags": []
   },
   "outputs": [],
   "source": [
    "observed_average = ...\n",
    "observed_average"
   ]
  },
  {
   "cell_type": "code",
   "execution_count": null,
   "id": "3bf61952",
   "metadata": {
    "deletable": false,
    "editable": false
   },
   "outputs": [],
   "source": [
    "grader.check(\"task_07\")"
   ]
  },
  {
   "cell_type": "markdown",
   "id": "e7573099-ef82-47c6-943c-1f42f8880479",
   "metadata": {
    "editable": true,
    "slideshow": {
     "slide_type": ""
    },
    "tags": []
   },
   "source": [
    "---"
   ]
  },
  {
   "cell_type": "markdown",
   "id": "b89ffb1f-e15d-4c9e-b88f-45b74565c646",
   "metadata": {
    "tags": []
   },
   "source": [
    "### Task 08 📍"
   ]
  },
  {
   "cell_type": "markdown",
   "id": "9d4d1758-1993-40aa-9e8d-e3af2523a389",
   "metadata": {
    "deletable": false,
    "editable": false
   },
   "source": [
    "Create a function called `simulate_avg_yawn_frequency_control` that takes no input, generates a random sample from `results` of the same size as the original control group and returns the average yawn frequency (`float`) for that random sample."
   ]
  },
  {
   "cell_type": "code",
   "execution_count": null,
   "id": "6522a7b2-4e91-4163-8c54-7b52568ea0b7",
   "metadata": {
    "tags": []
   },
   "outputs": [],
   "source": [
    "results"
   ]
  },
  {
   "cell_type": "code",
   "execution_count": null,
   "id": "479c757e-e843-4b07-8b5b-cee4d9558c23",
   "metadata": {
    "tags": []
   },
   "outputs": [],
   "source": [
    "# Define the function\n",
    "def simulate_avg_yawn_frequency_control():\n",
    "    ...\n",
    "\n",
    "# Call the function\n",
    "simulate_avg_yawn_frequency_control()"
   ]
  },
  {
   "cell_type": "code",
   "execution_count": null,
   "id": "ba62b184",
   "metadata": {
    "deletable": false,
    "editable": false
   },
   "outputs": [],
   "source": [
    "grader.check(\"task_08\")"
   ]
  },
  {
   "cell_type": "markdown",
   "id": "cec1a05d-b769-46cb-83b9-247543fc9457",
   "metadata": {
    "slideshow": {
     "slide_type": "fragment"
    }
   },
   "source": [
    "---"
   ]
  },
  {
   "cell_type": "markdown",
   "id": "8e24d339-5940-40bc-bf38-be06f2b0daa9",
   "metadata": {
    "tags": []
   },
   "source": [
    "### Task 09 📍"
   ]
  },
  {
   "cell_type": "markdown",
   "id": "cf92feb4-53b9-4860-a38f-3fa885af0d1d",
   "metadata": {
    "deletable": false,
    "editable": false
   },
   "source": [
    "Form 10,000 iterations of `simulate_avg_yawn_frequency_control()` and save the resulting test statistics in the array `simulated_average_yawn_frequencies`. \n",
    "\n",
    "**Note:** This code will take about a minute to run."
   ]
  },
  {
   "cell_type": "code",
   "execution_count": null,
   "id": "cc8256dc-b458-4cb1-b91b-a8dfea15ed7e",
   "metadata": {
    "tags": []
   },
   "outputs": [],
   "source": [
    "simulated_average_yawn_frequencies = ...\n",
    "..."
   ]
  },
  {
   "cell_type": "code",
   "execution_count": null,
   "id": "e108b5b8",
   "metadata": {
    "deletable": false,
    "editable": false
   },
   "outputs": [],
   "source": [
    "grader.check(\"task_09\")"
   ]
  },
  {
   "cell_type": "markdown",
   "id": "f56fa463-a59e-4a3d-ac49-995a72b88f25",
   "metadata": {
    "editable": true,
    "slideshow": {
     "slide_type": ""
    },
    "tags": []
   },
   "source": [
    "---"
   ]
  },
  {
   "cell_type": "markdown",
   "id": "ffb81236-c5eb-449c-b3ee-1edd96b30986",
   "metadata": {},
   "source": [
    "### Distribution of Test Statistic"
   ]
  },
  {
   "cell_type": "markdown",
   "id": "c35a0359-e8cb-4c2b-8def-3b451b112a82",
   "metadata": {
    "tags": []
   },
   "source": [
    "### Task 10 📍🔎"
   ]
  },
  {
   "cell_type": "markdown",
   "id": "3e2724cd-6390-4bb0-b8c6-eb36970a6040",
   "metadata": {
    "deletable": false,
    "editable": false
   },
   "source": [
    "<!-- BEGIN QUESTION -->\n",
    "\n",
    "Visualize the distribution of test statistic values based on the 10,000 simulations. \n",
    "\n",
    "**Note**: We've provided code to add a dot on the histogram indicating the average yawn frequency for the observed control group."
   ]
  },
  {
   "cell_type": "code",
   "execution_count": null,
   "id": "dc300eae-aa0c-4871-b484-e168b0d1d69d",
   "metadata": {
    "tags": []
   },
   "outputs": [],
   "source": [
    "...\n",
    "\n",
    "# Add a point for the observed value of the test statistic (observed_average)\n",
    "plt.ylim(-0.1, 1)\n",
    "plt.scatter(observed_average, 0, color='red', s=30, label='Observed Test Statistic');\n",
    "plt.title('Distribution of Test Statistics')\n",
    "plt.legend()\n",
    "plt.show()"
   ]
  },
  {
   "cell_type": "markdown",
   "id": "7310797b-76e6-44c9-adbb-a92dbfeee07a",
   "metadata": {
    "deletable": false,
    "editable": false,
    "slideshow": {
     "slide_type": "fragment"
    }
   },
   "source": [
    "<!-- END QUESTION -->\n",
    "\n",
    "---"
   ]
  },
  {
   "cell_type": "markdown",
   "id": "99a355f5-0507-47fb-8443-040dc39cc5b3",
   "metadata": {
    "tags": []
   },
   "source": [
    "### Task 11 📍🔎"
   ]
  },
  {
   "cell_type": "markdown",
   "id": "de605b02-b18f-43a6-bd15-07ed365108e6",
   "metadata": {
    "deletable": false,
    "editable": false
   },
   "source": [
    "<!-- BEGIN QUESTION -->\n",
    "\n",
    "Calculate the p-value based on the results in `simulated_average_yawn_frequencies`. From your p-value, what can you conclude from this test if you use a standard 5% p-value cutoff?"
   ]
  },
  {
   "cell_type": "markdown",
   "id": "feb06f47",
   "metadata": {},
   "source": [
    "_Type your answer here, replacing this text._"
   ]
  },
  {
   "cell_type": "code",
   "execution_count": null,
   "id": "efc81530-98c9-4dc0-b900-320946b5d90e",
   "metadata": {
    "tags": []
   },
   "outputs": [],
   "source": [
    "p_value = ...\n",
    "p_value"
   ]
  },
  {
   "cell_type": "markdown",
   "id": "0b146809-520c-4f3f-8f8f-e15e149c2eeb",
   "metadata": {
    "deletable": false,
    "editable": false,
    "slideshow": {
     "slide_type": "fragment"
    }
   },
   "source": [
    "<!-- END QUESTION -->\n",
    "\n",
    "---"
   ]
  },
  {
   "cell_type": "markdown",
   "id": "0210456c-d3ae-4c49-bec3-db72c7029a4e",
   "metadata": {
    "tags": []
   },
   "source": [
    "### Task 12 📍🔎"
   ]
  },
  {
   "cell_type": "markdown",
   "id": "a36d6099-6e97-404d-b482-fc7473ac106d",
   "metadata": {
    "deletable": false,
    "editable": false
   },
   "source": [
    "<!-- BEGIN QUESTION -->\n",
    "\n",
    "What type of error (Type I or II) could you have made based on your conclusion? If possible, what is the chance that you made that error?"
   ]
  },
  {
   "cell_type": "markdown",
   "id": "a06a3136",
   "metadata": {},
   "source": [
    "_Type your answer here, replacing this text._"
   ]
  },
  {
   "cell_type": "markdown",
   "id": "8eb155dc-cf65-4ddd-be66-205f9621aa46",
   "metadata": {
    "deletable": false,
    "editable": false,
    "slideshow": {
     "slide_type": "fragment"
    }
   },
   "source": [
    "<!-- END QUESTION -->\n",
    "\n",
    "---"
   ]
  },
  {
   "cell_type": "markdown",
   "id": "c11c8fb1-554c-4ce0-b48b-78b84fe7404f",
   "metadata": {},
   "source": [
    "## Reflection"
   ]
  },
  {
   "cell_type": "markdown",
   "id": "8bb442e3-93ec-4e95-b913-ae40f3d100ff",
   "metadata": {},
   "source": [
    "In this activity, you practiced going through a simulation-based hypothesis test based on a real research paper. You used computational tools to perform calculations, visualize distributions, simulate generating data, run many simulations, and calculate a p-value. Lastly, you considered that the results of your test may not be true."
   ]
  },
  {
   "cell_type": "markdown",
   "id": "6f1a1575-d1cc-4e5b-9e36-6d2fce3c3b00",
   "metadata": {
    "editable": true,
    "slideshow": {
     "slide_type": ""
    },
    "tags": []
   },
   "source": [
    "---"
   ]
  },
  {
   "cell_type": "markdown",
   "id": "830cd3aa-7268-4b8d-9de1-b8291a77d457",
   "metadata": {
    "editable": true,
    "slideshow": {
     "slide_type": "notes"
    },
    "tags": []
   },
   "source": [
    "## License"
   ]
  },
  {
   "cell_type": "markdown",
   "id": "55e19cd7-8808-4101-a381-c0897b12ce07",
   "metadata": {
    "editable": true,
    "slideshow": {
     "slide_type": ""
    },
    "tags": []
   },
   "source": [
    "This content is licensed under the <a href=\"https://creativecommons.org/licenses/by-nc-sa/4.0/\">Creative Commons Attribution-NonCommercial-ShareAlike 4.0 International License (CC BY-NC-SA 4.0)</a>.\n",
    "\n",
    "<img src=\"./by-nc-sa.png\" width=100px>"
   ]
  }
 ],
 "metadata": {
  "kernelspec": {
   "display_name": "Python 3 (ipykernel)",
   "language": "python",
   "name": "python3"
  },
  "language_info": {
   "codemirror_mode": {
    "name": "ipython",
    "version": 3
   },
   "file_extension": ".py",
   "mimetype": "text/x-python",
   "name": "python",
   "nbconvert_exporter": "python",
   "pygments_lexer": "ipython3",
   "version": "3.11.9"
  },
  "otter": {
   "OK_FORMAT": true,
   "assignment_name": "gla07_sp25",
   "tests": {
    "task_01": {
     "name": "task_01",
     "points": null,
     "suites": [
      {
       "cases": [
        {
         "code": ">>> isinstance(results, Table)\nTrue",
         "failure_message": "\"❌ results should be assigned to a Table.\"",
         "hidden": false,
         "locked": false,
         "success_message": "\"✅ results is assigned to a Table.\"\n"
        },
        {
         "code": ">>> results.num_rows\n296",
         "failure_message": "\"❌ results does not have the correct number of rows.\"",
         "hidden": false,
         "locked": false,
         "success_message": "\"✅ results has the correct number of rows.\"\n"
        },
        {
         "code": ">>> results.labels == ('Condition', 'Age (Years)', 'Gender (1:Male; 2: Female)', 'Yawned (1:yes; 0: no)', 'Yawn Frequency', 'Sleep (Hours)', 'Tiredness Scale (1-10)')\nTrue",
         "failure_message": "\"❌ results does not have the correct column labels.\"",
         "hidden": false,
         "locked": false,
         "success_message": "\"✅ results has the correct column labels.\"\n"
        },
        {
         "code": ">>> results\nCondition | Age (Years) | Gender (1:Male; 2: Female) | Yawned (1:yes; 0: no) | Yawn Frequency | Sleep (Hours) | Tiredness Scale (1-10)\n0.Control | 26          | 1                          | 1                     | 2              | 8             | 8\n0.Control | 28          | 2                          | 0                     | 0              | 8             | 2\n0.Control | 55          | 2                          | 0                     | 0              | 7             | 2\n0.Control | 34          | 2                          | 0                     | 0              | 7             | 4\n0.Control | 32          | 1                          | 0                     | 0              | 7             | 1\n0.Control | 30          | 1                          | 1                     | 9              | 8             | 10\n0.Control | 30          | 1                          | 1                     | 12             | 5             | 9\n0.Control | 36          | 2                          | 0                     | 0              | 8             | 3\n0.Control | 35          | 1                          | 0                     | 0              | 8             | 10\n0.Control | 31          | 2                          | 1                     | 5              | 8             | 8\n... (286 rows omitted)",
         "failure_message": "\"❌ results does not seem correct.\"",
         "hidden": false,
         "locked": false,
         "success_message": "\"✅ results seems correct.\"\n"
        }
       ],
       "scored": true,
       "setup": "",
       "teardown": "",
       "type": "doctest"
      }
     ]
    },
    "task_02": {
     "name": "task_02",
     "points": null,
     "suites": [
      {
       "cases": [
        {
         "code": ">>> isinstance(by_condition, Table)\nTrue",
         "failure_message": "\"❌ by_condition should be assigned to a Table.\"",
         "hidden": false,
         "locked": false,
         "success_message": "\"✅ by_condition is assigned to a Table.\"\n"
        },
        {
         "code": ">>> by_condition.num_rows\n8",
         "failure_message": "\"❌ by_condition does not have the correct number of rows.\"",
         "hidden": false,
         "locked": false,
         "success_message": "\"✅ by_condition has the correct number of rows.\"\n"
        },
        {
         "code": ">>> by_condition.labels == ('Condition', 'count')\nTrue",
         "failure_message": "\"❌ by_condition does not have the correct column labels.\"",
         "hidden": false,
         "locked": false,
         "success_message": "\"✅ by_condition has the correct column labels.\"\n"
        },
        {
         "code": ">>> by_condition\nCondition | count\n0.Control | 38\n1.Fish    | 32\n2.Amphib  | 38\n3.Reptile | 34\n4.Bird    | 34\n5.Mammal  | 37\n6.Ape     | 44\n7.Pet     | 39",
         "failure_message": "\"❌ by_condition does not seem correct.\"",
         "hidden": false,
         "locked": false,
         "success_message": "\"✅ by_condition seems correct.\"\n"
        }
       ],
       "scored": true,
       "setup": "",
       "teardown": "",
       "type": "doctest"
      }
     ]
    },
    "task_04": {
     "name": "task_04",
     "points": null,
     "suites": [
      {
       "cases": [
        {
         "code": ">>> isinstance(ave_yawn_by_condition, Table)\nTrue",
         "failure_message": "\"❌ ave_yawn_by_condition should be assigned to a Table.\"",
         "hidden": false,
         "locked": false,
         "success_message": "\"✅ ave_yawn_by_condition is assigned to a Table.\"\n"
        },
        {
         "code": ">>> ave_yawn_by_condition.num_rows\n8",
         "failure_message": "\"❌ ave_yawn_by_condition does not have the correct number of rows.\"",
         "hidden": false,
         "locked": false,
         "success_message": "\"✅ ave_yawn_by_condition has the correct number of rows.\"\n"
        },
        {
         "code": ">>> ave_yawn_by_condition.labels == ('Condition', 'Average Yawn Frequency')\nTrue",
         "failure_message": "\"❌ ave_yawn_by_condition does not have the correct column labels.\"",
         "hidden": false,
         "locked": false,
         "success_message": "\"✅ ave_yawn_by_condition has the correct column labels.\"\n"
        },
        {
         "code": ">>> ave_yawn_by_condition\nCondition | Average Yawn Frequency\n0.Control | 2.07895\n1.Fish    | 3.375\n2.Amphib  | 2.55263\n3.Reptile | 3.58824\n4.Bird    | 4.02941\n5.Mammal  | 2.62162\n6.Ape     | 2.93182\n7.Pet     | 3.4359",
         "failure_message": "\"❌ ave_yawn_by_condition does not seem correct.\"",
         "hidden": false,
         "locked": false,
         "success_message": "\"✅ ave_yawn_by_condition seems correct.\"\n"
        }
       ],
       "scored": true,
       "setup": "",
       "teardown": "",
       "type": "doctest"
      }
     ]
    },
    "task_07": {
     "name": "task_07",
     "points": null,
     "suites": [
      {
       "cases": [
        {
         "code": ">>> import numbers\n>>> isinstance(observed_average, numbers.Number)\nTrue",
         "failure_message": "\"❌ observed_average should be assigned to a numerical value.\"",
         "hidden": false,
         "locked": false,
         "success_message": "\"✅ observed_average is assigned to a numerical value.\"\n"
        },
        {
         "code": ">>> np.isclose(observed_average, 2.0789473684210527)\nTrue",
         "failure_message": "\"❌ observed_average does not seem correct.\"",
         "hidden": false,
         "locked": false,
         "success_message": "\"✅ observed_average seems correct.\"\n"
        }
       ],
       "scored": true,
       "setup": "",
       "teardown": "",
       "type": "doctest"
      }
     ]
    },
    "task_08": {
     "name": "task_08",
     "points": null,
     "suites": [
      {
       "cases": [
        {
         "code": ">>> callable(simulate_avg_yawn_frequency_control)\nTrue",
         "failure_message": "\"❌ simulate_avg_yawn_frequency_control is not callable.\"",
         "hidden": false,
         "locked": false,
         "success_message": "\"✅ simulate_avg_yawn_frequency_control is callable.\"\n"
        },
        {
         "code": ">>> isinstance(simulate_avg_yawn_frequency_control(), float) and simulate_avg_yawn_frequency_control() >= 0\nTrue",
         "failure_message": "\"❌ simulate_avg_yawn_frequency_control returns a non-negative float value.\"",
         "hidden": false,
         "locked": false,
         "success_message": "\"✅ simulate_avg_yawn_frequency_control returns a non-negative float value.\"\n"
        }
       ],
       "scored": true,
       "setup": "",
       "teardown": "",
       "type": "doctest"
      }
     ]
    },
    "task_09": {
     "name": "task_09",
     "points": null,
     "suites": [
      {
       "cases": [
        {
         "code": ">>> isinstance(simulated_average_yawn_frequencies, np.ndarray)\nTrue",
         "failure_message": "\"❌ simulated_average_yawn_frequencies is not an array.\"",
         "hidden": false,
         "locked": false,
         "success_message": "\"✅ simulated_average_yawn_frequencies is an array.\"\n"
        },
        {
         "code": ">>> len(simulated_average_yawn_frequencies) == 10000\nTrue",
         "failure_message": "\"❌ simulated_average_yawn_frequencies should contain 10,000 items.\"",
         "hidden": false,
         "locked": false,
         "success_message": "\"✅ simulated_average_yawn_frequencies contains 10,000 items.\"\n"
        }
       ],
       "scored": true,
       "setup": "",
       "teardown": "",
       "type": "doctest"
      }
     ]
    }
   }
  }
 },
 "nbformat": 4,
 "nbformat_minor": 5
}
