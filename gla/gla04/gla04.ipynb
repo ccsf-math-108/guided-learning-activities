{
 "cells": [
  {
   "cell_type": "code",
   "execution_count": null,
   "id": "940971b4",
   "metadata": {
    "deletable": false,
    "editable": false
   },
   "outputs": [],
   "source": [
    "# Initialize Otter\n",
    "import otter\n",
    "grader = otter.Notebook(\"gla04.ipynb\")"
   ]
  },
  {
   "cell_type": "markdown",
   "id": "692fbc6d-0645-4e75-b205-29989ec616ab",
   "metadata": {},
   "source": [
    "<img src=\"./ccsf.png\" alt=\"CCSF Logo\" width=200px style=\"margin:0px -5px\">"
   ]
  },
  {
   "cell_type": "markdown",
   "id": "c83b268c-d46e-450b-b4af-a2390020878c",
   "metadata": {
    "tags": []
   },
   "source": [
    "# Guided Learning Activity 04: Visualizing Trends over Time"
   ]
  },
  {
   "cell_type": "markdown",
   "id": "f5c0e5f0-1759-4129-8e2e-8301f1db6953",
   "metadata": {},
   "source": [
    "This Guided Learning Activity is designed for you to complete alongside a Data Ambassador from the course. You might find that it feels like a combination of the lectures and lab assignment. Whether you are participating live or watching the recording of the live meeting, let the Data Ambassador guide you through the following tasks. There will be moments for you to reflect and explore your own ideas as a way to solidify concepts and skills introduced by your instructor. Keep in mind that this is not a graded assignment for MATH 108 by default. If you have any concerns about participation, reach out to your instructor."
   ]
  },
  {
   "cell_type": "markdown",
   "id": "20d80b08-8562-4cc5-aa65-1e0c97ac6985",
   "metadata": {},
   "source": [
    "---"
   ]
  },
  {
   "cell_type": "markdown",
   "id": "eccd253c-ffd2-40f0-98ac-cc06cc8dec20",
   "metadata": {},
   "source": [
    "## Learning Objectives"
   ]
  },
  {
   "cell_type": "markdown",
   "id": "66e18ccd-f8f0-4f7c-a1f9-c872f5ca01af",
   "metadata": {},
   "source": [
    "1. Convert date strings into `datetime` format for proper handling in Python.\n",
    "2. Create and interpret line plots to visualize time trends.\n",
    "3. Identify key economic trends using CPI data from FRED and recognize anomalies.\n",
    "4. Compute and visualize relative percentage changes in time-series data."
   ]
  },
  {
   "cell_type": "markdown",
   "id": "3f3ef5e2-d54e-44b8-a185-be0fae620e5d",
   "metadata": {},
   "source": [
    "---"
   ]
  },
  {
   "cell_type": "markdown",
   "id": "fda55315-0e2a-46f8-ae5b-76b6dfa2cb16",
   "metadata": {},
   "source": [
    "## Working with Dates"
   ]
  },
  {
   "cell_type": "markdown",
   "id": "d1a6b74e-1a5f-4430-a4d6-cbb2c39f5ea1",
   "metadata": {},
   "source": [
    "Many datasets include some information on date and time that need proper handling. Formatting this data as strings is generally not the best way:\n",
    "\n",
    "- **Sorting Matters**\n",
    "    - Python sorts date stored as strings alphabetically, not chronologically\n",
    "    - When sorting `'February 28', 'April 2', 'April 1'`:\n",
    "        - We want: `'February 28'`, `'April 1'`, `'April 2'`\n",
    "        - Python gives `'April 1'`, `'April 2'`, `'February 28'`\n",
    "- **Extract Useful Information**\n",
    "    - Easily get the day of the week, hour, or month from a timestamp\n",
    "        - `'February 28'.month` should produce `'February'`\n",
    "    - Strings do you not have a `month` attribute\n",
    "- **Time Differences.**\n",
    "    - Calculate durations, intervals, and trends over time\n",
    "    - Subtracting `12:15 PM` from `3:30 PM` should give 3 hours and 15 minutes \n",
    "- **Better Visuals.**\n",
    "    - Convert timestamps to plot meaningful time-based trends"
   ]
  },
  {
   "cell_type": "markdown",
   "id": "5cff11fa-03a4-4111-ac18-bb12e0c6dbea",
   "metadata": {},
   "source": [
    "---"
   ]
  },
  {
   "cell_type": "markdown",
   "id": "1b7fae82-4da0-43e2-9f2d-de078ef3a2bf",
   "metadata": {},
   "source": [
    "### `datetime` Module"
   ]
  },
  {
   "cell_type": "markdown",
   "id": "b0cc8761-d317-4371-9574-a2aaccf4ccc8",
   "metadata": {},
   "source": [
    "* In MATH 108, you are not really expected to know how to work with dates\n",
    "* It is very common to work with data that contains date information\n",
    "* Python's `datetime` module helps manipulate, compare, and format dates and times\n",
    "* You can view the [official documentation](https://docs.python.org/3/library/datetime.html) for more details."
   ]
  },
  {
   "cell_type": "markdown",
   "id": "739c4a9f-8d2e-4148-b9c9-aeeac7dc7814",
   "metadata": {},
   "source": [
    "---"
   ]
  },
  {
   "cell_type": "markdown",
   "id": "55cd897c-6958-4869-b821-946d7cbf48f6",
   "metadata": {},
   "source": [
    "#### Import `datetime`"
   ]
  },
  {
   "cell_type": "markdown",
   "id": "e81d7935-6cd7-44be-b722-24081dc10bbf",
   "metadata": {},
   "source": [
    "Import everything from the `datetime` module."
   ]
  },
  {
   "cell_type": "code",
   "execution_count": null,
   "id": "0649c64c-f54a-4ef3-83c9-add2b93fadf5",
   "metadata": {},
   "outputs": [],
   "source": [
    "from datetime import *"
   ]
  },
  {
   "cell_type": "markdown",
   "id": "5ea075af-9c52-4462-9509-ba54b423072a",
   "metadata": {},
   "source": [
    "---"
   ]
  },
  {
   "cell_type": "markdown",
   "id": "a3f568fe-d10b-4534-bd58-c942e67bab20",
   "metadata": {},
   "source": [
    "#### Create `datetime` Objects"
   ]
  },
  {
   "cell_type": "markdown",
   "id": "e2e2e1d7-3e23-4907-ad12-bea5a8efd3c3",
   "metadata": {},
   "source": [
    "You can create a `datetime` object using `datetime(year, month, day, hour, minute, second)`."
   ]
  },
  {
   "cell_type": "code",
   "execution_count": null,
   "id": "e5e0dcd8-0b5c-429e-a0d3-e0c815098ba9",
   "metadata": {
    "scrolled": true
   },
   "outputs": [],
   "source": [
    "datetime(2025, 1, 31, 12, 15, 33)"
   ]
  },
  {
   "cell_type": "markdown",
   "id": "e69a68a8-bee5-420d-afa6-cc8337d2e4b5",
   "metadata": {},
   "source": [
    "You can even get the current date/time."
   ]
  },
  {
   "cell_type": "code",
   "execution_count": null,
   "id": "8f5b80e6-b625-4a3e-bb1b-3a13a9d54cf2",
   "metadata": {},
   "outputs": [],
   "source": [
    "datetime.now()"
   ]
  },
  {
   "cell_type": "code",
   "execution_count": null,
   "id": "3ca312de-fa48-4292-ab0d-3bc3e749b6aa",
   "metadata": {},
   "outputs": [],
   "source": [
    "datetime.today()"
   ]
  },
  {
   "cell_type": "markdown",
   "id": "72b30777-852f-4830-8f55-1eef51c6c28f",
   "metadata": {},
   "source": [
    "---"
   ]
  },
  {
   "cell_type": "markdown",
   "id": "4ea3981f-5922-42ee-9713-eac52948845f",
   "metadata": {},
   "source": [
    "#### Convert `str` to `datetime`"
   ]
  },
  {
   "cell_type": "markdown",
   "id": "3c1f57d9-379a-4cf2-a731-a94ed40e0d2a",
   "metadata": {},
   "source": [
    "* It is common to work with dates that are initially formatted as strings.\n",
    "* This module provides `strptime` as a way to convert the strings into `datetime` objects."
   ]
  },
  {
   "cell_type": "code",
   "execution_count": null,
   "id": "c64423ea-8d32-4667-8dc1-3913a9d61bf7",
   "metadata": {},
   "outputs": [],
   "source": [
    "date_as_string = \"February 21, 2025\"\n",
    "datetime.strptime(date_as_string, \"%B %d, %Y\")"
   ]
  },
  {
   "cell_type": "markdown",
   "id": "105e10fc-34b4-4626-9ab5-13e907ab9136",
   "metadata": {},
   "source": [
    "---"
   ]
  },
  {
   "cell_type": "markdown",
   "id": "89db3e48-8be3-438e-b0be-48d371828611",
   "metadata": {},
   "source": [
    "#### Convert `datetime` to `str`"
   ]
  },
  {
   "cell_type": "markdown",
   "id": "7d1ecd19-334d-4389-bb63-1482aa97a392",
   "metadata": {},
   "source": [
    "* Maybe you need to work with `datetime`, but the data needs to be presented/stored as a string.\n",
    "* This module provides `strftime` as a way to convert the `datetime` objects into strings."
   ]
  },
  {
   "cell_type": "code",
   "execution_count": null,
   "id": "dfedffe4-841b-45c6-bebd-777eabc42366",
   "metadata": {},
   "outputs": [],
   "source": [
    "datetime_object = datetime(2025, 2, 21)\n",
    "datetime_object.strftime(\"%B %d, %Y\")"
   ]
  },
  {
   "cell_type": "markdown",
   "id": "81fc10e7-7996-4f72-9683-5e956103e755",
   "metadata": {},
   "source": [
    "---"
   ]
  },
  {
   "cell_type": "markdown",
   "id": "00ac14ae-2cb9-428c-ac58-943ee8b24337",
   "metadata": {},
   "source": [
    "#### Perform Arithmetic with Dates"
   ]
  },
  {
   "cell_type": "markdown",
   "id": "8c1ac0fd-b393-475f-8415-bcbd6432ace5",
   "metadata": {},
   "source": [
    "* You'll likely need to find differences in times or perform some other arithmetic calculation\n",
    "* Common arithmetic operations and `timedelta` provide you with what you need. "
   ]
  },
  {
   "cell_type": "code",
   "execution_count": null,
   "id": "e462ff7c-ca5c-4237-a6ac-e4777ef5086c",
   "metadata": {},
   "outputs": [],
   "source": [
    "date_1 = datetime(2025, 2, 21, 10, 15)\n",
    "date_2 = datetime(2025, 3, 6, 11, 30)"
   ]
  },
  {
   "cell_type": "code",
   "execution_count": null,
   "id": "1de21bc1-aaf2-466f-a05f-8bfcc31c9ba0",
   "metadata": {},
   "outputs": [],
   "source": [
    "difference = date_2 - date_1\n",
    "difference"
   ]
  },
  {
   "cell_type": "code",
   "execution_count": null,
   "id": "4dbf04cd-7856-45f3-ae98-fcb0974ddf8b",
   "metadata": {},
   "outputs": [],
   "source": [
    "difference.total_seconds()"
   ]
  },
  {
   "cell_type": "markdown",
   "id": "e407365f-98e6-4af7-8b0d-688c98d7f1ad",
   "metadata": {},
   "source": [
    "---"
   ]
  },
  {
   "cell_type": "markdown",
   "id": "d637664b-5f18-40b6-b7f0-d57914881df5",
   "metadata": {},
   "source": [
    "## Federal Reserve Bank of St. Louis"
   ]
  },
  {
   "cell_type": "markdown",
   "id": "d0636b04-9028-4ecb-ba38-5e1a314b1cf4",
   "metadata": {},
   "source": [
    "<img src=\"./fred-logo-2x.png\" alt=\"FRED logo\"/>\n",
    "\n",
    "The [Federal Reserve Bank of St. Louis](https://fred.stlouisfed.org/) (FRED) is an online database provided by the Federal Reserve Bank of St. Louis that offers access to a vast collection of economic data. It contains over 765,000 U.S. and international time series data, including key indicators like GDP, unemployment rates, inflation, interest rates, and more. FRED serves as a valuable resource for researchers, policymakers, and analysts to retrieve, analyze, and visualize economic trends and financial data. The platform provides tools to create customized charts, download data in various formats, and explore historical economic patterns, making it a critical tool for economic analysis."
   ]
  },
  {
   "cell_type": "markdown",
   "id": "6cdcfc23-214b-4db2-a44f-34228468add1",
   "metadata": {},
   "source": [
    "---"
   ]
  },
  {
   "cell_type": "markdown",
   "id": "58a4ed92-2404-481a-b4bb-eb6c2aa7323b",
   "metadata": {},
   "source": [
    "### Consumer Price Index"
   ]
  },
  {
   "cell_type": "markdown",
   "id": "af721cea-d583-44af-9e2e-632abe799a61",
   "metadata": {},
   "source": [
    "The Consumer Price Index (CPI) is a measure used to track changes in the average prices of a basket of goods and services typically purchased by households over time. It is a key indicator of inflation, reflecting how much the cost of living has increased or decreased. The CPI is calculated by comparing the price of a fixed set of goods and services, which includes items like food, housing, transportation, and healthcare, from one period to another. Governments and economic analysts use the CPI to assess the purchasing power of money and to adjust policies such as interest rates and social security benefits."
   ]
  },
  {
   "cell_type": "markdown",
   "id": "d15b3786-8be5-4372-ae61-b6728c238e23",
   "metadata": {
    "tags": []
   },
   "source": [
    "#### Task 01 📍🔎"
   ]
  },
  {
   "cell_type": "markdown",
   "id": "17f8ac6b-541d-441d-9266-9ddb833c3058",
   "metadata": {
    "deletable": false,
    "editable": false
   },
   "source": [
    "<!-- BEGIN QUESTION -->\n",
    "\n",
    "Before you start working with real CPI data, import everything from the `datascience` library."
   ]
  },
  {
   "cell_type": "code",
   "execution_count": null,
   "id": "68b42e92-ad23-4fd7-b6a1-a9057db000c4",
   "metadata": {
    "tags": []
   },
   "outputs": [],
   "source": [
    "..."
   ]
  },
  {
   "cell_type": "markdown",
   "id": "7e6ddf3a-8ab5-4dc4-bf7c-498371521055",
   "metadata": {
    "deletable": false,
    "editable": false
   },
   "source": [
    "<!-- END QUESTION -->\n",
    "\n",
    "---"
   ]
  },
  {
   "cell_type": "markdown",
   "id": "ad1abaab-7458-4013-a443-4314c3e8fc9f",
   "metadata": {
    "tags": []
   },
   "source": [
    "#### Task 02 📍"
   ]
  },
  {
   "cell_type": "markdown",
   "id": "ad87ea54-e9bb-4754-8ff2-208ba4854ae0",
   "metadata": {
    "deletable": false,
    "editable": false
   },
   "source": [
    "Create the table `cpi` from the `cpi.csv` file collected from [FRED](https://fred.stlouisfed.org/series/CPIAUCSL)."
   ]
  },
  {
   "cell_type": "code",
   "execution_count": null,
   "id": "56629d97-42b1-44e7-85e6-78c5ca14fcda",
   "metadata": {
    "tags": []
   },
   "outputs": [],
   "source": [
    "cpi = ...\n",
    "cpi"
   ]
  },
  {
   "cell_type": "code",
   "execution_count": null,
   "id": "02c80e7e",
   "metadata": {
    "deletable": false,
    "editable": false
   },
   "outputs": [],
   "source": [
    "grader.check(\"task_02\")"
   ]
  },
  {
   "cell_type": "markdown",
   "id": "85330bfe-c985-41b6-b839-896a906d33e2",
   "metadata": {},
   "source": [
    "---"
   ]
  },
  {
   "cell_type": "markdown",
   "id": "24d5687c-7e99-4355-a22f-3ebedb4b388c",
   "metadata": {
    "tags": []
   },
   "source": [
    "#### Task 03 📍🔎"
   ]
  },
  {
   "cell_type": "markdown",
   "id": "a206d02d-c56b-474c-84a7-8f99232e4960",
   "metadata": {
    "deletable": false,
    "editable": false
   },
   "source": [
    "<!-- BEGIN QUESTION -->\n",
    "\n",
    "What are the data types for the `'Date'` and `'CPI'` values in the `cpi` table?"
   ]
  },
  {
   "cell_type": "markdown",
   "id": "c2868251",
   "metadata": {},
   "source": [
    "_Type your answer here, replacing this text._"
   ]
  },
  {
   "cell_type": "markdown",
   "id": "52545de2-325e-4fa5-b154-fcb38d223933",
   "metadata": {
    "deletable": false,
    "editable": false,
    "slideshow": {
     "slide_type": "fragment"
    }
   },
   "source": [
    "<!-- END QUESTION -->\n",
    "\n",
    "---"
   ]
  },
  {
   "cell_type": "markdown",
   "id": "19689cfe-a6d9-42fa-81f9-e9c15c01c5f0",
   "metadata": {},
   "source": [
    "### Interpreting CPI Values"
   ]
  },
  {
   "cell_type": "markdown",
   "id": "f734094e-dc4a-46ad-a92a-50eca91e9833",
   "metadata": {},
   "source": [
    "You should see that the CPI value for **January 1, 1947**, is **21.48**. What does that number mean?  \n",
    "\n",
    "- The **Consumer Price Index (CPI)** measures the average price of a standard basket of goods over time.  \n",
    "- The index is set relative to a **base period**, which in this case is **1982–1984**, where the average CPI is **100**.\n",
    "    - The Bureau of Labor Statistics choose this time period for the reference because it was a relatively stable economic period without extreme inflation or deflation.\n",
    "    - They periodically update the baseline when needed.\n",
    "- A **CPI of 21.48 in 1947** means that, on average, prices in 1947 were **21.48% of the prices in 1982–1984**.  \n",
    "- The **largest CPI in the data (319.086) from January 1, 2025** suggests that prices in early 2025 are **a little over 3 times the average price level of 1982–1984**.  \n"
   ]
  },
  {
   "cell_type": "markdown",
   "id": "bf4dd1cd-298a-426b-a46d-4c03fc5a6212",
   "metadata": {},
   "source": [
    "---"
   ]
  },
  {
   "cell_type": "markdown",
   "id": "55d21b63-643f-4332-b15c-042434330002",
   "metadata": {},
   "source": [
    "### Matplotlib"
   ]
  },
  {
   "cell_type": "markdown",
   "id": "348941da-3aec-4a0c-bffe-ac0717d5cc99",
   "metadata": {},
   "source": [
    "<img src=\"./matplotlib_logo_light.svg\" width=300px alt=\"Matplotlib logo\"/>\n",
    "\n",
    "* One of the primary data visualization libraries for Python is [Matplotlib](https://matplotlib.org/)\n",
    "* You are not expected to work directly with Matplotlib in MATH 108\n",
    "* The `datascience` library contains table methods that allow to interact with Matplotlib indirectly.\n",
    "    * e.g. The [`datascience` table method `plot`](https://datascience.readthedocs.io/en/master/_autosummary/datascience.tables.Table.plot.html#datascience.tables.Table.plot) creates a line plot with Matplotlib's function [`matplotlib.pyplot.plot`](https://matplotlib.org/stable/api/_as_gen/matplotlib.pyplot.plot.html)."
   ]
  },
  {
   "cell_type": "markdown",
   "id": "8aa75c97-f3eb-44e2-9838-3fd328083137",
   "metadata": {},
   "source": [
    "---"
   ]
  },
  {
   "cell_type": "markdown",
   "id": "a7b8e627-7496-4b3d-bb0f-795cc1b2904b",
   "metadata": {},
   "source": [
    "#### Configuring Jupyter"
   ]
  },
  {
   "cell_type": "markdown",
   "id": "782e02f1-caf0-4a17-8cf6-ff72c4f3070e",
   "metadata": {},
   "source": [
    "Run the following command to configure his notebook to show visualizations in the same way you see them for MATH 108."
   ]
  },
  {
   "cell_type": "code",
   "execution_count": null,
   "id": "aef0ad69-1c8a-495e-be46-3780820a58f7",
   "metadata": {},
   "outputs": [],
   "source": [
    "%matplotlib inline\n",
    "import matplotlib.pyplot as plt\n",
    "plt.style.use('fivethirtyeight')"
   ]
  },
  {
   "cell_type": "markdown",
   "id": "daee7915-2013-4f3a-a52e-c359ee240497",
   "metadata": {},
   "source": [
    "- `%matplotlib inline` ensures that **Matplotlib plots are displayed directly inside the Jupyter Notebook**, rather than in a separate window.  \n",
    "- `import matplotlib.pyplot as plt` loads Matplotlib’s plotting library.  \n",
    "- `plt.style.use('fivethirtyeight')` applies the **\"FiveThirtyEight\" style**, which provides a visually appealing, publication-quality design for charts. This matches the style used in some course materials.  "
   ]
  },
  {
   "cell_type": "markdown",
   "id": "49d455a8-556a-4f7a-9dbd-4c557e87a0b4",
   "metadata": {},
   "source": [
    "---"
   ]
  },
  {
   "cell_type": "markdown",
   "id": "ba1acc7e-d836-4429-a7cb-717543929445",
   "metadata": {
    "tags": []
   },
   "source": [
    "### Task 04 📍🔎"
   ]
  },
  {
   "cell_type": "markdown",
   "id": "fe8d50c5-b667-4dcb-bb3b-01420276ad30",
   "metadata": {
    "deletable": false,
    "editable": false
   },
   "source": [
    "<!-- BEGIN QUESTION -->\n",
    "\n",
    "Try to create a line plot using the `plot` table method with the `cpi` table where the horizontal axis shows the dates and the vertical axis shows the CPI values. _This image should not look good by default._"
   ]
  },
  {
   "cell_type": "code",
   "execution_count": null,
   "id": "87ad7161-f149-464f-a14e-69c9c98599c4",
   "metadata": {
    "tags": []
   },
   "outputs": [],
   "source": [
    "...\n",
    "\n",
    "# The following adds a title to the graphic.\n",
    "plt.title('CPI Over Time')\n",
    "plt.show()"
   ]
  },
  {
   "cell_type": "markdown",
   "id": "e7c06cdf-3814-4efe-954d-45190e4896ed",
   "metadata": {
    "deletable": false,
    "editable": false,
    "slideshow": {
     "slide_type": "fragment"
    }
   },
   "source": [
    "<!-- END QUESTION -->\n",
    "\n",
    "---"
   ]
  },
  {
   "cell_type": "markdown",
   "id": "7080e40d-d8f7-444e-8055-1ea3c61d5b52",
   "metadata": {
    "tags": []
   },
   "source": [
    "### Task 05 📍"
   ]
  },
  {
   "cell_type": "markdown",
   "id": "c86ba2bc-593c-4457-af76-9a36829ef7d2",
   "metadata": {
    "deletable": false,
    "editable": false
   },
   "source": [
    "Create a function called `str_to_datetime` based on `datetime.strptime` that converts strings like those presented in the `cpi` table into `datetime` format. For this you need to know that a date string like `'1947-01-01'` is in the format `'%Y-%m-%d'`"
   ]
  },
  {
   "cell_type": "code",
   "execution_count": null,
   "id": "13e2f23d-77b5-4c04-af5e-ee01bfe3dc0e",
   "metadata": {
    "tags": []
   },
   "outputs": [],
   "source": [
    "..."
   ]
  },
  {
   "cell_type": "code",
   "execution_count": null,
   "id": "f92711dc",
   "metadata": {
    "deletable": false,
    "editable": false
   },
   "outputs": [],
   "source": [
    "grader.check(\"task_05\")"
   ]
  },
  {
   "cell_type": "markdown",
   "id": "256371b6-9147-4fbe-8fd3-cae2486fce78",
   "metadata": {},
   "source": [
    "---"
   ]
  },
  {
   "cell_type": "markdown",
   "id": "3a4ac431-b8cc-445a-b8a5-a152b2252754",
   "metadata": {
    "tags": []
   },
   "source": [
    "### Task 06 📍"
   ]
  },
  {
   "cell_type": "markdown",
   "id": "4a3cbe6d-398c-4abc-80e1-7e7c6dbde20a",
   "metadata": {
    "deletable": false,
    "editable": false
   },
   "source": [
    "Covert all the date values in the `cpi` table into `datetime` format. Assign the resulting table to `cpi_for_plotting`."
   ]
  },
  {
   "cell_type": "code",
   "execution_count": null,
   "id": "52491553-6b0b-4e9e-a26f-d5c231c46220",
   "metadata": {
    "tags": []
   },
   "outputs": [],
   "source": [
    "cpi_for_plotting = ...\n",
    "cpi_for_plotting"
   ]
  },
  {
   "cell_type": "code",
   "execution_count": null,
   "id": "ad269eda",
   "metadata": {
    "deletable": false,
    "editable": false
   },
   "outputs": [],
   "source": [
    "grader.check(\"task_06\")"
   ]
  },
  {
   "cell_type": "markdown",
   "id": "b450b6bb-8664-4f9e-af5b-eb3baeb1acfa",
   "metadata": {},
   "source": [
    "---"
   ]
  },
  {
   "cell_type": "markdown",
   "id": "d7624dac-467d-4799-b294-7e6871fd73ce",
   "metadata": {
    "tags": []
   },
   "source": [
    "### Task 07 📍🔎"
   ]
  },
  {
   "cell_type": "markdown",
   "id": "bd3835c8-3db5-4e06-99b8-7f98199896bb",
   "metadata": {
    "deletable": false,
    "editable": false
   },
   "source": [
    "<!-- BEGIN QUESTION -->\n",
    "\n",
    "Now, create a line plot using the `plot` table method with the `cpi` table where the horizontal axis shows the (updated) dates and the vertical axis shows the CPI values. _This image should look much better compared to the previous attempt._"
   ]
  },
  {
   "cell_type": "code",
   "execution_count": null,
   "id": "36b11c15-00ce-4aed-b32a-8db763bdbe61",
   "metadata": {
    "tags": []
   },
   "outputs": [],
   "source": [
    "...\n",
    "\n",
    "# The following adds a title to the graphic.\n",
    "plt.title('CPI Over Time')\n",
    "plt.show()"
   ]
  },
  {
   "cell_type": "markdown",
   "id": "9f561d96-de4e-4640-8a69-7844a6e5e407",
   "metadata": {
    "deletable": false,
    "editable": false,
    "slideshow": {
     "slide_type": "fragment"
    }
   },
   "source": [
    "<!-- END QUESTION -->\n",
    "\n",
    "---"
   ]
  },
  {
   "cell_type": "markdown",
   "id": "3f6e046c-bffe-43cb-b725-ff1f3c3311d1",
   "metadata": {
    "tags": []
   },
   "source": [
    "### Task 08 📍🔎"
   ]
  },
  {
   "cell_type": "markdown",
   "id": "20fd016e-5baa-4184-9b35-2f8a2f612830",
   "metadata": {
    "deletable": false,
    "editable": false
   },
   "source": [
    "<!-- BEGIN QUESTION -->\n",
    "\n",
    "What is the general trend of CPI values over time based on this graphic?"
   ]
  },
  {
   "cell_type": "markdown",
   "id": "5d32d14e",
   "metadata": {},
   "source": [
    "_Type your answer here, replacing this text._"
   ]
  },
  {
   "cell_type": "markdown",
   "id": "2093026a-79b7-49ea-b2aa-9d28548893e6",
   "metadata": {
    "deletable": false,
    "editable": false,
    "slideshow": {
     "slide_type": "fragment"
    }
   },
   "source": [
    "<!-- END QUESTION -->\n",
    "\n",
    "---"
   ]
  },
  {
   "cell_type": "markdown",
   "id": "f5647b2f-fe7b-40a3-92fc-6549d4e3989c",
   "metadata": {},
   "source": [
    "### Identifying Sudden Big Changes"
   ]
  },
  {
   "cell_type": "markdown",
   "id": "35b63a2c-0fa6-4965-8b72-659ae53fb4ea",
   "metadata": {},
   "source": [
    "You may notice sharp increases or decreases in CPI values over time. However, when these changes happen quickly, they can be difficult to detect in a basic line graph, but have a profound impact on the economy. Additionally, the overall trend of CPI might obscure short-term fluctuations, making it harder to see changes in relation to surrounding dates. For these reasons, analysts often calculate relative changes, such as month-to-month percentage changes, and plot those values. This approach removes the long-term trend from focus, allowing the rate of change to become the center of attention."
   ]
  },
  {
   "cell_type": "markdown",
   "id": "80b38bf2-46b9-4704-a1bd-9ffea68ee42f",
   "metadata": {},
   "source": [
    "---"
   ]
  },
  {
   "cell_type": "markdown",
   "id": "65b0d91d-bfa8-41e7-8ee2-c6d27c545975",
   "metadata": {
    "tags": []
   },
   "source": [
    "### Task 09 📍"
   ]
  },
  {
   "cell_type": "markdown",
   "id": "6759cab8-5d84-4b9f-8f0c-fe2e8c1794e7",
   "metadata": {
    "deletable": false,
    "editable": false
   },
   "source": [
    "Import numpy as `np` to access tools to help you calculate the month-to-month percentage changes in CPI values."
   ]
  },
  {
   "cell_type": "code",
   "execution_count": null,
   "id": "b18eb2db-c0eb-48aa-bc27-b7272cf3dc4c",
   "metadata": {
    "tags": []
   },
   "outputs": [],
   "source": [
    "..."
   ]
  },
  {
   "cell_type": "code",
   "execution_count": null,
   "id": "8994ae00",
   "metadata": {
    "deletable": false,
    "editable": false
   },
   "outputs": [],
   "source": [
    "grader.check(\"task_09\")"
   ]
  },
  {
   "cell_type": "markdown",
   "id": "0612a0a7-389e-4746-b097-81c441a3251a",
   "metadata": {
    "editable": true,
    "slideshow": {
     "slide_type": ""
    },
    "tags": []
   },
   "source": [
    "---"
   ]
  },
  {
   "cell_type": "markdown",
   "id": "7da7d50f-33a1-47cb-b809-36ac38ca7a9f",
   "metadata": {},
   "source": [
    "#### Insert a Value into an Array"
   ]
  },
  {
   "cell_type": "markdown",
   "id": "16c3bd22-e5d6-438a-ae1e-c868b1ab2a1f",
   "metadata": {},
   "source": [
    "The [NumPy function `np.insert`](https://numpy.org/doc/2.1/reference/generated/numpy.insert.html#numpy.insert) provides you with a way to add a value into an array at a specific location. For example, if you have defined \n",
    "\n",
    "`arr1 = make_array(2, 3, 4, 5)`\n",
    "\n",
    "and you want add the value `1` to the start of the array, you can run\n",
    "\n",
    "`np.insert(arr1, 0, 1)`\n",
    "\n",
    "to create a new array with all 5 values and 1 at the start (index 0) of the array."
   ]
  },
  {
   "cell_type": "code",
   "execution_count": null,
   "id": "6f355a3e-36c8-4856-a749-dc8acafb5150",
   "metadata": {},
   "outputs": [],
   "source": [
    "arr1 = make_array(2, 3, 4, 5)\n",
    "np.insert(arr1, 0, 1)"
   ]
  },
  {
   "cell_type": "markdown",
   "id": "eeea334b-3e4c-425d-8133-e3858cc5666c",
   "metadata": {
    "editable": true,
    "slideshow": {
     "slide_type": ""
    },
    "tags": []
   },
   "source": [
    "---"
   ]
  },
  {
   "cell_type": "markdown",
   "id": "f00a248e-1c60-4d3e-9e5b-7630a2689dd5",
   "metadata": {},
   "source": [
    "#### Delete a Value from an Array"
   ]
  },
  {
   "cell_type": "markdown",
   "id": "33c843ce-4d3e-47a5-82a1-5b521154ad22",
   "metadata": {},
   "source": [
    "The [NumPy function `np.delete`](https://numpy.org/doc/2.1/reference/generated/numpy.delete.html#numpy.delete) provides you with a way to remove a value from an array at a specific location. For example, if you have defined \n",
    "\n",
    "`arr2 = make_array(1, 2, 3, 4, 5)`\n",
    "\n",
    "and you want remove the value `3` at the 3rd position of the array, you can run\n",
    "\n",
    "`np.delete(arr2, 2)`\n",
    "\n",
    "to create a new array with the remaining 4 values."
   ]
  },
  {
   "cell_type": "code",
   "execution_count": null,
   "id": "cd348556-f941-4a2b-9bd9-ce626441aad0",
   "metadata": {},
   "outputs": [],
   "source": [
    "arr2 = make_array(1, 2, 3, 4, 5)\n",
    "np.delete(arr2, 2)"
   ]
  },
  {
   "cell_type": "markdown",
   "id": "a26fb953-e72c-4518-b6d2-048410b35d61",
   "metadata": {
    "editable": true,
    "slideshow": {
     "slide_type": ""
    },
    "tags": []
   },
   "source": [
    "---"
   ]
  },
  {
   "cell_type": "markdown",
   "id": "fcd62115-0d10-4b9f-86d3-4040d30bec8f",
   "metadata": {
    "tags": []
   },
   "source": [
    "### Task 10 📍"
   ]
  },
  {
   "cell_type": "markdown",
   "id": "c56c89b4-9037-4341-929d-2197b452c973",
   "metadata": {
    "deletable": false,
    "editable": false
   },
   "source": [
    "Create a table like `cpi_for_plotting` called `cpi_percent_change` with an additional column `'CPI % Change (Monthly)'` at the right-end of the table showing the positive or negative change in CPI values from month to month as a percentage.\n",
    "\n",
    "For example, from the relative percentage change from the CPI value of 21.48 to 21.62 is:\n",
    "\n",
    "$$\\frac{21.62 - 21.48}{21.48} * 100 \\approx 0.65\\%$$\n",
    "\n",
    "Showing that the CPI change from January to February in 1947 was a little over one half percent."
   ]
  },
  {
   "cell_type": "code",
   "execution_count": null,
   "id": "c6ab04a6-c280-4288-900c-181c5b17f93a",
   "metadata": {
    "tags": []
   },
   "outputs": [],
   "source": [
    "..."
   ]
  },
  {
   "cell_type": "code",
   "execution_count": null,
   "id": "36730c0b",
   "metadata": {
    "deletable": false,
    "editable": false
   },
   "outputs": [],
   "source": [
    "grader.check(\"task_10\")"
   ]
  },
  {
   "cell_type": "markdown",
   "id": "d82e1095-7cdd-4328-bd33-4c01dccca3e5",
   "metadata": {
    "editable": true,
    "slideshow": {
     "slide_type": ""
    },
    "tags": []
   },
   "source": [
    "---"
   ]
  },
  {
   "cell_type": "markdown",
   "id": "651dd48c-9f0c-426a-a918-4eb1e1b1d3c9",
   "metadata": {
    "tags": []
   },
   "source": [
    "### Task 11 📍🔎"
   ]
  },
  {
   "cell_type": "markdown",
   "id": "7417e4b3-43ba-472f-9e25-f5f58b16b61d",
   "metadata": {
    "deletable": false,
    "editable": false
   },
   "source": [
    "<!-- BEGIN QUESTION -->\n",
    "\n",
    "Use `cpi_percent_change` to plot the month-to-monthly relative percentage changes in CPI values for the dates starting in the year 2000."
   ]
  },
  {
   "cell_type": "code",
   "execution_count": null,
   "id": "0d7e3f5f-7d4c-4bbb-98a6-f820f287aab3",
   "metadata": {
    "tags": []
   },
   "outputs": [],
   "source": [
    "...\n",
    "\n",
    "# The following adds a title to the graphic.\n",
    "plt.title('Month-to-Month CPI % Change')\n",
    "plt.show()"
   ]
  },
  {
   "cell_type": "markdown",
   "id": "7d9699ed-4c56-400f-b59e-f7fcfb9ef45e",
   "metadata": {
    "deletable": false,
    "editable": false,
    "slideshow": {
     "slide_type": "fragment"
    }
   },
   "source": [
    "<!-- END QUESTION -->\n",
    "\n",
    "---"
   ]
  },
  {
   "cell_type": "markdown",
   "id": "df3b4b8c-05d5-4382-9380-c6f37b2b76ca",
   "metadata": {},
   "source": [
    "### Recessions"
   ]
  },
  {
   "cell_type": "markdown",
   "id": "6ec0fcb2-349d-42ec-a88a-3c4f452f10db",
   "metadata": {},
   "source": [
    "From [Investopedia](https://www.investopedia.com/terms/r/recession.asp)\n",
    "\n",
    "> A recession is a significant, widespread, and prolonged downturn in economic activity. \n",
    "\n",
    "* The most recent recession in the United States was from February to April 2020, during the COVID-19 pandemic.\n",
    "* The Great Recession lasted from December 2007 to June 2009, and was tied to the global financial crisis.\n",
    "\n",
    "Though CPI is meant to measure inflation and is not used to define if there is a recession, a significant change in CPI can be a warning sign of a recession. "
   ]
  },
  {
   "cell_type": "markdown",
   "id": "7e0a9908-0d1b-4f11-a430-ef20f46749cc",
   "metadata": {
    "editable": true,
    "slideshow": {
     "slide_type": ""
    },
    "tags": []
   },
   "source": [
    "---"
   ]
  },
  {
   "cell_type": "markdown",
   "id": "f50e69a3-2763-4bf2-b1b3-dafb790f1270",
   "metadata": {
    "tags": []
   },
   "source": [
    "### Task 12 📍🔎"
   ]
  },
  {
   "cell_type": "markdown",
   "id": "becc712c-7e9f-4e08-869c-d4fa9541519e",
   "metadata": {
    "deletable": false,
    "editable": false
   },
   "source": [
    "<!-- BEGIN QUESTION -->\n",
    "\n",
    "What evidence in the visualization of month-to-month CPI percentage changes do you see for the two most recent US recessions?"
   ]
  },
  {
   "cell_type": "markdown",
   "id": "2f04265d",
   "metadata": {},
   "source": [
    "_Type your answer here, replacing this text._"
   ]
  },
  {
   "cell_type": "markdown",
   "id": "9affbfd8-0e65-48bc-8ae3-d635c4aab2fb",
   "metadata": {
    "deletable": false,
    "editable": false,
    "slideshow": {
     "slide_type": "fragment"
    }
   },
   "source": [
    "<!-- END QUESTION -->\n",
    "\n",
    "---"
   ]
  },
  {
   "cell_type": "markdown",
   "id": "c11c8fb1-554c-4ce0-b48b-78b84fe7404f",
   "metadata": {},
   "source": [
    "## Reflection"
   ]
  },
  {
   "cell_type": "markdown",
   "id": "8bb442e3-93ec-4e95-b913-ae40f3d100ff",
   "metadata": {},
   "source": [
    "In this Guided Learning Activity, you explored how to visualize trends over time, focusing on working with date and time data. You learned how to convert date strings into `datetime` format, sort time-based data, and create visualizations to analyze trends. By applying these techniques to real-world data (such as CPI values from FRED), you practiced identifying patterns, anomalies, and economic events through data visualization. The activity reinforced the importance of relative percentage changes for understanding short-term fluctuations, rather than relying solely on absolute values."
   ]
  },
  {
   "cell_type": "markdown",
   "id": "1dd255b9-9e7f-45f8-88ff-f7e24bdb35fa",
   "metadata": {
    "editable": true,
    "slideshow": {
     "slide_type": ""
    },
    "tags": []
   },
   "source": [
    "---"
   ]
  },
  {
   "cell_type": "markdown",
   "id": "830cd3aa-7268-4b8d-9de1-b8291a77d457",
   "metadata": {
    "editable": true,
    "slideshow": {
     "slide_type": "notes"
    },
    "tags": []
   },
   "source": [
    "## License"
   ]
  },
  {
   "cell_type": "markdown",
   "id": "55e19cd7-8808-4101-a381-c0897b12ce07",
   "metadata": {
    "editable": true,
    "slideshow": {
     "slide_type": ""
    },
    "tags": []
   },
   "source": [
    "This content is licensed under the <a href=\"https://creativecommons.org/licenses/by-nc-sa/4.0/\">Creative Commons Attribution-NonCommercial-ShareAlike 4.0 International License (CC BY-NC-SA 4.0)</a>.\n",
    "\n",
    "<img src=\"./by-nc-sa.png\" width=100px>"
   ]
  }
 ],
 "metadata": {
  "kernelspec": {
   "display_name": "Python 3 (ipykernel)",
   "language": "python",
   "name": "python3"
  },
  "language_info": {
   "codemirror_mode": {
    "name": "ipython",
    "version": 3
   },
   "file_extension": ".py",
   "mimetype": "text/x-python",
   "name": "python",
   "nbconvert_exporter": "python",
   "pygments_lexer": "ipython3",
   "version": "3.11.9"
  },
  "otter": {
   "OK_FORMAT": true,
   "assignment_name": "gla04_sp25",
   "tests": {
    "task_02": {
     "name": "task_02",
     "points": null,
     "suites": [
      {
       "cases": [
        {
         "code": ">>> isinstance(cpi, Table)\nTrue",
         "failure_message": "\"❌ cpi should be a Table.\"",
         "hidden": false,
         "locked": false,
         "points": 1,
         "success_message": "\"✅ cpi is a Table.\"\n"
        },
        {
         "code": ">>> cpi.num_rows\n937",
         "failure_message": "\"❌ cpi does not have the correct number of rows.\"",
         "hidden": false,
         "locked": false,
         "points": 1,
         "success_message": "\"✅ cpi has the correct number of rows.\"\n"
        },
        {
         "code": ">>> cpi.num_columns\n2",
         "failure_message": "\"❌ cpi does not have the correct number of columns.\"",
         "hidden": false,
         "locked": false,
         "points": 1,
         "success_message": "\"✅ cpi has the correct number of columns.\"\n"
        },
        {
         "code": ">>> cpi\nDate       | CPI\n1947-01-01 | 21.48\n1947-02-01 | 21.62\n1947-03-01 | 22\n1947-04-01 | 22\n1947-05-01 | 21.95\n1947-06-01 | 22.08\n1947-07-01 | 22.23\n1947-08-01 | 22.4\n1947-09-01 | 22.84\n1947-10-01 | 22.91\n... (927 rows omitted)",
         "failure_message": "\"❌ cpi does not seem correct.\"",
         "hidden": false,
         "locked": false,
         "points": 1,
         "success_message": "\"✅ cpi seems correct.\"\n"
        }
       ],
       "scored": true,
       "setup": "",
       "teardown": "",
       "type": "doctest"
      }
     ]
    },
    "task_05": {
     "name": "task_05",
     "points": null,
     "suites": [
      {
       "cases": [
        {
         "code": ">>> callable(str_to_datetime)\nTrue",
         "failure_message": "\"❌ str_to_datetime is not callable\"",
         "hidden": false,
         "locked": false,
         "points": 1,
         "success_message": "\"✅ str_to_datetime is callable.\"\n"
        },
        {
         "code": ">>> isinstance(str_to_datetime('1947-01-01'), datetime)\nTrue",
         "failure_message": "\"❌ str_to_datetime does not correctly converts the date string '1947-01-01' to datetime format.\"",
         "hidden": false,
         "locked": false,
         "points": 1,
         "success_message": "\"✅ str_to_datetime correctly converts the date string '1947-01-01' to datetime format.\"\n"
        },
        {
         "code": ">>> str_to_datetime('1947-01-01')\ndatetime.datetime(1947, 1, 1, 0, 0)",
         "failure_message": "\"❌ str_to_datetime does not seem to be working correctly.\"",
         "hidden": false,
         "locked": false,
         "points": 1,
         "success_message": "\"✅ str_to_datetime seems to be working correctly.\"\n"
        }
       ],
       "scored": true,
       "setup": "",
       "teardown": "",
       "type": "doctest"
      }
     ]
    },
    "task_06": {
     "name": "task_06",
     "points": null,
     "suites": [
      {
       "cases": [
        {
         "code": ">>> isinstance(cpi_for_plotting, Table)\nTrue",
         "failure_message": "\"❌ cpi_for_plotting should be a Table.\"",
         "hidden": false,
         "locked": false,
         "points": 1,
         "success_message": "\"✅ cpi_for_plotting is a Table.\"\n"
        },
        {
         "code": ">>> cpi_for_plotting.num_rows\n937",
         "failure_message": "\"❌ cpi_for_plotting does not have the correct number of rows.\"",
         "hidden": false,
         "locked": false,
         "points": 1,
         "success_message": "\"✅ cpi_for_plotting has the correct number of rows.\"\n"
        },
        {
         "code": ">>> cpi_for_plotting.num_columns\n2",
         "failure_message": "\"❌ cpi_for_plotting does not have the correct number of columns.\"",
         "hidden": false,
         "locked": false,
         "points": 1,
         "success_message": "\"✅ cpi_for_plotting has the correct number of columns.\"\n"
        },
        {
         "code": ">>> cpi_for_plotting.labels\n('Date', 'CPI')",
         "failure_message": "\"❌ cpi_for_plotting does not have the correct labels.\"",
         "hidden": false,
         "locked": false,
         "points": 1,
         "success_message": "\"✅ cpi_for_plotting has the correct labels.\"\n"
        },
        {
         "code": ">>> isinstance(cpi_for_plotting.column('Date').item(0), datetime)\nTrue",
         "failure_message": "\"❌ The Date values are not in datetime format.\"",
         "hidden": false,
         "locked": false,
         "points": 1,
         "success_message": "\"✅ The Date values are in datetime format.\"\n"
        },
        {
         "code": ">>> isinstance(cpi_for_plotting.column('CPI').item(0), float)\nTrue",
         "failure_message": "\"❌ The cpi_for_plotting values are not in float format.\"",
         "hidden": false,
         "locked": false,
         "points": 1,
         "success_message": "\"✅ The cpi_for_plotting values are in float format.\"\n"
        }
       ],
       "scored": true,
       "setup": "",
       "teardown": "",
       "type": "doctest"
      }
     ]
    },
    "task_09": {
     "name": "task_09",
     "points": null,
     "suites": [
      {
       "cases": [
        {
         "code": ">>> isinstance(np.array([]), np.ndarray)\nTrue",
         "failure_message": "❌ NumPy has not be imported as np.",
         "hidden": false,
         "locked": false,
         "success_message": "✅ NumPy has been imported as np."
        }
       ],
       "scored": true,
       "setup": "",
       "teardown": "",
       "type": "doctest"
      }
     ]
    },
    "task_10": {
     "name": "task_10",
     "points": null,
     "suites": [
      {
       "cases": [
        {
         "code": ">>> isinstance(cpi_percent_change, Table)\nTrue",
         "failure_message": "\"❌ cpi_percent_change should be a Table.\"",
         "hidden": false,
         "locked": false,
         "success_message": "\"✅ cpi_percent_change is a Table.\"\n"
        },
        {
         "code": ">>> cpi_percent_change.num_rows\n937",
         "failure_message": "\"❌ cpi_percent_change does not have the correct number of rows.\"",
         "hidden": false,
         "locked": false,
         "success_message": "\"✅ cpi_percent_change has the correct number of rows.\"\n"
        },
        {
         "code": ">>> cpi_percent_change.num_columns\n3",
         "failure_message": "\"❌ cpi_percent_change does not have the correct number of columns\"",
         "hidden": false,
         "locked": false,
         "success_message": "\"✅ cpi_percent_change has the correct number of columns.\"\n"
        },
        {
         "code": ">>> cpi_percent_change.labels\n('Date', 'CPI', 'CPI % Change (Monthly)')",
         "failure_message": "\"❌ cpi_percent_change does not have the correct labels.\"",
         "hidden": false,
         "locked": false,
         "success_message": "\"✅ cpi_percent_change has the correct labels.\"\n"
        },
        {
         "code": ">>> isinstance(cpi_percent_change.column('Date').item(0), datetime)\nTrue",
         "failure_message": "\"❌ cpi_percent_change does not have the Date values in datetime format.\"",
         "hidden": false,
         "locked": false,
         "success_message": "\"✅ cpi_percent_change has the Date values in datetime format.\"\n"
        },
        {
         "code": ">>> cpi_percent_change.column('CPI % Change (Monthly)').item(0)\n0.0",
         "failure_message": "\"❌ The first % change is not correct.\"",
         "hidden": false,
         "locked": false,
         "success_message": "\"✅ The first % change is correct.\"\n"
        },
        {
         "code": ">>> np.isclose(cpi_percent_change.column('CPI % Change (Monthly)').item(1), 0.6517690875232801)\nTrue",
         "failure_message": "\"❌ The % change from January to February in 1947 is not correct.\"",
         "hidden": false,
         "locked": false,
         "success_message": "\"✅ The % change from January to February in 1947 is correct.\"\n"
        },
        {
         "code": ">>> np.sum(cpi_percent_change.column('CPI % Change (Monthly)'))\n270.76862523870034",
         "failure_message": "\"❌ cpi_percent_change does not seem correct.\"",
         "hidden": false,
         "locked": false,
         "success_message": "\"✅ cpi_percent_change seems to have the correct .\"\n"
        }
       ],
       "scored": true,
       "setup": "",
       "teardown": "",
       "type": "doctest"
      }
     ]
    }
   }
  }
 },
 "nbformat": 4,
 "nbformat_minor": 5
}
