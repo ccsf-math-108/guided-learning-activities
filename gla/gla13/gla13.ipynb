{
 "cells": [
  {
   "cell_type": "code",
   "execution_count": null,
   "id": "29fbb37a",
   "metadata": {
    "deletable": false,
    "editable": false
   },
   "outputs": [],
   "source": [
    "# Initialize Otter\n",
    "import otter\n",
    "grader = otter.Notebook(\"gla13.ipynb\")"
   ]
  },
  {
   "cell_type": "markdown",
   "id": "692fbc6d-0645-4e75-b205-29989ec616ab",
   "metadata": {},
   "source": [
    "<img src=\"./ccsf.png\" alt=\"CCSF Logo\" width=200px style=\"margin:0px -5px\">"
   ]
  },
  {
   "cell_type": "markdown",
   "id": "c83b268c-d46e-450b-b4af-a2390020878c",
   "metadata": {
    "tags": []
   },
   "source": [
    "# Guided Learning Activity 13: kNN Classification"
   ]
  },
  {
   "cell_type": "markdown",
   "id": "f5c0e5f0-1759-4129-8e2e-8301f1db6953",
   "metadata": {},
   "source": [
    "This Guided Learning Activity is designed for you to complete alongside a Data Ambassador from the course. You might find that it feels like a combination of the lectures and lab assignment. Whether you are participating live or watching the recording of the live meeting, let the Data Ambassador guide you through the following tasks. There will be moments for you to reflect and explore your own ideas as a way to solidify concepts and skills introduced by your instructor. Keep in mind that this is not a graded assignment for MATH 108 by default. If you have any concerns about participation, reach out to your instructor."
   ]
  },
  {
   "cell_type": "markdown",
   "id": "20d80b08-8562-4cc5-aa65-1e0c97ac6985",
   "metadata": {},
   "source": [
    "---"
   ]
  },
  {
   "cell_type": "markdown",
   "id": "eccd253c-ffd2-40f0-98ac-cc06cc8dec20",
   "metadata": {},
   "source": [
    "## Learning Objectives"
   ]
  },
  {
   "cell_type": "markdown",
   "id": "66e18ccd-f8f0-4f7c-a1f9-c872f5ca01af",
   "metadata": {},
   "source": [
    "1. Describe kNN classification\n",
    "2. Outline a procedure for creating and evaluating a kNN classifier\n",
    "3. Build a kNN classifier for a real data set\n",
    "4. Assess the quality of the classifier"
   ]
  },
  {
   "cell_type": "markdown",
   "id": "9a45b759-69b8-4061-b2f8-06483c0e2e92",
   "metadata": {},
   "source": [
    "---"
   ]
  },
  {
   "cell_type": "markdown",
   "id": "0c2302a6-fda0-41de-a349-169954a09cf8",
   "metadata": {},
   "source": [
    "## Configure the Notebook"
   ]
  },
  {
   "cell_type": "markdown",
   "id": "06843add-4d19-4e8d-a8ca-a9bcbee58f31",
   "metadata": {},
   "source": [
    "Run the following code cell to set up the notebook."
   ]
  },
  {
   "cell_type": "code",
   "execution_count": null,
   "id": "253bae4d-e069-42ce-b797-c3cfe5a9fc12",
   "metadata": {},
   "outputs": [],
   "source": [
    "from datascience import *\n",
    "import numpy as np\n",
    "%matplotlib inline\n",
    "import matplotlib.pyplot as plt\n",
    "plt.style.use('fivethirtyeight')"
   ]
  },
  {
   "cell_type": "markdown",
   "id": "5e948050-3ccc-4b92-b3ac-a06885a72567",
   "metadata": {},
   "source": [
    "---"
   ]
  },
  {
   "cell_type": "markdown",
   "id": "9cc3473a-3145-4288-9441-7af599da47a9",
   "metadata": {},
   "source": [
    "## Understanding k-Nearest Neighbors (kNN)"
   ]
  },
  {
   "cell_type": "markdown",
   "id": "0768ab18-070d-487b-96eb-6578f455d5c2",
   "metadata": {},
   "source": [
    "---"
   ]
  },
  {
   "cell_type": "markdown",
   "id": "d37ba072-3b36-403a-937a-f40abc4c5026",
   "metadata": {},
   "source": [
    "### Goal"
   ]
  },
  {
   "cell_type": "markdown",
   "id": "09a031fd-8fd7-4734-8160-80f6d226de70",
   "metadata": {},
   "source": [
    "Use the relationship between numerical data and categorical labels to predict a label using only numerical data"
   ]
  },
  {
   "cell_type": "markdown",
   "id": "4d24ae40-31a5-4f81-b7f5-486c7321aaf0",
   "metadata": {},
   "source": [
    "---"
   ]
  },
  {
   "cell_type": "markdown",
   "id": "081c1501-b8c6-4ba8-812a-5c3441f2f3f5",
   "metadata": {},
   "source": [
    "### How kNN Works"
   ]
  },
  {
   "cell_type": "markdown",
   "id": "2a56604c-3b04-4c10-a24b-ba148f5cca3e",
   "metadata": {},
   "source": [
    "- Predict labels using the majority vote of k nearest known data points\n",
    "- We measure distance using Euclidean distance\n",
    "- The k value is a selected during the training process"
   ]
  },
  {
   "cell_type": "markdown",
   "id": "a94e9cfe-60a1-4a26-a7fa-e22db4f01efa",
   "metadata": {},
   "source": [
    "---"
   ]
  },
  {
   "cell_type": "markdown",
   "id": "98bd0b22-560e-4641-8388-ae6f367f87a3",
   "metadata": {},
   "source": [
    "### What Makes a kNN Classifier?"
   ]
  },
  {
   "cell_type": "markdown",
   "id": "64098b4f-ceee-4b83-b398-16315c455642",
   "metadata": {},
   "source": [
    "A training set + an optimal k value + selected features"
   ]
  },
  {
   "cell_type": "markdown",
   "id": "7dd24b88-e83c-4df7-90dd-3f2adacdb10f",
   "metadata": {},
   "source": [
    "---"
   ]
  },
  {
   "cell_type": "markdown",
   "id": "e5056b98-dd92-42ab-a559-d0c2fcb4f4b9",
   "metadata": {},
   "source": [
    "### Evaluating Quality\n",
    "- A metric: Accuracy -> proportion of correctly labeled points\n",
    "- Data splitting strategy:\n",
    "  - Training set: builds the model\n",
    "  - Validation set: optimizes k value\n",
    "  - Test set: evaluates final performance (used only once)"
   ]
  },
  {
   "cell_type": "markdown",
   "id": "69cfb58c-8190-4626-80ff-4ddf5aa9c935",
   "metadata": {},
   "source": [
    "---"
   ]
  },
  {
   "cell_type": "markdown",
   "id": "f7422d15-a775-440d-a78e-d9f1ad4ff7e3",
   "metadata": {},
   "source": [
    "### Improving Performance"
   ]
  },
  {
   "cell_type": "markdown",
   "id": "8f6ea447-c005-4194-8276-32430f9b85b1",
   "metadata": {},
   "source": [
    "- **Standardization**: Ensures no feature dominates due to scale\n",
    "- **Feature Selection**: Choose non-redundant features that best distinguish between classes"
   ]
  },
  {
   "cell_type": "markdown",
   "id": "96fb46c4-0418-4d86-91e6-5408a6bff889",
   "metadata": {},
   "source": [
    "---"
   ]
  },
  {
   "cell_type": "markdown",
   "id": "f78628eb-0c1b-4eab-96c4-1e1a351e11b0",
   "metadata": {},
   "source": [
    "### Pipeline"
   ]
  },
  {
   "cell_type": "markdown",
   "id": "3bf030b5-cc32-4544-a562-279ff1f67808",
   "metadata": {},
   "source": [
    "The following is a process for how to convert a labeled data set into a kNN classifier ready to make predictions\n",
    "\n",
    "```mermaid\n",
    "flowchart TD\n",
    "    A[\"Raw Data\"] --> B[\"Clean Data\"]\n",
    "\n",
    "    B -->|\"e.g. 80%\"| C[\"(Pre) Training Set\"]\n",
    "    B -->|\"e.g. 20%\"| D[\"Testing Set\"]\n",
    "\n",
    "    C -->|\"e.g. 75%\"| E[\"Training Set\"]\n",
    "    C -->|\"e.g. 25%\"| F[\"Validation Set\"]\n",
    "\n",
    "    E --> G[\"Standardize & Select Features\"]\n",
    "    \n",
    "    subgraph Transform[\"Transform Data\"]\n",
    "        H1[\"Transform Training Set\"]\n",
    "        H2[\"Transform Validation Set\"]\n",
    "        H3[\"Transform Testing Set\"]\n",
    "    end\n",
    "\n",
    "    G --> H1\n",
    "    G --> H2\n",
    "    G --> H3\n",
    "\n",
    "    F --> H2\n",
    "    D --> H3\n",
    "\n",
    "    H1 --> I[\"Evaluate Accuracy for several\\n k values on Validation Set\"]\n",
    "    H2 --> I\n",
    "    I --> J[\"Pick Optimal k\"]\n",
    "\n",
    "    J --> K[\"Evaluate Final Accuracy on Testing Set\"]\n",
    "    H3 --> K\n",
    "\n",
    "```"
   ]
  },
  {
   "cell_type": "markdown",
   "id": "caa8c709-5174-4116-8efb-3024b890a18f",
   "metadata": {},
   "source": [
    "---"
   ]
  },
  {
   "cell_type": "markdown",
   "id": "4261e5aa-558a-4d23-a86f-29dbeb48f33a",
   "metadata": {
    "tags": []
   },
   "source": [
    "### Task 01 📍🔎"
   ]
  },
  {
   "attachments": {},
   "cell_type": "markdown",
   "id": "6383e2f0-b3cd-4985-948f-477207395e47",
   "metadata": {
    "deletable": false,
    "editable": false
   },
   "source": [
    "<!-- BEGIN QUESTION -->\n",
    "\n",
    "Feature selection is an important part of the classification process. The following graphic shows two scatterplots using a [wine quality data set](https://archive.ics.uci.edu/dataset/186/wine+quality) and two different sets of features.\n",
    "\n",
    "<img src=\"./feature_selection_wine.png\" width=800px alt=\"Two scatterplots showing various class seperation based on two different feature selections\">\n",
    "\n",
    "Which feature selection seems more useful for classifying wine based on the provided category labels?"
   ]
  },
  {
   "cell_type": "markdown",
   "id": "1d57c1a3",
   "metadata": {},
   "source": [
    "_Type your answer here, replacing this text._"
   ]
  },
  {
   "cell_type": "markdown",
   "id": "5c975498-3247-445a-bb89-4bc163677089",
   "metadata": {
    "deletable": false,
    "editable": false,
    "slideshow": {
     "slide_type": "fragment"
    }
   },
   "source": [
    "<!-- END QUESTION -->\n",
    "\n",
    "---"
   ]
  },
  {
   "cell_type": "markdown",
   "id": "40330524-0206-49ef-8e9a-891707345ff9",
   "metadata": {},
   "source": [
    "## Detecting Gallstone Disease"
   ]
  },
  {
   "cell_type": "markdown",
   "id": "5136a433-48a9-40b1-b791-05a49835bedb",
   "metadata": {},
   "source": [
    "---"
   ]
  },
  {
   "cell_type": "markdown",
   "id": "ec29e145-fead-449f-bd9c-17ca4860769c",
   "metadata": {},
   "source": [
    "### Gallstone Disease"
   ]
  },
  {
   "cell_type": "markdown",
   "id": "c45ff6ea-cbf8-4a01-8221-91f60c781894",
   "metadata": {},
   "source": [
    "<a href=\"https://en.wikipedia.org/wiki/Gallstone#/media/File:Gallstones.png\" target=\"_blank\"><img src=\"./gallstones.png\" width=400px alt=\"A gallstone blocking a bile duct\"></a>\n",
    "\n",
    "According to [John Hopkins Medicine](https://www.hopkinsmedicine.org/health/conditions-and-diseases/gallstone-disease):\n",
    "\n",
    "> Gallstone disease is the most common disorder affecting the biliary system, the body's system of transporting bile. Gallstones are solid, pebble-like masses that form in the gallbladder or the biliary tract (the ducts leading from the liver to the small intestine). They form when the bile hardens and are caused by an excess of cholesterol, bile salts or bilirubin."
   ]
  },
  {
   "cell_type": "markdown",
   "id": "05a160f2-30dc-403f-a2ef-0101b7c34c93",
   "metadata": {},
   "source": [
    "---"
   ]
  },
  {
   "cell_type": "markdown",
   "id": "82eb92a7-b3ca-420c-855f-b1166d5a88a6",
   "metadata": {},
   "source": [
    "### Research"
   ]
  },
  {
   "cell_type": "markdown",
   "id": "44d2cca0-5082-4fd1-8e70-1f85c66977c6",
   "metadata": {},
   "source": [
    "A recent paper titled [_Early prediction of gallstone disease with a machine learning-based method from bioimpedance and laboratory data_](https://journals.lww.com/md-journal/fulltext/2024/02230/early_prediction_of_gallstone_disease_with_a.40.aspx) showed that vitamin D, C-reactive protein (CRP) level, total body water, and lean mass are crucial features in predicting gallstones."
   ]
  },
  {
   "cell_type": "markdown",
   "id": "cad6a09a-5393-4b07-bedd-2f7ff66f901a",
   "metadata": {},
   "source": [
    "---"
   ]
  },
  {
   "cell_type": "markdown",
   "id": "193ad657-4c43-44ee-b333-b454747874db",
   "metadata": {},
   "source": [
    "### Data"
   ]
  },
  {
   "cell_type": "markdown",
   "id": "1b5de0f2-b246-40f6-ab29-b971b3bb0ce9",
   "metadata": {},
   "source": [
    "The UC Irvine Machine Learning Repository hosts [the dataset from this study](https://archive.ics.uci.edu/dataset/1150/gallstone-1), which contains information on 319 individuals, 161 of whom were diagnosed with gallstone disease."
   ]
  },
  {
   "cell_type": "markdown",
   "id": "a1533aca-b090-4d82-a558-d36ea3c63176",
   "metadata": {},
   "source": [
    "---"
   ]
  },
  {
   "cell_type": "markdown",
   "id": "7f49bacd-25d0-498b-a8fc-0e9a8592a452",
   "metadata": {
    "tags": []
   },
   "source": [
    "### Task 02 📍"
   ]
  },
  {
   "cell_type": "markdown",
   "id": "02db190e-a711-46ab-8a47-8e4491defa9e",
   "metadata": {
    "deletable": false,
    "editable": false
   },
   "source": [
    "The gallstone data is contained within the file `dataset-uci.csv`. Assign `gallstone` to a Table containing that data."
   ]
  },
  {
   "cell_type": "code",
   "execution_count": null,
   "id": "e0f22185-a33a-4def-ad4d-98bc48e7db71",
   "metadata": {
    "tags": []
   },
   "outputs": [],
   "source": [
    "gallstone = ...\n",
    "gallstone"
   ]
  },
  {
   "cell_type": "code",
   "execution_count": null,
   "id": "20c94928",
   "metadata": {
    "deletable": false,
    "editable": false
   },
   "outputs": [],
   "source": [
    "grader.check(\"task_02\")"
   ]
  },
  {
   "cell_type": "markdown",
   "id": "a35aea1c-71f2-49dd-bbcd-6e94e2408e4e",
   "metadata": {
    "editable": true,
    "slideshow": {
     "slide_type": ""
    },
    "tags": []
   },
   "source": [
    "---"
   ]
  },
  {
   "cell_type": "markdown",
   "id": "4fd01def-5f38-4073-9629-5ee729e4b670",
   "metadata": {
    "tags": []
   },
   "source": [
    "### Task 03 📍"
   ]
  },
  {
   "cell_type": "markdown",
   "id": "4706cca3-97c2-4aa1-845c-e951f96e2a80",
   "metadata": {
    "deletable": false,
    "editable": false
   },
   "source": [
    "Split `gallstone` into two Tables. One table called `pre_train` should contain a random selection of 80% of the data in `gallstone`, and the other table called `test` should contain the remaining rows of `gallstone`."
   ]
  },
  {
   "cell_type": "code",
   "execution_count": null,
   "id": "f45b3b2e-d97e-4e5c-a23f-0ca559a1b95d",
   "metadata": {
    "tags": []
   },
   "outputs": [],
   "source": [
    "np.random.seed(123) # Included for reproducibility\n",
    "...\n",
    "display(pre_train)"
   ]
  },
  {
   "cell_type": "code",
   "execution_count": null,
   "id": "177956cd",
   "metadata": {
    "deletable": false,
    "editable": false
   },
   "outputs": [],
   "source": [
    "grader.check(\"task_03\")"
   ]
  },
  {
   "cell_type": "markdown",
   "id": "b3fe7260-7143-42f8-80fe-6b5291e58342",
   "metadata": {},
   "source": [
    "---"
   ]
  },
  {
   "cell_type": "markdown",
   "id": "b55c7356-b292-4d8e-95fd-f4706ae5ac7d",
   "metadata": {
    "tags": []
   },
   "source": [
    "### Task 04 📍🔎"
   ]
  },
  {
   "cell_type": "markdown",
   "id": "a1dc9303-b23e-471f-ac16-57f96c520008",
   "metadata": {
    "deletable": false,
    "editable": false
   },
   "source": [
    "<!-- BEGIN QUESTION -->\n",
    "\n",
    "Next, we'd want to clean the pre-training data by checking for missing values, typos, outliers, etc. To keep this activity focused, visualize the distributions of vitamin D, C-reactive protein level, total body water, and lean mass, and make sure there are no outliers or missing values.\n",
    "\n",
    "**Note**: There is no right way to do this. You are just exploring for any anomalies in the key features outlined by the research paper."
   ]
  },
  {
   "cell_type": "code",
   "execution_count": null,
   "id": "d7b3e24a-6bdc-42ba-a0db-c67fc94a1d2e",
   "metadata": {
    "tags": []
   },
   "outputs": [],
   "source": [
    "key_features = ['Vitamin D', 'C-Reactive Protein (CRP)',\n",
    "                'Total Body Water (TBW)', 'Lean Mass (LM) (%)']\n",
    "..."
   ]
  },
  {
   "cell_type": "markdown",
   "id": "952eb9af-c54f-4ad7-8400-2f9fa9183363",
   "metadata": {
    "deletable": false,
    "editable": false,
    "slideshow": {
     "slide_type": "fragment"
    }
   },
   "source": [
    "<!-- END QUESTION -->\n",
    "\n",
    "---"
   ]
  },
  {
   "cell_type": "markdown",
   "id": "f09c67cb-ac36-4dfb-b73d-f80123e90eba",
   "metadata": {},
   "source": [
    "### Outlier Detection"
   ]
  },
  {
   "cell_type": "markdown",
   "id": "3407695c-0600-4a9a-8b20-080578d0ed75",
   "metadata": {},
   "source": [
    "We've created a function for you that identifies the row indices of a table where the data values in those rows are considered outliers by the standard 1.5 IQR method. Run the following code cell to define that function and test it on an array with two outliers."
   ]
  },
  {
   "cell_type": "code",
   "execution_count": null,
   "id": "21dce329-b264-4fcd-8d89-687c88d98536",
   "metadata": {},
   "outputs": [],
   "source": [
    "def detect_outlier_indices(data):\n",
    "    \"\"\"\n",
    "    Detects outliers in an array using the 1.5 * IQR method.\n",
    "    \n",
    "    Parameters:\n",
    "        data: Input data array\n",
    "        \n",
    "    Returns:\n",
    "        indices (list): List of indices corresponding to outlier values\n",
    "    \"\"\"\n",
    "    q1 = percentile(25, data)\n",
    "    q3 = percentile(75, data)\n",
    "    iqr = q3 - q1\n",
    "\n",
    "    lower_bound = q1 - 1.5 * iqr\n",
    "    upper_bound = q3 + 1.5 * iqr\n",
    "\n",
    "    outlier_indices = np.where((data < lower_bound) | (data > upper_bound))[0]\n",
    "    return outlier_indices.tolist()\n",
    "\n",
    "# Testing the function on an array with 2 outliers\n",
    "detect_outlier_indices(make_array(-20, 1, 2, 3, 4, 50))"
   ]
  },
  {
   "cell_type": "markdown",
   "id": "ae159b6e-ccfc-4128-86c7-5833ce9bfe1b",
   "metadata": {},
   "source": [
    "The function should return a list of 2 numbers that correspond to the fact that `-20` and `50` are outliers (by the 1.5 IQR method) for the given data set."
   ]
  },
  {
   "cell_type": "markdown",
   "id": "2fd59341-abe8-4427-9575-5fbf092804f6",
   "metadata": {},
   "source": [
    "---"
   ]
  },
  {
   "cell_type": "markdown",
   "id": "e9c9f615-d3c4-4106-a27b-10b1ccfb4d4e",
   "metadata": {
    "tags": []
   },
   "source": [
    "### Task 05 📍"
   ]
  },
  {
   "cell_type": "markdown",
   "id": "9d869c89-f496-4b6b-b231-f3b962a2fb92",
   "metadata": {
    "deletable": false,
    "editable": false
   },
   "source": [
    "You should have noticed some potential outliers in two of the features. Use `detect_outlier_indices` to remove the rows of the pre-training data that correspond to those outliers. Assign the resulting table to `clean_pre_train`."
   ]
  },
  {
   "cell_type": "code",
   "execution_count": null,
   "id": "c611807a-f4d6-4ebf-bbb1-3b473d9d4993",
   "metadata": {
    "tags": []
   },
   "outputs": [],
   "source": [
    "clean_pre_train = ...\n",
    "clean_pre_train"
   ]
  },
  {
   "cell_type": "code",
   "execution_count": null,
   "id": "df789253",
   "metadata": {
    "deletable": false,
    "editable": false
   },
   "outputs": [],
   "source": [
    "grader.check(\"task_05\")"
   ]
  },
  {
   "cell_type": "markdown",
   "id": "f4341762-5a5b-40da-89c1-84ae33db22b2",
   "metadata": {
    "editable": true,
    "slideshow": {
     "slide_type": ""
    },
    "tags": []
   },
   "source": [
    "---"
   ]
  },
  {
   "cell_type": "markdown",
   "id": "e6ba6f4d-7689-438c-9193-181ac3b2af6b",
   "metadata": {
    "tags": []
   },
   "source": [
    "### Task 06 📍"
   ]
  },
  {
   "cell_type": "markdown",
   "id": "e685697d-ae4d-4a8e-bd3f-66b65477a169",
   "metadata": {
    "deletable": false,
    "editable": false
   },
   "source": [
    "Further split `clean_pre_train` into two Tables. One table called `train` should contain a random selection of 75% of the data in `clean_pre_train`, and the other table called `validation` should contain the remaining rows of `clean_pre_train`."
   ]
  },
  {
   "cell_type": "code",
   "execution_count": null,
   "id": "6347c283-f80e-45f1-90bc-54bdda7b196b",
   "metadata": {
    "tags": []
   },
   "outputs": [],
   "source": [
    "np.random.seed(1234) # Included for reproducibility\n",
    "...\n",
    "display(train)"
   ]
  },
  {
   "cell_type": "code",
   "execution_count": null,
   "id": "f17e0d5d",
   "metadata": {
    "deletable": false,
    "editable": false
   },
   "outputs": [],
   "source": [
    "grader.check(\"task_06\")"
   ]
  },
  {
   "cell_type": "markdown",
   "id": "dc57842d-67fd-4997-a619-21cdd7793c29",
   "metadata": {},
   "source": [
    "---"
   ]
  },
  {
   "cell_type": "markdown",
   "id": "add34b28-8216-41aa-a539-49daf505129e",
   "metadata": {
    "tags": []
   },
   "source": [
    "### Task 07 📍"
   ]
  },
  {
   "cell_type": "markdown",
   "id": "a77eebda-7fdc-4dcc-b148-5f24b526a47c",
   "metadata": {
    "deletable": false,
    "editable": false
   },
   "source": [
    "Next, you need to standardize the data in the 3 data sets based on the values in the training set. We've set up the code to standardize the key features from the data and then transform the train, test, and validation tables by selecting only the standardized features and the Gallstone Status label. You just need to get the average and standard deviation!"
   ]
  },
  {
   "cell_type": "code",
   "execution_count": null,
   "id": "930deac4-0bcc-4e48-a88d-3d501c262bad",
   "metadata": {
    "tags": []
   },
   "outputs": [],
   "source": [
    "for feature in key_features:\n",
    "    mean_value_train = ...\n",
    "    SD_value_train = ...\n",
    "\n",
    "    for tbl_name, tbl in [('train', train), ('validation', validation), ('test', test)]:\n",
    "        transformed_feature_values = (tbl.column(feature) - mean_value_train) / SD_value_train\n",
    "        new_column_name = feature + '_standardized'\n",
    "        tbl = tbl.with_column(new_column_name, transformed_feature_values)\n",
    "\n",
    "        if tbl_name == 'train':\n",
    "            train = tbl\n",
    "        elif tbl_name == 'validation':\n",
    "            validation = tbl\n",
    "        else:\n",
    "            test = tbl\n",
    "\n",
    "# Transform train, validation, and test sets\n",
    "standardized_features = ['Gallstone Status', 'Vitamin D_standardized', \n",
    "                         'C-Reactive Protein (CRP)_standardized', 'Total Body Water (TBW)_standardized',\n",
    "                         'Lean Mass (LM) (%)_standardized']\n",
    "\n",
    "train = train.select(standardized_features)\n",
    "validation = validation.select(standardized_features)\n",
    "test = test.select(standardized_features)\n",
    "display(train_transformed)"
   ]
  },
  {
   "cell_type": "code",
   "execution_count": null,
   "id": "a96275ff",
   "metadata": {
    "deletable": false,
    "editable": false
   },
   "outputs": [],
   "source": [
    "grader.check(\"task_07\")"
   ]
  },
  {
   "cell_type": "markdown",
   "id": "c288855a-dcf9-4cb6-b51a-9c72f543b073",
   "metadata": {
    "editable": true,
    "slideshow": {
     "slide_type": ""
    },
    "tags": []
   },
   "source": [
    "---"
   ]
  },
  {
   "cell_type": "markdown",
   "id": "7dc03b62-0c5f-426a-88b4-0959321a3c96",
   "metadata": {
    "tags": []
   },
   "source": [
    "### Task 08 📍"
   ]
  },
  {
   "cell_type": "markdown",
   "id": "b429a6c5-7793-4f44-b000-7cfd9dc3e81e",
   "metadata": {
    "deletable": false,
    "editable": false
   },
   "source": [
    "Complete the following functions created in [the MATH 108 textbook](https://ccsf-math-108.github.io/textbook) that were used to build a kNN classifier function called `classify`."
   ]
  },
  {
   "cell_type": "code",
   "execution_count": null,
   "id": "17b84cea-1f2f-43c0-8898-3efbe55da0d0",
   "metadata": {
    "tags": []
   },
   "outputs": [],
   "source": [
    "def distance(point1, point2):\n",
    "    \"\"\"Returns the distance between point1 and point2\n",
    "    where each argument is an array \n",
    "    consisting of the coordinates of the point\"\"\"\n",
    "    return ...\n",
    "\n",
    "def all_distances(training, new_point):\n",
    "    \"\"\"Returns an array of distances\n",
    "    between each point in the training set\n",
    "    and the new point (which is a row of attributes)\"\"\"\n",
    "    attributes = training.drop(...)\n",
    "    def distance_from_point(row):\n",
    "        return distance(np.array(new_point), np.array(row))\n",
    "    return attributes.apply(distance_from_point)\n",
    "\n",
    "def table_with_distances(training, new_point):\n",
    "    \"\"\"Augments the training table \n",
    "    with a column of distances from new_point\"\"\"\n",
    "    return training.with_column('Distance', all_distances(training, new_point))\n",
    "\n",
    "def closest(training, new_point, k):\n",
    "    \"\"\"Returns a table of the k rows of the augmented table\n",
    "    corresponding to the k smallest distances\"\"\"\n",
    "    with_dists = table_with_distances(training, new_point)\n",
    "    sorted_by_distance = ...\n",
    "    topk = ...\n",
    "    return topk\n",
    "\n",
    "def majority(topkclasses):\n",
    "    ones = topkclasses.where(..., are.equal_to(1)).num_rows\n",
    "    zeros = topkclasses.where(..., are.equal_to(0)).num_rows\n",
    "    if ones > zeros:\n",
    "        return 1\n",
    "    else:\n",
    "        return 0\n",
    "\n",
    "def classify(training, new_point, k):\n",
    "    closestk = ...\n",
    "    topkclasses = ...\n",
    "    return ..."
   ]
  },
  {
   "cell_type": "code",
   "execution_count": null,
   "id": "bb90bacb",
   "metadata": {
    "deletable": false,
    "editable": false
   },
   "outputs": [],
   "source": [
    "grader.check(\"task_08\")"
   ]
  },
  {
   "cell_type": "markdown",
   "id": "bf364ddc-bf68-44d7-86a3-2a6932047e85",
   "metadata": {
    "editable": true,
    "slideshow": {
     "slide_type": ""
    },
    "tags": []
   },
   "source": [
    "---"
   ]
  },
  {
   "cell_type": "markdown",
   "id": "95046a04-3899-4be3-bd03-fe4328f59589",
   "metadata": {
    "tags": []
   },
   "source": [
    "### Task 09 📍"
   ]
  },
  {
   "cell_type": "markdown",
   "id": "18a4ffe3-7a37-40a5-a134-252e8fa66080",
   "metadata": {
    "deletable": false,
    "editable": false
   },
   "source": [
    "Complete the following functions created in [the MATH 108 textbook](https://ccsf-math-108.github.io/textbook) that were used to define a function called `evaluate_accuracy` that is used to evaluate the accuracy of `classify` based on a training set and a test/validation set."
   ]
  },
  {
   "cell_type": "code",
   "execution_count": null,
   "id": "fe65e1f8-21d3-426d-affd-fd13b43bcfec",
   "metadata": {
    "tags": []
   },
   "outputs": [],
   "source": [
    "def count_zero(array):\n",
    "    \"\"\"Counts the number of 0's in an array\"\"\"\n",
    "    return len(array) - np.count_nonzero(array)\n",
    "\n",
    "def count_equal(array1, array2):\n",
    "    \"\"\"Takes two numerical arrays of equal length\n",
    "    and counts the indices where the two are equal\"\"\"\n",
    "    return ...\n",
    "\n",
    "def evaluate_accuracy(training, testing, k):\n",
    "    test_attributes = testing.drop('Gallstone Status')\n",
    "    def classify_testrow(row):\n",
    "        return classify(training, row, k)\n",
    "    c = test_attributes.apply(classify_testrow)\n",
    "    return ..."
   ]
  },
  {
   "cell_type": "code",
   "execution_count": null,
   "id": "626e0776",
   "metadata": {
    "deletable": false,
    "editable": false
   },
   "outputs": [],
   "source": [
    "grader.check(\"task_09\")"
   ]
  },
  {
   "cell_type": "markdown",
   "id": "2ef36866-fb21-40c6-b567-44546dabed85",
   "metadata": {
    "editable": true,
    "slideshow": {
     "slide_type": ""
    },
    "tags": []
   },
   "source": [
    "---"
   ]
  },
  {
   "cell_type": "markdown",
   "id": "94c0d052-657a-4234-a23c-0c3120f81ce8",
   "metadata": {
    "tags": []
   },
   "source": [
    "### Task 10 📍🔎"
   ]
  },
  {
   "cell_type": "markdown",
   "id": "5b8f8646-4ab8-47fa-b192-d93ed50c427e",
   "metadata": {
    "deletable": false,
    "editable": false
   },
   "source": [
    "<!-- BEGIN QUESTION -->\n",
    "\n",
    "Using the transformed training and validation sets and several values of `k`, create a visual showing the accuracy values for each `k`. Which `k` value seems optimal to use?"
   ]
  },
  {
   "cell_type": "markdown",
   "id": "4c531edb",
   "metadata": {},
   "source": [
    "_Type your answer here, replacing this text._"
   ]
  },
  {
   "cell_type": "code",
   "execution_count": null,
   "id": "9e1d3716-a9e2-4050-a3e1-87d668900f66",
   "metadata": {
    "tags": []
   },
   "outputs": [],
   "source": [
    "accuracy_array = make_array()\n",
    "ks = [3, 5, 7, 9, 11, 13, 15, 17, 19, 21]\n",
    "for k in ks:\n",
    "    accuracy_array = ...\n",
    "\n",
    "Table().with_columns(\n",
    "    'k', ks,\n",
    "    'Accuracy', accuracy_array)"
   ]
  },
  {
   "cell_type": "markdown",
   "id": "b3c088d9-af34-4ecd-95be-c5cb9a305576",
   "metadata": {
    "deletable": false,
    "editable": false,
    "slideshow": {
     "slide_type": "fragment"
    }
   },
   "source": [
    "<!-- END QUESTION -->\n",
    "\n",
    "---"
   ]
  },
  {
   "cell_type": "markdown",
   "id": "cf296867-5526-4ec0-9be4-50c9f163caf0",
   "metadata": {
    "tags": []
   },
   "source": [
    "### Task 11 📍"
   ]
  },
  {
   "cell_type": "markdown",
   "id": "b94a3e76-d9fa-46d1-8926-d890931dac91",
   "metadata": {
    "deletable": false,
    "editable": false
   },
   "source": [
    "Now that you've fine-tuned your kNN classifier by picking out an optional value of `k`, calculate the accuracy of the classifier using the test set. Assign that value to `classifier_accuracy`."
   ]
  },
  {
   "cell_type": "code",
   "execution_count": null,
   "id": "afb42cbd-4d48-4322-b474-0dc8516f02cf",
   "metadata": {
    "tags": []
   },
   "outputs": [],
   "source": [
    "classifier_accuracy = ...\n",
    "classifier_accuracy"
   ]
  },
  {
   "cell_type": "code",
   "execution_count": null,
   "id": "865b451d",
   "metadata": {
    "deletable": false,
    "editable": false
   },
   "outputs": [],
   "source": [
    "grader.check(\"task_11\")"
   ]
  },
  {
   "cell_type": "markdown",
   "id": "f1a55e42-6291-41a1-a7e2-428e9de09d9b",
   "metadata": {
    "editable": true,
    "slideshow": {
     "slide_type": ""
    },
    "tags": []
   },
   "source": [
    "---"
   ]
  },
  {
   "cell_type": "markdown",
   "id": "2dfbce75-ed12-4d01-816c-6a297b53fb15",
   "metadata": {
    "tags": []
   },
   "source": [
    "### Task 12 📍🔎"
   ]
  },
  {
   "cell_type": "markdown",
   "id": "e5d42853-b58d-4454-9ab2-ca85dfd1aeb4",
   "metadata": {
    "deletable": false,
    "editable": false
   },
   "source": [
    "<!-- BEGIN QUESTION -->\n",
    "\n",
    "If you evaluate the accuracy with the test set based on `k=5`, you'll actually find the accuracy is higher! Why is it bad to change your classifier to use `k=5`?"
   ]
  },
  {
   "cell_type": "markdown",
   "id": "ca6ff4cc",
   "metadata": {},
   "source": [
    "_Type your answer here, replacing this text._"
   ]
  },
  {
   "cell_type": "markdown",
   "id": "7413595b-e18a-456e-a867-061bbd8c171b",
   "metadata": {
    "deletable": false,
    "editable": false,
    "slideshow": {
     "slide_type": "fragment"
    }
   },
   "source": [
    "<!-- END QUESTION -->\n",
    "\n",
    "---"
   ]
  },
  {
   "cell_type": "markdown",
   "id": "c11c8fb1-554c-4ce0-b48b-78b84fe7404f",
   "metadata": {},
   "source": [
    "## Reflection"
   ]
  },
  {
   "cell_type": "markdown",
   "id": "8bb442e3-93ec-4e95-b913-ae40f3d100ff",
   "metadata": {},
   "source": [
    "In this activity, you reviewed the main ideas behind kNN classification, including a workflow for building a classifier. Additionally, you built a kNN classifier and applied it to a data set on gallstone disease detection. Finally, you evaluated the accuracy of the classifier and reflected on how to handle the test set."
   ]
  },
  {
   "cell_type": "markdown",
   "id": "6f1a1575-d1cc-4e5b-9e36-6d2fce3c3b00",
   "metadata": {
    "editable": true,
    "slideshow": {
     "slide_type": ""
    },
    "tags": []
   },
   "source": [
    "---"
   ]
  },
  {
   "cell_type": "markdown",
   "id": "830cd3aa-7268-4b8d-9de1-b8291a77d457",
   "metadata": {
    "editable": true,
    "slideshow": {
     "slide_type": "notes"
    },
    "tags": []
   },
   "source": [
    "## License"
   ]
  },
  {
   "cell_type": "markdown",
   "id": "55e19cd7-8808-4101-a381-c0897b12ce07",
   "metadata": {
    "editable": true,
    "slideshow": {
     "slide_type": ""
    },
    "tags": []
   },
   "source": [
    "This content is licensed under the <a href=\"https://creativecommons.org/licenses/by-nc-sa/4.0/\">Creative Commons Attribution-NonCommercial-ShareAlike 4.0 International License (CC BY-NC-SA 4.0)</a>.\n",
    "\n",
    "<img src=\"./by-nc-sa.png\" width=100px>"
   ]
  }
 ],
 "metadata": {
  "kernelspec": {
   "display_name": "Python 3 (ipykernel)",
   "language": "python",
   "name": "python3"
  },
  "language_info": {
   "codemirror_mode": {
    "name": "ipython",
    "version": 3
   },
   "file_extension": ".py",
   "mimetype": "text/x-python",
   "name": "python",
   "nbconvert_exporter": "python",
   "pygments_lexer": "ipython3",
   "version": "3.11.9"
  },
  "otter": {
   "OK_FORMAT": true,
   "assignment_name": "gla13_sp25",
   "tests": {
    "task_02": {
     "name": "task_02",
     "points": null,
     "suites": [
      {
       "cases": [
        {
         "code": ">>> isinstance(gallstone, Table)\nTrue",
         "failure_message": "\"❌ gallstone is not assigned to a Table.\"",
         "hidden": false,
         "locked": false,
         "success_message": "\"✅ gallstone is assigned to a Table.\"\n"
        },
        {
         "code": ">>> gallstone\nGallstone Status | Age  | Gender | Comorbidity | Coronary Artery Disease (CAD) | Hypothyroidism | Hyperlipidemia | Diabetes Mellitus (DM) | Height | Weight | Body Mass Index (BMI) | Total Body Water (TBW) | Extracellular Water (ECW) | Intracellular Water (ICW) | Extracellular Fluid/Total Body Water (ECF/TBW) | Total Body Fat Ratio (TBFR) (%) | Lean Mass (LM) (%) | Body Protein Content (Protein) (%) | Visceral Fat Rating (VFR) | Bone Mass (BM) | Muscle Mass (MM) | Obesity (%) | Total Fat Content (TFC) | Visceral Fat Area (VFA) | Visceral Muscle Area (VMA) (Kg) | Hepatic Fat Accumulation (HFA) | Glucose | Total Cholesterol (TC) | Low Density Lipoprotein (LDL) | High Density Lipoprotein (HDL) | Triglyceride | Aspartat Aminotransferaz (AST) | Alanin Aminotransferaz (ALT) | Alkaline Phosphatase (ALP) | Creatinine | Glomerular Filtration Rate (GFR) | C-Reactive Protein (CRP) | Hemoglobin (HGB) | Vitamin D\n0                | 50   | 0      | 0           | 0                             | 0              | 0              | 0                      | 185    | 92.8   | 27.1                  | 52.9                   | 21.2                      | 31.7                      | 40                                             | 19.2                            | 80.84              | 18.88                              | 9                         | 3.7            | 71.4             | 23.4        | 17.8                    | 10.6                    | 39.7                            | 0                              | 102     | 250                    | 175                           | 40                             | 134          | 20                             | 22                           | 87                         | 0.82       | 112.47                           | 0                        | 16               | 33\n0                | 47   | 0      | 1           | 0                             | 0              | 0              | 0                      | 176    | 94.5   | 30.5                  | 43.1                   | 19.5                      | 23.6                      | 45                                             | 32.8                            | 67.2               | 16.68                              | 15                        | 3.2            | 60.3             | 38.8        | 31                      | 18.4                    | 32.7                            | 0                              | 94      | 172                    | 108                           | 43                             | 103          | 14                             | 13                           | 46                         | 0.87       | 107.1                            | 0                        | 14.4             | 25\n0                | 61   | 0      | 0           | 0                             | 0              | 0              | 0                      | 171    | 91.1   | 31.2                  | 47.2                   | 20.1                      | 27.1                      | 43                                             | 27.3                            | 72.67              | 16.35                              | 15                        | 3.3            | 62.9             | 41.7        | 24.9                    | 16.2                    | 34                              | 0                              | 103     | 179                    | 124                           | 43                             | 69           | 18                             | 14                           | 66                         | 1.25       | 65.51                            | 0                        | 16.2             | 30.2\n0                | 41   | 0      | 0           | 0                             | 0              | 0              | 0                      | 168    | 67.7   | 24                    | 41.4                   | 17                        | 24.4                      | 41                                             | 15.8                            | 84.19              | 16.9                               | 6                         | 2.9            | 54.1             | 9           | 10.7                    | 6.5                     | 29.2                            | 1                              | 69      | 173                    | 73                            | 59                             | 53           | 20                             | 12                           | 34                         | 1.02       | 94.1                             | 0                        | 15.4             | 35.4\n0                | 42   | 0      | 0           | 0                             | 0              | 0              | 0                      | 178    | 89.6   | 28.3                  | 51.4                   | 20                        | 31.4                      | 39                                             | 20                              | 80.02              | 16.81                              | 8                         | 3.5            | 68.2             | 28.6        | 17.9                    | 10.4                    | 37.4                            | 2                              | 109     | 205                    | 154                           | 30                             | 326          | 27                             | 54                           | 71                         | 0.82       | 112.47                           | 0                        | 16.8             | 40.6\n0                | 96   | 0      | 0           | 0                             | 0              | 0              | 0                      | 155    | 49     | 20.4                  | 34                     | 15.7                      | 18.3                      | 46                                             | 6.3                             | 93.67              | 18.48                              | 12                        | 2.4            | 43.5             | 7.4         | 3.1                     | 0.9                     | 25.9                            | 0                              | 74      | 133                    | 91                            | 30                             | 65           | 13                             | 13                           | 60                         | 1.46       | 43.74                            | 0                        | 11               | 45.8\n0                | 37   | 0      | 0           | 0                             | 0              | 0              | 0                      | 185    | 67.1   | 19.6                  | 41.8                   | 17.1                      | 24.7                      | 41                                             | 11.3                            | 88.67              | 19.9                               | 3                         | 3              | 56.5             | 10.9        | 7.6                     | 4.6                     | 31.4                            | 0                              | 94      | 166                    | 111                           | 40                             | 60           | 15                             | 14                           | 72                         | 0.77       | 118.25                           | 0                        | 13.8             | 20\n0                | 41   | 0      | 0           | 0                             | 0              | 0              | 0                      | 176    | 114    | 36.8                  | 57.6                   | 23.5                      | 34.1                      | 41                                             | 31.8                            | 68.16              | 12.66                              | 16                        | 3.8            | 73.9             | 67.4        | 36.3                    | 23.7                    | 37.5                            | 3                              | 125     | 246                    | 103.6                         | 34                             | 464          | 26                             | 28                           | 69                         | 1.3        | 73.73                            | 0.11                     | 16.5             | 24.5\n0                | 38   | 0      | 0           | 0                             | 0              | 0              | 0                      | 186    | 93.7   | 27.1                  | 51.9                   | 20.9                      | 31                        | 40                                             | 21.5                            | 78.55              | 17.42                              | 8                         | 3.6            | 70               | 23.1        | 20.1                    | 12.7                    | 37.8                            | 2                              | 93      | 290                    | 122                           | 33                             | 679          | 68                             | 102                          | 70                         | 0.91       | 110.63                           | 1.57                     | 16.5             | 22.7\n0                | 38   | 0      | 0           | 0                             | 0              | 0              | 0                      | 171    | 68.6   | 23.5                  | 39.5                   | 16.6                      | 22.9                      | 42                                             | 19.2                            | 80.76              | 17.28                              | 6                         | 2.8            | 52.6             | 6.7         | 13.2                    | 8.2                     | 28.8                            | 0                              | 93      | 239                    | 169                           | 43                             | 129          | 19                             | 34                           | 75                         | 0.91       | 110.63                           | 0                        | 16.6             | 15.6\n... (309 rows omitted)",
         "failure_message": "\"❌ gallstone does not seem correct.\"",
         "hidden": false,
         "locked": false,
         "success_message": "\"✅ gallstone seems correct.\"\n"
        }
       ],
       "scored": true,
       "setup": "",
       "teardown": "",
       "type": "doctest"
      }
     ]
    },
    "task_03": {
     "name": "task_03",
     "points": null,
     "suites": [
      {
       "cases": [
        {
         "code": ">>> isinstance(pre_train, Table)\nTrue",
         "failure_message": "\"❌ pre_train is not assigned to a Table.\"",
         "hidden": false,
         "locked": false,
         "points": 1,
         "success_message": "\"✅ pre_train is assigned to a Table.\"\n"
        },
        {
         "code": ">>> isinstance(test, Table)\nTrue",
         "failure_message": "\"❌ test is not assigned to a Table.\"",
         "hidden": false,
         "locked": false,
         "points": 1,
         "success_message": "\"✅ test is assigned to a Table.\"\n"
        },
        {
         "code": ">>> pre_train.num_rows\n255",
         "failure_message": "\"❌ pre-train does not have the correct number of rows.\"",
         "hidden": false,
         "locked": false,
         "points": 1,
         "success_message": "\"✅ pre-train has the correct number of rows.\"\n"
        },
        {
         "code": ">>> test.num_rows\n64",
         "failure_message": "\"❌ test does not have the correct number of rows.\"",
         "hidden": false,
         "locked": false,
         "points": 1,
         "success_message": "\"✅ test has the correct number of rows.\"\n"
        },
        {
         "code": ">>> pre_train\nGallstone Status | Age  | Gender | Comorbidity | Coronary Artery Disease (CAD) | Hypothyroidism | Hyperlipidemia | Diabetes Mellitus (DM) | Height | Weight | Body Mass Index (BMI) | Total Body Water (TBW) | Extracellular Water (ECW) | Intracellular Water (ICW) | Extracellular Fluid/Total Body Water (ECF/TBW) | Total Body Fat Ratio (TBFR) (%) | Lean Mass (LM) (%) | Body Protein Content (Protein) (%) | Visceral Fat Rating (VFR) | Bone Mass (BM) | Muscle Mass (MM) | Obesity (%) | Total Fat Content (TFC) | Visceral Fat Area (VFA) | Visceral Muscle Area (VMA) (Kg) | Hepatic Fat Accumulation (HFA) | Glucose | Total Cholesterol (TC) | Low Density Lipoprotein (LDL) | High Density Lipoprotein (HDL) | Triglyceride | Aspartat Aminotransferaz (AST) | Alanin Aminotransferaz (ALT) | Alkaline Phosphatase (ALP) | Creatinine | Glomerular Filtration Rate (GFR) | C-Reactive Protein (CRP) | Hemoglobin (HGB) | Vitamin D\n0                | 50   | 0      | 1           | 0                             | 0              | 0              | 1                      | 178    | 110.7  | 34.9                  | 53.9                   | 22.7                      | 31.2                      | 42                                             | 31.9                            | 68.11              | 15.2                               | 17                        | 3.7            | 71.7             | 58.8        | 35.3                    | 23                      | 37.2                            | 2                              | 374     | 225                    | 128                           | 33                             | 692          | 24                             | 24                           | 97                         | 0.83       | 107.28                           | 0.1                      | 17.9             | 11.1\n0                | 43   | 0      | 0           | 0                             | 0              | 0              | 0                      | 168    | 73.4   | 26                    | 45.5                   | 18.1                      | 27.4                      | 40                                             | 15.4                            | 84.6               | 16.44                              | 6                         | 3.1            | 59               | 18.2        | 11.3                    | 6.6                     | 31.9                            | 0                              | 92      | 259                    | 115                           | 50                             | 206          | 16                             | 30                           | 103                        | 0.84       | 110.97                           | 0                        | 16.6             | 22.4\n0                | 49   | 1      | 1           | 0                             | 1              | 0              | 0                      | 158    | 92.5   | 37.1                  | 38.1                   | 18                        | 20.1                      | 47                                             | 42.2                            | 57.84              | 12.43                              | 11                        | 2.7            | 50.8             | 68.5        | 39                      | 17.3                    | 29.8                            | 1                              | 92      | 208                    | 129                           | 57                             | 82           | 18                             | 18                           | 92                         | 0.63       | 109.77                           | 0.78                     | 10.7             | 21.8\n0                | 47   | 1      | 1           | 0                             | 0              | 0              | 0                      | 169    | 79     | 27.7                  | 35.7                   | 16.3                      | 19.4                      | 46                                             | 36.6                            | 63.42              | 13.6                               | 7                         | 2.5            | 47.6             | 25.8        | 28.9                    | 14.5                    | 27.5                            | 1                              | 83      | 172                    | 100                           | 54                             | 116          | 9                              | 8                            | 119                        | 0.6        | 11.34                            | 0.31                     | 14               | 10.9667\n1                | 35   | 1      | 0           | 0                             | 0              | 0              | 0                      | 165    | 97.7   | 35.9                  | 37.5                   | 15                        | 23                        | 40                                             | 45.04                           | 54.96              | 12.57                              | 10                        | 2.2            | 51               | 52.7        | 44                      | 23.1                    | 29.8                            | 2                              | 85      | 187                    | 102                           | 77                             | 73           | 11                             | 8                            | 71                         | 0.57       | 121.4                            | 21.4                     | 12.6             | 31.5\n0                | 55   | 0      | 0           | 0                             | 0              | 0              | 0                      | 176    | 90.7   | 29.3                  | 48.9                   | 20.3                      | 28.6                      | 42                                             | 23.9                            | 76.07              | 17.44                              | 12                        | 3.4            | 65.6             | 33.2        | 21.7                    | 13.2                    | 36.6                            | 2                              | 176     | 172                    | 98                            | 30                             | 330          | 29                             | 57                           | 64                         | 0.81       | 105.43                           | 0.23                     | 14.3             | 33.8\n1                | 51   | 0      | 1           | 0                             | 0              | 0              | 1                      | 165    | 68.2   | 25.1                  | 39.7                   | 16.9                      | 22.8                      | 43                                             | 19.1                            | 80.94              | 17.1                               | 9                         | 2.8            | 52.4             | 13.9        | 13                      | 8                       | 32.5568                         | 0                              | 168     | 143                    | 94                            | 32                             | 91           | 14                             | 14                           | 86                         | 0.73       | 89.0013                          | 1.25                     | 13.9             | 35.4\n0                | 48   | 0      | 0           | 0                             | 0              | 0              | 0                      | 168    | 86.8   | 30.8                  | 44.4                   | 19                        | 25.4                      | 43                                             | 28.1                            | 71.89              | 15.49                              | 13                        | 3.1            | 59.3             | 39.8        | 24.4                    | 14.5                    | 32.3                            | 0                              | 91      | 206                    | 152                           | 38                             | 115          | 20                             | 26                           | 73                         | 1.03       | 89.6                             | 0                        | 15.9             | 24\n1                | 40   | 0      | 1           | 0                             | 0              | 0              | 1                      | 182    | 110.6  | 33.4                  | 51.8                   | 22.3                      | 29.5                      | 43                                             | 32.8                            | 67.18              | 15.4                               | 15                        | 3.7            | 74.3             | 51.7        | 36.3                    | 21.8                    | 31.9838                         | 2                              | 91      | 180                    | 122                           | 42                             | 145          | 17                             | 36                           | 49                         | 0.86       | 97.924                           | 3.7                      | 15.7             | 13\n1                | 57   | 0      | 1           | 0                             | 0              | 0              | 1                      | 168    | 93.4   | 33.1                  | 48.7                   | 20                        | 29                        | 41.06                                          | 27.09                           | 72.81              | 16.15                              | 15                        | 3.4            | 64.7             | 29.76       | 25.3                    | 14.96                   | 34.8                            | 2                              | 128     | 88                     | 40                            | 44                             | 55           | 18                             | 36                           | 73                         | 0.61       | 11                               | 2                        | 16               | 20.2\n... (245 rows omitted)",
         "failure_message": "\"❌ pre_train does not seem correct based on this random seed value.\"",
         "hidden": false,
         "locked": false,
         "points": 1,
         "success_message": "\"✅ pre_train seems correct based on this random seed value.\"\n"
        },
        {
         "code": ">>> test\nGallstone Status | Age  | Gender | Comorbidity | Coronary Artery Disease (CAD) | Hypothyroidism | Hyperlipidemia | Diabetes Mellitus (DM) | Height | Weight | Body Mass Index (BMI) | Total Body Water (TBW) | Extracellular Water (ECW) | Intracellular Water (ICW) | Extracellular Fluid/Total Body Water (ECF/TBW) | Total Body Fat Ratio (TBFR) (%) | Lean Mass (LM) (%) | Body Protein Content (Protein) (%) | Visceral Fat Rating (VFR) | Bone Mass (BM) | Muscle Mass (MM) | Obesity (%) | Total Fat Content (TFC) | Visceral Fat Area (VFA) | Visceral Muscle Area (VMA) (Kg) | Hepatic Fat Accumulation (HFA) | Glucose | Total Cholesterol (TC) | Low Density Lipoprotein (LDL) | High Density Lipoprotein (HDL) | Triglyceride | Aspartat Aminotransferaz (AST) | Alanin Aminotransferaz (ALT) | Alkaline Phosphatase (ALP) | Creatinine | Glomerular Filtration Rate (GFR) | C-Reactive Protein (CRP) | Hemoglobin (HGB) | Vitamin D\n1                | 54   | 1      | 0           | 0                             | 0              | 0              | 0                      | 155    | 80.2   | 33.4                  | 32.8                   | 15                        | 18                        | 45.73                                          | 46.13                           | 53.87              | 9.63                               | 12                        | 2.2            | 41               | 36.23       | 37                      | 19.78                   | 23.7                            | 2                              | 111     | 138                    | 93                            | 31                             | 104          | 37                             | 40                           | 39                         | 0.89       | 77                               | 6.5                      | 14.2             | 10.4\n0                | 32   | 0      | 0           | 0                             | 0              | 0              | 0                      | 170    | 64.3   | 22.2                  | 39.8                   | 16.5                      | 23.3                      | 41                                             | 15.3                            | 84.76              | 16.67                              | 4                         | 2.7            | 51.8             | 1.1         | 9.8                     | 5.9                     | 27.6                            | 1                              | 91      | 185                    | 125                           | 35                             | 165          | 23                             | 22                           | 69                         | 0.67       | 127.22                           | 0.5                      | 16               | 22.925\n0                | 57   | 1      | 1           | 0                             | 1              | 0              | 1                      | 158    | 79.8   | 32                    | 34.1                   | 16.1                      | 18                        | 47                                             | 39.6                            | 60.4               | 13.92                              | 10                        | 2.4            | 45.8             | 45.4        | 31.6                    | 14.7                    | 26.3                            | 2                              | 168     | 272                    | 179                           | 57                             | 302          | 35                             | 27                           | 80                         | 0.71       | 98.5                             | 0.54                     | 12               | 24.6\n0                | 53   | 1      | 0           | 0                             | 0              | 0              | 0                      | 160    | 78.4   | 30.6                  | 33.9                   | 15.9                      | 18                        | 47                                             | 39                              | 60.97              | 13.95                              | 9                         | 2.4            | 45.4             | 39.3        | 30.6                    | 14.5                    | 26.2                            | 0                              | 119     | 211                    | 139                           | 50                             | 117          | 21                             | 32                           | 131                        | 0.7        | 103.99                           | 0                        | 15               | 7.8\n0                | 52   | 0      | 0           | 0                             | 0              | 0              | 0                      | 172    | 96.7   | 32.7                  | 50.7                   | 20.8                      | 29.9                      | 41                                             | 27.3                            | 72.7               | 15.76                              | 14                        | 3.5            | 66.8             | 48.5        | 26.4                    | 15.8                    | 36.4                            | 2                              | 107     | 174                    | 110                           | 33                             | 245          | 44                             | 54                           | 76                         | 0.81       | 106.09                           | 0                        | 15.2             | 23.9\n0                | 41   | 0      | 0           | 0                             | 0              | 0              | 0                      | 168    | 67.7   | 24                    | 41.4                   | 17                        | 24.4                      | 41                                             | 15.8                            | 84.19              | 16.9                               | 6                         | 2.9            | 54.1             | 9           | 10.7                    | 6.5                     | 29.2                            | 1                              | 69      | 173                    | 73                            | 59                             | 53           | 20                             | 12                           | 34                         | 1.02       | 94.1                             | 0                        | 15.4             | 35.4\n0                | 38   | 1      | 1           | 0                             | 0              | 0              | 1                      | 157    | 54.8   | 22.2                  | 29.3                   | 12.3                      | 17                        | 42                                             | 25.4                            | 74.64              | 15.72                              | 3                         | 2.1            | 38.8             | 1.1         | 13.9                    | 5.5                     | 22.7                            | 1                              | 92      | 259                    | 204                           | 37                             | 135          | 12                             | 14                           | 47                         | 0.96       | 113.2                            | 0                        | 14.1             | 32\n1                | 59   | 1      | 1           | 0                             | 0              | 0              | 0                      | 150    | 53.6   | 23.8                  | 27                     | 12.2                      | 14.8                      | 45                                             | 28.7                            | 71.27              | 16.48                              | 6                         | 2              | 36.2             | 8.3         | 15.4                    | 6.4                     | 21                              | 0                              | 91      | 240                    | 150                           | 73                             | 95           | 14                             | 13                           | 79                         | 0.65       | 101.3                            | 1.9                      | 13.6             | 8.7\n0                | 24   | 0      | 0           | 0                             | 0              | 0              | 0                      | 174    | 68.4   | 22.6                  | 41.8                   | 16.8                      | 25                        | 40                                             | 15.9                            | 84.06              | 16.82                              | 3                         | 2.9            | 54.6             | 2.7         | 10.9                    | 7                       | 28.6                            | 0                              | 85      | 172                    | 111                           | 43                             | 71           | 16                             | 23                           | 59                         | 0.96       | 113.2                            | 0                        | 15.4             | 35\n0                | 47   | 0      | 1           | 0                             | 0              | 0              | 0                      | 176    | 94.5   | 30.5                  | 43.1                   | 19.5                      | 23.6                      | 45                                             | 32.8                            | 67.2               | 16.68                              | 15                        | 3.2            | 60.3             | 38.8        | 31                      | 18.4                    | 32.7                            | 0                              | 94      | 172                    | 108                           | 43                             | 103          | 14                             | 13                           | 46                         | 0.87       | 107.1                            | 0                        | 14.4             | 25\n... (54 rows omitted)",
         "failure_message": "\"❌ test does not seem correct based on this random seed value.\"",
         "hidden": false,
         "locked": false,
         "points": 1,
         "success_message": "\"✅ test seems correct based on this random seed value.\"\n"
        }
       ],
       "scored": true,
       "setup": "",
       "teardown": "",
       "type": "doctest"
      }
     ]
    },
    "task_05": {
     "name": "task_05",
     "points": null,
     "suites": [
      {
       "cases": [
        {
         "code": ">>> isinstance(clean_pre_train, Table)\nTrue",
         "failure_message": "\"❌ clean_pre_train is not assigned to a Table.\"",
         "hidden": false,
         "locked": false,
         "success_message": "\"✅ clean_pre_train is assigned to a Table.\"\n"
        },
        {
         "code": ">>> set(clean_pre_train.labels) == set(pre_train.labels)\nTrue",
         "failure_message": "\"❌ clean_pre_train has the same labels as pre_train.\"",
         "hidden": false,
         "locked": false,
         "success_message": "\"✅ clean_pre_train has the same labels as pre_train.\"\n"
        },
        {
         "code": ">>> clean_pre_train\nGallstone Status | Age  | Gender | Comorbidity | Coronary Artery Disease (CAD) | Hypothyroidism | Hyperlipidemia | Diabetes Mellitus (DM) | Height | Weight | Body Mass Index (BMI) | Total Body Water (TBW) | Extracellular Water (ECW) | Intracellular Water (ICW) | Extracellular Fluid/Total Body Water (ECF/TBW) | Total Body Fat Ratio (TBFR) (%) | Lean Mass (LM) (%) | Body Protein Content (Protein) (%) | Visceral Fat Rating (VFR) | Bone Mass (BM) | Muscle Mass (MM) | Obesity (%) | Total Fat Content (TFC) | Visceral Fat Area (VFA) | Visceral Muscle Area (VMA) (Kg) | Hepatic Fat Accumulation (HFA) | Glucose | Total Cholesterol (TC) | Low Density Lipoprotein (LDL) | High Density Lipoprotein (HDL) | Triglyceride | Aspartat Aminotransferaz (AST) | Alanin Aminotransferaz (ALT) | Alkaline Phosphatase (ALP) | Creatinine | Glomerular Filtration Rate (GFR) | C-Reactive Protein (CRP) | Hemoglobin (HGB) | Vitamin D\n0                | 50   | 0      | 1           | 0                             | 0              | 0              | 1                      | 178    | 110.7  | 34.9                  | 53.9                   | 22.7                      | 31.2                      | 42                                             | 31.9                            | 68.11              | 15.2                               | 17                        | 3.7            | 71.7             | 58.8        | 35.3                    | 23                      | 37.2                            | 2                              | 374     | 225                    | 128                           | 33                             | 692          | 24                             | 24                           | 97                         | 0.83       | 107.28                           | 0.1                      | 17.9             | 11.1\n0                | 43   | 0      | 0           | 0                             | 0              | 0              | 0                      | 168    | 73.4   | 26                    | 45.5                   | 18.1                      | 27.4                      | 40                                             | 15.4                            | 84.6               | 16.44                              | 6                         | 3.1            | 59               | 18.2        | 11.3                    | 6.6                     | 31.9                            | 0                              | 92      | 259                    | 115                           | 50                             | 206          | 16                             | 30                           | 103                        | 0.84       | 110.97                           | 0                        | 16.6             | 22.4\n0                | 49   | 1      | 1           | 0                             | 1              | 0              | 0                      | 158    | 92.5   | 37.1                  | 38.1                   | 18                        | 20.1                      | 47                                             | 42.2                            | 57.84              | 12.43                              | 11                        | 2.7            | 50.8             | 68.5        | 39                      | 17.3                    | 29.8                            | 1                              | 92      | 208                    | 129                           | 57                             | 82           | 18                             | 18                           | 92                         | 0.63       | 109.77                           | 0.78                     | 10.7             | 21.8\n0                | 47   | 1      | 1           | 0                             | 0              | 0              | 0                      | 169    | 79     | 27.7                  | 35.7                   | 16.3                      | 19.4                      | 46                                             | 36.6                            | 63.42              | 13.6                               | 7                         | 2.5            | 47.6             | 25.8        | 28.9                    | 14.5                    | 27.5                            | 1                              | 83      | 172                    | 100                           | 54                             | 116          | 9                              | 8                            | 119                        | 0.6        | 11.34                            | 0.31                     | 14               | 10.9667\n0                | 55   | 0      | 0           | 0                             | 0              | 0              | 0                      | 176    | 90.7   | 29.3                  | 48.9                   | 20.3                      | 28.6                      | 42                                             | 23.9                            | 76.07              | 17.44                              | 12                        | 3.4            | 65.6             | 33.2        | 21.7                    | 13.2                    | 36.6                            | 2                              | 176     | 172                    | 98                            | 30                             | 330          | 29                             | 57                           | 64                         | 0.81       | 105.43                           | 0.23                     | 14.3             | 33.8\n1                | 51   | 0      | 1           | 0                             | 0              | 0              | 1                      | 165    | 68.2   | 25.1                  | 39.7                   | 16.9                      | 22.8                      | 43                                             | 19.1                            | 80.94              | 17.1                               | 9                         | 2.8            | 52.4             | 13.9        | 13                      | 8                       | 32.5568                         | 0                              | 168     | 143                    | 94                            | 32                             | 91           | 14                             | 14                           | 86                         | 0.73       | 89.0013                          | 1.25                     | 13.9             | 35.4\n0                | 48   | 0      | 0           | 0                             | 0              | 0              | 0                      | 168    | 86.8   | 30.8                  | 44.4                   | 19                        | 25.4                      | 43                                             | 28.1                            | 71.89              | 15.49                              | 13                        | 3.1            | 59.3             | 39.8        | 24.4                    | 14.5                    | 32.3                            | 0                              | 91      | 206                    | 152                           | 38                             | 115          | 20                             | 26                           | 73                         | 1.03       | 89.6                             | 0                        | 15.9             | 24\n1                | 40   | 0      | 1           | 0                             | 0              | 0              | 1                      | 182    | 110.6  | 33.4                  | 51.8                   | 22.3                      | 29.5                      | 43                                             | 32.8                            | 67.18              | 15.4                               | 15                        | 3.7            | 74.3             | 51.7        | 36.3                    | 21.8                    | 31.9838                         | 2                              | 91      | 180                    | 122                           | 42                             | 145          | 17                             | 36                           | 49                         | 0.86       | 97.924                           | 3.7                      | 15.7             | 13\n1                | 57   | 0      | 1           | 0                             | 0              | 0              | 1                      | 168    | 93.4   | 33.1                  | 48.7                   | 20                        | 29                        | 41.06                                          | 27.09                           | 72.81              | 16.15                              | 15                        | 3.4            | 64.7             | 29.76       | 25.3                    | 14.96                   | 34.8                            | 2                              | 128     | 88                     | 40                            | 44                             | 55           | 18                             | 36                           | 73                         | 0.61       | 11                               | 2                        | 16               | 20.2\n1                | 57   | 1      | 1           | 0                             | 0              | 1              | 0                      | 162    | 74.7   | 28.5                  | 32.7                   | 15.5                      | 17.2                      | 47                                             | 38.3                            | 61.7               | 14.11                              | 9                         | 2.3            | 43.8             | 29.5        | 28.6                    | 14.3                    | 28.6892                         | 3                              | 95      | 305                    | 224                           | 47                             | 216          | 16                             | 16                           | 82                         | 0.64       | 101.8                            | 2.9                      | 12.7             | 17.6\n... (217 rows omitted)",
         "failure_message": "\"❌ clean_pre_train does not seem correct based on this random seed.\"",
         "hidden": false,
         "locked": false,
         "success_message": "\"✅ clean_pre_train seems correct based on this random seed.\"\n"
        }
       ],
       "scored": true,
       "setup": "",
       "teardown": "",
       "type": "doctest"
      }
     ]
    },
    "task_06": {
     "name": "task_06",
     "points": null,
     "suites": [
      {
       "cases": [
        {
         "code": ">>> isinstance(train, Table)\nTrue",
         "failure_message": "\"❌ train is not assigned to a Table.\"",
         "hidden": false,
         "locked": false,
         "points": 1,
         "success_message": "\"✅ train is assigned to a Table.\"\n"
        },
        {
         "code": ">>> isinstance(validation, Table)\nTrue",
         "failure_message": "\"❌ validation is not assigned to a Table.\"",
         "hidden": false,
         "locked": false,
         "points": 1,
         "success_message": "\"✅ validation is assigned to a Table.\"\n"
        },
        {
         "code": ">>> train.num_rows\n170",
         "failure_message": "\"❌ train does not have the correct number of rows.\"",
         "hidden": false,
         "locked": false,
         "points": 1,
         "success_message": "\"✅ train has the correct number of rows.\"\n"
        },
        {
         "code": ">>> validation.num_rows\n57",
         "failure_message": "\"❌ validation does not have the correct number of rows.\"",
         "hidden": false,
         "locked": false,
         "points": 1,
         "success_message": "\"✅ validation has the correct number of rows.\"\n"
        },
        {
         "code": ">>> train\nGallstone Status | Age  | Gender | Comorbidity | Coronary Artery Disease (CAD) | Hypothyroidism | Hyperlipidemia | Diabetes Mellitus (DM) | Height | Weight | Body Mass Index (BMI) | Total Body Water (TBW) | Extracellular Water (ECW) | Intracellular Water (ICW) | Extracellular Fluid/Total Body Water (ECF/TBW) | Total Body Fat Ratio (TBFR) (%) | Lean Mass (LM) (%) | Body Protein Content (Protein) (%) | Visceral Fat Rating (VFR) | Bone Mass (BM) | Muscle Mass (MM) | Obesity (%) | Total Fat Content (TFC) | Visceral Fat Area (VFA) | Visceral Muscle Area (VMA) (Kg) | Hepatic Fat Accumulation (HFA) | Glucose | Total Cholesterol (TC) | Low Density Lipoprotein (LDL) | High Density Lipoprotein (HDL) | Triglyceride | Aspartat Aminotransferaz (AST) | Alanin Aminotransferaz (ALT) | Alkaline Phosphatase (ALP) | Creatinine | Glomerular Filtration Rate (GFR) | C-Reactive Protein (CRP) | Hemoglobin (HGB) | Vitamin D\n0                | 35   | 1      | 0           | 0                             | 0              | 0              | 0                      | 164    | 79.3   | 29.5                  | 36.7                   | 16.3                      | 20.4                      | 44                                             | 35.4                            | 64.56              | 13.57                              | 6                         | 2.6            | 48.6             | 34          | 28.1                    | 12.9                    | 28.6                            | 1                              | 91      | 227                    | 160                           | 41                             | 129          | 16                             | 20                           | 61                         | 0.88       | 87.83                            | 0                        | 16               | 7.7\n0                | 48   | 0      | 0           | 0                             | 0              | 0              | 0                      | 168    | 86.8   | 30.8                  | 44.4                   | 19                        | 25.4                      | 43                                             | 28.1                            | 71.89              | 15.49                              | 13                        | 3.1            | 59.3             | 39.8        | 24.4                    | 14.5                    | 32.3                            | 0                              | 91      | 206                    | 152                           | 38                             | 115          | 20                             | 26                           | 73                         | 1.03       | 89.6                             | 0                        | 15.9             | 24\n1                | 48   | 1      | 1           | 0                             | 0              | 0              | 1                      | 154    | 76.8   | 32.4                  | 37.1                   | 16.5                      | 20.6                      | 44                                             | 32                              | 67.97              | 14.7                               | 8                         | 2.6            | 49.6             | 47.1        | 24.6                    | 9.1                     | 28.4                            | 2                              | 104     | 143                    | 84                            | 36                             | 204          | 19                             | 27                           | 74                         | 0.56       | 113                              | 1.1                      | 13.3             | 7\n1                | 40   | 0      | 1           | 0                             | 0              | 0              | 1                      | 182    | 110.6  | 33.4                  | 51.8                   | 22.3                      | 29.5                      | 43                                             | 32.8                            | 67.18              | 15.4                               | 15                        | 3.7            | 74.3             | 51.7        | 36.3                    | 21.8                    | 31.9838                         | 2                              | 91      | 180                    | 122                           | 42                             | 145          | 17                             | 36                           | 49                         | 0.86       | 97.924                           | 3.7                      | 15.7             | 13\n0                | 50   | 1      | 0           | 0                             | 0              | 0              | 0                      | 163    | 74.8   | 28.2                  | 36.3                   | 16.1                      | 20.1                      | 44                                             | 31.7                            | 68.32              | 15.55                              | 7                         | 2.6            | 48.5             | 27.9        | 23.7                    | 10.2                    | 28.5                            | 0                              | 118     | 171                    | 122                           | 40                             | 98           | 16                             | 16                           | 63                         | 0.53       | 111.9                            | 1.71                     | 14.1             | 31.85\n0                | 58   | 0      | 1           | 0                             | 0              | 0              | 1                      | 170    | 79     | 27.3                  | 41.8                   | 18.1                      | 23.7                      | 43                                             | 24.3                            | 75.7               | 18.09                              | 12                        | 3              | 56.8             | 24.2        | 19.2                    | 11.4                    | 32.2                            | 0                              | 115     | 235                    | 161                           | 47                             | 104          | 27                             | 15                           | 15                         | 1          | 85.09                            | 1.3                      | 15.5             | 35\n0                | 50   | 0      | 0           | 0                             | 0              | 0              | 0                      | 172    | 97.3   | 32.9                  | 46.5                   | 20.3                      | 26.2                      | 44                                             | 31.7                            | 68.35              | 16.32                              | 16                        | 3.3            | 63.2             | 49.5        | 30.8                    | 18.3                    | 34.2                            | 2                              | 126     | 194                    | 145                           | 26                             | 132          | 15                             | 29                           | 50                         | 0.83       | 106.6                            | 0.55                     | 15.6             | 24.4286\n1                | 56   | 0      | 0           | 0                             | 0              | 0              | 0                      | 171    | 73.1   | 25                    | 42.4                   | 18                        | 24.4                      | 42                                             | 18.4                            | 81.53              | 18.47                              | 9                         | 3              | 56.6             | 13.7        | 13.5                    | 8.2                     | 31.5                            | 0                              | 107     | 250                    | 166                           | 64                             | 93           | 13                             | 18                           | 46                         | 1.2        | 86.26                            | 0                        | 14.6             | 19.4\n1                | 51   | 0      | 1           | 0                             | 0              | 0              | 1                      | 165    | 68.2   | 25.1                  | 39.7                   | 16.9                      | 22.8                      | 43                                             | 19.1                            | 80.94              | 17.1                               | 9                         | 2.8            | 52.4             | 13.9        | 13                      | 8                       | 32.5568                         | 0                              | 168     | 143                    | 94                            | 32                             | 91           | 14                             | 14                           | 86                         | 0.73       | 89.0013                          | 1.25                     | 13.9             | 35.4\n0                | 50   | 0      | 0           | 0                             | 0              | 0              | 0                      | 174    | 85.5   | 28.2                  | 47.3                   | 19.4                      | 27.9                      | 41                                             | 22.4                            | 77.54              | 17.41                              | 11                        | 3.3            | 63               | 28.4        | 19.2                    | 11.6                    | 34.9                            | 2                              | 102     | 226                    | 147                           | 61                             | 78           | 20                             | 34                           | 83                         | 0.97       | 95.1                             | 0.32                     | 16               | 29.25\n... (160 rows omitted)",
         "failure_message": "\"❌ train does not seem correct based on this random seed value.\"",
         "hidden": false,
         "locked": false,
         "points": 1,
         "success_message": "\"✅ train seems correct based on this random seed value.\"\n"
        },
        {
         "code": ">>> validation\nGallstone Status | Age  | Gender | Comorbidity | Coronary Artery Disease (CAD) | Hypothyroidism | Hyperlipidemia | Diabetes Mellitus (DM) | Height | Weight | Body Mass Index (BMI) | Total Body Water (TBW) | Extracellular Water (ECW) | Intracellular Water (ICW) | Extracellular Fluid/Total Body Water (ECF/TBW) | Total Body Fat Ratio (TBFR) (%) | Lean Mass (LM) (%) | Body Protein Content (Protein) (%) | Visceral Fat Rating (VFR) | Bone Mass (BM) | Muscle Mass (MM) | Obesity (%) | Total Fat Content (TFC) | Visceral Fat Area (VFA) | Visceral Muscle Area (VMA) (Kg) | Hepatic Fat Accumulation (HFA) | Glucose | Total Cholesterol (TC) | Low Density Lipoprotein (LDL) | High Density Lipoprotein (HDL) | Triglyceride | Aspartat Aminotransferaz (AST) | Alanin Aminotransferaz (ALT) | Alkaline Phosphatase (ALP) | Creatinine | Glomerular Filtration Rate (GFR) | C-Reactive Protein (CRP) | Hemoglobin (HGB) | Vitamin D\n0                | 71   | 0      | 1           | 0                             | 0              | 0              | 0                      | 172    | 78     | 26.4                  | 49.5                   | 19.7                      | 29.8                      | 40                                             | 12.1                            | 87.95              | 19.03                              | 10                        | 3.4            | 65.2             | 19.8        | 9.4                     | 4.4                     | 37.4                            | 2                              | 110     | 253                    | 182                           | 47                             | 190          | 25                             | 26                           | 26                         | 1.01       | 79.51                            | 0                        | 14.4             | 31.06\n1                | 31   | 1      | 0           | 0                             | 0              | 0              | 0                      | 157    | 53.4   | 21.7                  | 29.3                   | 12.3                      | 17                        | 42                                             | 23.6                            | 76.4               | 15.96                              | 2                         | 2.1            | 38.7             | 1.5         | 12.6                    | 5.1                     | 22.2                            | 0                              | 96      | 176                    | 99                            | 58                             | 64           | 24                             | 16                           | 38                         | 0.5        | 128.5                            | 0                        | 12.5             | 24\n0                | 43   | 0      | 0           | 0                             | 0              | 0              | 0                      | 176    | 75.7   | 24.4                  | 39.4                   | 17.1                      | 22.3                      | 43                                             | 24.3                            | 75.69              | 18.12                              | 9                         | 2.9            | 54.4             | 11.2        | 18.4                    | 10.4                    | 30.8                            | 0                              | 99      | 167                    | 110                           | 40                             | 63           | 19                             | 18                           | 76                         | 0.98       | 98.12                            | 0.05                     | 15               | 28\n1                | 52   | 1      | 0           | 0                             | 0              | 0              | 0                      | 150    | 74.7   | 33.2                  | 33.6                   | 15                        | 19                        | 44.64                                          | 38.55                           | 61.45              | 12.65                              | 10                        | 2.3            | 43.5             | 35.5        | 28.8                    | 13.42                   | 25.3                            | 0                              | 100     | 190                    | 118                           | 58                             | 68           | 25                             | 18                           | 66                         | 0.75       | 95.7                             | 0                        | 11.6             | 12.1\n0                | 53   | 0      | 1           | 0                             | 0              | 0              | 1                      | 168    | 76.8   | 27.2                  | 42.6                   | 18.1                      | 24.5                      | 42                                             | 22.3                            | 77.73              | 17.45                              | 11                        | 3              | 56.7             | 23.7        | 17.1                    | 9.8                     | 31.7                            | 3                              | 127     | 128                    | 78                            | 41                             | 130          | 27                             | 38                           | 50                         | 0.9        | 104.05                           | 0                        | 16.1             | 30.9\n1                | 51   | 1      | 0           | 0                             | 0              | 0              | 0                      | 163    | 79.1   | 29.8                  | 34.1                   | 13                        | 21                        | 38.12                                          | 38.43                           | 61.57              | 14.64                              | 9                         | 2.5            | 46.3             | 21.51       | 30.4                    | 15.16                   | 27.3                            | 0                              | 92      | 183                    | 96                            | 70                             | 63           | 16                             | 18                           | 109                        | 0.64       | 106.93                           | 1.7                      | 14               | 8.2\n1                | 53   | 1      | 0           | 0                             | 0              | 0              | 0                      | 164    | 78.5   | 29.2                  | 36.2                   | 16.4                      | 19.8                      | 45                                             | 35.2                            | 64.84              | 14.71                              | 8                         | 2.6            | 48.3             | 32.6        | 27.6                    | 12.6                    | 28.2                            | 2                              | 99      | 183                    | 93                            | 73                             | 103          | 14                             | 19                           | 60                         | 0.6        | 107                              | 2.4                      | 12.8             | 17\n1                | 59   | 1      | 0           | 0                             | 0              | 0              | 0                      | 155    | 70.7   | 29.4                  | 33.9                   | 13                        | 21                        | 38.34                                          | 31.12                           | 68.88              | 16.66                              | 7                         | 2.5            | 46.2             | 15.39       | 22                      | 9.14                    | 27.3                            | 0                              | 96      | 245                    | 174                           | 53                             | 124          | 11                             | 15                           | 108                        | 0.83       | 80                               | 3.7                      | 15.6             | 6.6\n0                | 35   | 1      | 0           | 0                             | 0              | 0              | 0                      | 165    | 66.3   | 24.4                  | 34.8                   | 14.8                      | 20                        | 43                                             | 26.7                            | 73.3               | 15.46                              | 3                         | 2.5            | 46.1             | 10.7        | 17.7                    | 7.9                     | 26.6                            | 0                              | 94      | 122                    | 57                            | 55                             | 34           | 15                             | 16                           | 64                         | 0.7        | 115.59                           | 0                        | 11.9             | 26.9\n0                | 56   | 0      | 0           | 0                             | 0              | 0              | 0                      | 184    | 105.9  | 31.3                  | 53.1                   | 22.2                      | 30.9                      | 42                                             | 28                              | 71.95              | 17.35                              | 15                        | 3.7            | 72.5             | 42.1        | 29.7                    | 18.2                    | 40.4                            | 2                              | 114     | 267                    | 167                           | 29                             | 295          | 20                             | 35                           | 92                         | 1.07       | 81.44                            | 0.08                     | 15.7             | 27.3\n... (47 rows omitted)",
         "failure_message": "\"❌ validation does not seem correct based on this random seed value.\"",
         "hidden": false,
         "locked": false,
         "points": 1,
         "success_message": "\"✅ validation seems correct based on this random seed value.\"\n"
        }
       ],
       "scored": true,
       "setup": "",
       "teardown": "",
       "type": "doctest"
      }
     ]
    },
    "task_07": {
     "name": "task_07",
     "points": null,
     "suites": [
      {
       "cases": [
        {
         "code": ">>> isinstance(train_transformed, Table)\nTrue",
         "failure_message": "\"❌ train_transformed is not assigned to a Table.\"",
         "hidden": false,
         "locked": false,
         "success_message": "\"✅ train_transformed is assigned to a Table.\"\n"
        },
        {
         "code": ">>> isinstance(validation_transformed, Table)\nTrue",
         "failure_message": "\"❌ validation_transformed is not assigned to a Table.\"",
         "hidden": false,
         "locked": false,
         "success_message": "\"✅ validation_transformed is assigned to a Table.\"\n"
        },
        {
         "code": ">>> isinstance(test_transformed, Table)\nTrue",
         "failure_message": "\"❌ test_transformed is not assigned to a Table.\"",
         "hidden": false,
         "locked": false,
         "success_message": "\"✅ test_transformed is assigned to a Table.\"\n"
        },
        {
         "code": ">>> train_transformed\nGallstone Status | Vitamin D_standardized | C-Reactive Protein (CRP)_standardized | Total Body Water (TBW)_standardized | Lean Mass (LM) (%)_standardized\n0                | -1.47226               | -0.692676                             | -0.562662                           | -0.821138\n0                | 0.258629               | -0.692676                             | 0.392375                            | 0.0501919\n1                | -1.5466                | 0.322572                              | -0.513049                           | -0.415786\n1                | -0.909458              | 2.72225                               | 1.3102                              | -0.509694\n0                | 1.09222                | 0.885573                              | -0.612274                           | -0.37418\n0                | 1.42672                | 0.507163                              | 0.069895                            | 0.503093\n0                | 0.304139               | -0.185052                             | 0.652839                            | -0.370614\n1                | -0.229844              | -0.692676                             | 0.144313                            | 1.19612\n1                | 1.46919                | 0.461015                              | -0.19057                            | 1.12598\n0                | 0.816125               | -0.397331                             | 0.752064                            | 0.721817\n... (160 rows omitted)",
         "failure_message": "\"❌ train_transformed does not seem correct based on this random seed\"",
         "hidden": false,
         "locked": false,
         "success_message": "\"✅ train_transformed seems correct based on this random seed.\"\n"
        },
        {
         "code": ">>> validation_transformed\nGallstone Status | Vitamin D_standardized | C-Reactive Protein (CRP)_standardized | Total Body Water (TBW)_standardized | Lean Mass (LM) (%)_standardized\n0                | 1.00833                | -0.692676                             | 1.02493                             | 1.95927\n1                | 0.258629               | -0.692676                             | -1.48049                            | 0.586304\n0                | 0.683388               | -0.646528                             | -0.227779                           | 0.501905\n1                | -1.00503               | -0.692676                             | -0.947157                           | -1.19083\n0                | 0.991338               | -0.692676                             | 0.16912                             | 0.744403\n1                | -1.41917               | 0.876344                              | -0.885142                           | -1.17657\n1                | -0.484699              | 1.52241                               | -0.624677                           | -0.787854\n1                | -1.58907               | 2.72225                               | -0.909948                           | -0.307612\n0                | 0.566579               | -0.692676                             | -0.79832                            | 0.217801\n0                | 0.609055               | -0.61884                              | 1.47144                             | 0.0573242\n... (47 rows omitted)",
         "failure_message": "\"❌ validation_transformed does not seem correct based on this random seed\"",
         "hidden": false,
         "locked": false,
         "success_message": "\"✅ validation_transformed seems correct based on this random seed.\"\n"
        },
        {
         "code": ">>> test_transformed\nGallstone Status | Vitamin D_standardized | C-Reactive Protein (CRP)_standardized | Total Body Water (TBW)_standardized | Lean Mass (LM) (%)_standardized\n1                | -1.18555               | 5.30652                               | -1.04638                            | -2.09188\n0                | 0.144475               | -0.2312                               | -0.178166                           | 1.58007\n0                | 0.322343               | -0.194282                             | -0.885142                           | -1.31565\n0                | -1.46164               | -0.692676                             | -0.909948                           | -1.24789\n0                | 0.24801                | -0.692676                             | 1.17377                             | 0.146478\n0                | 1.46919                | -0.692676                             | 0.0202827                           | 1.51231\n0                | 1.10815                | -0.692676                             | -1.48049                            | 0.377089\n1                | -1.36607               | 1.06093                               | -1.76576                            | -0.0235086\n0                | 1.42672                | -0.692676                             | 0.069895                            | 1.49686\n0                | 0.364819               | -0.692676                             | 0.231135                            | -0.507317\n... (54 rows omitted)",
         "failure_message": "\"❌ test_transformed does not seem correct based on this random seed\"",
         "hidden": false,
         "locked": false,
         "success_message": "\"✅ test_transformed seems correct based on this random seed.\"\n"
        }
       ],
       "scored": true,
       "setup": "",
       "teardown": "",
       "type": "doctest"
      }
     ]
    },
    "task_08": {
     "name": "task_08",
     "points": null,
     "suites": [
      {
       "cases": [
        {
         "code": ">>> callable(classify)\nTrue",
         "failure_message": "\"❌ classify is not callable.\"",
         "hidden": false,
         "locked": false,
         "success_message": "\"✅ classify is callable.\"\n"
        },
        {
         "code": ">>> training_ex = Table().with_columns('Gallstone Status', [1, 0, 1, 1, 0], 'Feature 1', [3, 13, 4, 3.4, 11], 'Feature 2', [75, 78, 71, 70, 79])\n>>> classify(training_ex, [12, 76], 3) in {0, 1}\nTrue",
         "failure_message": "\"❌ classify didn't produce a value of 0 or 1 for an example data set.",
         "hidden": false,
         "locked": false,
         "success_message": "\"✅ classify produced a value of 0 or 1 for an example data set.\"\n"
        },
        {
         "code": ">>> training_ex = Table().with_columns('Gallstone Status', [1, 0, 1, 1, 0], 'Feature 1', [3, 13, 4, 3.4, 11], 'Feature 2', [75, 78, 71, 70, 79])\n>>> classify(training_ex, [12, 76], 3)\n0",
         "failure_message": "\"❌ classify doesn't seem to be working correctly based on an example data set.\"",
         "hidden": false,
         "locked": false,
         "success_message": "\"✅ classify seems to be working correctly based on an example data set.\"\n"
        },
        {
         "code": ">>> an_example = [-0.03995, -0.68226, -0.9853, 1.10132]\n>>> classify(train_transformed, an_example, 5)\n0",
         "failure_message": "\"❌ classify doesn't seem to be working correctly based on an example from the validation set\"",
         "hidden": false,
         "locked": false,
         "success_message": "\"✅ classify seems to be working correctly based on an example from the validation set.\"\n"
        }
       ],
       "scored": true,
       "setup": "",
       "teardown": "",
       "type": "doctest"
      }
     ]
    },
    "task_09": {
     "name": "task_09",
     "points": null,
     "suites": [
      {
       "cases": [
        {
         "code": ">>> callable(evaluate_accuracy)\nTrue",
         "failure_message": "\"❌ evaluate_accuracyy is not callable.\"",
         "hidden": false,
         "locked": false,
         "success_message": "\"✅ evaluate_accuracy is callable.\"\n"
        },
        {
         "code": ">>> evaluate_accuracy(train_transformed, validation_transformed, 3)\n0.631578947368421",
         "failure_message": "\"❌ evaluate_accuracy doesn't seem to be working for the train and validation sets.\"",
         "hidden": false,
         "locked": false,
         "success_message": "\"✅ evaluate_accuracy seems to be working for the train and validation sets.\"\n"
        }
       ],
       "scored": true,
       "setup": "",
       "teardown": "",
       "type": "doctest"
      }
     ]
    },
    "task_11": {
     "name": "task_11",
     "points": null,
     "suites": [
      {
       "cases": [
        {
         "code": ">>> import numbers\n>>> isinstance(classifier_accuracy, numbers.Number)\nTrue",
         "failure_message": "\"❌ classifier_accuracy is not assigned to a numerical value.\"",
         "hidden": false,
         "locked": false,
         "success_message": "\"✅ classifier_accuracy is assigned to a numerical value.\"\n"
        },
        {
         "code": ">>> import hashlib\n>>> \n>>> def get_hash(num):\n...     \"\"\"Helper function for assessing correctness.\"\"\"\n...     return hashlib.md5(str(num).encode()).hexdigest()\n>>> get_hash(round(classifier_accuracy, 3))\n'5d8da4f6668f40f340a752537beb1a4f'",
         "failure_message": "\"❌ classifier_accuracy does not seem correct for this random seed.\"",
         "hidden": false,
         "locked": false,
         "success_message": "\"✅ classifier_accuracy seems correct for this random seed.\"\n"
        }
       ],
       "scored": true,
       "setup": "",
       "teardown": "",
       "type": "doctest"
      }
     ]
    }
   }
  }
 },
 "nbformat": 4,
 "nbformat_minor": 5
}
