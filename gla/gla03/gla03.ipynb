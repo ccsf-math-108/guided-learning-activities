{
 "cells": [
  {
   "cell_type": "code",
   "execution_count": null,
   "id": "f313170c",
   "metadata": {
    "deletable": false,
    "editable": false
   },
   "outputs": [],
   "source": [
    "# Initialize Otter\n",
    "import otter\n",
    "grader = otter.Notebook(\"gla03.ipynb\")"
   ]
  },
  {
   "cell_type": "markdown",
   "id": "692fbc6d-0645-4e75-b205-29989ec616ab",
   "metadata": {},
   "source": [
    "<img src=\"./ccsf.png\" alt=\"CCSF Logo\" width=200px style=\"margin:0px -5px\">"
   ]
  },
  {
   "cell_type": "markdown",
   "id": "c83b268c-d46e-450b-b4af-a2390020878c",
   "metadata": {
    "tags": []
   },
   "source": [
    "# Guided Learning Activity 03: Accessing Data"
   ]
  },
  {
   "cell_type": "markdown",
   "id": "f5c0e5f0-1759-4129-8e2e-8301f1db6953",
   "metadata": {},
   "source": [
    "This Guided Learning Activity is designed for you to complete alongside a Data Ambassador from the course. You might find that it feels like a combination of the lectures and lab assignment. Whether you are participating live or watching the recording of the live meeting, let the Data Ambassador guide you through the following tasks. There will be moments for you to reflect and explore your own ideas as a way to solidify concepts and skills introduced by your instructor. Keep in mind that this is not a graded assignment for MATH 108 by default. If you have any concerns about participation, reach out to your instructor."
   ]
  },
  {
   "cell_type": "markdown",
   "id": "20d80b08-8562-4cc5-aa65-1e0c97ac6985",
   "metadata": {},
   "source": [
    "---"
   ]
  },
  {
   "cell_type": "markdown",
   "id": "eccd253c-ffd2-40f0-98ac-cc06cc8dec20",
   "metadata": {},
   "source": [
    "## Learning Objectives"
   ]
  },
  {
   "cell_type": "markdown",
   "id": "66e18ccd-f8f0-4f7c-a1f9-c872f5ca01af",
   "metadata": {},
   "source": [
    "1. Recognize different data storage formats, including `CSV` and `JSON`.\n",
    "2. Learn how to load and explore datasets using the `datascience` library.\n",
    "3. Practice accessing and extracting specific data from tables using sorting and filtering techniques.\n",
    "4. Map data that contains latitude and longitude information.\n",
    "5. Utilize APIs to access information directly from remote sources."
   ]
  },
  {
   "cell_type": "markdown",
   "id": "3f3ef5e2-d54e-44b8-a185-be0fae620e5d",
   "metadata": {},
   "source": [
    "---"
   ]
  },
  {
   "cell_type": "markdown",
   "id": "fda55315-0e2a-46f8-ae5b-76b6dfa2cb16",
   "metadata": {},
   "source": [
    "## Accessing Stored Data"
   ]
  },
  {
   "cell_type": "markdown",
   "id": "d1a6b74e-1a5f-4430-a4d6-cbb2c39f5ea1",
   "metadata": {},
   "source": [
    "In data science, working with real-world data often means dealing with a variety of data sources, from structured files like `CSV`s and JSONs to dynamic sources accessed via APIs. Understanding how to read, process, and analyze data from these different formats is a crucial skill for any data scientist. Whether you're working with a static dataset stored locally or pulling live data from a web service, the ability to efficiently load and manipulate data enables deeper insights and more informed decision-making."
   ]
  },
  {
   "cell_type": "markdown",
   "id": "ab0a9654-5bff-484a-aa0f-27b221dc7d6a",
   "metadata": {},
   "source": [
    "---"
   ]
  },
  {
   "cell_type": "markdown",
   "id": "f30a230b-fca5-4980-98ef-29e0c58e604d",
   "metadata": {},
   "source": [
    "### Data Formats"
   ]
  },
  {
   "attachments": {},
   "cell_type": "markdown",
   "id": "dd6c6979-db68-403b-9b07-ed6d745e8cad",
   "metadata": {},
   "source": [
    "<a href=\"https://www.flaticon.com/packs/file-type-collection\"><img src=\"./csv_icon.png\" alt=\"CSV file icon\" width=100px><img src=\"./json_icon.png\" alt=\"JSON file icon\" width=100px><img src=\"./txt_icon.png\" alt=\"TXT file icon\" width=100px><img src=\"./xls_icon.png\" alt=\"XLS file icon\" width=100px><img src=\"./xml_icon.png\" alt=\"XML file icon\" width=100px></a> ...\n",
    "\n",
    "Data can be stored in various file formats, each designed for different use cases and levels of complexity. Although there are a large number of possible file formats, you'll likely run into some common file formats such as XLSX, CSV, and `JSON`. You can usually recognize a file's format by the extension on the file name. XLSX files end with `.xlsx`, CSV files end with `.csv`, and `JSON` files end with `.json` for example. Each file type should come with good documentation and even some tutorials to help you better understand how to extract the information you need."
   ]
  },
  {
   "cell_type": "markdown",
   "id": "8ff61738-660b-4fd9-aea0-944f4e9cafa5",
   "metadata": {},
   "source": [
    "---"
   ]
  },
  {
   "cell_type": "markdown",
   "id": "ea749de6-00aa-49be-a71b-32f8502d1bba",
   "metadata": {},
   "source": [
    "#### CSV"
   ]
  },
  {
   "cell_type": "markdown",
   "id": "060f308d-8361-4d32-b3c1-d0b056d32c5c",
   "metadata": {},
   "source": [
    "A `CSV` (Comma Separated Values) file is a simple text file that stores tabular data (numbers and text) in plain text. Each line of the file represents a row of data, and the values within each row are separated by commas. You primarily work indirectly with `CSV` files in MATH 108. The following example from [Wikipedia's Comma-separated values page](https://en.wikipedia.org/wiki/Comma-separated_values) showcases the general format of a `CSV` file:\n",
    "\n",
    "```csv\n",
    "Year,Make,Model,Description,Price\n",
    "1997,Ford,E350,\"ac, abs, moon\",3000.00\n",
    "1999,Chevy,\"Venture \"\"Extended Edition\"\"\",\"\",4900.00\n",
    "1999,Chevy,\"Venture \"\"Extended Edition, Very Large\"\"\",\"\",5000.00\n",
    "1996,Jeep,Grand Cherokee,\"MUST SELL!\n",
    "air, moon roof, loaded\",4799.00\n",
    "```\n",
    "The first line shows the variable labels for each car. In general, each row provides the details for each type of car. Since the data is organized by commas, not by rows, the fact that the Grand Cherokee is split into two lines is no problem."
   ]
  },
  {
   "cell_type": "markdown",
   "id": "368d587d-ba09-48c5-a4e4-2354a20467ad",
   "metadata": {},
   "source": [
    "---"
   ]
  },
  {
   "cell_type": "markdown",
   "id": "4c8994e0-8e5e-44d1-a03c-51841bd8d2cb",
   "metadata": {},
   "source": [
    "#### JSON"
   ]
  },
  {
   "cell_type": "markdown",
   "id": "7533563c-2917-422c-9386-5c8219926d56",
   "metadata": {},
   "source": [
    "JSON (JavaScript Object Notation) files are a flexible, lightweight format often used for structured data as they represent data as key-value pairs (`\"key\": \"value\"`). The following example from [W3Schools's JavaScript `JSON`\n",
    " page](https://www.w3schools.com/js/js_json.asp) showcases the `JSON` structure:\n",
    "\n",
    "```json\n",
    "{\n",
    "    \"employees\":\n",
    "    [\n",
    "        {\n",
    "            \"firstName\": \"John\", \n",
    "            \"lastName\": \"Doe\"\n",
    "        },\n",
    "        {\n",
    "            \"firstName\": \"Anna\", \n",
    "            \"lastName\": \"Smith\"\n",
    "        },\n",
    "        {\n",
    "            \"firstName\": \"Peter\", \n",
    "            \"lastName\": \"Jones\"\n",
    "        }\n",
    "    ]\n",
    "}\n",
    "```\n",
    "You don't work with these files in MATH 108, but they are common enough that you should be aware of their existence. "
   ]
  },
  {
   "cell_type": "markdown",
   "id": "e0b36112-3882-485e-88f3-38f6631cc620",
   "metadata": {},
   "source": [
    "---"
   ]
  },
  {
   "cell_type": "markdown",
   "id": "476feecf-1350-4f4a-a280-d5376ee7d73c",
   "metadata": {},
   "source": [
    "## `datascience` Library"
   ]
  },
  {
   "cell_type": "markdown",
   "id": "37b6cba5-7071-480c-8b87-0a756b14e480",
   "metadata": {},
   "source": [
    "In MATH 108, you utilize the Python library `datascience` developed by UC Berkeley to complete most of the coursework. Run the following code cell to import all of the `datascience` library."
   ]
  },
  {
   "cell_type": "code",
   "execution_count": null,
   "id": "a98a46ff-bc9d-498e-a6ef-5675b23d672f",
   "metadata": {},
   "outputs": [],
   "source": [
    "from datascience import *"
   ]
  },
  {
   "cell_type": "markdown",
   "id": "ae3a15b3-fa92-47af-bd23-9b0c624eebef",
   "metadata": {},
   "source": [
    "---"
   ]
  },
  {
   "cell_type": "markdown",
   "id": "7aed5031-e695-4671-9cb6-7adccbe81d30",
   "metadata": {},
   "source": [
    "## Tables"
   ]
  },
  {
   "cell_type": "markdown",
   "id": "05405ebc-c4a9-4be2-a12e-5cd06c3f49b7",
   "metadata": {
    "editable": true,
    "slideshow": {
     "slide_type": ""
    },
    "tags": []
   },
   "source": [
    "<a href=\"https://www.nssl.noaa.gov/education/svrwx101/hail/types/\"><img src=\"./hail.jpg\" alt=\"Hail examples\" width=800px></a>\n",
    "\n",
    "NOAA has [data reports from severe weather incidents](https://www.ncei.noaa.gov/access/metadata/landing-page/bin/iso?id=gov.noaa.ncdc:C00773) including the size of the hail and the time and location the data was collected. It could be pretty challenging to analyze that data if the size, date, and location information were stored separately. A table is a way to organize this information neatly, with each item (hail report) getting its own row, and each piece of information (like size and location) getting its own column. This makes it much easier to find and compare information than navigating the arrays/lists separately.  The `datascience` library in Python provides a data type called `Table` for this purpose. It's a powerful way to keep your information structured and easy to work with, giving you tools to add, find, and analyze your data.\n",
    "\n",
    "<a href=\"https://cloud.google.com/datasets\"><img src=\"./NOAA_hail_reports.png\" alt=\"Data from NOAA on severe weather hail reports.\" width=600px></a>"
   ]
  },
  {
   "cell_type": "markdown",
   "id": "ea075ea3-ffcb-4b7e-a752-eeb07076c75f",
   "metadata": {},
   "source": [
    "---"
   ]
  },
  {
   "cell_type": "markdown",
   "id": "4830279b-5764-4c48-9c47-fba9962dd6ec",
   "metadata": {},
   "source": [
    "### `read_table`"
   ]
  },
  {
   "cell_type": "markdown",
   "id": "174f6aa9-792f-4fd6-be98-7a9db1f9c971",
   "metadata": {},
   "source": [
    "The function [`read_table`](https://datascience.readthedocs.io/en/master/_autosummary/datascience.tables.Table.read_table.html#datascience.tables.Table.read_table) in the `Table` module provides you with a way to load data from `CSV` files as a `Table` data type. Here is the documentation:\n",
    "\n",
    "```python\n",
    "Signature: Table.read_table(filepath_or_buffer, *args, **vargs)\n",
    "Docstring:\n",
    "Read a table from a file or web address.\n",
    "\n",
    "Args:\n",
    "    filepath_or_buffer -- string or file handle / StringIO; The string\n",
    "                      could be a URL. Valid URL schemes include http,\n",
    "                      ftp, s3, and file.\n",
    "\n",
    "Returns:\n",
    "    a table read from argument\n",
    "                      \n",
    "Example:\n",
    "\n",
    ">>> Table.read_table('https://www.inferentialthinking.com/data/sat2014.csv')\n",
    "State        | Participation Rate | Critical Reading | Math | Writing | Combined\n",
    "North Dakota | 2.3                | 612              | 620  | 584     | 1816\n",
    "Illinois     | 4.6                | 599              | 616  | 587     | 1802\n",
    "Iowa         | 3.1                | 605              | 611  | 578     | 1794\n",
    "South Dakota | 2.9                | 604              | 609  | 579     | 1792\n",
    "Minnesota    | 5.9                | 598              | 610  | 578     | 1786\n",
    "Michigan     | 3.8                | 593              | 610  | 581     | 1784\n",
    "Wisconsin    | 3.9                | 596              | 608  | 578     | 1782\n",
    "Missouri     | 4.2                | 595              | 597  | 579     | 1771\n",
    "Wyoming      | 3.3                | 590              | 599  | 573     | 1762\n",
    "Kansas       | 5.3                | 591              | 596  | 566     | 1753\n",
    "... (41 rows omitted)\n",
    "        \n",
    "File:      /srv/conda/envs/notebook/lib/python3.11/site-packages/datascience/tables.py\n",
    "Type:      method\n",
    "```\n",
    "\n",
    "You essentially just need to provide the function with the location of the `CSV` file as input and it will produce the table for you. As long as the `CSV` file is formatted correctly, you should end up with a decent table."
   ]
  },
  {
   "cell_type": "markdown",
   "id": "dc280dcc-0fbf-4c9d-b9c7-5157a60c11c7",
   "metadata": {},
   "source": [
    "---"
   ]
  },
  {
   "cell_type": "markdown",
   "id": "d8238dd8-c230-4b2d-b124-21a710e09928",
   "metadata": {
    "editable": true,
    "slideshow": {
     "slide_type": ""
    },
    "tags": []
   },
   "source": [
    "#### Task 01 💻"
   ]
  },
  {
   "cell_type": "markdown",
   "id": "5f4694a5-9da2-4a70-9b85-e1da1bc91827",
   "metadata": {
    "deletable": false,
    "editable": false,
    "slideshow": {
     "slide_type": ""
    },
    "tags": []
   },
   "source": [
    "Use `Table.read_table` to assign `hail` to a table containing the contents of the `CSV` file `hail.csv` that we've put into your JupyterHub folder for this activity."
   ]
  },
  {
   "cell_type": "code",
   "execution_count": null,
   "id": "5b1269d6-b1f9-4928-a2ac-79f271c24d4a",
   "metadata": {
    "tags": []
   },
   "outputs": [],
   "source": [
    "hail = ...\n",
    "hail"
   ]
  },
  {
   "cell_type": "code",
   "execution_count": null,
   "id": "093a4438",
   "metadata": {
    "deletable": false,
    "editable": false
   },
   "outputs": [],
   "source": [
    "grader.check(\"task_01\")"
   ]
  },
  {
   "cell_type": "markdown",
   "id": "4e82d6b3-602e-46a8-8ec1-494b87cf26e6",
   "metadata": {},
   "source": [
    "---"
   ]
  },
  {
   "cell_type": "markdown",
   "id": "3dc360f1-6057-4403-8271-41d01ebbe4ea",
   "metadata": {},
   "source": [
    "### `Table` Documentation"
   ]
  },
  {
   "cell_type": "markdown",
   "id": "81466142-9f2f-4d55-bc2d-c7fdb7083110",
   "metadata": {},
   "source": [
    "Running the following command should reveal that `hail` is a `Table`."
   ]
  },
  {
   "cell_type": "code",
   "execution_count": null,
   "id": "486078fe-1447-41cf-b859-79f31aac00e6",
   "metadata": {},
   "outputs": [],
   "source": [
    "type(hail)"
   ]
  },
  {
   "cell_type": "markdown",
   "id": "6a409586-803b-4b5b-9b4b-46aaceb84374",
   "metadata": {},
   "source": [
    "The `Table` data type comes with several attributes and methods for you to work with. You can reference the [`datascience` documentation page on Tables](https://datascience.readthedocs.io/en/master/tables.html) to get more details about working with tables. \n",
    "\n",
    "The following tasks are meant to give you some practice working with this data type."
   ]
  },
  {
   "cell_type": "markdown",
   "id": "365c9b58-e50c-4128-92de-5a47a8d75528",
   "metadata": {},
   "source": [
    "---"
   ]
  },
  {
   "cell_type": "markdown",
   "id": "b1507ce2-9875-4272-9c12-c7e004dcab72",
   "metadata": {
    "editable": true,
    "slideshow": {
     "slide_type": ""
    },
    "tags": []
   },
   "source": [
    "#### Task 02 💻"
   ]
  },
  {
   "cell_type": "markdown",
   "id": "9d5a2367-f027-4116-9917-7685ccc91215",
   "metadata": {
    "deletable": false,
    "editable": false,
    "slideshow": {
     "slide_type": ""
    },
    "tags": []
   },
   "source": [
    "How many reports are there in the `hail` table? Assign this number to `hail_num_rows`."
   ]
  },
  {
   "cell_type": "code",
   "execution_count": null,
   "id": "7811fe4a-0cf1-4593-8ffd-7d23a4879ef2",
   "metadata": {
    "tags": []
   },
   "outputs": [],
   "source": [
    "hail_num_rows = ...\n",
    "hail_num_rows"
   ]
  },
  {
   "cell_type": "code",
   "execution_count": null,
   "id": "fbb52391",
   "metadata": {
    "deletable": false,
    "editable": false
   },
   "outputs": [],
   "source": [
    "grader.check(\"task_02\")"
   ]
  },
  {
   "cell_type": "markdown",
   "id": "88029e53-30fa-485c-a35d-91763cffcc87",
   "metadata": {},
   "source": [
    "---"
   ]
  },
  {
   "cell_type": "markdown",
   "id": "075b9f4f-7003-4914-bec4-0794d6805eda",
   "metadata": {
    "editable": true,
    "slideshow": {
     "slide_type": ""
    },
    "tags": []
   },
   "source": [
    "#### Task 03 💻"
   ]
  },
  {
   "cell_type": "markdown",
   "id": "78c97adc-6c4e-4e22-92f6-fd28ec2276e9",
   "metadata": {
    "deletable": false,
    "editable": false,
    "slideshow": {
     "slide_type": ""
    },
    "tags": []
   },
   "source": [
    "Calculate the average hail size from the `hail` table and assign that value to `average_hail_size`. We've imported NumPy for you on the first line of the following code cell.\n",
    "\n",
    "**Note**: The numbers in the `'size'` column of `hail` are expressed in 1/100 of an inch, so 175 = 1.75 inches."
   ]
  },
  {
   "cell_type": "code",
   "execution_count": null,
   "id": "a4cc82ad-9321-4f13-86ec-dae4e2ebc2f2",
   "metadata": {
    "tags": []
   },
   "outputs": [],
   "source": [
    "import numpy as np\n",
    "average_hail_size = ...\n",
    "average_hail_size"
   ]
  },
  {
   "cell_type": "code",
   "execution_count": null,
   "id": "79838629",
   "metadata": {
    "deletable": false,
    "editable": false
   },
   "outputs": [],
   "source": [
    "grader.check(\"task_03\")"
   ]
  },
  {
   "cell_type": "markdown",
   "id": "359e952c-16f0-4287-a406-6e5179f90656",
   "metadata": {},
   "source": [
    "---"
   ]
  },
  {
   "cell_type": "markdown",
   "id": "0561a309-9083-4899-9a0b-6247fa50200f",
   "metadata": {
    "editable": true,
    "slideshow": {
     "slide_type": ""
    },
    "tags": []
   },
   "source": [
    "#### Task 04 💻"
   ]
  },
  {
   "cell_type": "markdown",
   "id": "66801a64-2f07-478e-a270-96ac137be0eb",
   "metadata": {
    "deletable": false,
    "editable": false,
    "slideshow": {
     "slide_type": ""
    },
    "tags": []
   },
   "source": [
    "Create a new table called `KS_hail` which contains the same information in `hail` filtered to just those reports from Kansas. Since `KS_hail` will only contain Kansas reports, you can remove the column `state` as it is not needed anymore."
   ]
  },
  {
   "cell_type": "code",
   "execution_count": null,
   "id": "df2a5d71-889a-407e-b052-efa990d45058",
   "metadata": {
    "tags": []
   },
   "outputs": [],
   "source": [
    "KS_hail = ...\n",
    "KS_hail"
   ]
  },
  {
   "cell_type": "code",
   "execution_count": null,
   "id": "4b4d1620",
   "metadata": {
    "deletable": false,
    "editable": false
   },
   "outputs": [],
   "source": [
    "grader.check(\"task_04\")"
   ]
  },
  {
   "cell_type": "markdown",
   "id": "894e3690-45a3-4693-b7b7-d2f3d976a59e",
   "metadata": {},
   "source": [
    "---"
   ]
  },
  {
   "cell_type": "markdown",
   "id": "3b218c95-067c-4cc3-884f-c9d69850838d",
   "metadata": {
    "editable": true,
    "slideshow": {
     "slide_type": ""
    },
    "tags": []
   },
   "source": [
    "#### Task 05 💻"
   ]
  },
  {
   "cell_type": "markdown",
   "id": "01256347-2182-44c7-9245-787ec9baf893",
   "metadata": {
    "deletable": false,
    "editable": false,
    "slideshow": {
     "slide_type": ""
    },
    "tags": []
   },
   "source": [
    "Sort the `KS_hail` table so that the reports with the largest hail size are at the top and the smallest are at the bottom of the table. Name the resulting table as `KS_hail_sorted`."
   ]
  },
  {
   "cell_type": "code",
   "execution_count": null,
   "id": "6ab42813-360f-4246-9b3d-a9359752598b",
   "metadata": {
    "tags": []
   },
   "outputs": [],
   "source": [
    "KS_hail_sorted = ...\n",
    "KS_hail_sorted"
   ]
  },
  {
   "cell_type": "code",
   "execution_count": null,
   "id": "cce4736a",
   "metadata": {
    "deletable": false,
    "editable": false
   },
   "outputs": [],
   "source": [
    "grader.check(\"task_05\")"
   ]
  },
  {
   "cell_type": "markdown",
   "id": "725552f3-9adf-4d78-8f31-11d211f7321c",
   "metadata": {},
   "source": [
    "---"
   ]
  },
  {
   "cell_type": "markdown",
   "id": "b2854ac9-d517-4726-9a14-a80bd2af8cf9",
   "metadata": {
    "editable": true,
    "slideshow": {
     "slide_type": ""
    },
    "tags": []
   },
   "source": [
    "#### Task 06 💻"
   ]
  },
  {
   "cell_type": "markdown",
   "id": "6e03a254-3724-4fa7-abfb-9b86955eb644",
   "metadata": {
    "deletable": false,
    "editable": false,
    "slideshow": {
     "slide_type": ""
    },
    "tags": []
   },
   "source": [
    "What is the latitude and longitude of the oldest Texas hail report in the `hail` table? Assign the latitude to `TX_lat` and the longitude to `TX_long`.\n",
    "\n",
    "**Note**: We've typed `TX_lat, TX_long` on the last line of the code cell so that the latitude and longitude values you assign are displayed."
   ]
  },
  {
   "cell_type": "code",
   "execution_count": null,
   "id": "277955db-a610-4810-b6d8-f82ed08fafad",
   "metadata": {
    "tags": []
   },
   "outputs": [],
   "source": [
    "TX_lat = ...\n",
    "TX_long = ...\n",
    "TX_lat, TX_long"
   ]
  },
  {
   "cell_type": "code",
   "execution_count": null,
   "id": "0f6a2530",
   "metadata": {
    "deletable": false,
    "editable": false
   },
   "outputs": [],
   "source": [
    "grader.check(\"task_06\")"
   ]
  },
  {
   "cell_type": "markdown",
   "id": "308ba924-da66-46e7-ae91-8afe7577d0b5",
   "metadata": {},
   "source": [
    "---"
   ]
  },
  {
   "cell_type": "markdown",
   "id": "738fa5fa-723c-444f-a348-42576e46cf13",
   "metadata": {},
   "source": [
    "## Mapping Data"
   ]
  },
  {
   "cell_type": "markdown",
   "id": "234aa66b-d709-4886-9b6a-cdce864aaff0",
   "metadata": {},
   "source": [
    "<a href=\"https://python-visualization.github.io/folium/latest/getting_started.html#Choropleth-maps\"><img src=\"./USA_map.png\" alt=\"A map of the USA showing unemployment rates by state.\" width=500px></a>\n",
    "\n",
    "The `datascience` comes with a `Maps` module to help you visualize your tabular data. The tools in this module are derived from the Python library called [Folium](https://python-visualization.github.io/folium/latest/). For example, you can visualize the hail data by putting a circle on the latitude and longitude posted for each report with the following code:"
   ]
  },
  {
   "cell_type": "code",
   "execution_count": null,
   "id": "8b6bce17-9bb0-4f0c-9535-1d208b1c51f5",
   "metadata": {},
   "outputs": [],
   "source": [
    "hail_for_map = (\n",
    "    hail.select('latitude', 'longitude', 'location')\n",
    "    .relabeled('latitude', 'lat')\n",
    "    .relabeled('longitude', 'lon')\n",
    "    .relabeled('location', 'labels')\n",
    ")\n",
    "Circle.map_table(hail_for_map)"
   ]
  },
  {
   "cell_type": "markdown",
   "id": "224dec23-2ee0-455d-a6c6-d1a088d20703",
   "metadata": {},
   "source": [
    "Notice that for this work, we needed to organize the table used for making the map so that the column labels were a specific way that way `Circle` knew which values were the latitude values, longitude values, and labels for the pop ups when you click on circle marker."
   ]
  },
  {
   "cell_type": "code",
   "execution_count": null,
   "id": "83e1870d-d08e-4cd4-803f-d50c45d693d4",
   "metadata": {},
   "outputs": [],
   "source": [
    "hail_for_map"
   ]
  },
  {
   "cell_type": "markdown",
   "id": "346eaf4c-9a2b-432b-96dd-870a08312e8d",
   "metadata": {},
   "source": [
    "You can learn more about mapping data in the [Maps page of the `datascience` documentation](https://datascience.readthedocs.io/en/master/maps.html)."
   ]
  },
  {
   "cell_type": "markdown",
   "id": "5039d0b5-1846-40df-8dbe-8adfbd47ba4d",
   "metadata": {},
   "source": [
    "---"
   ]
  },
  {
   "cell_type": "markdown",
   "id": "f3031ba6-5c7e-47a3-844b-818d7a00e079",
   "metadata": {
    "editable": true,
    "slideshow": {
     "slide_type": ""
    },
    "tags": []
   },
   "source": [
    "#### Task 07 💭"
   ]
  },
  {
   "cell_type": "markdown",
   "id": "83aaebf5-4205-4ebc-bff4-de73497c3f07",
   "metadata": {
    "deletable": false,
    "editable": false,
    "slideshow": {
     "slide_type": ""
    },
    "tags": []
   },
   "source": [
    "<!-- BEGIN QUESTION -->\n",
    "\n",
    "Create a circle map of the hail report data for only the reports in Texas and adjust the size of the circles based on the size of the hail indicated in the report.\n",
    "\n",
    "**Note**: There is no auto-grader test for this task."
   ]
  },
  {
   "cell_type": "code",
   "execution_count": null,
   "id": "eef9eaa1-9d0d-421c-abe7-41ebb2c0aed1",
   "metadata": {
    "tags": []
   },
   "outputs": [],
   "source": []
  },
  {
   "cell_type": "markdown",
   "id": "04efaef9-bf07-4606-8215-4d1c29435ff6",
   "metadata": {
    "deletable": false,
    "editable": false
   },
   "source": [
    "<!-- END QUESTION -->\n",
    "\n",
    "---"
   ]
  },
  {
   "cell_type": "markdown",
   "id": "46b30c48-bbaa-4abe-93af-8cbcc1528ef5",
   "metadata": {},
   "source": [
    "## Rent Board Housing"
   ]
  },
  {
   "cell_type": "markdown",
   "id": "81ecd957-a1f4-4136-9a14-e2630438290e",
   "metadata": {},
   "source": [
    "<img src=\"./San_Francisco.avif\" alt=\"\" width=500px>\n",
    "\n",
    "Starting in 2022, the owners of residential housing units in San Francisco are required by law to report certain information about their units to the San Francisco Rent Board on an annual basis. The collection of this information is called [the Rent Board Housing Inventory](https://www.sf.gov/rent-board-housing-inventory). The Housing Inventory data is stored on the [DataSF Rent Board Housing Inventory page](https://data.sfgov.org/Housing-and-Buildings/Rent-Board-Housing-Inventory/gdc7-dmcn/about_data) in a few formats. The first few lines of the `CSV` file look like:\n",
    "\n",
    "```csv\n",
    "unique_id,block_num,unit_count,case_type_name,submission_year,block_address,occupancy_type,occupancy_or_vacancy_date,occupancy_or_vacancy_date_year,bedroom_count,bathroom_count,square_footage,monthly_rent,base_rent_includes_water_sewer,base_rent_includes_natural_gas,base_rent_includes_electricity,base_rent_includes_refuse_recycling,base_rent_includes_other_utilities,past_occupancy,vacancy_date,signature_date,occupancy_or_vacancy_date_history,year_property_built,point,analysis_neighborhood,supervisor_district,data_as_of,data_loaded_at\n",
    "4954258646076502265,7331,219,Housing Inventory - Unit information (2023),2023,0 Block of CHUMASERO DR,Vacant,nan,2023,One-Bedroom,One bathroom,751-1000 Sq.Ft,nan,N,N,N,N,nan,No,nan,2023-03-27T00:00:00.000,nan,,POINT (-122.473318473 37.714384926),Lakeshore,7,2025-02-12T01:30:26.000,2025-02-12T06:05:50.832\n",
    "5465711111802241417,7331,219,Housing Inventory - Unit information (2023),2023,0 Block of CHUMASERO DR,Vacant,nan,2023,Two-Bedroom,Two bathrooms,1001-1250 \n",
    "```\n",
    "\n",
    "How can we get that data into our notebook?\n",
    "* There is an option on DataSF's page that allows us to download the data as `CSV` and then we can upload it to our JupyterHub.\n",
    "* You can access the data directly through a special URL."
   ]
  },
  {
   "cell_type": "markdown",
   "id": "c050e534-6648-4918-aef6-1d8667daac0b",
   "metadata": {},
   "source": [
    "---"
   ]
  },
  {
   "cell_type": "markdown",
   "id": "3bab5728-7bae-4daf-9ee2-8f090b322ea5",
   "metadata": {
    "editable": true,
    "slideshow": {
     "slide_type": ""
    },
    "tags": []
   },
   "source": [
    "#### Task 08 💻"
   ]
  },
  {
   "cell_type": "markdown",
   "id": "1311f369-69ed-4b67-add2-eb96ed6b1f73",
   "metadata": {
    "deletable": false,
    "editable": false
   },
   "source": [
    "<img src=\"./DataSF_Export.png\" alt=\"The export pop-up window on the DataSF page.\">\n",
    "\n",
    "Download the data from [DataSF Rent Board Housing Inventory page](https://data.sfgov.org/Housing-and-Buildings/Rent-Board-Housing-Inventory/gdc7-dmcn/about_data) by clicking the Export button, upload it to the same place this notebook is located, and assign the data to the table `rent_upload`."
   ]
  },
  {
   "cell_type": "code",
   "execution_count": null,
   "id": "30c2e79c-5d50-4a53-82c9-9e72e71be5b2",
   "metadata": {
    "tags": []
   },
   "outputs": [],
   "source": [
    "rent_upload = ...\n",
    "rent_upload"
   ]
  },
  {
   "cell_type": "code",
   "execution_count": null,
   "id": "2d4475be",
   "metadata": {
    "deletable": false,
    "editable": false
   },
   "outputs": [],
   "source": [
    "grader.check(\"task_08\")"
   ]
  },
  {
   "cell_type": "markdown",
   "id": "1613c277-0b19-4bb0-b9ca-5d2c70069122",
   "metadata": {},
   "source": [
    "---"
   ]
  },
  {
   "cell_type": "markdown",
   "id": "115b6f7c-2f48-4268-bec7-069a8affc6b7",
   "metadata": {},
   "source": [
    "### APIs"
   ]
  },
  {
   "cell_type": "markdown",
   "id": "02bf774f-0bf8-4839-a71c-db43a37dd092",
   "metadata": {},
   "source": [
    "Now, you should have been able to download the `CSV` file from DataSF, upload it here, and load the notebook. A more systematic approach is to use an API to obtain that information directly from DataSF. \n",
    "\n",
    "An API (Application Programming Interface) is like a waiter at a restaurant. The kitchen (another program or service) has all the food (data), but you can't just barge in and grab it. You need to order through the waiter (API). The waiter takes your order (your request for data), goes to the kitchen, gets the food, and brings it back to you in a nice, organized way.\n",
    "\n",
    "```mermaid\n",
    "sequenceDiagram\n",
    "    participant User as You (Hungry Person)\n",
    "    participant API as API (Waiter)\n",
    "    participant Server as Data Server (Kitchen)\n",
    "\n",
    "    User->>API: Request Data (e.g., rental info for Lakeshore, 2024)\n",
    "    API->>Server: Fetch requested data\n",
    "    Server-->>API: Return filtered data\n",
    "    API-->>User: Deliver the data in a structured format\n",
    "\n",
    "    note over User,API: API acts as a middleman, handling data requests\n",
    "    note over API,Server: API retrieves only the required data\n",
    "```\n",
    "\n",
    "So, an API is a set of rules that lets different programs talk to each other. It defines what kinds of \"orders\" (data requests) you can make and what kind of \"food\" (data) you'll get back. This is super useful because it means you don't have to build everything from scratch. You can just ask another program for the information you need. For example, the `CSV` file you uploaded earlier originally came from the large `CSV` file stored at `https://data.sfgov.org/resource/gdc7-dmcn.csv`. That file is like a big menu and takes up a lot of storage space. Instead of downloading the *whole* menu, which might be huge, we can use an API to order just the dishes (data) we want.\n",
    "\n",
    "DataSF has an [API](https://dev.socrata.com/foundry/data.sfgov.org/gdc7-dmcn) that lets us ask for specific parts of the data. We can add things to the URL, like `?submission_year=2024&analysis_neighborhood='Lakeshore'`, to get only the data we're interested in, like the 2024 data for the Lakeshore neighborhood. It's like telling the waiter, \"I want the soup, but only the tomato soup, and only a small bowl.\" The API helps us get exactly what we need without having to deal with the whole kitchen (the entire dataset).\n",
    "\n",
    "Run the following command to get the 2024 Lakeshore data. Notice that we broke up the long string for the URL twice using the `\\` symbol. This is helpful so that string doesn't extend too far to the right of the screen."
   ]
  },
  {
   "cell_type": "code",
   "execution_count": null,
   "id": "8f596808-1d98-4bf6-9747-023b9402bb52",
   "metadata": {},
   "outputs": [],
   "source": [
    "Lakeshore_2024_url = \"https://data.sfgov.org/resource/gdc7-dmcn.csv?\\\n",
    "submission_year=2024&\\\n",
    "analysis_neighborhood='Lakeshore'\"\n",
    "Table.read_table(Lakeshore_2024_url)"
   ]
  },
  {
   "cell_type": "markdown",
   "id": "9db2330e-5521-466d-87c9-95491dbea3dd",
   "metadata": {},
   "source": [
    "---"
   ]
  },
  {
   "cell_type": "markdown",
   "id": "7440e47e-30bf-4242-bde5-db39db9ae42d",
   "metadata": {},
   "source": [
    "### Throttling "
   ]
  },
  {
   "cell_type": "markdown",
   "id": "d4001a9f-4a80-4399-ae89-4b3a64482a9e",
   "metadata": {},
   "source": [
    "Many modern data sets are very large and update pretty frequently. Every request made with an API is associated with a cost. Some platforms limit your access to a few requests per day if you don't pay for more access. Another way platforms reduce costs is to limit the amount of data that is transferred by default with an API request. In other words, they throttle the data. DataSF is configured to only provide 1,000 rows of data in a single request unless you specify otherwise. The `$limit=80000` API parameter can be added to the URL to get **all** the available 2024 data. \n",
    "\n",
    "```\n",
    "\"https://data.sfgov.org/resource/gdc7-dmcn.csv?submission_year=2024&analysis_neighborhood='Lakeshore'&$limit=80000\"\n",
    "```\n",
    "\n",
    "Having all of that data in your possession can be really helpful, but in many cases that file is really large, and the data changes frequently, so you end up running out of memory on your computer or end up working with old data."
   ]
  },
  {
   "cell_type": "markdown",
   "id": "78847fc8-2588-41ce-a8f6-2cbdbcfcf02d",
   "metadata": {},
   "source": [
    "---"
   ]
  },
  {
   "cell_type": "markdown",
   "id": "d56bcfa6-53a8-41b9-b1a1-f22a02976650",
   "metadata": {
    "editable": true,
    "slideshow": {
     "slide_type": ""
    },
    "tags": []
   },
   "source": [
    "### Task 09 💻"
   ]
  },
  {
   "cell_type": "markdown",
   "id": "a848b6ab-3399-4595-a1fc-9bf5e99eac2f",
   "metadata": {
    "deletable": false,
    "editable": false,
    "slideshow": {
     "slide_type": ""
    },
    "tags": []
   },
   "source": [
    "Using the DataSF API, get the 2024 Mission rental data where the base rent price includes electricity. Assign the data as a table to the name `Mission_2024`.\n",
    "\n",
    "**Note**: There should only be a few hundred rentals that match this description, so you don't need to worry about throttling. "
   ]
  },
  {
   "cell_type": "code",
   "execution_count": null,
   "id": "dc03dbc8-9675-4c0d-8c85-a30741c5a788",
   "metadata": {
    "tags": []
   },
   "outputs": [],
   "source": [
    "Mission_2024_url = \"https://data.sfgov.org/resource/gdc7-dmcn.csv?\\\n",
    "submission_year=2024&\\\n",
    "analysis_neighborhood='Mission'&\\\n",
    "base_rent_includes_electricity='Y'\"\n",
    "Mission_2024 = Table.read_table(Mission_2024_url)\n",
    "Mission_2024"
   ]
  },
  {
   "cell_type": "code",
   "execution_count": null,
   "id": "718c932c",
   "metadata": {
    "deletable": false,
    "editable": false
   },
   "outputs": [],
   "source": [
    "grader.check(\"task_09\")"
   ]
  },
  {
   "cell_type": "markdown",
   "id": "dcdbc86f-33af-40a9-bc6d-4cae34e28394",
   "metadata": {},
   "source": [
    "Great work accessing the DataSF data through their API. This is a huge step. A lot of your favorite platforms like Spotify, IMDB, etc. have a API so that you can access the data in similar way. Go explore!"
   ]
  },
  {
   "cell_type": "markdown",
   "id": "47e8cd91-b8b6-4120-a180-7355d2b376f9",
   "metadata": {},
   "source": [
    "---"
   ]
  },
  {
   "cell_type": "markdown",
   "id": "69dc1342-9d45-46e5-8232-ee0867831a1d",
   "metadata": {
    "editable": true,
    "slideshow": {
     "slide_type": ""
    },
    "tags": []
   },
   "source": [
    "### Task 10 💻"
   ]
  },
  {
   "cell_type": "markdown",
   "id": "f3e24add-9f29-465b-8913-fbf278678a66",
   "metadata": {
    "deletable": false,
    "editable": false,
    "slideshow": {
     "slide_type": ""
    },
    "tags": []
   },
   "source": [
    "How many one-bedroom rentals are there (reported) in the 2024 Mission Housing Inventory? Assign that value to `one_bedrooms_count`."
   ]
  },
  {
   "cell_type": "code",
   "execution_count": null,
   "id": "b53f1dab-6f07-46d8-ab56-ef2cb9700834",
   "metadata": {
    "tags": []
   },
   "outputs": [],
   "source": [
    "one_bedrooms_count = Mission_2024.where('bedroom_count', 'One-Bedroom').num_rows\n",
    "one_bedrooms_count "
   ]
  },
  {
   "cell_type": "code",
   "execution_count": null,
   "id": "a95f727c",
   "metadata": {
    "deletable": false,
    "editable": false
   },
   "outputs": [],
   "source": [
    "grader.check(\"task_10\")"
   ]
  },
  {
   "cell_type": "markdown",
   "id": "2ae8e1f4-d036-4d3b-b3bd-0c8c2deaea2d",
   "metadata": {
    "editable": true,
    "slideshow": {
     "slide_type": ""
    },
    "tags": []
   },
   "source": [
    "---"
   ]
  },
  {
   "cell_type": "markdown",
   "id": "c11c8fb1-554c-4ce0-b48b-78b84fe7404f",
   "metadata": {},
   "source": [
    "## Reflection"
   ]
  },
  {
   "cell_type": "markdown",
   "id": "8bb442e3-93ec-4e95-b913-ae40f3d100ff",
   "metadata": {},
   "source": [
    "This activity introduced you to the fundamentals of accessing and working with stored data. Through hands-on exercises, you learned how to read different data formats, manipulate tables, and explore datasets. While there are countless ways to store and access data, becoming familiar with a few common file types and retrieval methods will make it easier to learn new ones using documentation and tutorials. In most projects, you'll encounter a limited set of data formats and preferred access methods, so focusing on these will help you build confidence and efficiency in working with real-world datasets."
   ]
  },
  {
   "cell_type": "markdown",
   "id": "6f1a1575-d1cc-4e5b-9e36-6d2fce3c3b00",
   "metadata": {
    "editable": true,
    "slideshow": {
     "slide_type": ""
    },
    "tags": []
   },
   "source": [
    "---"
   ]
  },
  {
   "cell_type": "markdown",
   "id": "830cd3aa-7268-4b8d-9de1-b8291a77d457",
   "metadata": {
    "editable": true,
    "slideshow": {
     "slide_type": "notes"
    },
    "tags": []
   },
   "source": [
    "## License"
   ]
  },
  {
   "cell_type": "markdown",
   "id": "55e19cd7-8808-4101-a381-c0897b12ce07",
   "metadata": {
    "editable": true,
    "slideshow": {
     "slide_type": ""
    },
    "tags": []
   },
   "source": [
    "This content is licensed under the <a href=\"https://creativecommons.org/licenses/by-nc-sa/4.0/\">Creative Commons Attribution-NonCommercial-ShareAlike 4.0 International License (CC BY-NC-SA 4.0)</a>.\n",
    "\n",
    "<img src=\"./by-nc-sa.png\" width=100px>"
   ]
  }
 ],
 "metadata": {
  "kernelspec": {
   "display_name": "Python 3 (ipykernel)",
   "language": "python",
   "name": "python3"
  },
  "language_info": {
   "codemirror_mode": {
    "name": "ipython",
    "version": 3
   },
   "file_extension": ".py",
   "mimetype": "text/x-python",
   "name": "python",
   "nbconvert_exporter": "python",
   "pygments_lexer": "ipython3",
   "version": "3.11.9"
  },
  "otter": {
   "OK_FORMAT": true,
   "assignment_name": "gla02_sp25",
   "tests": {
    "task_01": {
     "name": "task_01",
     "points": null,
     "suites": [
      {
       "cases": [
        {
         "code": ">>> isinstance(hail, Table)\nTrue",
         "failure_message": "\"❌ hail should be assigned to a Table.\"",
         "hidden": false,
         "locked": false,
         "success_message": "\"✅ hail is assigned to a Table.\"\n"
        },
        {
         "code": ">>> hail.column('latitude').sum() + hail.column('longitude').sum()\n-107668.5",
         "failure_message": "\"❌ It doesn't seem like you've assigned hail to the correct data.\"",
         "hidden": false,
         "locked": false,
         "success_message": "\"✅ It seems like you've assigned hail to the correct data.\"\n"
        }
       ],
       "scored": true,
       "setup": "",
       "teardown": "",
       "type": "doctest"
      }
     ]
    },
    "task_02": {
     "name": "task_02",
     "points": null,
     "suites": [
      {
       "cases": [
        {
         "code": ">>> import numbers\n>>> isinstance(hail_num_rows, numbers.Integral)\nTrue",
         "failure_message": "\"❌ hail_num_rows should be assigned to an integer.\"",
         "hidden": false,
         "locked": false,
         "success_message": "\"✅ hail_num_rows is assigned to an integer.\"\n"
        },
        {
         "code": ">>> hail_num_rows\n1745",
         "failure_message": "\"❌ It doesn't seem like you've assigned hail_num_rows to the correct number.\"",
         "hidden": false,
         "locked": false,
         "success_message": "\"✅ It seems like you've assigned hail_num_rows to the correct number.\"\n"
        }
       ],
       "scored": true,
       "setup": "",
       "teardown": "",
       "type": "doctest"
      }
     ]
    },
    "task_03": {
     "name": "task_03",
     "points": null,
     "suites": [
      {
       "cases": [
        {
         "code": ">>> import numbers\n>>> isinstance(average_hail_size, numbers.Real)\nTrue",
         "failure_message": "\"❌ average_hail_size should be assigned to a numerical value.\"",
         "hidden": false,
         "locked": false,
         "success_message": "\"✅ average_hail_size is assigned to a numerical value.\"\n"
        },
        {
         "code": ">>> average_hail_size\n147.08882521489971",
         "failure_message": "\"❌ It doesn't seem like you've assigned average_hail_size to the correct number.\"",
         "hidden": false,
         "locked": false,
         "success_message": "\"✅ It seems like you've assigned average_hail_size to the correct number.\"\n"
        }
       ],
       "scored": true,
       "setup": "",
       "teardown": "",
       "type": "doctest"
      }
     ]
    },
    "task_04": {
     "name": "task_04",
     "points": null,
     "suites": [
      {
       "cases": [
        {
         "code": ">>> isinstance(KS_hail, Table)\nTrue",
         "failure_message": "\"❌ KS_hail should be assigned to a Table.\"",
         "hidden": false,
         "locked": false,
         "success_message": "\"✅ KS_hail is assigned to a Table.\"\n"
        },
        {
         "code": ">>> KS_hail.labels\n('timestamp', 'size', 'latitude', 'longitude', 'location')",
         "failure_message": "\"❌ KS_hail doesn't have the correct column labels.\"",
         "hidden": false,
         "locked": false,
         "success_message": "\"✅ KS_hail has the correct column labels\"\n"
        },
        {
         "code": ">>> KS_hail\ntimestamp                      | size | latitude | longitude | location\n2021-04-07 04:45:00.000000 UTC | 100  | 37.29    | -98.58    | MEDICINE LODGE\n2021-04-07 01:34:00.000000 UTC | 125  | 38.29    | -98.99    | 2 NNW PAWNEE ROCK\n2021-04-07 02:45:00.000000 UTC | 150  | 38.29    | -98.76    | 6 SSE GREAT BEND\n2021-04-07 03:03:00.000000 UTC | 100  | 38.36    | -98.79    | 1 E GREAT BEND\n2021-04-07 03:39:00.000000 UTC | 100  | 38.36    | -98.58    | ELLINWOOD\n2021-05-16 23:02:00.000000 UTC | 125  | 38.52    | -98.78    | HOISINGTON\n2021-09-15 01:10:00.000000 UTC | 200  | 38.36    | -98.76    | 1 SE GREAT BEND\n2021-09-15 01:40:00.000000 UTC | 100  | 38.52    | -98.77    | HOISINGTON\n2021-06-12 02:00:00.000000 UTC | 175  | 37.79    | -97.11    | BENTON\n2021-07-10 20:17:00.000000 UTC | 175  | 37.61    | -96.61    | 5 NNE LATHAM\n... (291 rows omitted)",
         "failure_message": "\"❌ It doesn't seem like you've assigned KS_hail to the correct table.\"",
         "hidden": false,
         "locked": false,
         "success_message": "\"✅ It seems like you've assigned KS_hail to the correct table\"\n"
        }
       ],
       "scored": true,
       "setup": "",
       "teardown": "",
       "type": "doctest"
      }
     ]
    },
    "task_05": {
     "name": "task_05",
     "points": null,
     "suites": [
      {
       "cases": [
        {
         "code": ">>> isinstance(KS_hail_sorted, Table)\nTrue",
         "failure_message": "\"❌ KS_hail_sorted should be assigned to a table.\"",
         "hidden": false,
         "locked": false,
         "success_message": "\"✅ KS_hail_sorted is assigned to a table.\"\n"
        },
        {
         "code": ">>> KS_hail_sorted.column('size').sum()\n42650",
         "failure_message": "\"❌ KS_hail_sorted doesn't seem to have the correct data.\"",
         "hidden": false,
         "locked": false,
         "success_message": "\"✅ KS_hail_sorted seems to have the correct data.\"\n"
        },
        {
         "code": ">>> np.all(KS_hail_sorted.column('size') == np.sort(KS_hail_sorted.column('size'))[::-1])\nTrue",
         "failure_message": "\"❌ KS_hail_sorted doesn't seem to be sorted correctly.\"",
         "hidden": false,
         "locked": false,
         "success_message": "\"✅ KS_hail_sorted seems to be sorted correctly.\"\n"
        }
       ],
       "scored": true,
       "setup": "",
       "teardown": "",
       "type": "doctest"
      }
     ]
    },
    "task_06": {
     "name": "task_06",
     "points": null,
     "suites": [
      {
       "cases": [
        {
         "code": ">>> import numbers\n>>> isinstance(TX_lat, numbers.Real)\nTrue",
         "failure_message": "\"❌ TX_lat is not a numerical value.\"",
         "hidden": false,
         "locked": false,
         "success_message": "\"✅ TX_lat is a numerical value.\"\n"
        },
        {
         "code": ">>> import numbers\n>>> isinstance(TX_long, numbers.Real)\nTrue",
         "failure_message": "\"❌ TX_long is not a numerical value.\"",
         "hidden": false,
         "locked": false,
         "success_message": "\"✅ TX_long is a numerical value.\"\n"
        },
        {
         "code": ">>> TX_lat\n30.76",
         "failure_message": "\"❌ TX_lat is not correct.\"",
         "hidden": false,
         "locked": false,
         "success_message": "\"✅ TX_lat is correct.\"\n"
        },
        {
         "code": ">>> TX_long\n-96.75",
         "failure_message": "\"❌ TX_long is not correct.\"",
         "hidden": false,
         "locked": false,
         "success_message": "\"✅ TX_long is correct.\"\n"
        }
       ],
       "scored": true,
       "setup": "",
       "teardown": "",
       "type": "doctest"
      }
     ]
    },
    "task_08": {
     "name": "task_08",
     "points": null,
     "suites": [
      {
       "cases": [
        {
         "code": ">>> isinstance(rent_upload, Table)\nTrue",
         "failure_message": "\"❌ You should have assigned rent_upload to a table.\"",
         "hidden": false,
         "locked": false,
         "success_message": "\"✅ You've assigned rent_upload to a table.\"\n"
        }
       ],
       "scored": true,
       "setup": "",
       "teardown": "",
       "type": "doctest"
      }
     ]
    },
    "task_09": {
     "name": "task_09",
     "points": null,
     "suites": [
      {
       "cases": [
        {
         "code": ">>> isinstance(Mission_2024, Table)\nTrue",
         "failure_message": "\"❌ Mission_2024 should be assigned to a table.\"",
         "hidden": false,
         "locked": false,
         "success_message": "\"✅ Mission_2024 is assigned to a table.\"\n"
        },
        {
         "code": ">>> Mission_2024.num_rows\n347",
         "failure_message": "\"❌ Mission_2024 does not have the correct number of rows.\"",
         "hidden": false,
         "locked": false,
         "success_message": "\"✅ Mission_2024 has the correct number of rows.\"\n"
        },
        {
         "code": ">>> Mission_2024.num_columns\n28",
         "failure_message": "\"❌ Mission_2024 does not have the correct number of columns.\"",
         "hidden": false,
         "locked": false,
         "success_message": "\"✅ Mission_2024 has the correct number of columns.\"\n"
        },
        {
         "code": ">>> Mission_2024.column('unique_id').sum()\n8918569704665515528",
         "failure_message": "\"❌ Mission_2024 doesn't seem to contain the correct data.\"",
         "hidden": false,
         "locked": false,
         "success_message": "\"✅ Mission_2024 seems to contain the correct data.\"\n"
        }
       ],
       "scored": true,
       "setup": "",
       "teardown": "",
       "type": "doctest"
      }
     ]
    },
    "task_10": {
     "name": "task_10",
     "points": null,
     "suites": [
      {
       "cases": [
        {
         "code": ">>> import numbers\n>>> isinstance(one_bedrooms_count, numbers.Real)\nTrue",
         "failure_message": "\"❌ one_bedrooms_count should be assigned to a number.\"",
         "hidden": false,
         "locked": false,
         "success_message": "\"✅ one_bedrooms_count is assigned to a number.\"\n"
        },
        {
         "code": ">>> one_bedrooms_count\n52",
         "failure_message": "\"❌ one_bedrooms_count is not correct.\"",
         "hidden": false,
         "locked": false,
         "success_message": "\"✅ one_bedrooms_count is correct.\"\n"
        }
       ],
       "scored": true,
       "setup": "",
       "teardown": "",
       "type": "doctest"
      }
     ]
    }
   }
  }
 },
 "nbformat": 4,
 "nbformat_minor": 5
}
