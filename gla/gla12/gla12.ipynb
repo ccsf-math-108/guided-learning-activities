{
 "cells": [
  {
   "cell_type": "code",
   "execution_count": null,
   "id": "d2d0a2a6",
   "metadata": {
    "deletable": false,
    "editable": false
   },
   "outputs": [],
   "source": [
    "# Initialize Otter\n",
    "import otter\n",
    "grader = otter.Notebook(\"gla12.ipynb\")"
   ]
  },
  {
   "cell_type": "markdown",
   "id": "692fbc6d-0645-4e75-b205-29989ec616ab",
   "metadata": {},
   "source": [
    "<img src=\"./ccsf.png\" alt=\"CCSF Logo\" width=200px style=\"margin:0px -5px\">"
   ]
  },
  {
   "cell_type": "markdown",
   "id": "c83b268c-d46e-450b-b4af-a2390020878c",
   "metadata": {
    "tags": []
   },
   "source": [
    "# Guided Learning Activity 12: Residual Analysis and Prediction Intervals"
   ]
  },
  {
   "cell_type": "markdown",
   "id": "f5c0e5f0-1759-4129-8e2e-8301f1db6953",
   "metadata": {},
   "source": [
    "This Guided Learning Activity is designed for you to complete alongside a Data Ambassador from the course. You might find that it feels like a combination of the lectures and lab assignment. Whether you are participating live or watching the recording of the live meeting, let the Data Ambassador guide you through the following tasks. There will be moments for you to reflect and explore your own ideas as a way to solidify concepts and skills introduced by your instructor. Keep in mind that this is not a graded assignment for MATH 108 by default. If you have any concerns about participation, reach out to your instructor."
   ]
  },
  {
   "cell_type": "markdown",
   "id": "20d80b08-8562-4cc5-aa65-1e0c97ac6985",
   "metadata": {},
   "source": [
    "---"
   ]
  },
  {
   "cell_type": "markdown",
   "id": "eccd253c-ffd2-40f0-98ac-cc06cc8dec20",
   "metadata": {},
   "source": [
    "## Learning Objectives"
   ]
  },
  {
   "cell_type": "markdown",
   "id": "66e18ccd-f8f0-4f7c-a1f9-c872f5ca01af",
   "metadata": {},
   "source": [
    "1. Review linear regression and residuals\n",
    "2. Describe how to decide between two models based on data trends, MSE values, and residual plots\n",
    "3. Fit a model to real data after considering residual plots\n",
    "4. Create a prediction interval estimate based on a model"
   ]
  },
  {
   "cell_type": "markdown",
   "id": "9a45b759-69b8-4061-b2f8-06483c0e2e92",
   "metadata": {},
   "source": [
    "---"
   ]
  },
  {
   "cell_type": "markdown",
   "id": "0c2302a6-fda0-41de-a349-169954a09cf8",
   "metadata": {},
   "source": [
    "## Configure the Notebook"
   ]
  },
  {
   "cell_type": "markdown",
   "id": "06843add-4d19-4e8d-a8ca-a9bcbee58f31",
   "metadata": {},
   "source": [
    "Run the following code cell to set up the notebook."
   ]
  },
  {
   "cell_type": "code",
   "execution_count": null,
   "id": "253bae4d-e069-42ce-b797-c3cfe5a9fc12",
   "metadata": {},
   "outputs": [],
   "source": [
    "from datascience import *\n",
    "import numpy as np\n",
    "%matplotlib inline\n",
    "import matplotlib.pyplot as plt\n",
    "plt.style.use('fivethirtyeight')\n",
    "\n",
    "# Functions from MATH 108 textbook\n",
    "def standard_units(any_numbers):\n",
    "    \"\"\"Convert any array of numbers to standard units.\"\"\"\n",
    "    return (any_numbers - np.mean(any_numbers))/np.std(any_numbers)  \n",
    "\n",
    "def correlation(t, label_x, label_y):\n",
    "    return np.mean(standard_units(t.column(label_x))*standard_units(t.column(label_y)))\n",
    "\n",
    "def slope(t, label_x, label_y):\n",
    "    r = correlation(t, label_x, label_y)\n",
    "    return r*np.std(t.column(label_y))/np.std(t.column(label_x))\n",
    "\n",
    "def intercept(t, label_x, label_y):\n",
    "    return np.mean(t.column(label_y)) - slope(t, label_x, label_y)*np.mean(t.column(label_x))\n",
    "\n",
    "def fit(table, x, y):\n",
    "    \"\"\"Return the height of the regression line at each x value.\"\"\"\n",
    "    a = slope(table, x, y)\n",
    "    b = intercept(table, x, y)\n",
    "    return a * table.column(x) + b\n",
    "\n",
    "def residual(table, x, y):\n",
    "    return table.column(y) - fit(table, x, y)"
   ]
  },
  {
   "cell_type": "markdown",
   "id": "5e948050-3ccc-4b92-b3ac-a06885a72567",
   "metadata": {},
   "source": [
    "---"
   ]
  },
  {
   "cell_type": "markdown",
   "id": "9cc3473a-3145-4288-9441-7af599da47a9",
   "metadata": {},
   "source": [
    "## Residual Analysis"
   ]
  },
  {
   "cell_type": "markdown",
   "id": "0768ab18-070d-487b-96eb-6578f455d5c2",
   "metadata": {},
   "source": [
    "---"
   ]
  },
  {
   "cell_type": "markdown",
   "id": "005bfc25-da71-4dce-bfd8-169a3329e5a0",
   "metadata": {},
   "source": [
    "### Linear Regression Review"
   ]
  },
  {
   "cell_type": "markdown",
   "id": "ca9048f7-273b-42f2-abb7-871f544d35e1",
   "metadata": {},
   "source": [
    "- The **least squares regression line** minimizes the **mean squared error (MSE)**.\n",
    "- It's the best-fitting **line**, but only if a line makes sense."
   ]
  },
  {
   "cell_type": "markdown",
   "id": "73329d8b-b628-4de9-9e4c-3e41ec4f4930",
   "metadata": {},
   "source": [
    "---"
   ]
  },
  {
   "cell_type": "markdown",
   "id": "d5a4fdb0-47ba-4bb4-b2c6-13f18105bb43",
   "metadata": {},
   "source": [
    "### Residuals"
   ]
  },
  {
   "cell_type": "markdown",
   "id": "7277b62d-beb3-45bc-8d10-97f398080a87",
   "metadata": {},
   "source": [
    "<img src=\"./residuals_annotated.png\" width=700px alt='Residuals annotated for a few data points with the regression line shown'>\n",
    "\n",
    "- A residual (error) is the difference between the actual value and the predicted value.\n",
    "- The average residual is 0\n",
    "- The SD of the residuals is a fraction of the SD of $y$\n",
    "    - The fraction is $\\sqrt{1 - r^2}$\n",
    "        - $r$ is the correlation coefficient for $x$ and $y$\n",
    "    - An interpretation of $r^2$: The proportion of variance in the $y$ that is predicted by the $x$.\n",
    "        - $r^2$ (or $R^2$ in common notation) is known as the Coefficient of Determination\n",
    "        - Higher $R^2$ indicates a better fit of the model to the data"
   ]
  },
  {
   "cell_type": "markdown",
   "id": "25400e59-1a04-4ac5-b260-7d8fb8e3daee",
   "metadata": {},
   "source": [
    "---"
   ]
  },
  {
   "cell_type": "markdown",
   "id": "6edde694-e9c3-4d63-aec2-dbbe225bd8f9",
   "metadata": {},
   "source": [
    "### When is a Line a Good Choice?"
   ]
  },
  {
   "cell_type": "markdown",
   "id": "cf2b8198-56b6-453b-b9b3-2a1d2cb79db3",
   "metadata": {},
   "source": [
    "- Visual Inspection:\n",
    "    - Create a **scatterplot** of the variables\n",
    "    - If the trend is **linear**, a line may work well\n",
    "    - If the trend is **curved or uneven**, consider a **nonlinear** model\n",
    "- Compare Models:\n",
    "    - Fit several reasonable models (e.g., linear, polynomial, log)\n",
    "    - Compare their **MSE** values — lower is better\n",
    "- Examine Residual Plots:\n",
    "    - A residual plot is a scatter plot of $y$ vs. residuals\n",
    "    - If residuals are **randomly scattered** (no pattern), a linear model is likely appropriate\n",
    "    - If residuals show a curve, funnel, or pattern, then consider another model"
   ]
  },
  {
   "cell_type": "markdown",
   "id": "630d0137-9592-4408-9519-7126caf6d1cf",
   "metadata": {},
   "source": [
    "---"
   ]
  },
  {
   "cell_type": "markdown",
   "id": "ca1b040c-a9fb-4d1e-afea-91ecc00dc5ac",
   "metadata": {
    "tags": []
   },
   "source": [
    "### Task 01 📍🔎"
   ]
  },
  {
   "cell_type": "markdown",
   "id": "7c352ea8-c6c6-4a8b-88d0-74a949877b93",
   "metadata": {
    "deletable": false,
    "editable": false
   },
   "source": [
    "<!-- BEGIN QUESTION -->\n",
    "\n",
    "The following graphic shows the scatterplot with regression line and MSE along with the associated residual plot for two relationships. Which relationship is best suited for a linear regression model? Address the way the regression line fits the data in the scatterplot, compare the MSE values, and compare the residuals plots to support your opinion.\n",
    "\n",
    "<img src=\"./two_relationships.png\" width=800px alt=\"Scatterplot with regression line and MSE and residual plot for two relationships\">"
   ]
  },
  {
   "cell_type": "markdown",
   "id": "16e0adda",
   "metadata": {},
   "source": [
    "_Type your answer here, replacing this text._"
   ]
  },
  {
   "cell_type": "markdown",
   "id": "af4e8867-fa9e-4ef0-a50c-f5fcbc90756f",
   "metadata": {
    "deletable": false,
    "editable": false,
    "slideshow": {
     "slide_type": "fragment"
    }
   },
   "source": [
    "<!-- END QUESTION -->\n",
    "\n",
    "---"
   ]
  },
  {
   "cell_type": "markdown",
   "id": "e7f6b385-1436-4c75-9d29-ca7619189d05",
   "metadata": {},
   "source": [
    "## Michaelis–Menten Kinetics"
   ]
  },
  {
   "cell_type": "markdown",
   "id": "4b9ded56-8554-4bed-b1b1-c3f3b7a13f46",
   "metadata": {},
   "source": [
    "<a href=\"https://en.wikipedia.org/wiki/Michaelis%E2%80%93Menten_kinetics\" target=\"_blank\"><img src=\"./MM-curve.jpg\" width=400px alt=\"Curve of the Michaelis–Menten equation labelled in accordance with IUBMB recommendations\"></a>\n",
    "\n",
    "From <a href=\"https://en.wikipedia.org/wiki/Michaelis%E2%80%93Menten_kinetics\" target=\"_blank\">Wikipedia</a>:\n",
    "\n",
    "> In biochemistry, Michaelis–Menten kinetics, named after Leonor Michaelis and Maud Menten, is the simplest case of enzyme kinetics, applied to enzyme-catalysed reactions involving the transformation of one substrate into one product."
   ]
  },
  {
   "cell_type": "markdown",
   "id": "a1a45638-293b-4217-8b48-4dfd3f5d8234",
   "metadata": {
    "editable": true,
    "slideshow": {
     "slide_type": ""
    },
    "tags": []
   },
   "source": [
    "---"
   ]
  },
  {
   "cell_type": "markdown",
   "id": "29deea80-43a1-4513-904a-81ff947319f7",
   "metadata": {
    "editable": true,
    "slideshow": {
     "slide_type": ""
    },
    "tags": []
   },
   "source": [
    "### Biochemistry Basics"
   ]
  },
  {
   "cell_type": "markdown",
   "id": "e365fe8e-62d8-42cb-81ab-2495eeddfea1",
   "metadata": {},
   "source": [
    "- **Enzyme**: A protein that speeds up chemical reactions in the body.\n",
    "- **Substrate**: The molecule that the enzyme acts on (like a key in a lock).\n",
    "- **Enzyme + substrate → product**: The reaction rate depends on substrate amount.\n",
    "- **Saturation point**: When all enzymes are busy, adding more substrate won't increase speed."
   ]
  },
  {
   "cell_type": "markdown",
   "id": "481921f4-e27c-4fd4-9c71-3a22ba516516",
   "metadata": {
    "editable": true,
    "slideshow": {
     "slide_type": ""
    },
    "tags": []
   },
   "source": [
    "---"
   ]
  },
  {
   "cell_type": "markdown",
   "id": "e6dafd08-eee3-4d5c-a635-d1f978a4ceec",
   "metadata": {},
   "source": [
    "### The Data"
   ]
  },
  {
   "cell_type": "markdown",
   "id": "4248c78f-f434-40b7-ad61-80db0ef5c6a7",
   "metadata": {},
   "source": [
    "The file [`puromycin.csv`](https://www.rdocumentation.org/packages/datasets/versions/3.6.2/topics/Puromycin) contains 23 rows and 3 columns of the reaction velocity versus substrate concentration in an enzymatic reaction involving untreated cells or cells treated with [Puromycin](https://en.wikipedia.org/wiki/Puromycin), an inhibitor that slows down enzymatic reactions."
   ]
  },
  {
   "cell_type": "markdown",
   "id": "7c9dffab-1c08-4114-9091-1c7bdaedb3a9",
   "metadata": {
    "editable": true,
    "slideshow": {
     "slide_type": ""
    },
    "tags": []
   },
   "source": [
    "---"
   ]
  },
  {
   "cell_type": "markdown",
   "id": "4bcd5b9c-15a4-4656-a2a1-cef2251ed3d9",
   "metadata": {
    "tags": []
   },
   "source": [
    "### Task 02 📍"
   ]
  },
  {
   "cell_type": "markdown",
   "id": "880e8f50-4afe-434d-ab38-b734f860ffca",
   "metadata": {
    "deletable": false,
    "editable": false
   },
   "source": [
    "Assign the `puromycin.csv` to the `Table` called `puromycin`. The table should contain only the untreated data and the following columns:\n",
    "\n",
    "- `'Concentration'`: a numeric vector of substrate concentrations (ppm)\n",
    "- `'Reaction Rate'`: a numeric vector of instantaneous reaction rates (counts/min/min)"
   ]
  },
  {
   "cell_type": "code",
   "execution_count": null,
   "id": "94fdc982-ace1-44fe-a702-1a16e5b866ac",
   "metadata": {
    "tags": []
   },
   "outputs": [],
   "source": [
    "puromycin = ...\n",
    "puromycin"
   ]
  },
  {
   "cell_type": "code",
   "execution_count": null,
   "id": "c6c69f98",
   "metadata": {
    "deletable": false,
    "editable": false
   },
   "outputs": [],
   "source": [
    "grader.check(\"task_02\")"
   ]
  },
  {
   "cell_type": "markdown",
   "id": "05411771-6601-4d39-896a-e8810d0e54f1",
   "metadata": {
    "editable": true,
    "slideshow": {
     "slide_type": ""
    },
    "tags": []
   },
   "source": [
    "---"
   ]
  },
  {
   "cell_type": "markdown",
   "id": "7d0bfde8-f1d9-4f7f-956a-884be031ce88",
   "metadata": {
    "tags": []
   },
   "source": [
    "### Task 03 📍🔎"
   ]
  },
  {
   "cell_type": "markdown",
   "id": "c4d046f0-fbcc-48ea-a260-cb3992b26d08",
   "metadata": {
    "deletable": false,
    "editable": false
   },
   "source": [
    "<!-- BEGIN QUESTION -->\n",
    "\n",
    "Visualize the relations between the substrate concentrations and reaction rates, where the concentrations are the explanatory variable. Include the best fit line in the visualization."
   ]
  },
  {
   "cell_type": "code",
   "execution_count": null,
   "id": "ffb0cab4-35b3-4b9a-88ca-2fb8bf4e3f03",
   "metadata": {
    "tags": []
   },
   "outputs": [],
   "source": [
    "...\n",
    "plt.title('Reaction Rate vs. Substrate Concentration')\n",
    "plt.show()"
   ]
  },
  {
   "cell_type": "markdown",
   "id": "5150fc4b-9365-4005-88b2-335ac8f26ce7",
   "metadata": {
    "deletable": false,
    "editable": false
   },
   "source": [
    "<!-- END QUESTION -->\n",
    "\n",
    "---"
   ]
  },
  {
   "cell_type": "markdown",
   "id": "7f420c18-e3fa-4346-9c4f-62a2caf07309",
   "metadata": {
    "tags": []
   },
   "source": [
    "### Task 04 📍"
   ]
  },
  {
   "cell_type": "markdown",
   "id": "a3041a9a-f310-4d8f-b6c9-da1ba8aa8fba",
   "metadata": {
    "deletable": false,
    "editable": false
   },
   "source": [
    "Create a table called `puromycin_with_residuals` that contains the same information from `puromycin` with an additional column called `Residual` that contains the residual based on a linear regression model.\n",
    "\n",
    "**Hint**: Utilize the `residual` function from MATH 108."
   ]
  },
  {
   "cell_type": "code",
   "execution_count": null,
   "id": "482f0cc9-22d8-4daa-b027-491afc7a3781",
   "metadata": {
    "tags": []
   },
   "outputs": [],
   "source": [
    "puromycin_with_residuals = ...\n",
    "puromycin_with_residuals"
   ]
  },
  {
   "cell_type": "code",
   "execution_count": null,
   "id": "5abacbc3",
   "metadata": {
    "deletable": false,
    "editable": false
   },
   "outputs": [],
   "source": [
    "grader.check(\"task_04\")"
   ]
  },
  {
   "cell_type": "markdown",
   "id": "bcc01d53-a18c-4135-a76f-4d3a483ba067",
   "metadata": {
    "editable": true,
    "slideshow": {
     "slide_type": ""
    },
    "tags": []
   },
   "source": [
    "---"
   ]
  },
  {
   "cell_type": "markdown",
   "id": "ef07499a-5ff2-463a-aeb4-5d10db6b0527",
   "metadata": {
    "tags": []
   },
   "source": [
    "### Task 05 📍🔎"
   ]
  },
  {
   "cell_type": "markdown",
   "id": "9c56e51e-044a-4dde-af42-d0169ab1aff8",
   "metadata": {
    "deletable": false,
    "editable": false
   },
   "source": [
    "<!-- BEGIN QUESTION -->\n",
    "\n",
    "Create a residual plot for the linear model associated with the concentration and reaction rate data. Based on the residual plot, should we use a linear model for this data?"
   ]
  },
  {
   "cell_type": "markdown",
   "id": "d4fb6a6e",
   "metadata": {},
   "source": [
    "_Type your answer here, replacing this text._"
   ]
  },
  {
   "cell_type": "code",
   "execution_count": null,
   "id": "21bb4c7c-7f42-4cbf-8291-a3108b94ffe4",
   "metadata": {
    "tags": []
   },
   "outputs": [],
   "source": [
    "...\n",
    "plt.title('Residual Plot')\n",
    "plt.show()"
   ]
  },
  {
   "cell_type": "markdown",
   "id": "54ea706e-d7e0-4332-9630-69b87591ee9c",
   "metadata": {
    "deletable": false,
    "editable": false,
    "slideshow": {
     "slide_type": "fragment"
    }
   },
   "source": [
    "<!-- END QUESTION -->\n",
    "\n",
    "---"
   ]
  },
  {
   "cell_type": "markdown",
   "id": "578bb59e-3f21-4da8-9ae2-8fd82b12e377",
   "metadata": {},
   "source": [
    "### A Better Model"
   ]
  },
  {
   "cell_type": "markdown",
   "id": "715f4ca5-1777-46d1-a23f-d2a149173400",
   "metadata": {},
   "source": [
    "The key formula for this relationship is called the Michaelis-Menten equation: \n",
    "  $$\n",
    "  v = \\frac{V_{max} \\cdot [S]}{K_m + [S]}\n",
    "  $$ \n",
    "- $v$: reaction rate\n",
    "- $V_{max}$: maximum reaction rate achieved\n",
    "- $[S]$: substrate concentration\n",
    "- $K_m$: Michaelis constant (the concentration at half the maximum reaction rate)"
   ]
  },
  {
   "cell_type": "markdown",
   "id": "3c2060a0-a085-4026-b73c-57a5b61ca28a",
   "metadata": {
    "editable": true,
    "slideshow": {
     "slide_type": ""
    },
    "tags": []
   },
   "source": [
    "---"
   ]
  },
  {
   "cell_type": "markdown",
   "id": "48837976-d4e1-4828-9aaa-42c80fc63a72",
   "metadata": {
    "editable": true,
    "slideshow": {
     "slide_type": ""
    },
    "tags": []
   },
   "source": [
    "### Task 06 📍"
   ]
  },
  {
   "cell_type": "markdown",
   "id": "c12aacce-0746-4617-b6a0-304a331d1aff",
   "metadata": {
    "deletable": false,
    "editable": false
   },
   "source": [
    "Using the data in `puromycin`, fit a function based on the Michaelis–Menten equation by minimizing MSE. Since the formula depends on the values of the parameters $V_{max}$ and $K_m$, this means to use the `minimize` function to find approximate values for those parameters. Assign those approximate values to `V_max` and `K_m`.\n",
    "\n",
    "**Hints**: \n",
    "- Follow the [nonlinear regression example](https://ccsf-math-108.github.io/textbook/chapters/15/4/Least_Squares_Regression.html#nonlinear-regression) from the MATH 108 textbook.\n",
    "- We've provided you with a template for the `MM` function (Michaelis–Menten equation) and the MSE function (`MM_MSE`) for an Michaelis–Menten equation-based model."
   ]
  },
  {
   "cell_type": "code",
   "execution_count": null,
   "id": "04939cd6-5d39-4a07-8dde-95775a9f8b5e",
   "metadata": {
    "deletable": false,
    "editable": false
   },
   "outputs": [],
   "source": [
    "def MM(S, V_max, K_m):\n",
    "    return V_max * S / (K_m + S)\n",
    "\n",
    "def MM_MSE(V_max, K_m):\n",
    "    S = puromycin.column('Concentration')\n",
    "    v = puromycin.column('Reaction Rate')\n",
    "    fitted_v = MM(S, V_max, K_m)\n",
    "    return np.mean((v - fitted_v) ** 2)\n",
    "\n",
    "V_max, K_m = minimize(MM_MSE)\n",
    "print(f'Maximum Reaction Rate: {V_max}\\n\\\n",
    "Michaelis constant: {K_m}')"
   ]
  },
  {
   "cell_type": "code",
   "execution_count": null,
   "id": "dfd42dd7-239a-46f0-bf0a-72f871576d50",
   "metadata": {
    "tags": []
   },
   "outputs": [],
   "source": [
    "def MM(S, V_max, K_m):\n",
    "    return ...\n",
    "\n",
    "def MM_MSE(V_max, K_m):\n",
    "    S = ...\n",
    "    v = ...\n",
    "    fitted_v = ....\n",
    "    return ...\n",
    "\n",
    "V_max, K_m = minimize(MM_MSE)\n",
    "print(f'Maximum Reaction Rate: {V_max}\\n\\\n",
    "Michaelis constant: {K_m}')"
   ]
  },
  {
   "cell_type": "code",
   "execution_count": null,
   "id": "dcbbfd80",
   "metadata": {
    "deletable": false,
    "editable": false
   },
   "outputs": [],
   "source": [
    "grader.check(\"task_06\")"
   ]
  },
  {
   "cell_type": "markdown",
   "id": "d68e5114-ce6b-46ff-8301-27fd9e931cbe",
   "metadata": {
    "editable": true,
    "slideshow": {
     "slide_type": ""
    },
    "tags": []
   },
   "source": [
    "---"
   ]
  },
  {
   "cell_type": "markdown",
   "id": "2f5bc906-dd99-4553-9dc4-857945260acd",
   "metadata": {
    "tags": []
   },
   "source": [
    "### Task 07 📍🔎"
   ]
  },
  {
   "cell_type": "markdown",
   "id": "5f638384-a8c6-476d-83e3-055cc677e22d",
   "metadata": {
    "deletable": false,
    "editable": false
   },
   "source": [
    "<!-- BEGIN QUESTION -->\n",
    "\n",
    "Now that you've fitted the new model to the data, create your own `fit` and `residual` functions `fit_MM` and `residual_MM` to incorporate the `MM` function. We've provided you with a template.\n",
    "\n",
    "**Notes**: \n",
    "- You'll see a plot of the data with the associated predictions based on the equation.\n",
    "- Although the residual plot may appear heteroscedastic ('fanning' out), this effect may be due to limited data at high concentration levels, not necessarily a poor model fit."
   ]
  },
  {
   "cell_type": "code",
   "execution_count": null,
   "id": "7531de29-39bf-4035-b1ef-99c3ff3ce575",
   "metadata": {
    "tags": []
   },
   "outputs": [],
   "source": [
    "def fit_MM(table, S_label, V_max, K_m):\n",
    "    '''Return the predicted reaction rate based on\n",
    "    the Michaelis-Menten equation at each concentration value.'''\n",
    "    S = table.column(S_label)\n",
    "    return ...\n",
    "\n",
    "def residual_MM(table, S_label, v_label, V_max, K_m):\n",
    "    '''Calculate the residulas based on fit_MM'''\n",
    "    return ....\n",
    "\n",
    "# Create a table for plotting\n",
    "puromycin_for_plotting = puromycin.with_columns(\n",
    "    'Predicted Reaction Rate', \n",
    "    fit_MM(puromycin, 'Concentration', V_max, K_m),\n",
    "    'Residual', \n",
    "    residual_MM(puromycin, 'Concentration', \n",
    "                'Reaction Rate', V_max, K_m))\n",
    "\n",
    "# Graph Predictions\n",
    "puromycin_for_plotting.scatter('Concentration', \n",
    "                               ['Reaction Rate', \n",
    "                                'Predicted Reaction Rate'])\n",
    "plt.title('Concentration vs. Reaction Rate with Predictions')\n",
    "plt.show()\n",
    "\n",
    "# Residual Plot\n",
    "puromycin_for_plotting.scatter('Concentration', 'Residual')\n",
    "plt.title('Residual Plot')\n",
    "plt.show()"
   ]
  },
  {
   "cell_type": "markdown",
   "id": "81711e6e-5c75-4ea6-b0bb-f49ff1b2a349",
   "metadata": {
    "deletable": false,
    "editable": false,
    "slideshow": {
     "slide_type": ""
    },
    "tags": []
   },
   "source": [
    "<!-- END QUESTION -->\n",
    "\n",
    "---"
   ]
  },
  {
   "cell_type": "markdown",
   "id": "c7979c97-3403-4847-98bf-b0ef5ff91346",
   "metadata": {},
   "source": [
    "### Prediction Intervals"
   ]
  },
  {
   "cell_type": "markdown",
   "id": "cdd7568c-e3c9-43c9-bf9a-f9d16bd564d2",
   "metadata": {},
   "source": [
    "- When you create a prediction model, you are likely using sample data to do so\n",
    "- If you had different sample data, then you'll likely create a different model\n",
    "- The predictions for the same value from different models will be different\n",
    "- So, a single prediction is very likely to be wrong, but an interval of predictions is likely to capture the true value\n",
    "- Resampling the available data would provide you with a way to create new predictions\n",
    "- The following graph shows an original set of data with a linear model along with a resampled set of that original data with the updated linear model.\n",
    "- Notice the slight difference in the model lines.\n",
    "\n",
    "<img src=\"./original_resampled_with_models.png\" width=600px alt=\"Two sets of data (an original set and resampled set with linear models for each.\">"
   ]
  },
  {
   "cell_type": "markdown",
   "id": "866d4259-218a-4061-9799-5147e39366e5",
   "metadata": {
    "editable": true,
    "slideshow": {
     "slide_type": ""
    },
    "tags": []
   },
   "source": [
    "---"
   ]
  },
  {
   "cell_type": "markdown",
   "id": "878299be-fd26-49da-91e6-a6f9ab01f63e",
   "metadata": {
    "tags": []
   },
   "source": [
    "### Task 08 📍"
   ]
  },
  {
   "cell_type": "markdown",
   "id": "1fea0d44-daf3-4ddf-ae92-8f669c155f8e",
   "metadata": {
    "deletable": false,
    "editable": false
   },
   "source": [
    "The following code shows that the predicted reaction rate for a concentration of 0.8 ppm is approximately 151.26 counts/min/min."
   ]
  },
  {
   "cell_type": "code",
   "execution_count": null,
   "id": "8718d926-3bad-4857-ac89-f7325c693247",
   "metadata": {
    "deletable": false,
    "editable": false
   },
   "outputs": [],
   "source": [
    "predicted_v = MM(0.8, V_max, K_m)\n",
    "predicted_v"
   ]
  },
  {
   "cell_type": "markdown",
   "id": "568cb6ee-7f22-4763-b628-e7314df83a71",
   "metadata": {
    "deletable": false,
    "editable": false
   },
   "source": [
    "Using our bootstrap methodology, create a 95% confidence interval estimate for the predicted reaction rate for a concentration of 0.8 ppm."
   ]
  },
  {
   "cell_type": "code",
   "execution_count": null,
   "id": "5b99fb5d-f9d5-47a2-bab7-6c1b8aef2961",
   "metadata": {
    "tags": []
   },
   "outputs": [],
   "source": [
    "..."
   ]
  },
  {
   "cell_type": "code",
   "execution_count": null,
   "id": "e2ea782a",
   "metadata": {
    "deletable": false,
    "editable": false
   },
   "outputs": [],
   "source": [
    "grader.check(\"task_08\")"
   ]
  },
  {
   "cell_type": "markdown",
   "id": "d08ca399-dd9d-4de1-bc1d-f15abb6ab518",
   "metadata": {
    "editable": true,
    "slideshow": {
     "slide_type": ""
    },
    "tags": []
   },
   "source": [
    "---"
   ]
  },
  {
   "cell_type": "markdown",
   "id": "c11c8fb1-554c-4ce0-b48b-78b84fe7404f",
   "metadata": {},
   "source": [
    "## Reflection"
   ]
  },
  {
   "cell_type": "markdown",
   "id": "8bb442e3-93ec-4e95-b913-ae40f3d100ff",
   "metadata": {},
   "source": [
    "In this activity, you considered how residuals can help you determine whether to use a linear model or some other type of model. Additionally, you fit a nonlinear model to a real data set and created a prediction interval based on a bootstrap resampling method."
   ]
  },
  {
   "cell_type": "markdown",
   "id": "6f1a1575-d1cc-4e5b-9e36-6d2fce3c3b00",
   "metadata": {
    "editable": true,
    "slideshow": {
     "slide_type": ""
    },
    "tags": []
   },
   "source": [
    "---"
   ]
  },
  {
   "cell_type": "markdown",
   "id": "830cd3aa-7268-4b8d-9de1-b8291a77d457",
   "metadata": {
    "editable": true,
    "slideshow": {
     "slide_type": "notes"
    },
    "tags": []
   },
   "source": [
    "## License"
   ]
  },
  {
   "cell_type": "markdown",
   "id": "55e19cd7-8808-4101-a381-c0897b12ce07",
   "metadata": {
    "editable": true,
    "slideshow": {
     "slide_type": ""
    },
    "tags": []
   },
   "source": [
    "This content is licensed under the <a href=\"https://creativecommons.org/licenses/by-nc-sa/4.0/\">Creative Commons Attribution-NonCommercial-ShareAlike 4.0 International License (CC BY-NC-SA 4.0)</a>.\n",
    "\n",
    "<img src=\"./by-nc-sa.png\" width=100px>"
   ]
  }
 ],
 "metadata": {
  "kernelspec": {
   "display_name": "Python 3 (ipykernel)",
   "language": "python",
   "name": "python3"
  },
  "language_info": {
   "codemirror_mode": {
    "name": "ipython",
    "version": 3
   },
   "file_extension": ".py",
   "mimetype": "text/x-python",
   "name": "python",
   "nbconvert_exporter": "python",
   "pygments_lexer": "ipython3",
   "version": "3.11.9"
  },
  "otter": {
   "OK_FORMAT": true,
   "assignment_name": "gla12_sp25",
   "tests": {
    "task_02": {
     "name": "task_02",
     "points": null,
     "suites": [
      {
       "cases": [
        {
         "code": ">>> isinstance(puromycin, Table)\nTrue",
         "failure_message": "\"❌ puromycin is not assigned to a Table.\"",
         "hidden": false,
         "locked": false,
         "success_message": "\"✅ puromycin is assigned to a Table.\"\n"
        },
        {
         "code": ">>> puromycin.num_rows\n11",
         "failure_message": "\"❌ puromycin does not have the correct number of rows.\"",
         "hidden": false,
         "locked": false,
         "success_message": "\"✅ puromycin has the correct number of rows.\"\n"
        },
        {
         "code": ">>> set(puromycin.labels) == {'Concentration', 'Reaction Rate'}\nTrue",
         "failure_message": "\"❌ puromycin does not have the correct labels.\"",
         "hidden": false,
         "locked": false,
         "success_message": "\"✅ puromycin has the correct labels.\"\n"
        },
        {
         "code": ">>> puromycin\nConcentration | Reaction Rate\n0.02          | 67\n0.02          | 51\n0.06          | 84\n0.06          | 86\n0.11          | 98\n0.11          | 115\n0.22          | 131\n0.22          | 124\n0.56          | 144\n0.56          | 158\n... (1 rows omitted)",
         "failure_message": "\"❌ puromycin does not seem correct.\"",
         "hidden": false,
         "locked": false,
         "success_message": "\"✅ puromycin seems correct.\"\n"
        }
       ],
       "scored": true,
       "setup": "",
       "teardown": "",
       "type": "doctest"
      }
     ]
    },
    "task_04": {
     "name": "task_04",
     "points": null,
     "suites": [
      {
       "cases": [
        {
         "code": ">>> isinstance(puromycin_with_residuals, Table)\nTrue",
         "failure_message": "\"❌ puromycin_with_residuals is not a Table.\"",
         "hidden": false,
         "locked": false,
         "success_message": "\"✅ puromycin_with_residuals is a Table.\"\n"
        },
        {
         "code": ">>> puromycin_with_residuals.labels == ('Concentration', 'Reaction Rate', 'Residual')\nTrue",
         "failure_message": "\"❌ puromycin_with_residuals doesn't have the correct labels.\"",
         "hidden": false,
         "locked": false,
         "success_message": "\"✅ ppuromycin_with_residuals has the correct labels.\"\n"
        },
        {
         "code": ">>> \n",
         "hidden": false,
         "locked": false
        },
        {
         "code": ">>> np.all(puromycin_with_residuals.column(0) == puromycin.column(0))\nTrue",
         "failure_message": "\"❌ The concentration levels in puromycin_with_residuals are not the same as in puromycin.\"",
         "hidden": false,
         "locked": false,
         "success_message": "\"✅ The concentration levels in puromycin_with_residuals are the same as in puromycin.\"\n"
        },
        {
         "code": ">>> np.all(puromycin_with_residuals.column(1) == puromycin.column(1))\nTrue",
         "failure_message": "\"❌ The reactions rates in puromycin_with_residuals are not the same as in puromycin.\"",
         "hidden": false,
         "locked": false,
         "success_message": "\"✅ The reactions rates in puromycin_with_residuals are the same as in puromycin.\"\n"
        },
        {
         "code": ">>> puromycin_with_residuals\nConcentration | Reaction Rate | Residual\n0.02          | 67            | -20.8243\n0.02          | 51            | -36.8243\n0.06          | 84            | -7.39785\n0.06          | 86            | -5.39785\n0.11          | 98            | 2.13527\n0.11          | 115           | 19.1353\n0.22          | 131           | 25.3081\n0.22          | 124           | 18.3081\n0.56          | 144           | 7.93332\n0.56          | 158           | 21.9333\n... (1 rows omitted)",
         "failure_message": "\"❌ puromycin_with_residuals doesn't seem correct.\"",
         "hidden": false,
         "locked": false,
         "success_message": "\"✅ puromycin_with_residuals seems correct.\"\n"
        }
       ],
       "scored": true,
       "setup": "",
       "teardown": "",
       "type": "doctest"
      }
     ]
    },
    "task_06": {
     "name": "task_06",
     "points": null,
     "suites": [
      {
       "cases": [
        {
         "code": ">>> np.isclose(V_max, 160.28132136084938)\nTrue",
         "failure_message": "\"❌ V_max doesn't seem correct.\"",
         "hidden": false,
         "locked": false,
         "success_message": "\"✅ V_max seems correct.\"\n"
        },
        {
         "code": ">>> np.isclose(K_m, 0.047707673969251935)\nTrue",
         "failure_message": "\"❌ K_m doesn't seem correct.\"",
         "hidden": false,
         "locked": false,
         "success_message": "\"✅ K_m seems correct.\"\n"
        }
       ],
       "scored": true,
       "setup": "",
       "teardown": "",
       "type": "doctest"
      }
     ]
    },
    "task_08": {
     "name": "task_08",
     "points": null,
     "suites": [
      {
       "cases": [
        {
         "code": ">>> lower > 135\nTrue",
         "failure_message": "\"❌ The lower bound does not seem reasonable.\"",
         "hidden": false,
         "locked": false,
         "success_message": "\"✅ The lower bound seems reasonable.\"\n"
        },
        {
         "code": ">>> upper < 160\nTrue",
         "failure_message": "\"❌ The lower bound does not seem reasonable.\"",
         "hidden": false,
         "locked": false,
         "success_message": "\"✅ The upper bound seems reasonable.\"\n"
        },
        {
         "code": ">>> lower < predicted_v < upper\nTrue",
         "failure_message": "\"❌ predicted_v should be in the interval.\"",
         "hidden": false,
         "locked": false,
         "success_message": "\"✅ predicted_v is in the interval\"\n"
        }
       ],
       "scored": true,
       "setup": "",
       "teardown": "",
       "type": "doctest"
      }
     ]
    }
   }
  }
 },
 "nbformat": 4,
 "nbformat_minor": 5
}
