{
 "cells": [
  {
   "cell_type": "code",
   "execution_count": null,
   "id": "9897694f",
   "metadata": {
    "deletable": false,
    "editable": false
   },
   "outputs": [],
   "source": [
    "# Initialize Otter\n",
    "import otter\n",
    "grader = otter.Notebook(\"gla02.ipynb\")"
   ]
  },
  {
   "cell_type": "markdown",
   "id": "692fbc6d-0645-4e75-b205-29989ec616ab",
   "metadata": {},
   "source": [
    "<img src=\"./ccsf.png\" alt=\"CCSF Logo\" width=200px style=\"margin:0px -5px\">"
   ]
  },
  {
   "cell_type": "markdown",
   "id": "c83b268c-d46e-450b-b4af-a2390020878c",
   "metadata": {
    "tags": []
   },
   "source": [
    "# Guided Learning Activity 02: Programming Fundamentals and NLP"
   ]
  },
  {
   "cell_type": "markdown",
   "id": "f5c0e5f0-1759-4129-8e2e-8301f1db6953",
   "metadata": {},
   "source": [
    "This Guided Learning Activity is designed for you to complete alongside a Data Ambassador from the course. You might find that it feels like a combination of the lectures and lab assignment. Whether you are participating live or watching the recording of the live meeting, let the Data Ambassador guide you through the following tasks. There will be moments for you to reflect and explore your own ideas as a way to solidify concepts and skills introduced by your instructor. Keep in mind that this is not a graded assignment for MATH 108 by default. If you have any concerns about participation, reach out to your instructor."
   ]
  },
  {
   "cell_type": "markdown",
   "id": "20d80b08-8562-4cc5-aa65-1e0c97ac6985",
   "metadata": {},
   "source": [
    "---"
   ]
  },
  {
   "cell_type": "markdown",
   "id": "eccd253c-ffd2-40f0-98ac-cc06cc8dec20",
   "metadata": {},
   "source": [
    "## Learning Objectives"
   ]
  },
  {
   "cell_type": "markdown",
   "id": "66e18ccd-f8f0-4f7c-a1f9-c872f5ca01af",
   "metadata": {},
   "source": [
    "1. Confirm a variable's data type.\n",
    "2. Access the attributes and methods of an object.\n",
    "3. Compare and contrast lists and arrays.\n",
    "4. Apply string methods and NumPy functions for text manipulation and cleaning.\n",
    "5. Perform text preprocessing tasks, including lowercasing and tokenization, using NLTK.\n",
    "6. Understand and apply basic sentiment analysis using NLTK."
   ]
  },
  {
   "cell_type": "markdown",
   "id": "3f3ef5e2-d54e-44b8-a185-be0fae620e5d",
   "metadata": {},
   "source": [
    "---"
   ]
  },
  {
   "cell_type": "markdown",
   "id": "a7e39aa5-6cdb-48c9-87a6-6e26fa67c663",
   "metadata": {},
   "source": [
    "## Object-Oriented Programming"
   ]
  },
  {
   "cell_type": "markdown",
   "id": "d0c7fcef-d595-4ac2-b2e5-4f74cdf12c62",
   "metadata": {},
   "source": [
    "Python is an object-oriented programming language, meaning it organizes code around objects. In Python, **everything is an object**, including instances of the built-in data types you are learning about like `int`, `float`, `str`, etc. Objects bundle **attributes** (which store data) and **methods** (which define behaviors). Run the following code cell to create the variables `an_int` and `a_string` which reference an `int` object and a `string` object, respectively."
   ]
  },
  {
   "cell_type": "code",
   "execution_count": null,
   "id": "e64ad79e-ac04-45f6-9575-8a8700a2bd07",
   "metadata": {},
   "outputs": [],
   "source": [
    "an_int = 10\n",
    "a_string = \"data science\""
   ]
  },
  {
   "cell_type": "markdown",
   "id": "d2db7bae-8d15-4976-adf5-54d1c57715a2",
   "metadata": {},
   "source": [
    "---"
   ]
  },
  {
   "cell_type": "markdown",
   "id": "a0ae13c0-d028-4114-99cf-2de9b2fb9cd8",
   "metadata": {
    "editable": true,
    "slideshow": {
     "slide_type": ""
    },
    "tags": []
   },
   "source": [
    "### Task 01 💭"
   ]
  },
  {
   "cell_type": "markdown",
   "id": "5ceeb1cc-b3a4-483c-99e2-fbaa842ad3d8",
   "metadata": {
    "deletable": false,
    "editable": false
   },
   "source": [
    "<!-- BEGIN QUESTION -->\n",
    "\n",
    "How can you check the data type of a variable in Python?"
   ]
  },
  {
   "cell_type": "markdown",
   "id": "8b7b9f34",
   "metadata": {},
   "source": [
    "_Type your answer here, replacing this text._"
   ]
  },
  {
   "cell_type": "markdown",
   "id": "1845bfcf-90e4-4f34-936f-896d0ebb5c09",
   "metadata": {
    "deletable": false,
    "editable": false
   },
   "source": [
    "<!-- END QUESTION -->\n",
    "\n",
    "---"
   ]
  },
  {
   "cell_type": "markdown",
   "id": "85516779-3346-4c6e-9047-eb097d23918e",
   "metadata": {},
   "source": [
    "### Attributes"
   ]
  },
  {
   "cell_type": "markdown",
   "id": "7bf01952-65d8-4d28-b6cc-b720ece79282",
   "metadata": {},
   "source": [
    "An object's attributes are like variables that hold information about the object. For example, as a fraction, the integer $10$ can be expressed as $\\frac{10}{1}$ where the numerator is $10$ and denominator is $1$. Python developers felt it was helpful to have that information readily available for every instance of an `int` object. So, `an_int` has attributes `numerator` and `denominator`. Run the following code cells to see this information."
   ]
  },
  {
   "cell_type": "code",
   "execution_count": null,
   "id": "0b8e44b0-e294-49e3-b140-12d306431b7a",
   "metadata": {},
   "outputs": [],
   "source": [
    "an_int.numerator"
   ]
  },
  {
   "cell_type": "code",
   "execution_count": null,
   "id": "dd1899de-f382-470e-8150-0b92a712529d",
   "metadata": {},
   "outputs": [],
   "source": [
    "an_int.denominator"
   ]
  },
  {
   "cell_type": "markdown",
   "id": "3a9a2cfa-28e0-4e79-9f89-a34a7d2975e0",
   "metadata": {},
   "source": [
    "Notice commands to access attribute information follow the pattern `<object reference>.<attribute name>`."
   ]
  },
  {
   "cell_type": "markdown",
   "id": "a1ed2f7b-1cca-4649-9521-986accca380a",
   "metadata": {},
   "source": [
    "---"
   ]
  },
  {
   "cell_type": "markdown",
   "id": "0faea558-4111-4953-bdee-205b543e75ae",
   "metadata": {},
   "source": [
    "### Methods"
   ]
  },
  {
   "cell_type": "markdown",
   "id": "d5dfd9dd-d298-4853-8f6d-bf4631a693dc",
   "metadata": {},
   "source": [
    "An object's methods are functions that operate on the object. For example, the string `\"data science\"` associated with `a_string` is presented in lower case, and Python developers agreed it would be convenient to have a built in function that makes ever letter in a string upper case. So, `a_string` has a method called `upper`. Run the following command to see the results."
   ]
  },
  {
   "cell_type": "code",
   "execution_count": null,
   "id": "b1e136a2-abdd-4e95-ba18-23dc88bef87a",
   "metadata": {},
   "outputs": [],
   "source": [
    "a_string.upper()"
   ]
  },
  {
   "cell_type": "markdown",
   "id": "e88f8be2-5091-4525-ad84-db7fe15e0430",
   "metadata": {},
   "source": [
    "In this case, the command to access a method follows the pattern `<object reference>.<method name>()`. The parentheses are needed to perform the action! If you leave them off, then you are just reminded that `upper` is a function. Run the following code cell to see this in action."
   ]
  },
  {
   "cell_type": "code",
   "execution_count": null,
   "id": "45e72187-422b-4a84-884f-ccc8f3b2d021",
   "metadata": {},
   "outputs": [],
   "source": [
    "a_string.upper"
   ]
  },
  {
   "cell_type": "markdown",
   "id": "dc7a209e-859a-4bca-b92e-1e8907f21b80",
   "metadata": {},
   "source": [
    "---"
   ]
  },
  {
   "cell_type": "markdown",
   "id": "d113cd1f-8b41-48c6-8c0f-3e5cbbe61010",
   "metadata": {},
   "source": [
    "### Attributes and Methods"
   ]
  },
  {
   "cell_type": "markdown",
   "id": "92a2a725-63e8-40ee-94b2-e13b96cfbb56",
   "metadata": {},
   "source": [
    "Hopefully, this helps you better understand dot notation in Python. When you perform an assignment, the variable you assign a value to is a reference to an object. This object _can_ have associated attributes and methods based on its data type. The word _can_ in that last statement is important to notice since it is possible for an object to not have any attributes or methods associated with it. For example, strings (`str`) objects only have functions associated with them. How can you know that? You can look at the [Python documentation]() or you can leverage a shortcut in Jupyter Notebooks. If you have created a variable, like `a_string`, then when you type `a_string.` and press <tab>, you gain access to all the associated methods (labeled as functions) and attributes (labeled as instances). Try it! You should see a menu that looks like this:\n",
    "\n",
    "<img src=\"./string_menu.png\" width=\"200rem\" alt=\"The first part of the menu showcasing string attributes and methods.\">"
   ]
  },
  {
   "cell_type": "code",
   "execution_count": null,
   "id": "d774feb4-d181-43f0-8616-207d7e9abc17",
   "metadata": {},
   "outputs": [],
   "source": [
    "# Type a_string. followed by pressing <tab>\n"
   ]
  },
  {
   "cell_type": "markdown",
   "id": "3a33d252-2a50-427d-a6ef-3577d8162f72",
   "metadata": {},
   "source": [
    "---"
   ]
  },
  {
   "cell_type": "markdown",
   "id": "0596e580-7653-4c7e-af0d-408a81dab1de",
   "metadata": {},
   "source": [
    "## Customer Reviews"
   ]
  },
  {
   "cell_type": "markdown",
   "id": "1057381d-3814-4bd4-8d70-d76f8353acd9",
   "metadata": {},
   "source": [
    "You've likely read several product/service reviews in your lifetime, and there is also a good chance that you've left a few reviews yourself. Those reviews might look like:\n",
    "\n",
    "> \"Great product!! Love it... 100% recommended!! \"\n",
    "\n",
    "or\n",
    "\n",
    "> \"0/5 STARS! Worst experience of my life.\"\n",
    "\n",
    "There can be a lot of valuable information found in these reviews, but extracting that information has been challenging. The review with the negative tone might be connected to a person with a valid negative critique of the service, but it could also have been left by someone whose negativity was brought on by some other factor."
   ]
  },
  {
   "cell_type": "markdown",
   "id": "e4dc9030-1a75-499c-9ff9-9c5abd211336",
   "metadata": {},
   "source": [
    "### Natural Language Processing"
   ]
  },
  {
   "cell_type": "markdown",
   "id": "c0f4a5f5-19c3-4115-8ac8-fada3ab6039c",
   "metadata": {},
   "source": [
    "Natural Language Processing (NLP) is a field of computer science and artificial intelligence that focuses on enabling computers to understand, interpret, and generate human language. It combines linguistics with machine learning to analyze text and speech, allowing applications like chatbots, translation services, and sentiment analysis. So, if someone wanted to a structured way to analyze and extract the information from reviews, then they could utilize NLP concepts and techniques."
   ]
  },
  {
   "cell_type": "markdown",
   "id": "c8cf4c5f-75de-4e70-beda-b28cbb009d7d",
   "metadata": {},
   "source": [
    "### Data Cleaning"
   ]
  },
  {
   "cell_type": "markdown",
   "id": "34c950b2-2451-4c69-855d-9a2a49d057ee",
   "metadata": {},
   "source": [
    "With NLP and many other data-related subjects, data cleaning becomes a crucial step involved with being able to extract meaningful information from data and make reliable conclusions. So, with text-based reviews, you need to be able to collect the data, extract the text from the data, clean the data, and so on. At some point, perhaps after forming some conclusion, you'll need to collect more data and continue this general cycle.\n",
    "\n",
    "```mermaid\n",
    "flowchart LR\n",
    "    A[Collect Data] --> B[Extract Text] --> C[Clean Text] --> D[...] --> E[Make Conclusion] --> A\n",
    "```\n",
    "\n",
    "So, what does cleaning text-based data involve? A lot! The language and context of the text is very important. For example, reading \"A+\" in a review should indicate to most of us that the review was positive, but that association may not be as prevalent in other cultures. NLP specialists work with computers to identify and utilize these cultural patterns in text. You'll sometimes here this part of Data Science referred to as _domain knowledge_. You can have all the computing power you need, but you still need understanding of the context in which the data is associated with."
   ]
  },
  {
   "cell_type": "markdown",
   "id": "d56bcfa6-53a8-41b9-b1a1-f22a02976650",
   "metadata": {
    "editable": true,
    "slideshow": {
     "slide_type": ""
    },
    "tags": []
   },
   "source": [
    "#### Task 02 💻"
   ]
  },
  {
   "cell_type": "markdown",
   "id": "a848b6ab-3399-4595-a1fc-9bf5e99eac2f",
   "metadata": {
    "deletable": false,
    "editable": false,
    "slideshow": {
     "slide_type": ""
    },
    "tags": []
   },
   "source": [
    "Using string methods on `first_review`, transform `\"LOVE IT! Great sandwich ❤️\"` into all lower case characters and assign the results to `first_review_lower`."
   ]
  },
  {
   "cell_type": "code",
   "execution_count": null,
   "id": "dc03dbc8-9675-4c0d-8c85-a30741c5a788",
   "metadata": {
    "tags": []
   },
   "outputs": [],
   "source": [
    "first_review = \"LOVE IT! Great sandwich ❤️\"\n",
    "first_review_lower = ...\n",
    "print(first_review_lower)"
   ]
  },
  {
   "cell_type": "code",
   "execution_count": null,
   "id": "0d6ceb0d",
   "metadata": {
    "deletable": false,
    "editable": false
   },
   "outputs": [],
   "source": [
    "grader.check(\"task_02\")"
   ]
  },
  {
   "cell_type": "markdown",
   "id": "f83ef3ca-76fc-47bc-9a6b-ef2c45fa4aac",
   "metadata": {},
   "source": [
    "---"
   ]
  },
  {
   "cell_type": "markdown",
   "id": "85c89484-448c-4933-a41e-a5856ddd6ae3",
   "metadata": {},
   "source": [
    "Why should you convert the text to all lower case? Well, one reason is that maybe someone else has left a review like \"Great Sandwich!\". In this review and the previous one, the phrase \"great sandwich\" is there, but the capitalization is different. Standardizing the presentation of those phrases would allow Python to count that there are 2 instances of the same phrase. If you left the capitalization as it was originally, then Python would not consider these two phrases to be the same."
   ]
  },
  {
   "cell_type": "markdown",
   "id": "64b93efe-4008-46ce-930c-dae3754030c4",
   "metadata": {},
   "source": [
    "---"
   ]
  },
  {
   "cell_type": "markdown",
   "id": "07d8e8db-bd8e-4b6f-90f0-a8962cfce112",
   "metadata": {
    "editable": true,
    "slideshow": {
     "slide_type": ""
    },
    "tags": []
   },
   "source": [
    "#### Task 03 💻"
   ]
  },
  {
   "cell_type": "markdown",
   "id": "f2c78c15-aa6c-4cf3-ae2b-b8b61daeedd4",
   "metadata": {
    "deletable": false,
    "editable": false,
    "slideshow": {
     "slide_type": ""
    },
    "tags": []
   },
   "source": [
    "Using string methods on `second_review` and `third_review`, transform `\"Great Sandwich!\"` and `\"This sandwich was terrible ...\"` into all lower case characters and assign the results to `second_review_lower` and `third_review_lower`, respectively."
   ]
  },
  {
   "cell_type": "code",
   "execution_count": null,
   "id": "1c85071f-6efd-4ff4-84e8-42c0a9bc1ca9",
   "metadata": {
    "tags": []
   },
   "outputs": [],
   "source": [
    "second_review = \"Great Sandwich!\"\n",
    "third_review = \"This sandwich was terrible ...\"\n",
    "second_review_lower = ...\n",
    "third_review_lower = ...\n",
    "print(second_review_lower)\n",
    "print(third_review_lower)"
   ]
  },
  {
   "cell_type": "code",
   "execution_count": null,
   "id": "bebb3d61",
   "metadata": {
    "deletable": false,
    "editable": false
   },
   "outputs": [],
   "source": [
    "grader.check(\"task_03\")"
   ]
  },
  {
   "cell_type": "markdown",
   "id": "a0c17d5e-b1b4-4701-931c-731e30cf46e0",
   "metadata": {},
   "source": [
    "---"
   ]
  },
  {
   "cell_type": "markdown",
   "id": "76398dc5-22bd-4837-ac91-f2ef1c1cd01b",
   "metadata": {},
   "source": [
    "### NumPy"
   ]
  },
  {
   "cell_type": "markdown",
   "id": "8167a16b-781b-4bd8-b560-9dbd91906d34",
   "metadata": {},
   "source": [
    "Could you imagine cleaning up hundreds, thousands, or millions of reviews like that?! When you are performing the same task on many different things with a computer, then there is likely a way to get the computer to apply the generic process to everything for you. In this case, you can leverage sequenced data types to apply some function to many objects in one command.\n",
    "\n",
    "[NumPy](https://numpy.org) is a package of Python code that extends Python's built-in functionality. One of the main data types in this pack is the `numpy.ndarray`. We'll likely use `array` for a shorted name.\n",
    "\n",
    "In order to access the tools from NumPy, you need to import the package `numpy`. It is pretty standard to abbreviate `numpy` as `np`. Run the following command to do that."
   ]
  },
  {
   "cell_type": "code",
   "execution_count": null,
   "id": "878fd0b5-fdaf-48df-9d59-5c1d025e85a7",
   "metadata": {},
   "outputs": [],
   "source": [
    "import numpy as np"
   ]
  },
  {
   "cell_type": "markdown",
   "id": "ef575ac0-fd92-4f84-b487-c3d3408fdaa3",
   "metadata": {},
   "source": [
    "After importing `numpy` as `np`, when you type `np.` and press <tab> in a Jupyter, you'll preview all the included functions, data types, etc."
   ]
  },
  {
   "cell_type": "code",
   "execution_count": null,
   "id": "813f9c55-a034-4aaa-b9d6-c3165597fe29",
   "metadata": {},
   "outputs": [],
   "source": [
    "# Type np. followed by pressing <tab>\n"
   ]
  },
  {
   "cell_type": "markdown",
   "id": "aa1bd017-f036-42c5-b8a1-bdefee69e8a3",
   "metadata": {},
   "source": [
    "There is an overwhelming amount of tools available in the NumPy package. In MATH 108, you'll focus on using only a few of the functions to keep things more manageable. "
   ]
  },
  {
   "cell_type": "markdown",
   "id": "9a301aa3-7f30-420b-a673-03d962461175",
   "metadata": {},
   "source": [
    "---"
   ]
  },
  {
   "cell_type": "markdown",
   "id": "9c888be5-5016-4128-b372-afffe2e838e0",
   "metadata": {
    "editable": true,
    "slideshow": {
     "slide_type": ""
    },
    "tags": []
   },
   "source": [
    "#### Task 04 💭"
   ]
  },
  {
   "cell_type": "markdown",
   "id": "6e80c2be-c50a-43cf-9aae-5d19948be24a",
   "metadata": {
    "deletable": false,
    "editable": false
   },
   "source": [
    "<!-- BEGIN QUESTION -->\n",
    "\n",
    "Python has a built-in data type called `list`. What is the major difference between lists and arrays?"
   ]
  },
  {
   "cell_type": "markdown",
   "id": "a3713e02",
   "metadata": {},
   "source": [
    "_Type your answer here, replacing this text._"
   ]
  },
  {
   "cell_type": "markdown",
   "id": "ac85a9e5-6e93-42c1-a7ae-60e3b69c2366",
   "metadata": {
    "deletable": false,
    "editable": false
   },
   "source": [
    "<!-- END QUESTION -->\n",
    "\n",
    "---"
   ]
  },
  {
   "cell_type": "markdown",
   "id": "3a8e2d06-9305-4417-a943-8dc124188731",
   "metadata": {},
   "source": [
    "You create lists in Python using bracket notation `[item1, item2, item3, ...]`. To create an array, you can use the function `np.array`. For the input to that function, provide a list. So, `np.array([\"Hello\", \"Hi\", \"Hey\"])` would create an array of 3 strings. \n",
    "\n",
    "The MATH 108 materials indicate that you use the `make_array` function from the `datascience` library to create arrays. This is essentially doing the same thing as using `np.array`. You'll find that using `np.array` is a more standard approach outside of the course.\n",
    "\n",
    "Run the following code cell to import everything from the `datascience` library if you choose to use `make_array`."
   ]
  },
  {
   "cell_type": "code",
   "execution_count": null,
   "id": "4b2f9f02-2fc2-419e-b4d0-9584bdd73d05",
   "metadata": {},
   "outputs": [],
   "source": [
    "from datascience import *"
   ]
  },
  {
   "cell_type": "markdown",
   "id": "a00e92dc-602f-46f7-964d-de78bf6d22e2",
   "metadata": {
    "editable": true,
    "slideshow": {
     "slide_type": ""
    },
    "tags": []
   },
   "source": [
    "#### Task 05 💻"
   ]
  },
  {
   "cell_type": "markdown",
   "id": "2286430b-5c3a-4a82-9029-214905bec01e",
   "metadata": {
    "deletable": false,
    "editable": false,
    "slideshow": {
     "slide_type": ""
    },
    "tags": []
   },
   "source": [
    "Create a NumPy array called `array_of_reviews` that contains the the reviews `first_review`, `second_review`, and `third_review`, in that order. The resulting list should display as:\n",
    "\n",
    "```\n",
    "array(['LOVE IT! Great sandwich ❤️', 'Great Sandwich!',\n",
    "       'This sandwich was terrible ...'], dtype='<U30')\n",
    " ```"
   ]
  },
  {
   "cell_type": "code",
   "execution_count": null,
   "id": "ef5b55e8-1baf-4589-a660-5e5dc5464556",
   "metadata": {
    "tags": []
   },
   "outputs": [],
   "source": [
    "array_of_reviews = ...\n",
    "array_of_reviews"
   ]
  },
  {
   "cell_type": "code",
   "execution_count": null,
   "id": "c01d5bca",
   "metadata": {
    "deletable": false,
    "editable": false
   },
   "outputs": [],
   "source": [
    "grader.check(\"task_05\")"
   ]
  },
  {
   "cell_type": "markdown",
   "id": "3c336510-a2d7-4fbb-ba71-88a1f912f66d",
   "metadata": {},
   "source": [
    "---"
   ]
  },
  {
   "cell_type": "markdown",
   "id": "70237366-fbd4-4a91-bfbf-4c7391b3517c",
   "metadata": {},
   "source": [
    "NumPy provides a function called `np.char.lower`, which takes an array (or list) as input and returns a new array with all the items converted to lowercase.  \n",
    "\n",
    "Notice the dots in `np.char.lower`! This structure reflects how NumPy is organized: **NumPy** (`np`) is a package containing multiple **modules**, and `char` is one of them. The `lower` function resides within the `char` module, which specifically handles string operations in NumPy.  \n",
    "\n",
    "Run the following code cell to view the documentation for this function."
   ]
  },
  {
   "cell_type": "code",
   "execution_count": null,
   "id": "3f1ca240-8675-4bd3-991a-651396b79f72",
   "metadata": {},
   "outputs": [],
   "source": [
    "np.char.lower?"
   ]
  },
  {
   "cell_type": "markdown",
   "id": "5a532750-a258-4ce3-993c-eac8d23fb1f5",
   "metadata": {},
   "source": [
    "The line ```Call :meth:`str.lower` element-wise.``` indicates that this function applies Python's `lower` string method to each string item in the array. Essentially, `np.char.lower` works by calling `str.lower()` on every string in the input array."
   ]
  },
  {
   "cell_type": "markdown",
   "id": "cf2ec8a0-854b-4cbd-8614-906ae42e479d",
   "metadata": {},
   "source": [
    "---"
   ]
  },
  {
   "cell_type": "markdown",
   "id": "8641231a-89d0-41a4-81dc-c10313ace974",
   "metadata": {
    "editable": true,
    "slideshow": {
     "slide_type": ""
    },
    "tags": []
   },
   "source": [
    "#### Task 06 💻"
   ]
  },
  {
   "cell_type": "markdown",
   "id": "50d6b3c5-ee71-4492-9fff-45082f2e0f95",
   "metadata": {
    "deletable": false,
    "editable": false,
    "slideshow": {
     "slide_type": ""
    },
    "tags": []
   },
   "source": [
    "Apply `np.char.lower` to `array_of_reviews` to convert all three reviews to lowercase, and assign the new array to `array_of_reviews_lower`."
   ]
  },
  {
   "cell_type": "code",
   "execution_count": null,
   "id": "7939a315-4192-45dd-9d71-97c483ee1d75",
   "metadata": {
    "tags": []
   },
   "outputs": [],
   "source": [
    "array_of_reviews_lower = ...\n",
    "array_of_reviews_lower"
   ]
  },
  {
   "cell_type": "code",
   "execution_count": null,
   "id": "2f5d0f86",
   "metadata": {
    "deletable": false,
    "editable": false
   },
   "outputs": [],
   "source": [
    "grader.check(\"task_06\")"
   ]
  },
  {
   "cell_type": "markdown",
   "id": "4015ad36-cf7f-4668-8051-d055aaac75f0",
   "metadata": {},
   "source": [
    "---"
   ]
  },
  {
   "cell_type": "markdown",
   "id": "520a62ae-039e-4f6a-a985-90cc1dc2b93b",
   "metadata": {},
   "source": [
    "#### Basic Analysis"
   ]
  },
  {
   "cell_type": "markdown",
   "id": "25fb747f-64cb-42fc-8054-e41f5efb711c",
   "metadata": {},
   "source": [
    "Now that all the reviews have been cleaned to the point where all the characters are presented in lowercase, we can do some basic analysis. The numpy function `np.strings.count` looks in an array for a pattern and returns the number of items that pattern appeared in each item. So, the following command should show an output that is an array with three 1's because `\"sandwich\"` appears once in each of the 3 reviews."
   ]
  },
  {
   "cell_type": "code",
   "execution_count": null,
   "id": "27cf6468-f002-435a-8cab-752eea10cfa7",
   "metadata": {},
   "outputs": [],
   "source": [
    "np.strings.count(array_of_reviews_lower,  \"sandwich\")"
   ]
  },
  {
   "cell_type": "markdown",
   "id": "dde34da4-5a50-49a7-93f4-282e523304ce",
   "metadata": {},
   "source": [
    "Without using the lowercase version of the reviews, notice with the following code cell that the counter would have missed one!"
   ]
  },
  {
   "cell_type": "code",
   "execution_count": null,
   "id": "2c24f3c2-2fd1-4112-b165-f8f76029a01a",
   "metadata": {},
   "outputs": [],
   "source": [
    "np.strings.count(array_of_reviews,  \"sandwich\")"
   ]
  },
  {
   "cell_type": "markdown",
   "id": "0992fb3b-5fcf-49da-b4a6-1e687df5b8f0",
   "metadata": {},
   "source": [
    "Using the information from the cleaned (lowercase) text, we could identify all the reviews the specifically address the sandwich and pass those reviews on to the net phase of the analysis."
   ]
  },
  {
   "cell_type": "markdown",
   "id": "906368b6-7b8a-49a0-b20f-9f9c788695ce",
   "metadata": {},
   "source": [
    "---"
   ]
  },
  {
   "cell_type": "markdown",
   "id": "ace2f0cf-f011-49aa-98d0-6c403eb4c81e",
   "metadata": {
    "editable": true,
    "slideshow": {
     "slide_type": ""
    },
    "tags": []
   },
   "source": [
    "#### Task 07 💻"
   ]
  },
  {
   "cell_type": "markdown",
   "id": "abded815-39c5-46e6-bd6b-c9642af3bcfa",
   "metadata": {
    "deletable": false,
    "editable": false,
    "slideshow": {
     "slide_type": ""
    },
    "tags": []
   },
   "source": [
    "Using NumPy's, create an array called `great_count_per_review_arr` that shows the count of how many times `great` appears in each review of the array `array_of_reviews_lower`."
   ]
  },
  {
   "cell_type": "code",
   "execution_count": null,
   "id": "607f0ace-4214-4a75-939d-04510a044bfe",
   "metadata": {
    "tags": []
   },
   "outputs": [],
   "source": [
    "great_count_per_review_arr = ...\n",
    "great_count_per_review_arr"
   ]
  },
  {
   "cell_type": "code",
   "execution_count": null,
   "id": "51431d1c",
   "metadata": {
    "deletable": false,
    "editable": false
   },
   "outputs": [],
   "source": [
    "grader.check(\"task_07\")"
   ]
  },
  {
   "cell_type": "markdown",
   "id": "3f5f9d94-1cb2-4937-b3f5-b25acae6582a",
   "metadata": {},
   "source": [
    "---"
   ]
  },
  {
   "cell_type": "markdown",
   "id": "c188cfc7-ea9b-45c8-a781-49ab25c4cda5",
   "metadata": {},
   "source": [
    "## Tokenizing"
   ]
  },
  {
   "cell_type": "markdown",
   "id": "59ab8452-d7a3-4dfb-86b0-c7b4c50a39f4",
   "metadata": {},
   "source": [
    "Tokenizing is the process of splitting text into smaller units, called tokens. These tokens can be words, phrases, or even sentences, depending on the level of tokenization. In NLP, tokenizing is a fundamental step that helps break down text into meaningful components for further analysis.\n",
    "\n",
    "For example, tokenizing this sentence:\n",
    "\n",
    "\"I love this product! It's amazing.\"\n",
    "\n",
    "Could produce the list of tokens:\n",
    "\n",
    "```python\n",
    "['I', 'love', 'this', 'product', '!', 'It', \"'s\", 'amazing', '.']\n",
    "```\n",
    "\n",
    "In terms of analyzing product/service reviews, tokenizing can help us\n",
    "* Break reviews into individual words or phrases makes it easier to analyze sentiment, frequency, and patterns.\n",
    "* Filter out punctuation, stopwords (like \"the\", \"is\"), or unwanted characters.\n",
    "* Identify positive/negative words (e.g. \"great\", \"bad\") and determine customer sentiment.\n",
    "* Count how often certain words appear in reviews.\n",
    "* Prepare for more advanced operations."
   ]
  },
  {
   "cell_type": "markdown",
   "id": "4c328be3-b152-4a05-a804-0357db182538",
   "metadata": {},
   "source": [
    "---"
   ]
  },
  {
   "cell_type": "markdown",
   "id": "dbc94505-2e33-4fec-8b5d-6f984bba34bf",
   "metadata": {},
   "source": [
    "### NLTK"
   ]
  },
  {
   "cell_type": "markdown",
   "id": "d11f45ec-aaf2-49f3-919d-36d6724bd826",
   "metadata": {},
   "source": [
    "With most specialized fields, there are a few standard Python packages/libraries to support the work done in that field. For NLP, [`nltk`](https://www.nltk.org) (Natural Language Toolkit) is such a library. Run the following code cell to import `nltk`, imprt the `word_toeknize` function from the `tokenize` module, and download the tokenizer data `punkt_tab`."
   ]
  },
  {
   "cell_type": "code",
   "execution_count": null,
   "id": "db07ea8c-9319-4eb8-8986-cea791741b1b",
   "metadata": {},
   "outputs": [],
   "source": [
    "import nltk\n",
    "from nltk.tokenize import word_tokenize\n",
    "try:\n",
    "    nltk.download('punkt_tab', quiet=True)\n",
    "except:\n",
    "    print('Something went wrong with downloading the tokenizer data.')"
   ]
  },
  {
   "cell_type": "markdown",
   "id": "35984f8d-c067-458d-b0fd-eed6b8e0ed83",
   "metadata": {},
   "source": [
    "From the `tokenize` module, there is a function called `word_tokenize` that creates a list of tokens from a string that is provided as input. Run the following command to tokenize the string `\"Some things are natural about NLP and some things are not!\"`. You should get the following list as an output:\n",
    "\n",
    "```\n",
    "['Some',\n",
    " 'things',\n",
    " 'are',\n",
    " 'natural',\n",
    " 'about',\n",
    " 'NLP',\n",
    " 'and',\n",
    " 'some',\n",
    " 'things',\n",
    " 'are',\n",
    " 'not',\n",
    " '!']\n",
    "```"
   ]
  },
  {
   "cell_type": "code",
   "execution_count": null,
   "id": "3f2455e5-259d-4d40-b6b5-4bbefd531fb8",
   "metadata": {},
   "outputs": [],
   "source": [
    "word_tokenize(\"Some things are natural about NLP and some things are not!\")"
   ]
  },
  {
   "cell_type": "markdown",
   "id": "31997dd8-9f1f-43f6-9117-45b99b846d07",
   "metadata": {},
   "source": [
    "Notice that `word_tokenize` considered the punctuation as a separate token."
   ]
  },
  {
   "cell_type": "markdown",
   "id": "e2a3e0cc-e114-4dee-81d8-9e1104e16987",
   "metadata": {
    "editable": true,
    "slideshow": {
     "slide_type": ""
    },
    "tags": []
   },
   "source": [
    "#### Task 08 💻"
   ]
  },
  {
   "cell_type": "markdown",
   "id": "29433dc5-2084-45ff-8018-14882c1c1ccf",
   "metadata": {
    "deletable": false,
    "editable": false,
    "slideshow": {
     "slide_type": ""
    },
    "tags": []
   },
   "source": [
    "Using `word_tokenize`, create an **array** called `first_review_tokens_arr` that contains the tokens for the first review in `array_of_reviews_lower`."
   ]
  },
  {
   "cell_type": "code",
   "execution_count": null,
   "id": "953885d2-931a-453e-b8ca-4a4734dccf4c",
   "metadata": {
    "tags": []
   },
   "outputs": [],
   "source": [
    "first_review_tokens_arr = ...\n",
    "first_review_tokens_arr "
   ]
  },
  {
   "cell_type": "code",
   "execution_count": null,
   "id": "604addae",
   "metadata": {
    "deletable": false,
    "editable": false
   },
   "outputs": [],
   "source": [
    "grader.check(\"task_08\")"
   ]
  },
  {
   "cell_type": "markdown",
   "id": "4cce983f-3631-4bdc-b05a-5ea4ed5502f9",
   "metadata": {},
   "source": [
    "---"
   ]
  },
  {
   "cell_type": "markdown",
   "id": "f82f7846-bf71-472d-b5ad-babe2dfa2e41",
   "metadata": {},
   "source": [
    "From this point, you could tokenize every review and perform a variety of standard cleaning tasks such as:\n",
    "* removing punctuation\n",
    "* removing stop words such as \"the,\" \"is,\" \"and\"\n",
    "* reduce words to their base/root form through a process called stemming. (e.g. The stem of \"running\" is \"run\".)\n",
    "\n",
    "How you clean the reviews depends on what you want to do next."
   ]
  },
  {
   "cell_type": "markdown",
   "id": "d9159482-189c-4c37-a19b-d74c0ca81a8e",
   "metadata": {},
   "source": [
    "---"
   ]
  },
  {
   "cell_type": "markdown",
   "id": "bd6d60b1-ec67-4d56-a9f6-066fddba7a39",
   "metadata": {},
   "source": [
    "## Sentiment Analysis"
   ]
  },
  {
   "cell_type": "markdown",
   "id": "69bb9dcf-7f0e-4a0a-be8a-bc25155ec1af",
   "metadata": {},
   "source": [
    "What does the word \"sentiment\" mean? In general, sentiment refers to the feeling, attitude, or opinion that is influenced by emotion. For a simple example, you could consider how positive, negative, or neutral a review is. It is likely that a review is not 100\\% positive, so it is probably a blend of these three sentiment labels. One common NLP task is to perform sentiment analysis on some text.\n",
    "\n",
    "Run the following command to import the `SentimentIntensityAnalyzer` from NLTK, download the sentiment data, and assign `sia` to the sentiment intensity analyzer."
   ]
  },
  {
   "cell_type": "code",
   "execution_count": null,
   "id": "3c605937-f206-4a5f-acf0-d0d9de0b5139",
   "metadata": {},
   "outputs": [],
   "source": [
    "from nltk.sentiment import SentimentIntensityAnalyzer\n",
    "try:\n",
    "    nltk.download('vader_lexicon', quiet=True)\n",
    "except:\n",
    "    print('Something went wrong with downloading the vader lexicon data.')\n",
    "sia = SentimentIntensityAnalyzer()"
   ]
  },
  {
   "attachments": {},
   "cell_type": "markdown",
   "id": "fc795ee7-c95b-4620-a729-a7a1b66682be",
   "metadata": {},
   "source": [
    "You'll see in a moment that the sentiment scores for `'love it! great sandwich ❤️'` is:\n",
    "```\n",
    "{'neg': 0.0, 'neu': 0.259, 'pos': 0.741, 'compound': 0.8622}\n",
    "```\n",
    "\n",
    "Overall, the sentiment of the statement is generally positive with some of the sentiment being labeled as neutral. \n",
    "\n",
    "The `'vader_lexicon'` information downloaded is part of what helps determine the subjective belief of how positive, negative, or neutral a statement is. [VADER](https://www.nltk.org/api/nltk.sentiment.vader.html#module-nltk.sentiment.vader) applies rules to refine sentiment scores. These rules take amplifying words like \"very\", negations like \"not\", punctuation and capitalization like \"GOOD!!!\", and emojis and slang words such as 😡 into consideration."
   ]
  },
  {
   "cell_type": "markdown",
   "id": "efda6929-449b-47c9-abaf-bfd88a60481a",
   "metadata": {
    "editable": true,
    "slideshow": {
     "slide_type": ""
    },
    "tags": []
   },
   "source": [
    "### Task 09 💭"
   ]
  },
  {
   "cell_type": "markdown",
   "id": "d9b1a3f5-77b3-48f6-875e-184305f34a9e",
   "metadata": {
    "deletable": false,
    "editable": false
   },
   "source": [
    "<!-- BEGIN QUESTION -->\n",
    "\n",
    "Run the following commands to see the sentiment analysis for the first review in it's original form and lowercase form."
   ]
  },
  {
   "cell_type": "code",
   "execution_count": null,
   "id": "c3185362-cef7-4c23-9ba8-537ebfcc84d4",
   "metadata": {
    "deletable": false,
    "editable": false
   },
   "outputs": [],
   "source": [
    "print(f'Original Review: {first_review}')\n",
    "sia.polarity_scores(first_review)"
   ]
  },
  {
   "cell_type": "code",
   "execution_count": null,
   "id": "cc40e3f2-6ff2-4806-a6eb-02d4aa40c5bf",
   "metadata": {
    "deletable": false,
    "editable": false
   },
   "outputs": [],
   "source": [
    "print(f'Lowercase Review: {first_review_lower}')\n",
    "sia.polarity_scores(first_review_lower)"
   ]
  },
  {
   "cell_type": "markdown",
   "id": "fb3e1e27-76b8-4ac2-bc36-9cb9869bfff2",
   "metadata": {
    "deletable": false,
    "editable": false
   },
   "source": [
    "Why do you think the original version was more positive?"
   ]
  },
  {
   "cell_type": "markdown",
   "id": "5b8f3420",
   "metadata": {},
   "source": [
    "_Type your answer here, replacing this text._"
   ]
  },
  {
   "cell_type": "markdown",
   "id": "ce27ca1c-f6a9-49c1-a124-03e87ce3ce66",
   "metadata": {
    "deletable": false,
    "editable": false
   },
   "source": [
    "<!-- END QUESTION -->\n",
    "\n",
    "---"
   ]
  },
  {
   "cell_type": "markdown",
   "id": "1efdec50-bec1-478e-ac42-bf0ade659c03",
   "metadata": {
    "editable": true,
    "slideshow": {
     "slide_type": ""
    },
    "tags": []
   },
   "source": [
    "### Task 10 💭"
   ]
  },
  {
   "cell_type": "markdown",
   "id": "b8570ec5-653c-41b7-a35f-827a5c0980d8",
   "metadata": {
    "deletable": false,
    "editable": false
   },
   "source": [
    "<!-- BEGIN QUESTION -->\n",
    "\n",
    "Run the following code cell to see the sentiment scores for all 3 reviews in their original format plus a few more. Keep in mind that this code uses a `for` loop construction that you'll learn about later in the course. "
   ]
  },
  {
   "cell_type": "code",
   "execution_count": null,
   "id": "273af845-dce9-48b3-a2b4-501b20308701",
   "metadata": {
    "deletable": false,
    "editable": false
   },
   "outputs": [],
   "source": [
    "array_of_reviews_extended = np.append(\n",
    "    array_of_reviews, [\n",
    "        \"Great sandwich! The sauce was so savory 🤤\",\n",
    "        \"It's a sandwich 😑\",\n",
    "        \"Loved it ... 🙄\",\n",
    "        \"This sandwich was terrible.\"\n",
    "    ]\n",
    ")\n",
    "for review in array_of_reviews_extended:\n",
    "    sentiment = sia.polarity_scores(review)\n",
    "    print(f'The sentiment scores for: \"{review}\" are:\\n{sentiment}\\n')"
   ]
  },
  {
   "cell_type": "markdown",
   "id": "7b5cceb3-facb-4657-a2a7-a0a4b7293155",
   "metadata": {
    "deletable": false,
    "editable": false
   },
   "source": [
    "How did the sentiment analysis turn out? Do you agree with the results for the most part? Did it identify the negative reviews? Is there any cleaning that you think should be done to better capture the sentiment of the reviews?"
   ]
  },
  {
   "cell_type": "markdown",
   "id": "139d3612",
   "metadata": {},
   "source": [
    "_Type your answer here, replacing this text._"
   ]
  },
  {
   "cell_type": "markdown",
   "id": "9f4af48c-6803-4527-91cd-9af5275d9d02",
   "metadata": {
    "deletable": false,
    "editable": false
   },
   "source": [
    "<!-- END QUESTION -->\n",
    "\n",
    "---"
   ]
  },
  {
   "cell_type": "markdown",
   "id": "c11c8fb1-554c-4ce0-b48b-78b84fe7404f",
   "metadata": {},
   "source": [
    "## Reflection"
   ]
  },
  {
   "cell_type": "markdown",
   "id": "8bb442e3-93ec-4e95-b913-ae40f3d100ff",
   "metadata": {},
   "source": [
    "In this guided learning activity, you developed your understanding of object-oriented programming in Python, particularly the concepts of attributes and methods. Working with strings and exploring their various methods, like `.lower()`, was instrumental in understanding how to manipulate and clean text data.  The introduction to NumPy arrays and their application in batch processing, along with the use of NLTK for tokenization and sentiment analysis, provided a practical glimpse into the world of NLP."
   ]
  },
  {
   "cell_type": "markdown",
   "id": "6f1a1575-d1cc-4e5b-9e36-6d2fce3c3b00",
   "metadata": {
    "editable": true,
    "slideshow": {
     "slide_type": ""
    },
    "tags": []
   },
   "source": [
    "---"
   ]
  },
  {
   "cell_type": "markdown",
   "id": "830cd3aa-7268-4b8d-9de1-b8291a77d457",
   "metadata": {
    "editable": true,
    "slideshow": {
     "slide_type": "notes"
    },
    "tags": []
   },
   "source": [
    "## License"
   ]
  },
  {
   "cell_type": "markdown",
   "id": "55e19cd7-8808-4101-a381-c0897b12ce07",
   "metadata": {
    "editable": true,
    "slideshow": {
     "slide_type": ""
    },
    "tags": []
   },
   "source": [
    "This content is licensed under the <a href=\"https://creativecommons.org/licenses/by-nc-sa/4.0/\">Creative Commons Attribution-NonCommercial-ShareAlike 4.0 International License (CC BY-NC-SA 4.0)</a>.\n",
    "\n",
    "<img src=\"./by-nc-sa.png\" width=100px>"
   ]
  }
 ],
 "metadata": {
  "kernelspec": {
   "display_name": "Python 3 (ipykernel)",
   "language": "python",
   "name": "python3"
  },
  "language_info": {
   "codemirror_mode": {
    "name": "ipython",
    "version": 3
   },
   "file_extension": ".py",
   "mimetype": "text/x-python",
   "name": "python",
   "nbconvert_exporter": "python",
   "pygments_lexer": "ipython3",
   "version": "3.11.9"
  },
  "otter": {
   "OK_FORMAT": true,
   "assignment_name": "gla02_sp25",
   "tests": {
    "task_02": {
     "name": "task_02",
     "points": null,
     "suites": [
      {
       "cases": [
        {
         "code": ">>> isinstance(first_review_lower, str)\nTrue",
         "failure_message": "\"❌ first_review_lower should be a string.\"",
         "hidden": false,
         "locked": false,
         "success_message": "\"✅ first_review_lower is a string.\"\n"
        },
        {
         "code": ">>> first_review_lower\n'love it! great sandwich ❤️'",
         "failure_message": "\"❌ first_review_lower does not seem correct.\"",
         "hidden": false,
         "locked": false,
         "success_message": "\"✅ first_review_lower seems correct.\"\n"
        }
       ],
       "scored": true,
       "setup": "",
       "teardown": "",
       "type": "doctest"
      }
     ]
    },
    "task_03": {
     "name": "task_03",
     "points": null,
     "suites": [
      {
       "cases": [
        {
         "code": ">>> isinstance(second_review_lower, str)\nTrue",
         "failure_message": "\"❌ second_review_lower should be a string.\"",
         "hidden": false,
         "locked": false,
         "success_message": "\"✅ second_review_lower is a string.\"\n"
        },
        {
         "code": ">>> isinstance(third_review_lower, str)\nTrue",
         "failure_message": "\"❌ third_review_lower should be a string.\"",
         "hidden": false,
         "locked": false,
         "success_message": "\"✅ third_review_lower is a string.\"\n"
        },
        {
         "code": ">>> second_review_lower\n'great sandwich!'",
         "failure_message": "\"❌ second_review_lower does not seem correct.\"",
         "hidden": false,
         "locked": false,
         "success_message": "\"✅ second_review_lower seems correct.\"\n"
        },
        {
         "code": ">>> third_review_lower\n'this sandwich was terrible ...'",
         "failure_message": "\"❌ third_review_lower does not seem correct.\"",
         "hidden": false,
         "locked": false,
         "success_message": "\"✅ sthird_review_lower seems correct.\"\n"
        }
       ],
       "scored": true,
       "setup": "",
       "teardown": "",
       "type": "doctest"
      }
     ]
    },
    "task_05": {
     "name": "task_05",
     "points": null,
     "suites": [
      {
       "cases": [
        {
         "code": ">>> isinstance(array_of_reviews, np.ndarray)\nTrue",
         "failure_message": "\"❌ array_of_reviews should be an array.\"",
         "hidden": false,
         "locked": false,
         "success_message": "\"✅ array_of_reviews is an array.\"\n"
        },
        {
         "code": ">>> array_of_reviews\narray(['LOVE IT! Great sandwich ❤️', 'Great Sandwich!',\n       'This sandwich was terrible ...'],\n      dtype='<U30')",
         "failure_message": "\"❌ array_of_reviews does not seem correct.\"",
         "hidden": false,
         "locked": false,
         "success_message": "\"✅ array_of_reviews seems correct.\"\n"
        }
       ],
       "scored": true,
       "setup": "",
       "teardown": "",
       "type": "doctest"
      }
     ]
    },
    "task_06": {
     "name": "task_06",
     "points": null,
     "suites": [
      {
       "cases": [
        {
         "code": ">>> isinstance(array_of_reviews_lower, np.ndarray)\nTrue",
         "failure_message": "\"❌ array_of_reviews_lower should be an array.\"",
         "hidden": false,
         "locked": false,
         "success_message": "\"✅ array_of_reviews_lower is an array.\"\n"
        },
        {
         "code": ">>> array_of_reviews_lower[0] == 'love it! great sandwich ❤️'\nTrue",
         "failure_message": "\"❌ The first item in array_of_reviews_lower doesn't seem correct.\"",
         "hidden": false,
         "locked": false,
         "success_message": "\"✅ The first item in array_of_reviews_lower seems correct.\"\n"
        },
        {
         "code": ">>> bool(np.all(array_of_reviews_lower == np.array(['love it! great sandwich ❤️', 'great sandwich!', 'this sandwich was terrible ...'])))\nTrue",
         "failure_message": "\"❌ array_of_reviews_lower doesn't seem correct.\"",
         "hidden": false,
         "locked": false,
         "success_message": "\"✅ array_of_reviews_lower seems correct.\"\n"
        }
       ],
       "scored": true,
       "setup": "",
       "teardown": "",
       "type": "doctest"
      }
     ]
    },
    "task_07": {
     "name": "task_07",
     "points": null,
     "suites": [
      {
       "cases": [
        {
         "code": ">>> isinstance(great_count_per_review_arr, np.ndarray)\nTrue",
         "failure_message": "\"❌ great_count_per_review_arr should be an array.\"",
         "hidden": false,
         "locked": false,
         "success_message": "\"✅ great_count_per_review_arr is an array.\"\n"
        },
        {
         "code": ">>> bool(np.all(great_count_per_review_arr == np.array([1, 1, 0])))\nTrue",
         "failure_message": "\"❌ great_count_per_review_arr does not seem correct.\"",
         "hidden": false,
         "locked": false,
         "success_message": "\"✅ great_count_per_review_arr seems correct.\"\n"
        }
       ],
       "scored": true,
       "setup": "",
       "teardown": "",
       "type": "doctest"
      }
     ]
    },
    "task_08": {
     "name": "task_08",
     "points": null,
     "suites": [
      {
       "cases": [
        {
         "code": ">>> isinstance(first_review_tokens_arr, np.ndarray)\nTrue",
         "failure_message": "\"❌ first_review_tokens_arr is not an array. Don't forget to convert the list to an array.\"",
         "hidden": false,
         "locked": false,
         "success_message": "\"✅ first_review_tokens_arr is an array.\"\n"
        },
        {
         "code": ">>> first_review_tokens_arr\narray(['love', 'it', '!', 'great', 'sandwich', '❤️'],\n      dtype='<U8')",
         "failure_message": "\"❌ first_review_tokens_arr doesn't seem correct.\"",
         "hidden": false,
         "locked": false,
         "success_message": "\"✅ first_review_tokens_arr seems correct.\"\n"
        }
       ],
       "scored": true,
       "setup": "",
       "teardown": "",
       "type": "doctest"
      }
     ]
    }
   }
  }
 },
 "nbformat": 4,
 "nbformat_minor": 5
}
