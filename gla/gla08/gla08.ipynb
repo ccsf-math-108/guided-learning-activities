{
 "cells": [
  {
   "cell_type": "code",
   "execution_count": null,
   "id": "812c4e14",
   "metadata": {
    "deletable": false,
    "editable": false
   },
   "outputs": [],
   "source": [
    "# Initialize Otter\n",
    "import otter\n",
    "grader = otter.Notebook(\"gla08.ipynb\")"
   ]
  },
  {
   "cell_type": "markdown",
   "id": "692fbc6d-0645-4e75-b205-29989ec616ab",
   "metadata": {},
   "source": [
    "<img src=\"./ccsf.png\" alt=\"CCSF Logo\" width=200px style=\"margin:0px -5px\">"
   ]
  },
  {
   "cell_type": "markdown",
   "id": "c83b268c-d46e-450b-b4af-a2390020878c",
   "metadata": {
    "tags": []
   },
   "source": [
    "# Guided Learning Activity 08: A/B Testing"
   ]
  },
  {
   "cell_type": "markdown",
   "id": "f5c0e5f0-1759-4129-8e2e-8301f1db6953",
   "metadata": {},
   "source": [
    "This Guided Learning Activity is designed for you to complete alongside a Data Ambassador from the course. You might find that it feels like a combination of the lectures and lab assignment. Whether you are participating live or watching the recording of the live meeting, let the Data Ambassador guide you through the following tasks. There will be moments for you to reflect and explore your own ideas as a way to solidify concepts and skills introduced by your instructor. Keep in mind that this is not a graded assignment for MATH 108 by default. If you have any concerns about participation, reach out to your instructor."
   ]
  },
  {
   "cell_type": "markdown",
   "id": "20d80b08-8562-4cc5-aa65-1e0c97ac6985",
   "metadata": {},
   "source": [
    "---"
   ]
  },
  {
   "cell_type": "markdown",
   "id": "eccd253c-ffd2-40f0-98ac-cc06cc8dec20",
   "metadata": {},
   "source": [
    "## Learning Objectives"
   ]
  },
  {
   "cell_type": "markdown",
   "id": "66e18ccd-f8f0-4f7c-a1f9-c872f5ca01af",
   "metadata": {},
   "source": [
    "1. Outline the steps of a permutation test.\n",
    "2. Visually and numerically observe differences in numerical distributions for two groups.\n",
    "3. Perform a permutation test in a provided business scenario.\n",
    "4. Reflect on the results of the test to make an informed decision."
   ]
  },
  {
   "cell_type": "markdown",
   "id": "9a45b759-69b8-4061-b2f8-06483c0e2e92",
   "metadata": {},
   "source": [
    "---"
   ]
  },
  {
   "cell_type": "markdown",
   "id": "0c2302a6-fda0-41de-a349-169954a09cf8",
   "metadata": {},
   "source": [
    "## Configure the Notebook"
   ]
  },
  {
   "cell_type": "markdown",
   "id": "06843add-4d19-4e8d-a8ca-a9bcbee58f31",
   "metadata": {},
   "source": [
    "Run the following code cell to set up the notebook."
   ]
  },
  {
   "cell_type": "code",
   "execution_count": null,
   "id": "253bae4d-e069-42ce-b797-c3cfe5a9fc12",
   "metadata": {},
   "outputs": [],
   "source": [
    "from datascience import *\n",
    "import numpy as np\n",
    "%matplotlib inline\n",
    "import matplotlib.pyplot as plt\n",
    "plt.style.use('fivethirtyeight')"
   ]
  },
  {
   "cell_type": "markdown",
   "id": "0768ab18-070d-487b-96eb-6578f455d5c2",
   "metadata": {},
   "source": [
    "---"
   ]
  },
  {
   "cell_type": "markdown",
   "id": "005bfc25-da71-4dce-bfd8-169a3329e5a0",
   "metadata": {},
   "source": [
    "## Permutation Test"
   ]
  },
  {
   "cell_type": "markdown",
   "id": "cf2b8198-56b6-453b-b9b3-2a1d2cb79db3",
   "metadata": {},
   "source": [
    "* In MATH 108, you utilize a permutation test to perform an A/B test where you are trying to decide if the distributions of numerical values for two groups are the same or not.\n",
    "* The term permutation refers to arrangement, so a permutation test considers many random arrangements of the labeled data.\n",
    "\n",
    "```mermaid\n",
    "graph TD;\n",
    "    A[\"Numerical Data for Two Groups Labeled A and B\"]\n",
    "    A --> B[\"Null Hypothesis: Assume the Distribution of\\nNumerical Values for Both Groups is the Same\"]\n",
    "    B --> C[\"Calculate Observed Test Statistic (e.g., Difference of Means)\"]\n",
    "    B --> D[\"Generate a Random Permutation of the Labels\"]\n",
    "    D --> E[\"Recalculate Test Statistic with Permuted Data\"]\n",
    "    E -->|\"Repeat Many Times\"| D\n",
    "    E --> F[\"Generate Distribution of Test Statistics from Permutations\"]\n",
    "    G{\"Is the Observed Test Statistic Consistent with\\n the Distribution Based on the Permuted Data?\"}\n",
    "    C --> G\n",
    "    F --> G\n",
    "    G -->|\"Yes\"| H[\"Fail to Reject the Null Hypothesis\"]\n",
    "    G -->|\"No\"| I[\"Reject the Null Hypothesis\"]\n",
    "```"
   ]
  },
  {
   "cell_type": "markdown",
   "id": "630d0137-9592-4408-9519-7126caf6d1cf",
   "metadata": {},
   "source": [
    "---"
   ]
  },
  {
   "cell_type": "markdown",
   "id": "56e1e1b7-5b8f-447c-b1c1-fffe7c1f6f9f",
   "metadata": {},
   "source": [
    "## Deciding Between Two Business Strategies"
   ]
  },
  {
   "cell_type": "markdown",
   "id": "1449a57f-25f4-4bfb-8473-c01bdaead260",
   "metadata": {},
   "source": [
    "A company has a strategy for engaging with its customers through its website. The strategy includes branding design, social media connection, etc. The growth team at the company has an idea for a new strategy that may lead to increased revenue, increased engagement, etc. The company has employed researchers to help decide whether to adopt the growth team's proposal or continue with the current strategy. "
   ]
  },
  {
   "cell_type": "markdown",
   "id": "f6f1f5fb-f64d-40d6-a216-17eb91d220ac",
   "metadata": {},
   "source": [
    "---"
   ]
  },
  {
   "cell_type": "markdown",
   "id": "ea9d7366-9cdd-48cb-b2c5-9d1a7e1e4324",
   "metadata": {},
   "source": [
    "### Experimental Data"
   ]
  },
  {
   "cell_type": "markdown",
   "id": "b51e0dac-c539-4a4b-b237-dfc516fe2354",
   "metadata": {},
   "source": [
    "The researchers ran two campaigns, a control campaign where they didn't interfere with the current strategy at the company and a test campaign where they modified the website based on the growth team's proposed strategy. The collected various data points every day for 30 days in August (of 2019) and stored the data in [`campaigns.csv`](https://www.kaggle.com/datasets/amirmotefaker/ab-testing-dataset/data). The data variables are described below:\n",
    "\n",
    "| Variable Name     | Description                                              |\n",
    "|------------------|----------------------------------------------------------|\n",
    "| campaign_name    | The name of the campaign (Control, Test)                 |\n",
    "| date            | Date of the record                                        |\n",
    "| spend     | Amount spent on the campaign in dollars                    |\n",
    "| impressions     | Number of impressions the ad received                      |\n",
    "| reach           | The number of unique impressions received in the ad         |\n",
    "| website_clicks | Number of website clicks received through the ads          |\n",
    "| searches       | Number of users who performed searches on the website       |\n",
    "| view_content | Number of users who viewed content and products on the website |\n",
    "| add_to_cart     | Number of users who added products to the cart              |\n",
    "| purchase      | Number of purchases                                         |\n",
    "\n",
    "Companies do not tend to share this type of data publicly as it might provide their competitors with information they don't want them to have, so that is why there is no information about this company, no details of the website, and the data is relatively old. "
   ]
  },
  {
   "cell_type": "markdown",
   "id": "a63907a3-3442-49d4-8464-da843a7dc114",
   "metadata": {},
   "source": [
    "---"
   ]
  },
  {
   "cell_type": "markdown",
   "id": "0ed19472-de48-4540-b2bd-996154249759",
   "metadata": {
    "tags": []
   },
   "source": [
    "### Task 01 📍"
   ]
  },
  {
   "cell_type": "markdown",
   "id": "e0ca5939-1f45-49a6-8d8b-05d571555b89",
   "metadata": {
    "deletable": false,
    "editable": false
   },
   "source": [
    "Read the data from `campaigns.csv` and assign the results to `campaigns`."
   ]
  },
  {
   "cell_type": "code",
   "execution_count": null,
   "id": "c9b7fc65-66a2-4584-a399-bce61d8ce102",
   "metadata": {
    "tags": []
   },
   "outputs": [],
   "source": [
    "..."
   ]
  },
  {
   "cell_type": "code",
   "execution_count": null,
   "id": "a66f34c6",
   "metadata": {
    "deletable": false,
    "editable": false
   },
   "outputs": [],
   "source": [
    "grader.check(\"task_01\")"
   ]
  },
  {
   "cell_type": "markdown",
   "id": "d269912c-33eb-4950-8180-6713a7043d08",
   "metadata": {
    "editable": true,
    "slideshow": {
     "slide_type": ""
    },
    "tags": []
   },
   "source": [
    "---"
   ]
  },
  {
   "cell_type": "markdown",
   "id": "1adb268c-49ca-4c20-8349-3b7962c46740",
   "metadata": {},
   "source": [
    "### Missing Data"
   ]
  },
  {
   "cell_type": "markdown",
   "id": "3ffcb639-588b-4c78-9419-5f45a3830df7",
   "metadata": {},
   "source": [
    "You may have noticed from the preview of `campaigns` that some values are missing. There are multiple ways to handle missing data. One approach is to remove entire rows that contain missing numerical values. However, since we will be comparing mean behavior over the month, another reasonable approach is to replace missing values with the mean for that variable within the same campaign over the entire time period. This later process is a bit tedious to do with the MATH 108 libraries, so we'll do it for you using Pandas's `fillna` function. Run the following code cell to do this."
   ]
  },
  {
   "cell_type": "code",
   "execution_count": null,
   "id": "c70c4066-2dbc-4cd5-ad0a-eeabb29db0d4",
   "metadata": {},
   "outputs": [],
   "source": [
    "test = campaigns.where('campaign_name', 'Test Campaign')\n",
    "control = campaigns.where('campaign_name', 'Control Campaign')\n",
    "df_control = control.to_df()\n",
    "cols_to_fill = [\"impressions\", \"reach\", \"website_clicks\", \n",
    "                \"searches\", \"add_to_cart\", \"purchase\", \n",
    "                \"view_content\"]\n",
    "\n",
    "df_control[cols_to_fill] = df_control[cols_to_fill].fillna(df_control[cols_to_fill].mean())\n",
    "\n",
    "control = Table.from_df(df_control)\n",
    "campaigns = control.append(test)\n",
    "campaigns"
   ]
  },
  {
   "cell_type": "markdown",
   "id": "a8b33a28-da03-4e46-9acd-0384b4b5b3d7",
   "metadata": {
    "editable": true,
    "slideshow": {
     "slide_type": ""
    },
    "tags": []
   },
   "source": [
    "---"
   ]
  },
  {
   "cell_type": "markdown",
   "id": "da0f9fd6-8fad-40db-a354-c93cba644561",
   "metadata": {
    "tags": []
   },
   "source": [
    "### Task 02 📍🔎"
   ]
  },
  {
   "cell_type": "markdown",
   "id": "4c26e692-b131-4a54-b537-ec1bf987303c",
   "metadata": {
    "deletable": false,
    "editable": false
   },
   "source": [
    "<!-- BEGIN QUESTION -->\n",
    "\n",
    "Use a bar chart to compare the means of each numerical variable between the control and test campaigns. We recommend setting the `overlay=False` parameter in `barh` to make the comparisons easier to see. What do you notice?"
   ]
  },
  {
   "cell_type": "markdown",
   "id": "87144b9e",
   "metadata": {},
   "source": [
    "_Type your answer here, replacing this text._"
   ]
  },
  {
   "cell_type": "code",
   "execution_count": null,
   "id": "157282cf-5201-4f7f-9330-464374d60b02",
   "metadata": {
    "tags": []
   },
   "outputs": [],
   "source": [
    "..."
   ]
  },
  {
   "cell_type": "markdown",
   "id": "366a16a7-b2d3-44ec-bd56-eebc2b8f04e5",
   "metadata": {
    "deletable": false,
    "editable": false,
    "slideshow": {
     "slide_type": ""
    },
    "tags": []
   },
   "source": [
    "<!-- END QUESTION -->\n",
    "\n",
    "---"
   ]
  },
  {
   "cell_type": "markdown",
   "id": "ce9fc2b3-a3ec-4145-8c06-b98059c4d839",
   "metadata": {},
   "source": [
    "### Observing the Differences"
   ]
  },
  {
   "cell_type": "markdown",
   "id": "c653bb41-8c79-4219-aadf-c74c7286284d",
   "metadata": {},
   "source": [
    "* There are visually notable differences in means for almost every variable, but those differences could be just due to chance?\n",
    "* A statistical inference tests, like an A/B test, considers that random behavior."
   ]
  },
  {
   "cell_type": "markdown",
   "id": "5f3c2de9-d979-4168-a1e2-4e5ac5e48ba6",
   "metadata": {
    "editable": true,
    "slideshow": {
     "slide_type": ""
    },
    "tags": []
   },
   "source": [
    "---"
   ]
  },
  {
   "cell_type": "markdown",
   "id": "9cc6bd39-6e36-4a6f-9ec1-94d8b55b7aab",
   "metadata": {
    "tags": []
   },
   "source": [
    "### Task 03 📍"
   ]
  },
  {
   "cell_type": "markdown",
   "id": "0d38b6ef-86d3-4d45-8cb5-0d14f98bf800",
   "metadata": {
    "deletable": false,
    "editable": false
   },
   "source": [
    "Define a function `diff_in_means` that takes a table like `campaigns` and a numerical column label (`str`) as inputs. The function should return the difference between the mean of the `'Control Campaign'` values and the mean of the `'Test Campaign'` values for the specified numerical variable.\n",
    "\n",
    "**Note:** You can assume the table provided as input has the same columns as `campaigns`, and the values of the `'campaign_name'` column are `'Control Campaign'` and `'Test Campaign'`."
   ]
  },
  {
   "cell_type": "code",
   "execution_count": null,
   "id": "9232bbc5-2015-4988-9ac4-bad00f61a656",
   "metadata": {
    "tags": []
   },
   "outputs": [],
   "source": [
    "def diff_in_means(tbl, numerical_label):\n",
    "    reduced = ...\n",
    "    control_values = ...\n",
    "    test_values = ...\n",
    "    return ...\n",
    "\n",
    "# Test the function\n",
    "diff_in_means(campaigns, 'purchase')"
   ]
  },
  {
   "cell_type": "code",
   "execution_count": null,
   "id": "06e70ea8",
   "metadata": {
    "deletable": false,
    "editable": false
   },
   "outputs": [],
   "source": [
    "grader.check(\"task_03\")"
   ]
  },
  {
   "cell_type": "markdown",
   "id": "48d3d335-4282-42ad-a9b6-dd780d441036",
   "metadata": {
    "editable": true,
    "slideshow": {
     "slide_type": ""
    },
    "tags": []
   },
   "source": [
    "---"
   ]
  },
  {
   "cell_type": "markdown",
   "id": "a3835cac-3948-44db-a04c-39f197fa0cd1",
   "metadata": {
    "tags": []
   },
   "source": [
    "### Task 04 📍"
   ]
  },
  {
   "cell_type": "markdown",
   "id": "20574e01-b3ca-41b4-8979-dff385f249d4",
   "metadata": {
    "deletable": false,
    "editable": false
   },
   "source": [
    "Initially, we created an empty table called `observed_differences` with 8 columns representing the 8 numerical variables in `campaigns`. Using `diff_in_means` and `with_row`, calculate the observed test statistic for all the numerical variables and update `observed_differences` to include these values in the first row of the table."
   ]
  },
  {
   "cell_type": "code",
   "execution_count": null,
   "id": "66dfea01-c863-44e4-9418-08c4786e66e6",
   "metadata": {
    "tags": []
   },
   "outputs": [],
   "source": [
    "observed_differences = Table(campaigns.drop('campaign_name', 'date').labels)\n",
    "\n",
    "observed_diffs_arr = make_array()\n",
    "for numerical_label in observed_test_stats.labels:\n",
    "    observed_diff_of_means = ...\n",
    "    observed_diffs_arr = ...\n",
    "\n",
    "observed_differences = ...\n",
    "observed_differences"
   ]
  },
  {
   "cell_type": "code",
   "execution_count": null,
   "id": "69d00aaa",
   "metadata": {
    "deletable": false,
    "editable": false
   },
   "outputs": [],
   "source": [
    "grader.check(\"task_04\")"
   ]
  },
  {
   "cell_type": "markdown",
   "id": "7bd3d7c9-27a8-4df8-b0e1-65c7c24e5113",
   "metadata": {
    "editable": true,
    "slideshow": {
     "slide_type": ""
    },
    "tags": []
   },
   "source": [
    "---"
   ]
  },
  {
   "cell_type": "markdown",
   "id": "2bf22fec-88f6-4237-8e1e-bc74567ff721",
   "metadata": {
    "tags": []
   },
   "source": [
    "### Task 05 📍🔎"
   ]
  },
  {
   "cell_type": "markdown",
   "id": "844c9849-1509-4430-9c2c-8776c139c27d",
   "metadata": {
    "deletable": false,
    "editable": false
   },
   "source": [
    "<!-- BEGIN QUESTION -->\n",
    "\n",
    "Reflect on the difference of means. Which types of values provide evidence against the null hypothesis? Which values provide support for the growth team's strategy campaign?"
   ]
  },
  {
   "cell_type": "markdown",
   "id": "cec512a4",
   "metadata": {},
   "source": [
    "_Type your answer here, replacing this text._"
   ]
  },
  {
   "cell_type": "markdown",
   "id": "bde0f789-e801-4c69-b0c3-1c3bcb035dfd",
   "metadata": {
    "deletable": false,
    "editable": false,
    "slideshow": {
     "slide_type": "fragment"
    }
   },
   "source": [
    "<!-- END QUESTION -->\n",
    "\n",
    "---"
   ]
  },
  {
   "cell_type": "markdown",
   "id": "d7d7e968-b982-46c0-83c2-bc833e07ea3c",
   "metadata": {},
   "source": [
    "### Simulate Generating Data"
   ]
  },
  {
   "cell_type": "markdown",
   "id": "7d6cc15b-7992-45ea-bf06-afb8eafa8348",
   "metadata": {},
   "source": [
    "* Now that you have a way to calculate all of the differences in means for the `campaigns` table, you want to try shuffling the campaign labels and re-calculating the differences in means.\n",
    "* If it is true that there is no difference in the numerical distributions, then shuffling the labels should have no significant impact on the differences.\n",
    "* This is what it means to simulate generating data under the null hypothesis."
   ]
  },
  {
   "cell_type": "markdown",
   "id": "584ab7f3-2e19-4c9d-ad68-7890e77d0193",
   "metadata": {
    "editable": true,
    "slideshow": {
     "slide_type": ""
    },
    "tags": []
   },
   "source": [
    "---"
   ]
  },
  {
   "cell_type": "markdown",
   "id": "07894c51-f7af-4f67-9cf6-cc068a52aa0a",
   "metadata": {
    "tags": []
   },
   "source": [
    "### Task 06 📍"
   ]
  },
  {
   "cell_type": "markdown",
   "id": "3efae581-fd44-4d08-9a2e-314cdc6e17aa",
   "metadata": {
    "deletable": false,
    "editable": false
   },
   "source": [
    "Write a function `permute_and_calculate` that takes a table like `campaigns` as input, randomly shuffles `'campaign_name'` labels, and returns a table with 8 columns (one for each numerical variable in `campaigns` and 1 row containing the difference in means for each of the numerical variables. \n",
    "\n",
    "**Note:** You can assume the table provided as input has the same columns as `campaigns`."
   ]
  },
  {
   "cell_type": "code",
   "execution_count": null,
   "id": "8d1ef8e5-842e-45de-afa0-3f508c0767ec",
   "metadata": {
    "tags": []
   },
   "outputs": [],
   "source": [
    "def permute_and_calculate(tbl):\n",
    "    simulated_differences = Table(tbl.drop('campaign_name', 'date').labels)\n",
    "    simulated_diffs_arr = make_array()\n",
    "    \n",
    "    shuffled_labels = ...\n",
    "    shuffled_tbl = ...\n",
    "    \n",
    "    for numerical_label in simulated_differences.labels:\n",
    "        simulated_diff_of_means = ...\n",
    "        simulated_diffs_arr = ...\n",
    "    \n",
    "    simulated_differences = ...\n",
    "    return simulated_differences\n",
    "\n",
    "# Test the function\n",
    "permute_and_calculate(campaigns)"
   ]
  },
  {
   "cell_type": "code",
   "execution_count": null,
   "id": "d896804f",
   "metadata": {
    "deletable": false,
    "editable": false
   },
   "outputs": [],
   "source": [
    "grader.check(\"task_06\")"
   ]
  },
  {
   "cell_type": "markdown",
   "id": "365f38a6-25be-407d-8c1f-1195255af158",
   "metadata": {
    "editable": true,
    "slideshow": {
     "slide_type": ""
    },
    "tags": []
   },
   "source": [
    "---"
   ]
  },
  {
   "cell_type": "markdown",
   "id": "2bb2cb1c-e56b-4435-9ddb-4a6c1a5b7c17",
   "metadata": {
    "tags": []
   },
   "source": [
    "### Task 07 📍"
   ]
  },
  {
   "cell_type": "markdown",
   "id": "d2bd5bbb-a9f2-4036-a1e6-db1c478a06c5",
   "metadata": {
    "deletable": false,
    "editable": false
   },
   "source": [
    "Run the `permute_and_calculate` function 10,000 times. For each iteration, use `with_row` to add the results from `permute_and_calculate` to the empty table we've provided called `simulated_differences`."
   ]
  },
  {
   "cell_type": "code",
   "execution_count": null,
   "id": "23e0d46e-d6cf-423d-81d1-89b6e74d9891",
   "metadata": {
    "tags": []
   },
   "outputs": [],
   "source": [
    "simulated_differences = Table(campaigns.drop('campaign_name', 'date').labels)\n",
    "\n",
    "for ...:\n",
    "    simulated_differences = ...\n",
    "\n",
    "simulated_differences"
   ]
  },
  {
   "cell_type": "code",
   "execution_count": null,
   "id": "5735bdb0",
   "metadata": {
    "deletable": false,
    "editable": false
   },
   "outputs": [],
   "source": [
    "grader.check(\"task_07\")"
   ]
  },
  {
   "cell_type": "markdown",
   "id": "fcf38126-9862-49fc-a15f-22b8d2088c17",
   "metadata": {
    "editable": true,
    "slideshow": {
     "slide_type": ""
    },
    "tags": []
   },
   "source": [
    "---"
   ]
  },
  {
   "cell_type": "markdown",
   "id": "1472dc2c-29c8-4118-9ac6-8ada6ebcd601",
   "metadata": {},
   "source": [
    "### Weighing the Evidence"
   ]
  },
  {
   "cell_type": "markdown",
   "id": "de582e05-c43b-4f34-92d9-c5ce23c78a64",
   "metadata": {},
   "source": [
    "* With the experimental data and distributions for the test statistics based on each numerical value, you can now weigh the significance of the differences that you observed earlier.\n",
    "* A significant difference is one where the observed value is equal to or more extreme than 95% of the simulated statistics. (This assumes a p-value cutoff of 5%.)"
   ]
  },
  {
   "cell_type": "markdown",
   "id": "fbba4a6d-ebb0-43e9-9d2d-51ffd0722c31",
   "metadata": {
    "editable": true,
    "slideshow": {
     "slide_type": ""
    },
    "tags": []
   },
   "source": [
    "---"
   ]
  },
  {
   "cell_type": "markdown",
   "id": "d623644f-7f07-4009-ad23-11a020da9663",
   "metadata": {
    "tags": []
   },
   "source": [
    "### Task 08 📍🔎"
   ]
  },
  {
   "cell_type": "markdown",
   "id": "326c434d-bb30-4766-864f-2c0f11ca5f88",
   "metadata": {
    "deletable": false,
    "editable": false
   },
   "source": [
    "<!-- BEGIN QUESTION -->\n",
    "\n",
    "Complete the following code to go through each numerical variable and:\n",
    "* Check to see if the experimental data favors the `'Test'`, `'Control'`, or `'Neither'`\n",
    "* Calculate the p-value\n",
    "* Determine if the test results are significant (`True`) or not (`False`)\n",
    "* Generate a histogram of the distribution of simulated test statistics with the observed statistic included"
   ]
  },
  {
   "cell_type": "code",
   "execution_count": null,
   "id": "d6a2e50d-8462-4943-959e-37944733b8d4",
   "metadata": {
    "tags": []
   },
   "outputs": [],
   "source": [
    "summary_tbl = Table(['Variable', 'Favored Campaign', 'p-Value', 'Significant Results'])\n",
    "\n",
    "for numerical_variable in simulated_differences.labels:\n",
    "    observed_difference = observed_differences.column(numerical_variable).item(0)\n",
    "\n",
    "    # Results Favor ...\n",
    "    if ...:\n",
    "        favored_campaign = 'Test'\n",
    "    elif ...:\n",
    "        favored_campaign = 'Control'\n",
    "    else:\n",
    "        favored_campaign = 'Neither'\n",
    "\n",
    "    # p-Value and Statistical Significance\n",
    "    p_value = ...\n",
    "    \n",
    "    if ...:\n",
    "        significant = True\n",
    "    else:\n",
    "        significant = False\n",
    "\n",
    "    # Add information to the table\n",
    "    summary_tbl = summary_tbl.with_row([numerical_variable, favored_campaign, p_value, significant])\n",
    "    \n",
    "    # Generate histograms\n",
    "    simulated_differences.select(numerical_variable).hist()\n",
    "    # Add a point for the observed value of the test statistic (observed_average)\n",
    "    max_y = (simulated_differences.select(numerical_variable)\n",
    "             .bin(density=True).sort(1, True).column(1).item(0))\n",
    "    plt.ylim(-0.1*max_y, max_y)\n",
    "    plt.scatter(observed_difference, 0, color='red', s=30, label='Observed Test Statistic');\n",
    "    plt.title('Distribution of Test Statistics')\n",
    "    plt.legend(loc='center left', bbox_to_anchor=(1, 0.5))\n",
    "    plt.show()\n",
    "    \n",
    "summary_tbl"
   ]
  },
  {
   "cell_type": "markdown",
   "id": "92fe47d0-1ee4-43a6-b8d7-6bd620a24333",
   "metadata": {
    "deletable": false,
    "editable": false,
    "slideshow": {
     "slide_type": "fragment"
    }
   },
   "source": [
    "<!-- END QUESTION -->\n",
    "\n",
    "---"
   ]
  },
  {
   "cell_type": "markdown",
   "id": "554ef194-acf6-43cf-973c-a7ca01358b1f",
   "metadata": {},
   "source": [
    "### Making a Decision"
   ]
  },
  {
   "cell_type": "markdown",
   "id": "d72a157e-5f8e-4b23-b83a-daa0a689db28",
   "metadata": {},
   "source": [
    "It is important to remember that statistical tests do not provide absolute truth. Instead, they help us evaluate the evidence against a given belief to inform decision-making. Analysis teams track the results of these tests, and they (or others within the organization) use that information to guide their decisions."
   ]
  },
  {
   "cell_type": "markdown",
   "id": "ccfb4f9a-c52b-49cc-a591-05dfcf03c509",
   "metadata": {
    "slideshow": {
     "slide_type": "fragment"
    }
   },
   "source": [
    "---"
   ]
  },
  {
   "cell_type": "markdown",
   "id": "d9382a9d-b45b-4709-b458-e686c4d5929b",
   "metadata": {
    "tags": []
   },
   "source": [
    "### Task 09 📍🔎"
   ]
  },
  {
   "cell_type": "markdown",
   "id": "fe1a5262-832b-4e76-8082-df3f917f39eb",
   "metadata": {
    "deletable": false,
    "editable": false
   },
   "source": [
    "<!-- BEGIN QUESTION -->\n",
    "\n",
    "For these 8 variables, it is likely that every one that completes this notebook will obtain different p-values and slightly different overall results. Use your results to reflect on how you might make a decision about whether or not to adopt the growth teams strategy."
   ]
  },
  {
   "cell_type": "markdown",
   "id": "c6e05deb",
   "metadata": {},
   "source": [
    "_Type your answer here, replacing this text._"
   ]
  },
  {
   "cell_type": "markdown",
   "id": "2bc0fdb7-51f1-4e28-895f-73d7792eb222",
   "metadata": {
    "deletable": false,
    "editable": false,
    "slideshow": {
     "slide_type": "fragment"
    }
   },
   "source": [
    "<!-- END QUESTION -->\n",
    "\n",
    "---"
   ]
  },
  {
   "cell_type": "markdown",
   "id": "c11c8fb1-554c-4ce0-b48b-78b84fe7404f",
   "metadata": {},
   "source": [
    "## Reflection"
   ]
  },
  {
   "cell_type": "markdown",
   "id": "8bb442e3-93ec-4e95-b913-ae40f3d100ff",
   "metadata": {},
   "source": [
    "In this activity, you reflected on performing an A/B testing through a permutation test. Additionally, you applied the permutation test to a business scenario and experimental data in order to make a business decision."
   ]
  },
  {
   "cell_type": "markdown",
   "id": "6f1a1575-d1cc-4e5b-9e36-6d2fce3c3b00",
   "metadata": {
    "editable": true,
    "slideshow": {
     "slide_type": ""
    },
    "tags": []
   },
   "source": [
    "---"
   ]
  },
  {
   "cell_type": "markdown",
   "id": "830cd3aa-7268-4b8d-9de1-b8291a77d457",
   "metadata": {
    "editable": true,
    "slideshow": {
     "slide_type": "notes"
    },
    "tags": []
   },
   "source": [
    "## License"
   ]
  },
  {
   "cell_type": "markdown",
   "id": "55e19cd7-8808-4101-a381-c0897b12ce07",
   "metadata": {
    "editable": true,
    "slideshow": {
     "slide_type": ""
    },
    "tags": []
   },
   "source": [
    "This content is licensed under the <a href=\"https://creativecommons.org/licenses/by-nc-sa/4.0/\">Creative Commons Attribution-NonCommercial-ShareAlike 4.0 International License (CC BY-NC-SA 4.0)</a>.\n",
    "\n",
    "<img src=\"./by-nc-sa.png\" width=100px>"
   ]
  }
 ],
 "metadata": {
  "kernelspec": {
   "display_name": "Python 3 (ipykernel)",
   "language": "python",
   "name": "python3"
  },
  "language_info": {
   "codemirror_mode": {
    "name": "ipython",
    "version": 3
   },
   "file_extension": ".py",
   "mimetype": "text/x-python",
   "name": "python",
   "nbconvert_exporter": "python",
   "pygments_lexer": "ipython3",
   "version": "3.11.9"
  },
  "otter": {
   "OK_FORMAT": true,
   "assignment_name": "gla08_sp25",
   "tests": {
    "task_01": {
     "name": "task_01",
     "points": null,
     "suites": [
      {
       "cases": [
        {
         "code": ">>> isinstance(campaigns, Table)\nTrue",
         "failure_message": "\"❌ campaigns should be assigned to a Table.\"",
         "hidden": false,
         "locked": false,
         "success_message": "\"✅ campaigns is assigned to a Table.\"\n"
        },
        {
         "code": ">>> campaigns.num_rows\n60",
         "failure_message": "\"❌ campaigns does not have the correct number of rows.\"",
         "hidden": false,
         "locked": false,
         "success_message": "\"✅ campaigns has the correct number of rows.\"\n"
        },
        {
         "code": ">>> campaigns.labels == ('campaign_name', 'date', 'spend', 'impressions', 'reach', 'website_clicks', 'searches', 'view_content', 'add_to_cart', 'purchase')\nTrue",
         "failure_message": "\"❌ campaigns does not have the correct column labels.\"",
         "hidden": false,
         "locked": false,
         "success_message": "\"✅ campaigns has the correct column labels.\"\n"
        },
        {
         "code": ">>> campaigns\ncampaign_name    | date       | spend | impressions | reach  | website_clicks | searches | view_content | add_to_cart | purchase\nControl Campaign | 1.08.2019  | 2280  | 82702       | 56930  | 7016           | 2290     | 2159         | 1819        | 618\nControl Campaign | 2.08.2019  | 1757  | 121040      | 102513 | 8110           | 2033     | 1841         | 1219        | 511\nControl Campaign | 3.08.2019  | 2343  | 131711      | 110862 | 6508           | 1737     | 1549         | 1134        | 372\nControl Campaign | 4.08.2019  | 1940  | 72878       | 61235  | 3065           | 1042     | 982          | 1183        | 340\nControl Campaign | 5.08.2019  | 1835  | nan         | nan    | nan            | nan      | nan          | nan         | nan\nControl Campaign | 6.08.2019  | 3083  | 109076      | 87998  | 4028           | 1709     | 1249         | 784         | 764\nControl Campaign | 7.08.2019  | 2544  | 142123      | 127852 | 2640           | 1388     | 1106         | 1166        | 499\nControl Campaign | 8.08.2019  | 1900  | 90939       | 65217  | 7260           | 3047     | 2746         | 930         | 462\nControl Campaign | 9.08.2019  | 2813  | 121332      | 94896  | 6198           | 2487     | 2179         | 645         | 501\nControl Campaign | 10.08.2019 | 2149  | 117624      | 91257  | 2277           | 2475     | 1984         | 1629        | 734\n... (50 rows omitted)",
         "failure_message": "\"❌ campaigns does not seem correct.\"",
         "hidden": false,
         "locked": false,
         "success_message": "\"✅ campaigns seems correct.\"\n"
        }
       ],
       "scored": true,
       "setup": "",
       "teardown": "",
       "type": "doctest"
      }
     ]
    },
    "task_03": {
     "name": "task_03",
     "points": null,
     "suites": [
      {
       "cases": [
        {
         "code": ">>> callable(diff_in_means)\nTrue",
         "failure_message": "\"❌ diff_in_means is not callable.\"",
         "hidden": false,
         "locked": false,
         "success_message": "\"✅ diff_in_means is callable.\"\n"
        },
        {
         "code": ">>> test_purchase = diff_in_means(campaigns, 'purchase')\n>>> np.isclose(test_purchase, 1.5597701149424665)\nTrue",
         "failure_message": "\"❌ diff_in_means doesn't work for the purchase variable in campaigns.\"",
         "hidden": false,
         "locked": false,
         "success_message": "\"✅ diff_in_means works for the purchase variable in campaigns\"\n"
        },
        {
         "code": ">>> test_spend = diff_in_means(campaigns, 'spend')\n>>> np.isclose(test_spend, -274.6333333333332)\nTrue",
         "failure_message": "\"❌ diff_in_means doesn't work for the spend variable in campaigns.\"",
         "hidden": false,
         "locked": false,
         "success_message": "\"✅ diff_in_means works for the spend variable in campaigns\"\n"
        }
       ],
       "scored": true,
       "setup": "",
       "teardown": "",
       "type": "doctest"
      }
     ]
    },
    "task_04": {
     "name": "task_04",
     "points": null,
     "suites": [
      {
       "cases": [
        {
         "code": ">>> isinstance(observed_differences, Table)\nTrue",
         "failure_message": "\"❌ observed_differences is not a Table.\"",
         "hidden": false,
         "locked": false,
         "success_message": "\"✅ observed_differences is a Table.\"\n"
        },
        {
         "code": ">>> observed_differences.num_rows\n1",
         "failure_message": "\"❌ observed_differences does not have 1 row.\"",
         "hidden": false,
         "locked": false,
         "success_message": "\"✅ observed_differences has 1 row.\"\n"
        },
        {
         "code": ">>> observed_differences.labels == ('spend', 'impressions', 'reach', 'website_clicks', 'searches', 'view_content', 'add_to_cart', 'purchase')\nTrue",
         "failure_message": "\"❌ observed_differences does not have the correct labels.\"",
         "hidden": false,
         "locked": false,
         "success_message": "\"✅ observed_differences has the correct labels.\"\n"
        },
        {
         "code": ">>> observed_differences\nspend    | impressions | reach   | website_clicks | searches | view_content | add_to_cart | purchase\n-274.633 | 34975       | 35353.4 | -711.54        | -197.656 | 85.7931      | 418.467     | 1.55977",
         "failure_message": "\"❌ observed_differences is not correct.\"",
         "hidden": false,
         "locked": false,
         "success_message": "\"✅ observed_differences is correct.\"\n"
        }
       ],
       "scored": true,
       "setup": "",
       "teardown": "",
       "type": "doctest"
      }
     ]
    },
    "task_06": {
     "name": "task_06",
     "points": null,
     "suites": [
      {
       "cases": [
        {
         "code": ">>> callable(permute_and_calculate)\nTrue",
         "failure_message": "\"❌ permute_and_calculate is not callable.\"",
         "hidden": false,
         "locked": false,
         "success_message": "\"✅ permute_and_calculate is callable.\"\n"
        },
        {
         "code": ">>> test_permute_and_calculate = permute_and_calculate(campaigns)\n>>> isinstance(test_permute_and_calculate, Table)\nTrue",
         "failure_message": "\"❌ permute_and_calculate does not return a Table.\"",
         "hidden": false,
         "locked": false,
         "success_message": "\"✅ permute_and_calculate returns a Table.\"\n"
        },
        {
         "code": ">>> test_permute_and_calculate = permute_and_calculate(campaigns)\n>>> test_permute_and_calculate.num_rows\n1",
         "failure_message": "\"❌ permute_and_calculate does not return a Table with 1 row.\"",
         "hidden": false,
         "locked": false,
         "success_message": "\"✅ permute_and_calculate returns a Table with 1 row.\"\n"
        },
        {
         "code": ">>> test_permute_and_calculate = permute_and_calculate(campaigns)\n>>> test_permute_and_calculate.labels == ('spend', 'impressions', 'reach', 'website_clicks', 'searches', 'view_content', 'add_to_cart', 'purchase')\nTrue",
         "failure_message": "\"❌ permute_and_calculate does not return a Table with the correct labels.\"",
         "hidden": false,
         "locked": false,
         "success_message": "\"✅ permute_and_calculate returns a Table with the correct labels.\"\n"
        },
        {
         "code": ">>> from numbers import Number\n>>> test_permute_and_calculate = permute_and_calculate(campaigns)\n>>> row_1 = test_permute_and_calculate.row(0).asdict()\n>>> isinstance(np.array(list(row_1.values())).item(0), Number)\nTrue",
         "failure_message": "\"❌ permute_and_calculate does not return a Table with numerical values.\"",
         "hidden": false,
         "locked": false,
         "success_message": "\"✅ permute_and_calculate returns a Table with numerical values.\"\n"
        }
       ],
       "scored": true,
       "setup": "",
       "teardown": "",
       "type": "doctest"
      }
     ]
    },
    "task_07": {
     "name": "task_07",
     "points": null,
     "suites": [
      {
       "cases": [
        {
         "code": ">>> isinstance(simulated_differences, Table)\nTrue",
         "failure_message": "\"❌ simulated_differences is not a Table.\"",
         "hidden": false,
         "locked": false,
         "success_message": "\"✅ simulated_differences is a Table.\"\n"
        },
        {
         "code": ">>> simulated_differences.num_rows\n10000",
         "failure_message": "\"❌ simulated_differences does not have the correct number of rows.\"",
         "hidden": false,
         "locked": false,
         "success_message": "\"✅ simulated_differences has the correct number of rows.\"\n"
        },
        {
         "code": ">>> simulated_differences.labels == ('spend', 'impressions', 'reach', 'website_clicks', 'searches', 'view_content', 'add_to_cart', 'purchase')\nTrue",
         "failure_message": "\"❌ simulated_differences does not have the correct labels.\"",
         "hidden": false,
         "locked": false,
         "success_message": "\"✅ simulated_differences has the correct labels.\"\n"
        },
        {
         "code": ">>> from numbers import Number\n>>> row_1 = simulated_differences.row(0).asdict()\n>>> isinstance(np.array(list(row_1.values())).item(0), Number)\nTrue",
         "failure_message": "\"❌ simulated_differences is a Table with numerical values.\"",
         "hidden": false,
         "locked": false,
         "success_message": "\"✅ simulated_differences is a Table with numerical values.\"\n"
        }
       ],
       "scored": true,
       "setup": "",
       "teardown": "",
       "type": "doctest"
      }
     ]
    }
   }
  }
 },
 "nbformat": 4,
 "nbformat_minor": 5
}
