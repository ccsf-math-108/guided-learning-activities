{
 "cells": [
  {
   "cell_type": "code",
   "execution_count": null,
   "id": "0bfb8d94",
   "metadata": {
    "deletable": false,
    "editable": false
   },
   "outputs": [],
   "source": [
    "# Initialize Otter\n",
    "import otter\n",
    "grader = otter.Notebook(\"gla01.ipynb\")"
   ]
  },
  {
   "cell_type": "markdown",
   "id": "692fbc6d-0645-4e75-b205-29989ec616ab",
   "metadata": {},
   "source": [
    "<img src=\"./ccsf.png\" alt=\"CCSF Logo\" width=200px style=\"margin:0px -5px\">"
   ]
  },
  {
   "cell_type": "markdown",
   "id": "c83b268c-d46e-450b-b4af-a2390020878c",
   "metadata": {
    "tags": []
   },
   "source": [
    "# Guided Learning Activity 01: Study Design"
   ]
  },
  {
   "cell_type": "markdown",
   "id": "f5c0e5f0-1759-4129-8e2e-8301f1db6953",
   "metadata": {},
   "source": [
    "This Guided Learning Activity is designed for you to complete alongside a Data Ambassador from the course. You might find that it feels like a combination of the lectures and lab assignment. Whether you are participating live or watching the recording of the live meeting, let the Data Ambassador guide you through the following tasks. There will be moments for you to reflect and explore your own ideas as a way to solidify concepts and skills introduced by your instructor. Keep in mind that this is not a graded assignment for MATH 108 by default. If you have any concerns about participation, reach out to your instructor."
   ]
  },
  {
   "cell_type": "markdown",
   "id": "20d80b08-8562-4cc5-aa65-1e0c97ac6985",
   "metadata": {},
   "source": [
    "---"
   ]
  },
  {
   "cell_type": "markdown",
   "id": "eccd253c-ffd2-40f0-98ac-cc06cc8dec20",
   "metadata": {},
   "source": [
    "## Learning Objectives"
   ]
  },
  {
   "cell_type": "markdown",
   "id": "66e18ccd-f8f0-4f7c-a1f9-c872f5ca01af",
   "metadata": {},
   "source": [
    "1. Differentiate between experiments and observational studies, and explain their roles in establishing association and causation.\n",
    "1. Navigate and edit Jupyter Notebooks to write explanatory text and execute Python code.\n",
    "1. Write Python expressions, including arithmetic calculations, assignment statements, and function calls.\n",
    "1. Interpret Python error messages to troubleshoot and debug code effectively."
   ]
  },
  {
   "cell_type": "markdown",
   "id": "3f3ef5e2-d54e-44b8-a185-be0fae620e5d",
   "metadata": {},
   "source": [
    "---"
   ]
  },
  {
   "cell_type": "markdown",
   "id": "1cd06f54-cd73-4bfd-84ed-1eb50301df64",
   "metadata": {},
   "source": [
    "## Diabetes"
   ]
  },
  {
   "cell_type": "markdown",
   "id": "6037a7ed-0dd8-4c13-a3a6-59ea6e878a91",
   "metadata": {},
   "source": [
    "Diabetes is a chronic condition that occurs when the body cannot properly regulate blood sugar (glucose) levels. Glucose is the primary source of energy for the body's cells, and its levels are controlled by a hormone called insulin, produced by the pancreas. In diabetes, this system is disrupted, leading to elevated blood sugar levels (i.e. hyperglycemia), which can cause long-term health complications if left unmanaged.  \n",
    "\n",
    "<a href=\"https://www.niddk.nih.gov/health-information/diabetes/overview/what-is-diabetes\"><img style=\"display: block; margin-left: auto; margin-right: auto;\" src=\"./BloodGlucoseImage.jpg\" alt=\"On the left, a diagram of a blood vessel with normal blood glucose levels, containing fewer glucose molecules. On the right, a diagram of a blood vessel with high blood glucose levels, containing more glucose molecules.\" width=\"40%\"></a>  "
   ]
  },
  {
   "cell_type": "markdown",
   "id": "765e8123-ccd6-4eba-977a-d63903cd6ac3",
   "metadata": {},
   "source": [
    "### Type 2 Diabetes Research"
   ]
  },
  {
   "cell_type": "markdown",
   "id": "45f62af7-8eb8-4515-8f51-d53b291c425e",
   "metadata": {},
   "source": [
    "Diabetes can be classified into Type 1, Type 2, and other less common types. Type 2 diabetes is the most prevalent and occurs when the body either:  \n",
    "\n",
    "- Becomes resistant to insulin, or  \n",
    "- Does not produce enough insulin to maintain normal blood sugar levels.  \n",
    "\n",
    "The [National Institute of Diabetes and Digestive and Kidney Diseases (NIDDK)](https://www.niddk.nih.gov/) and other organizations have made significant efforts to understand how to prevent and manage Type 2 diabetes."
   ]
  },
  {
   "cell_type": "markdown",
   "id": "d272d042-4aa3-471e-9bb1-3c5952e53527",
   "metadata": {},
   "source": [
    "### Study Designs"
   ]
  },
  {
   "cell_type": "markdown",
   "id": "4bcb1091-bb78-4ec8-ad41-633c3128c617",
   "metadata": {},
   "source": [
    "The methodology used by the researchers to obtain their results can be almost more important than the results themselves. If the wrong methodology is used, then all the work down could be completely rejected by the scientific community. You were exposed to several ideas about study design in this week's materials."
   ]
  },
  {
   "cell_type": "markdown",
   "id": "15b0c8ce-04fa-47fa-9852-29ecf635a065",
   "metadata": {
    "editable": true,
    "slideshow": {
     "slide_type": ""
    },
    "tags": []
   },
   "source": [
    "#### Task 01 💭"
   ]
  },
  {
   "cell_type": "markdown",
   "id": "73173463-e1b3-4e67-bc26-28f9a39cc6c9",
   "metadata": {
    "deletable": false,
    "editable": false
   },
   "source": [
    "<!-- BEGIN QUESTION -->\n",
    "\n",
    "What are the two fundamental study designs? What is the key distinction between the two designs?"
   ]
  },
  {
   "cell_type": "markdown",
   "id": "3743d0ba",
   "metadata": {},
   "source": [
    "_Type your answer here, replacing this text._"
   ]
  },
  {
   "cell_type": "markdown",
   "id": "42d377d3-8b96-49e9-8639-53c1f15e2ccc",
   "metadata": {
    "deletable": false,
    "editable": false
   },
   "source": [
    "<!-- END QUESTION -->\n",
    "\n",
    "---"
   ]
  },
  {
   "cell_type": "markdown",
   "id": "9580a5cb-10e8-478d-aa46-2216d3f6fd24",
   "metadata": {
    "editable": true,
    "slideshow": {
     "slide_type": ""
    },
    "tags": []
   },
   "source": [
    "#### Task 02 💭"
   ]
  },
  {
   "cell_type": "markdown",
   "id": "b13996c1-0c80-425b-9b25-281421425532",
   "metadata": {
    "deletable": false,
    "editable": false,
    "slideshow": {
     "slide_type": ""
    },
    "tags": []
   },
   "source": [
    "<!-- BEGIN QUESTION -->\n",
    "\n",
    "From the 1940s through the 1970s, early observational studies identified risk factors for Type 2 diabetes, such as obesity, physical inactivity, and family history. A famous example is the Framingham Heart Study. This study primarily focused on cardiovascular disease (CVD), but it also included an analysis of Type 2 diabetes. Take a look at the Methods section (shown below) from the paper [_Diabetes and Cardiovascular Risk Factors: The Framingham Study_](./kannel-mcgee-1979-diabetes-and-cardiovascular-risk-factors-the-framingham-study.pdf) \n",
    "\n",
    "> The Framingham Study has been in continuous operation for 25 years, following a cohort of 5209 men and women aged 30-62 years at initial examination biennially to learn in what areas those who develop CVD differ from those who remain free of it. At each biennial examination each participant was given a thorough standardized cardiovascular examination which also elicited information concerning their physical characteristics, living habits, blood chemistry and other characteristics suspected of contributing to the occurrence of CVD. This was supplemented by information on cardiovascular illness and death from daily surveillance of hospital admissions to the only hospital in town, attending physician's and medical examiner's reports, information from the spouse and other extra-clinic sources. Details of the laboratory methods and clinical criteria used are available elsewhere. Clinical cardiovascular end points were established from biennial clinical examinations confirmed by two physician examiners, panel review of hospital protocols and death certificates, ECG findings and cardiac enzymes. A description of the method of measurement of risk factors and the precise criteria for a definition of diabetes may be found elsewhere. A person was diagnosed as having diabetes mellitus if he or she was under treatment for diabetes or had elevated casual blood glucose determinations at two successive examinations. Follow-up of the cohort has been reasonably complete, with 3% lost to follow-up for cardiovascular mortality in 20 years. For each examination there was an 85% participation level. The rest were examined at less frequent intervals, with 69% total population participation over all examinations up to and including the tenth biennial examination or until the time of their death. Few cardiovascular events were unaccounted for, since we arranged later examinations for those missed, had daily hospital surveillance and obtained other ancillary information.\n",
    "\n",
    "After reading the description, what indicates that this was an observational study, and how does that study design affect the ability for the researchers to establish a casual relationship between the factors they explored and the risk of developing Type 2 diabetes?"
   ]
  },
  {
   "cell_type": "markdown",
   "id": "fa6ee360",
   "metadata": {},
   "source": [
    "_Type your answer here, replacing this text._"
   ]
  },
  {
   "cell_type": "markdown",
   "id": "e9070d52-23d5-4b0c-8206-d9fcc3b71002",
   "metadata": {
    "deletable": false,
    "editable": false
   },
   "source": [
    "<!-- END QUESTION -->\n",
    "\n",
    "---"
   ]
  },
  {
   "cell_type": "markdown",
   "id": "e88666c6-28e5-44a8-a209-f5bff7ae6ad5",
   "metadata": {},
   "source": [
    "### Diabetes Prevention Program (DPP)"
   ]
  },
  {
   "cell_type": "markdown",
   "id": "ca6276c7-d9b9-49a0-a205-0fcab05e8537",
   "metadata": {
    "editable": true,
    "slideshow": {
     "slide_type": ""
    },
    "tags": []
   },
   "source": [
    "In the 1990s, large-scale Type 2 diabetes intervention studies began to emerge. One famous study was the The [Diabetes Prevention Program](https://www.niddk.nih.gov/about-niddk/research-areas/diabetes/diabetes-prevention-program-dpp) (DPP). This study started in 1996 and ended in 2001. Let's take a look at the major parts of that study to understand its design."
   ]
  },
  {
   "cell_type": "markdown",
   "id": "5a31332d-f33e-46ba-852d-d28504dbecd7",
   "metadata": {},
   "source": [
    "#### Task 03 💭"
   ]
  },
  {
   "cell_type": "markdown",
   "id": "2dfbeff8-b02f-40df-9b3f-02ccd5553b79",
   "metadata": {
    "deletable": false,
    "editable": false,
    "slideshow": {
     "slide_type": ""
    },
    "tags": []
   },
   "source": [
    "<!-- BEGIN QUESTION -->\n",
    "\n",
    "The 2002 paper [_Reduction in the Incidence of Type 2 Diabetes with Lifestyle Intervention or Metformin_](./NEJMoa012512.pdf) summaries the results of the study. Review the Participants subsection of the Methods (shown below): \n",
    "\n",
    "> Eligible participants were randomly assigned to one of three interventions: standard lifestyle recommendations plus metformin (Glucophage) at a dose of 850 mg twice daily, standard lifestyle recommendations plus placebo twice daily, or an intensive program of lifestyle modification. The study initially included a fourth intervention, troglitazone, which was discontinued in 1998 because of the drug's potential liver toxicity. The results in the troglitazone group are not reported here. Treatment with metformin was initiated at a dose of 850 mg taken orally once a day, with placebo tablets also given once a day initially. At one month, the dose of metformin was increased to 850 mg twice daily, unless gastrointestinal symptoms warranted a longer titration period. The initiation of treatment with half a tablet was optional. Adherence to the treatment regimen was assessed quarterly on the basis of pill counts and structured interviews. The standard lifestyle recommendations for the medication groups were provided in the form of written information and in an annual 20-to-30-minute individual session that emphasized the importance of a healthy lifestyle. Participants were encouraged to follow the Food Guide Pyramid and the equivalent of a National Cholesterol Education Program Step 1 diet, to reduce their weight, and to increase their physical activity. The goals for the participants assigned to the intensive lifestyle intervention were to achieve and maintain a weight reduction of at least 7 percent of initial body weight through a healthy lowcalorie, low-fat diet and to engage in physical activity of moderate intensity, such as brisk walking, for at least 150 minutes per week. A 16-lesson curriculum covering diet, exercise, and behavior modification was designed to help the participants achieve these goals. The curriculum, taught by case managers on a one-to-one basis during the first 24 weeks after enrollment, was flexible, culturally sensitive, and individualized. Subsequent individual sessions (usually monthly) and group sessions with the case managers were designed to reinforce the behavioral changes.\n",
    "\n",
    "What aspects of the passage indicate that this research followed a randomized controlled experimental study design? In your response, identify the treatment groups, specify which group served as the control, and provide evidence of randomization."
   ]
  },
  {
   "cell_type": "markdown",
   "id": "637f179f",
   "metadata": {},
   "source": [
    "_Type your answer here, replacing this text._"
   ]
  },
  {
   "cell_type": "markdown",
   "id": "b9f61ff0-1fed-4424-b944-155ceff12c39",
   "metadata": {
    "deletable": false,
    "editable": false
   },
   "source": [
    "<!-- END QUESTION -->\n",
    "\n",
    "#### Task 04 💭"
   ]
  },
  {
   "cell_type": "markdown",
   "id": "5687e407-7075-4583-a7c0-21a731a05230",
   "metadata": {
    "deletable": false,
    "editable": false,
    "slideshow": {
     "slide_type": ""
    },
    "tags": []
   },
   "source": [
    "<!-- BEGIN QUESTION -->\n",
    "\n",
    "Next, take a look at the Outcome Measures section (shown below) of the paper (shown below): \n",
    "\n",
    "> The primary outcome was diabetes, diagnosed on the basis of an annual oral glucose-tolerance test or a semiannual fasting plasma glucose test, according to the 1997 criteria of the American Diabetes Association: a value for plasma glucose of 126 mg per deciliter (7.0 mmol per liter) or higher in the fasting state or 200 mg per deciliter (11.1 mmol per liter) or higher two hours after a 75-g oral glucose load. In addition to the semiannual measurements, fasting plasma glucose was measured if symptoms suggestive of diabetes developed. The diagnosis required confirmation by a second test, usually within six weeks, according to the same criteria. If diabetes was diagnosed, the participants and their physicians were informed and glucose-tolerance tests were discontinued, but fasting plasma glucose was measured every six months, with glycosylated hemoglobin measured annually. As long as the fasting plasma glucose concentration was less than 140 mg per deciliter, participants were asked to monitor their blood glucose and to continue their assigned study treatment. If the fasting plasma glucose concentration reached or exceeded 140 mg per deciliter, the study medication was discontinued and the participant was referred to his or her physician for treatment. Measurements of glucose and glycosylated hemoglobin ($\\text{HbA}_\\text{1c}$) were performed centrally. All tests were performed without interrupting the assigned treatment, except that placebo or metformin was not taken on the morning of the test. The investigators and the participants were unaware of the results of these measurements and were informed only if the results exceeded the specified threshold for a change in the treatment. Self-reported levels of leisure physical activity were assessed annually with the Modifiable Activity Questionnaire. The physicalactivity level was calculated as the product of the duration and frequency of each activity (in hours per week), weighted by an estimate of the metabolic equivalent of that activity (MET) and summed for all activities performed, with the result expressed as the average MET-hours per week for the previous year. Usual daily caloric intake during the previous year, including calories from fat, carbohydrate, protein, and other nutrients, was assessed at base line and at one year with the use of a modified version of the Block foodfrequency questionnaire.\n",
    "\n",
    "What is the primary outcome variable from the study and how was it measured?"
   ]
  },
  {
   "cell_type": "markdown",
   "id": "ca0b791b",
   "metadata": {},
   "source": [
    "_Type your answer here, replacing this text._"
   ]
  },
  {
   "cell_type": "markdown",
   "id": "43e82bb3-84c9-419b-87d3-5b102981e020",
   "metadata": {
    "deletable": false,
    "editable": false,
    "slideshow": {
     "slide_type": ""
    },
    "tags": []
   },
   "source": [
    "<!-- END QUESTION -->\n",
    "\n",
    "### Measuring Association"
   ]
  },
  {
   "cell_type": "markdown",
   "id": "fd41f388-5005-4e6b-94f0-0979f1aaa37e",
   "metadata": {
    "editable": true,
    "slideshow": {
     "slide_type": ""
    },
    "tags": []
   },
   "source": [
    "Clinical trials, like the DPP modeled, are randomized controlled experiments. This design is key for establishing causation, but there are more pieces to the research that need to be in place for this argument. Another foundational piece to the story is the measurement of association between the treatments and the outcome(s).\n",
    "\n",
    "The outcome was measured using the units: number of incident cases per 100 person years. This is an interesting unit of measurement. The number of incident cases is more straightforward, but what does 100 person years mean? From the paper [_Need for and Practical Interpretations of the Person-Year Construct in Neuropsychiatric Research_](https://pmc.ncbi.nlm.nih.gov/articles/PMC6875836/), \n",
    "\n",
    "> Person-years refer to the number of years for which persons contribute data. Thus, somebody who was followed up for 5 years would be a five person-year subject. Person-years are totaled in each group to yield the sample size in that group, as expressed in person-years. \\[...\\] Because the incidence values would be very small for one person-year of follow-up, it is easier to express the values based on the uniform unit of, say, 1000 person-years of follow-up.\n",
    "\n",
    "So, the number of incident cases per 100 person-years refers to a way of standardizing the occurrence of new cases of a diabetes over time in the population, accounting for both the number of people involved and the length of time they were observed. A person-year is a unit that represents one person being followed for one year, so if someone is observed for five years, they contribute five person-years to the data. By using \"per 100 person-years,\" the researchers can express the incidence rate in a standardized way, making it easier to compare across different groups or studies, particularly when different individuals contribute varying amounts of time. This method allows for clearer interpretations of how often new cases occur in relation to the amount of time people are observed, especially when the event of interest is rare."
   ]
  },
  {
   "cell_type": "markdown",
   "id": "b51d43e9-767e-45a5-9e79-0fe63f71ec19",
   "metadata": {
    "editable": true,
    "slideshow": {
     "slide_type": ""
    },
    "tags": []
   },
   "source": [
    "#### Task 05 💻"
   ]
  },
  {
   "cell_type": "markdown",
   "id": "961fc0fb-93dc-46e5-82f6-b4a4ca9192b1",
   "metadata": {
    "deletable": false,
    "editable": false,
    "slideshow": {
     "slide_type": ""
    },
    "tags": []
   },
   "source": [
    "According to the Results section of the paper, the crude incidence was 11.0, 7.8, and 4.8 cases per 100 person-years for the placebo, metformin, and lifestyle intervention groups, respectively. Assign these values to the variable names `placebo`, `metformin`, and `lifestyle`, respectively."
   ]
  },
  {
   "cell_type": "code",
   "execution_count": null,
   "id": "86f022fb-3b59-4ddb-af5b-7e601a310098",
   "metadata": {
    "tags": []
   },
   "outputs": [],
   "source": [
    "placebo = ...\n",
    "metformin = ...\n",
    "lifestyle = ..."
   ]
  },
  {
   "cell_type": "code",
   "execution_count": null,
   "id": "6f19c2a5",
   "metadata": {
    "deletable": false,
    "editable": false
   },
   "outputs": [],
   "source": [
    "grader.check(\"task_05\")"
   ]
  },
  {
   "cell_type": "markdown",
   "id": "994a00b6-c67c-4c04-a7e4-2e2e82398dba",
   "metadata": {},
   "source": [
    "---"
   ]
  },
  {
   "cell_type": "markdown",
   "id": "b9c0e22e-105a-48c5-89e3-517012306c68",
   "metadata": {},
   "source": [
    "#### Task 06 💭"
   ]
  },
  {
   "cell_type": "markdown",
   "id": "4045b792-412c-45f2-bf86-0e9a2523cb8d",
   "metadata": {
    "deletable": false,
    "editable": false
   },
   "source": [
    "<!-- BEGIN QUESTION -->\n",
    "\n",
    "You should notice that all of three of these values are different. How does that observation show evidence of association between the treatment variables and the outcome variable? In terms of the measurements, what would it mean to have no association between the variables?"
   ]
  },
  {
   "cell_type": "markdown",
   "id": "80e5ca55",
   "metadata": {},
   "source": [
    "_Type your answer here, replacing this text._"
   ]
  },
  {
   "cell_type": "markdown",
   "id": "87f96536-27d9-4fe9-bb00-5e84d7783cd9",
   "metadata": {
    "deletable": false,
    "editable": false
   },
   "source": [
    "<!-- END QUESTION -->\n",
    "\n",
    "---"
   ]
  },
  {
   "cell_type": "markdown",
   "id": "c25a0c6c-4f12-4c1d-9bec-59b3f8670ebb",
   "metadata": {},
   "source": [
    "#### Task 07 💭"
   ]
  },
  {
   "cell_type": "markdown",
   "id": "38e07ba5-d32c-4a1a-8405-b9d45621ff5c",
   "metadata": {
    "deletable": false,
    "editable": false
   },
   "source": [
    "<!-- BEGIN QUESTION -->\n",
    "\n",
    "Which treatment shows the strongest association with the outcome variable? What does that say about the other treatments?"
   ]
  },
  {
   "cell_type": "markdown",
   "id": "73f6ff42",
   "metadata": {},
   "source": [
    "_Type your answer here, replacing this text._"
   ]
  },
  {
   "cell_type": "markdown",
   "id": "3e3aab40-9b6b-4d83-ae0e-1644e2756996",
   "metadata": {
    "deletable": false,
    "editable": false
   },
   "source": [
    "<!-- END QUESTION -->\n",
    "\n",
    "---"
   ]
  },
  {
   "cell_type": "markdown",
   "id": "048e8f6d-7219-4080-b6d2-4ca978a54055",
   "metadata": {},
   "source": [
    "### Relative Risk Reduction"
   ]
  },
  {
   "cell_type": "markdown",
   "id": "100622c8-8f1e-4b0b-a8cd-ed46ba2a0c0e",
   "metadata": {},
   "source": [
    "With multiple treatments it can be helpful to describe the reduction in the outcome variable relative to the control treatment. Relative Risk Reduction (RRR) is a measure used to describe how much a treatment reduces the risk of an event (such as developing diabetes) in the treatment group compared to the control group. You can calculate RRR as a percentage using the formula\n",
    "\n",
    "$$\\text{Percent Reduction} = \\frac{\\text{Incidence Rate (Placebo)} − \\text{Incidence Rate (Treatment)}}{\\text{Incidence Rate (Placebo)}} \\times 100$$"
   ]
  },
  {
   "cell_type": "markdown",
   "id": "a214a268-3df2-4ca2-8ec9-71cf1cdbfdf4",
   "metadata": {
    "editable": true,
    "slideshow": {
     "slide_type": ""
    },
    "tags": []
   },
   "source": [
    "#### Task 08 💻"
   ]
  },
  {
   "cell_type": "markdown",
   "id": "cfb616b3-c45d-4f54-9483-7b4ffc50bf3a",
   "metadata": {
    "deletable": false,
    "editable": false,
    "slideshow": {
     "slide_type": ""
    },
    "tags": []
   },
   "source": [
    "Use the variable names `placebo`, `metformin`, and `lifestyle` to calculate the relative risk reduction for each treatment as a percentage. Assign those percentages to the names `placebo_metformin_RRR` and `placebo_lifestyle_RRR`."
   ]
  },
  {
   "cell_type": "code",
   "execution_count": null,
   "id": "6a9ccd25-1047-47d2-be83-711dcc74e966",
   "metadata": {
    "tags": []
   },
   "outputs": [],
   "source": [
    "placebo_metformin_RRR = (placebo - metformin) / placebo * 100\n",
    "placebo_lifestyle_RRR = (placebo - lifestyle) / placebo * 100\n",
    "\n",
    "print(f\"Placebo to Metformin Relative Risk Reduction: {placebo_metformin_RRR:.2f}%\")\n",
    "print(f\"Placebo to Lifestyle Relative Risk Reduction: {placebo_lifestyle_RRR:.2f}%\")"
   ]
  },
  {
   "cell_type": "code",
   "execution_count": null,
   "id": "8d6ff6ce",
   "metadata": {
    "deletable": false,
    "editable": false
   },
   "outputs": [],
   "source": [
    "grader.check(\"task_08\")"
   ]
  },
  {
   "cell_type": "markdown",
   "id": "44d61ce9-532f-4fb1-a4b9-d5964aa68d3f",
   "metadata": {},
   "source": [
    "---"
   ]
  },
  {
   "cell_type": "markdown",
   "id": "39586eea-61a2-468e-9b53-7d1fb941a9a2",
   "metadata": {},
   "source": [
    "#### Task 09 💭"
   ]
  },
  {
   "cell_type": "markdown",
   "id": "4b68351b-50b4-47a3-99b5-9fb2f3f2837b",
   "metadata": {
    "deletable": false,
    "editable": false
   },
   "source": [
    "<!-- BEGIN QUESTION -->\n",
    "\n",
    "Which relative risk reduction was the largest. What does that tell you about that particular treatment?"
   ]
  },
  {
   "cell_type": "markdown",
   "id": "b933718e",
   "metadata": {},
   "source": [
    "_Type your answer here, replacing this text._"
   ]
  },
  {
   "cell_type": "markdown",
   "id": "25154c07-1fc3-4171-aa49-cd301d8652c6",
   "metadata": {
    "deletable": false,
    "editable": false
   },
   "source": [
    "<!-- END QUESTION -->\n",
    "\n",
    "---"
   ]
  },
  {
   "cell_type": "markdown",
   "id": "3320fa8c-90d1-4092-a0fc-35df29966234",
   "metadata": {},
   "source": [
    "### Limiations"
   ]
  },
  {
   "attachments": {},
   "cell_type": "markdown",
   "id": "e28fb6f7-92ee-4e83-ad4d-2ab002c5c35f",
   "metadata": {},
   "source": [
    "The DPP program followed a standard design for establishing a causal relationship. Later in the course you'll learn about statistical significance, and you'll see that they even established significant results which allows them to say that two treatments reduce the risk of Type 2 diabetes. With that said, there is something you need to think about early on in this course. Researchers often are using a limited amount of data that hopefully represents some population of interest. So, we've told you that the problem creates a great argument for the two non-control treatments causing a reduction in the risk of Type 2 diabetes, but who does that conclusion apply to? One way to answer that is to examine the group of people studied.\n",
    "\n",
    "The following table captures the information in Table 1 from  [_Reduction in the Incidence of Type 2 Diabetes with Lifestyle Intervention or Metformin_](./NEJMoa012512.pdf) \n",
    "\n",
    "| CHARACTERISTIC | OVERALL (N=3234) | PLACEBO (N=1082) | METFORMIN (N=1073) | LIFESTYLE (N=1079) |\n",
    "|---|---|---|---|---|\n",
    "| **Sex - no. (%)** | | | | |\n",
    "| Male | 1043 (32.3) | 335 (31.0) | 363 (33.8) | 345 (32.0) |\n",
    "| Female | 2191 (67.7) | 747 (69.0) | 710 (66.2) | 734 (68.0) |\n",
    "| **Race or ethnic group - no. (%)** | | | | |\n",
    "| White | 1768 (54.7) | 586 (54.2) | 602 (56.1) | 580 (53.8) |\n",
    "| African American | 645 (19.9) | 220 (20.3) | 221 (20.6) | 204 (18.9) |\n",
    "| Hispanic | 508 (15.7) | 168 (15.5) | 162 (15.1) | 178 (16.5) |\n",
    "| American Indian | 171 (5.3) | 59 (5.5) | 52 (4.8) | 60 (5.6) |\n",
    "| Asian† | 142 (4.4) | 49 (4.5) | 36 (3.4) | 57 (5.3) |\n",
    "| Family history of diabetes - no. (%) | 2243 (69.4) | 758 (70.1) | 733 (68.3) | 752 (69.8)‡ |\n",
    "| History of gestational diabetes - no. of women (%) | 353 (16.1) | 122 (16.3) | 111 (15.7)‡ | 120 (16.3) |\n",
    "| **Age - yr (Mean)** | 50.6 ± 10.7 | 50.3 ± 10.4 | 50.9 ± 10.3 | 50.6 ± 11.3 |\n",
    "| **Weight - kg** | 94.2 ± 20.3 | 94.3 ± 20.2 | 94.3 ± 19.9 | 94.1 ± 20.8 |\n",
    "| **Body-mass index** | 34.0 ± 6.7 | 34.2 ± 6.7 | 33.9 ± 6.6 | 33.9 ± 6.8 |\n",
    "| **Waist circumference - cm** | 105.1 ± 14.5 | 105.2 ± 14.3 | 104.9 ± 14.4 | 105.1 ± 14.8 |\n",
    "| **Waist-to-hip ratio** | 0.92 ± 0.09 | 0.93 ± 0.09 | 0.93 ± 0.09 | 0.92 ± 0.08 |\n",
    "| **Plasma glucose - mg/dl§** | | | | |\n",
    "| In the fasting state | 106.5 ± 8.3 | 106.7 ± 8.4 | 106.5 ± 8.5 | 106.3 ± 8.1 |\n",
    "| Two hours after an oral glucose load | 164.6 ± 17.0 | 164.5 ± 17.1 | 165.1 ± 17.2 | 164.4 ± 16.8 |\n",
    "| **Glycosylated hemoglobin - %** | 5.91 ± 0.50 | 5.91 ± 0.50 | 5.91 ± 0.50 | 5.91 ± 0.51 |\n",
    "| **Leisure physical activity - MET-hr/wk¶** | 16.3 ± 25.8 | 17.0 ± 29.0 | 16.4 ± 25.9 | 15.5 ± 22.1 |\n",
    "\n",
    "_Notes: Plus-minus values are means ±SD. †Twenty Pacific Islanders were included in this category. ‡Information was not available for one participant. §To convert the values for glucose to millimoles per liter, multiply by 0.05551. ¶Data are based on responses to the Modifiable Activity Questionnaire. 16 MET denotes metabolic equivalent. MET-hours represent the average amount of time engaged in specified physical activities multiplied by the MET value of each activity._\n",
    "\n",
    "This table contains some information on mean and standard deviation (SD). These are values that summarize numerical data. The mean represents the center of the data set and the standard deviation describes the variability of the data set relative to the mean. You'll learn more about these measurements later in the course."
   ]
  },
  {
   "cell_type": "markdown",
   "id": "403a7af2-bb16-44f6-860b-37d187daa8a7",
   "metadata": {},
   "source": [
    "#### Task 10 💭"
   ]
  },
  {
   "cell_type": "markdown",
   "id": "50cc217f-9a06-4f03-8a13-11933e9728b7",
   "metadata": {
    "deletable": false,
    "editable": false
   },
   "source": [
    "<!-- BEGIN QUESTION -->\n",
    "\n",
    "If the data from these participants were used to form the conclusions in the study, what limitations do you think there are about generalizing the results to all humans. In other words, do you see any concerns about the representation of humans in how their characteristics might impact the conclusions?"
   ]
  },
  {
   "cell_type": "markdown",
   "id": "98c7495a",
   "metadata": {},
   "source": [
    "_Type your answer here, replacing this text._"
   ]
  },
  {
   "cell_type": "markdown",
   "id": "4054c358-1af2-431e-bdc0-222488c51bb2",
   "metadata": {
    "deletable": false,
    "editable": false
   },
   "source": [
    "<!-- END QUESTION -->\n",
    "\n",
    "Your response should prompt more research, not a final conclusion. This is the cyclical nature of this type of work. Remember the data science life cycle from Lecture 01:\n",
    "\n",
    "```mermaid\n",
    "flowchart LR\n",
    "    A[Ask a Question] --> B[Get Data]\n",
    "    B --> C[Analyze the Data]\n",
    "    C --> A\n",
    "```\n",
    "\n",
    "The conclusions drawn from this study, while valuable, should be applied cautiously and with consideration of the specific demographic and health characteristics of the participants."
   ]
  },
  {
   "cell_type": "markdown",
   "id": "634c17c3-23d8-4aa9-83da-f9e9d4557c3b",
   "metadata": {},
   "source": [
    "---"
   ]
  },
  {
   "cell_type": "markdown",
   "id": "c11c8fb1-554c-4ce0-b48b-78b84fe7404f",
   "metadata": {},
   "source": [
    "## Reflection"
   ]
  },
  {
   "cell_type": "markdown",
   "id": "8bb442e3-93ec-4e95-b913-ae40f3d100ff",
   "metadata": {},
   "source": [
    "In this Guided Learning Activity, we explored the fundamental principles of experimental study design, focusing on the distinction between observational studies and randomized controlled experiments. You learned how randomization is crucial in experimental designs to minimize bias and establish causal relationships. The Diabetes Prevention Program (DPP) study provided a concrete example of a well-designed randomized controlled trial, demonstrating the effectiveness of both lifestyle intervention and metformin in reducing the incidence of Type 2 diabetes.  We also introduced the concept of relative risk reduction (RRR) to quantify the impact of different treatments. The DPP study showed that lifestyle intervention was particularly effective, resulting in a 56% reduction in the incidence of diabetes compared to the placebo group. We also practiced writing Python code to assign values to variables and perform calculations, which are essential skills for data analysis.  In future learning activities, we will explore more advanced statistical methods for analyzing data from experimental studies."
   ]
  },
  {
   "cell_type": "markdown",
   "id": "6f1a1575-d1cc-4e5b-9e36-6d2fce3c3b00",
   "metadata": {},
   "source": [
    "---"
   ]
  },
  {
   "cell_type": "markdown",
   "id": "830cd3aa-7268-4b8d-9de1-b8291a77d457",
   "metadata": {
    "editable": true,
    "slideshow": {
     "slide_type": "notes"
    },
    "tags": []
   },
   "source": [
    "## License"
   ]
  },
  {
   "cell_type": "markdown",
   "id": "55e19cd7-8808-4101-a381-c0897b12ce07",
   "metadata": {
    "editable": true,
    "slideshow": {
     "slide_type": ""
    },
    "tags": []
   },
   "source": [
    "This content is licensed under the <a href=\"https://creativecommons.org/licenses/by-nc-sa/4.0/\">Creative Commons Attribution-NonCommercial-ShareAlike 4.0 International License (CC BY-NC-SA 4.0)</a>.\n",
    "\n",
    "<img src=\"./by-nc-sa.png\" width=100px>"
   ]
  },
  {
   "cell_type": "markdown",
   "id": "5b815d42",
   "metadata": {
    "deletable": false,
    "editable": false
   },
   "source": [
    "---\n",
    "\n",
    "To double-check your work, the cell below will rerun all of the autograder tests."
   ]
  },
  {
   "cell_type": "code",
   "execution_count": null,
   "id": "682a8b16",
   "metadata": {
    "deletable": false,
    "editable": false
   },
   "outputs": [],
   "source": [
    "grader.check_all()"
   ]
  }
 ],
 "metadata": {
  "kernelspec": {
   "display_name": "Python 3 (ipykernel)",
   "language": "python",
   "name": "python3"
  },
  "language_info": {
   "codemirror_mode": {
    "name": "ipython",
    "version": 3
   },
   "file_extension": ".py",
   "mimetype": "text/x-python",
   "name": "python",
   "nbconvert_exporter": "python",
   "pygments_lexer": "ipython3",
   "version": "3.11.9"
  },
  "otter": {
   "OK_FORMAT": true,
   "assignment_name": "gla01_sp25",
   "tests": {
    "task_05": {
     "name": "task_05",
     "points": null,
     "suites": [
      {
       "cases": [
        {
         "code": ">>> import numpy as np\n>>> bool(np.all([isinstance(group, (int, float)) for group in [placebo, metformin, lifestyle]]))\nTrue",
         "failure_message": "\"❌ placebo, metformin, lifestyle should\nbe assigned to numerical values.\"",
         "hidden": false,
         "locked": false,
         "success_message": "\"✅ placebo, metformin, lifestyle are \nassigned to numerical values.\"\n"
        },
        {
         "code": ">>> placebo == 11.0\nTrue",
         "failure_message": "\"❌ placebo does not seem correct.\"",
         "hidden": false,
         "locked": false,
         "success_message": "\"✅ placebo seems correct!\"\n"
        },
        {
         "code": ">>> metformin == 7.8\nTrue",
         "failure_message": "\"❌ metformin does not seem correct.\"",
         "hidden": false,
         "locked": false,
         "success_message": "\"✅ metformin seems correct!\"\n"
        },
        {
         "code": ">>> lifestyle == 4.8\nTrue",
         "failure_message": "\"❌ lifestyle does not seem correct.\"",
         "hidden": false,
         "locked": false,
         "success_message": "\"✅ lifestyle seems correct!\"\n"
        }
       ],
       "scored": true,
       "setup": "",
       "teardown": "",
       "type": "doctest"
      }
     ]
    },
    "task_08": {
     "name": "task_08",
     "points": null,
     "suites": [
      {
       "cases": [
        {
         "code": ">>> import numpy as np\n>>> bool(np.all([isinstance(group, (int, float)) for group in [placebo_metformin_RRR, placebo_lifestyle_RRR]]))\nTrue",
         "failure_message": "\"❌ placebo_metformin_RRR and placebo_lifestyle_RRR\nshould be assigned to numerical values.\"",
         "hidden": false,
         "locked": false,
         "success_message": "\"✅ placebo_metformin_RRR and placebo_lifestyle_RRR\nare assigned to numerical values.\"\n"
        },
        {
         "code": ">>> import numpy as np\n>>> bool(np.isclose(placebo_metformin_RRR, 56.36, 2))\nTrue",
         "failure_message": "\"❌ placebo_metformin_RRR does not seem correct.\"",
         "hidden": false,
         "locked": false,
         "success_message": "\"✅ placebo_metformin_RRR seems correct!\"\n"
        },
        {
         "code": ">>> import numpy as np\n>>> bool(np.isclose(placebo_lifestyle_RRR, 29.09, 2))\nTrue",
         "failure_message": "\"❌ placebo_lifestyle_RRR does not seem correct.\"",
         "hidden": false,
         "locked": false,
         "success_message": "\"✅ placebo_lifestyle_RRR seems correct!\"\n"
        }
       ],
       "scored": true,
       "setup": "",
       "teardown": "",
       "type": "doctest"
      }
     ]
    }
   }
  }
 },
 "nbformat": 4,
 "nbformat_minor": 5
}
