{
 "cells": [
  {
   "cell_type": "code",
   "execution_count": null,
   "id": "20032590",
   "metadata": {
    "deletable": false,
    "editable": false
   },
   "outputs": [],
   "source": [
    "# Initialize Otter\n",
    "import otter\n",
    "grader = otter.Notebook(\"gla11.ipynb\")"
   ]
  },
  {
   "cell_type": "markdown",
   "id": "692fbc6d-0645-4e75-b205-29989ec616ab",
   "metadata": {},
   "source": [
    "<img src=\"./ccsf.png\" alt=\"CCSF Logo\" width=200px style=\"margin:0px -5px\">"
   ]
  },
  {
   "cell_type": "markdown",
   "id": "c83b268c-d46e-450b-b4af-a2390020878c",
   "metadata": {
    "tags": []
   },
   "source": [
    "# Guided Learning Activity 11: Linear Regression"
   ]
  },
  {
   "cell_type": "markdown",
   "id": "f5c0e5f0-1759-4129-8e2e-8301f1db6953",
   "metadata": {},
   "source": [
    "This Guided Learning Activity is designed for you to complete alongside a Data Ambassador from the course. You might find that it feels like a combination of the lectures and lab assignment. Whether you are participating live or watching the recording of the live meeting, let the Data Ambassador guide you through the following tasks. There will be moments for you to reflect and explore your own ideas as a way to solidify concepts and skills introduced by your instructor. Keep in mind that this is not a graded assignment for MATH 108 by default. If you have any concerns about participation, reach out to your instructor."
   ]
  },
  {
   "cell_type": "markdown",
   "id": "20d80b08-8562-4cc5-aa65-1e0c97ac6985",
   "metadata": {},
   "source": [
    "---"
   ]
  },
  {
   "cell_type": "markdown",
   "id": "eccd253c-ffd2-40f0-98ac-cc06cc8dec20",
   "metadata": {},
   "source": [
    "## Learning Objectives"
   ]
  },
  {
   "cell_type": "markdown",
   "id": "66e18ccd-f8f0-4f7c-a1f9-c872f5ca01af",
   "metadata": {},
   "source": [
    "1. Review the concepts behind linear regression.\n",
    "2. Describe what least squares means.\n",
    "3. Make a prediction using linear regression.\n",
    "4. Outline predictive maintenance.\n",
    "5. Apply linear regression to a data set to make a numerical prediction."
   ]
  },
  {
   "cell_type": "markdown",
   "id": "9a45b759-69b8-4061-b2f8-06483c0e2e92",
   "metadata": {},
   "source": [
    "---"
   ]
  },
  {
   "cell_type": "markdown",
   "id": "0c2302a6-fda0-41de-a349-169954a09cf8",
   "metadata": {},
   "source": [
    "## Configure the Notebook"
   ]
  },
  {
   "cell_type": "markdown",
   "id": "06843add-4d19-4e8d-a8ca-a9bcbee58f31",
   "metadata": {},
   "source": [
    "Run the following code cell to set up the notebook."
   ]
  },
  {
   "cell_type": "code",
   "execution_count": null,
   "id": "253bae4d-e069-42ce-b797-c3cfe5a9fc12",
   "metadata": {},
   "outputs": [],
   "source": [
    "from datascience import *\n",
    "import numpy as np\n",
    "%matplotlib inline\n",
    "import matplotlib.pyplot as plt\n",
    "plt.style.use('fivethirtyeight')"
   ]
  },
  {
   "cell_type": "markdown",
   "id": "0768ab18-070d-487b-96eb-6578f455d5c2",
   "metadata": {},
   "source": [
    "---"
   ]
  },
  {
   "cell_type": "markdown",
   "id": "005bfc25-da71-4dce-bfd8-169a3329e5a0",
   "metadata": {},
   "source": [
    "## Summary of Linear Regression"
   ]
  },
  {
   "cell_type": "markdown",
   "id": "cf2b8198-56b6-453b-b9b3-2a1d2cb79db3",
   "metadata": {},
   "source": [
    "- **Purpose**: Linear regression is used to predict values of $Y$ based on observed values of $X$, assuming a linear relationship exists between them.\n",
    "- **Correlation Coefficient ($ r $)**: Measures the strength and direction of the linear relationship between $X$ and $Y$. The value of $r$ ranges from -1 to 1.\n",
    "- **Regression Line**: The line of best fit that minimizes the sum of squared errors between the predicted and actual $Y$ values.\n",
    "  - A line is defined by its **slope** and **intercept**:\n",
    "    - **Slope**:  \n",
    "      $$\n",
    "      \\text{slope} = r \\cdot \\frac{\\text{SD}_Y}{\\text{SD}_X}\n",
    "      $$\n",
    "    - **Intercept**:  \n",
    "      $$\n",
    "      \\text{Intercept} = \\text{average}_Y - \\text{Slope} \\cdot \\text{average}_X\n",
    "      $$\n",
    "  - The line can be used to make predictions of $Y$ values using an $X$ value and the equation of the regression line.\n",
    "- **Prediction Error**: The regression line typically does not pass through all data points, so there is an error in prediction.\n",
    "- **Mean Squared Error (MSE)**: Measures the average squared difference between actual and predicted $Y$ values. It quantifies how well the regression line fits the data.\n"
   ]
  },
  {
   "cell_type": "markdown",
   "id": "630d0137-9592-4408-9519-7126caf6d1cf",
   "metadata": {},
   "source": [
    "---"
   ]
  },
  {
   "cell_type": "markdown",
   "id": "ca1b040c-a9fb-4d1e-afea-91ecc00dc5ac",
   "metadata": {
    "tags": []
   },
   "source": [
    "### Task 01 📍🔎"
   ]
  },
  {
   "cell_type": "markdown",
   "id": "7c352ea8-c6c6-4a8b-88d0-74a949877b93",
   "metadata": {
    "deletable": false,
    "editable": false
   },
   "source": [
    "<!-- BEGIN QUESTION -->\n",
    "\n",
    "Why is the linear regression line called the least squares regression line? Specifically, what is so special about the linear regression line and the MSE measurement?"
   ]
  },
  {
   "cell_type": "markdown",
   "id": "06a30397",
   "metadata": {},
   "source": [
    "_Type your answer here, replacing this text._"
   ]
  },
  {
   "cell_type": "markdown",
   "id": "af4e8867-fa9e-4ef0-a50c-f5fcbc90756f",
   "metadata": {
    "deletable": false,
    "editable": false,
    "slideshow": {
     "slide_type": "fragment"
    }
   },
   "source": [
    "<!-- END QUESTION -->\n",
    "\n",
    "---"
   ]
  },
  {
   "cell_type": "markdown",
   "id": "896e8015-4ec0-464b-9f30-e3a9f29540bd",
   "metadata": {
    "tags": []
   },
   "source": [
    "### Task 02 📍"
   ]
  },
  {
   "cell_type": "markdown",
   "id": "63cb102f-c49c-4dfa-b13f-309561daa420",
   "metadata": {
    "deletable": false,
    "editable": false
   },
   "source": [
    "Suppose that you have the following summary data for two numerical variables $X$ and $Y$:\n",
    "\n",
    "* $\\text{average}_X = 3$\n",
    "* $\\text{average}_Y = 63$\n",
    "* $\\text{SD}_X = 1.58$\n",
    "* $\\text{SD}_Y = 9.35$\n",
    "* $r = 0.98$\n",
    "\n",
    "Predict a value of $Y$ using $x = 3.5$ and the linear regression based on the provided summary data. Assign that numerical value to `predicted_y`."
   ]
  },
  {
   "cell_type": "code",
   "execution_count": null,
   "id": "bab3acc1-766e-4656-b26b-a2128faacfff",
   "metadata": {
    "tags": []
   },
   "outputs": [],
   "source": [
    "AVE_X = 3\n",
    "AVE_Y = 63\n",
    "SD_X = 1.58\n",
    "SD_Y = 9.35\n",
    "r = 0.98\n",
    "x = 3.5\n",
    "slope = ...\n",
    "intercept = ...\n",
    "predicted_y = ...\n",
    "print(f'Using linear regression, the predicted value of Y \\\n",
    "based on an x value of 3.5 is {predicted_y: .2f}.')"
   ]
  },
  {
   "cell_type": "code",
   "execution_count": null,
   "id": "7d26b16b",
   "metadata": {
    "deletable": false,
    "editable": false
   },
   "outputs": [],
   "source": [
    "grader.check(\"task_02\")"
   ]
  },
  {
   "cell_type": "markdown",
   "id": "2e0b111c-4284-42b4-8f4f-1094c92f3337",
   "metadata": {
    "editable": true,
    "slideshow": {
     "slide_type": ""
    },
    "tags": []
   },
   "source": [
    "---"
   ]
  },
  {
   "cell_type": "markdown",
   "id": "2adb3a92-cc33-43a2-bcd3-6ca5d840c512",
   "metadata": {
    "tags": []
   },
   "source": [
    "### Task 03 📍"
   ]
  },
  {
   "cell_type": "markdown",
   "id": "2e0083db-3545-46a9-b41d-2c6575c38c91",
   "metadata": {
    "deletable": false,
    "editable": false
   },
   "source": [
    "Complete the following code cell to define some functions to help you calculate some of the related regression values using array data."
   ]
  },
  {
   "cell_type": "code",
   "execution_count": null,
   "id": "091780ee-6b8c-46f7-86f1-cc22815db790",
   "metadata": {
    "tags": []
   },
   "outputs": [],
   "source": [
    "def standard_units(an_array):\n",
    "    '''Convert any array of numbers to standard units.'''\n",
    "    return (an_array - np.mean(an_array))/np.std(an_array)\n",
    "\n",
    "def get_correlation(x_array, y_array):\n",
    "    '''Returns the correlation coefficient for the two arrays.'''\n",
    "    return np.mean(standard_units(x_array)*standard_units(y_array))\n",
    "\n",
    "def get_slope(x_array, y_array):\n",
    "    '''Returns the slope of the linear regression line for the two arrays.'''\n",
    "    r = ...\n",
    "    return ...\n",
    "\n",
    "def get_intercept(x_array, y_array):\n",
    "    '''Returns the intercept of the linear regression line for the two arrays.'''\n",
    "    return .."
   ]
  },
  {
   "cell_type": "code",
   "execution_count": null,
   "id": "48270a79",
   "metadata": {
    "deletable": false,
    "editable": false
   },
   "outputs": [],
   "source": [
    "grader.check(\"task_03\")"
   ]
  },
  {
   "cell_type": "markdown",
   "id": "2b1f7d11-7201-4be2-b788-374f59872708",
   "metadata": {
    "editable": true,
    "slideshow": {
     "slide_type": ""
    },
    "tags": []
   },
   "source": [
    "---"
   ]
  },
  {
   "cell_type": "markdown",
   "id": "119a4f05-df3d-449b-ace9-975c288fbc5a",
   "metadata": {},
   "source": [
    "## Predictive Maintenance"
   ]
  },
  {
   "cell_type": "markdown",
   "id": "f1685278-99aa-4107-abdc-07ab416aee24",
   "metadata": {},
   "source": [
    "<img src=\"./Deteriorated_asphalt.jpg\" alt=\"The nature and degree of asphalt deterioration is analyzed for predictive maintenance of roadways\" width=400px>\n",
    "\n",
    "[Predictive maintenance](https://en.wikipedia.org/wiki/Predictive_maintenance) is an important field of study to help predict when a component needs to be taken offline for maintenance. For example, asphalt will deteriorate over time and need to be repaired/replaced. It is helpful for those who maintain the asphalt to have a good idea of when that work will need to be done so they can plan equipment and personnel and create alternative routes for the users of that road."
   ]
  },
  {
   "cell_type": "markdown",
   "id": "f60057b8-0bd7-4c97-b871-80a6e1ca8f33",
   "metadata": {
    "editable": true,
    "slideshow": {
     "slide_type": ""
    },
    "tags": []
   },
   "source": [
    "---"
   ]
  },
  {
   "cell_type": "markdown",
   "id": "78f4e773-ce4b-4d29-8b53-ca0a0b14ce6b",
   "metadata": {},
   "source": [
    "### Data"
   ]
  },
  {
   "cell_type": "markdown",
   "id": "417ea176-ae2d-4551-a6e9-ba3a6e792e30",
   "metadata": {},
   "source": [
    "UC Irvine hosts a [synthetic predictive maintenance data set](https://archive.ics.uci.edu/dataset/601/ai4i+2020+predictive+maintenance+dataset) to help with artificial intelligence training, since most companies are reluctant to share performance data publicly."
   ]
  },
  {
   "cell_type": "code",
   "execution_count": null,
   "id": "d42186ed-10b3-46a4-99c3-16fe8beeb594",
   "metadata": {},
   "outputs": [],
   "source": [
    "# # Load the dataset\n",
    "# url = 'https://archive.ics.uci.edu/ml/machine-learning-databases/00601/ai4i2020.csv'\n",
    "# Table.read_table(url).to_csv('data.csv')"
   ]
  },
  {
   "cell_type": "markdown",
   "id": "4fe0f397-4c06-4a00-8689-6163dd52e589",
   "metadata": {
    "tags": []
   },
   "source": [
    "### Task 04 📍"
   ]
  },
  {
   "cell_type": "markdown",
   "id": "9e0c2756-92a9-4d28-b7fd-ffa1712dcc97",
   "metadata": {
    "deletable": false,
    "editable": false
   },
   "source": [
    "Assign `data` to the Table containing the data from `data.csv`."
   ]
  },
  {
   "cell_type": "code",
   "execution_count": null,
   "id": "a1058fee-9558-4503-b657-b61423af6251",
   "metadata": {
    "tags": []
   },
   "outputs": [],
   "source": [
    "data = ...\n",
    "data"
   ]
  },
  {
   "cell_type": "code",
   "execution_count": null,
   "id": "6b275174",
   "metadata": {
    "deletable": false,
    "editable": false
   },
   "outputs": [],
   "source": [
    "grader.check(\"task_04\")"
   ]
  },
  {
   "cell_type": "markdown",
   "id": "75954aa1-1a86-440f-9342-2a1e2da01e39",
   "metadata": {
    "editable": true,
    "slideshow": {
     "slide_type": ""
    },
    "tags": []
   },
   "source": [
    "---"
   ]
  },
  {
   "cell_type": "markdown",
   "id": "e6d16eb1-4c95-438d-a16e-00ff1ad16986",
   "metadata": {},
   "source": [
    "### Operating Temperature"
   ]
  },
  {
   "cell_type": "markdown",
   "id": "9695eda0-51d0-4ec1-9313-0bcbd651399a",
   "metadata": {},
   "source": [
    "This synthetic data set includes measurements collected from operating machines. As machines run, they generate heat, and it's reasonable to expect some relationship between the machine's internal temperature and the air temperature in the surrounding environment. In the next step, you'll explore that relationship to see how closely these two variables are connected. Both temperatures are measured in Kelvin."
   ]
  },
  {
   "cell_type": "markdown",
   "id": "e2802893-2c38-4e02-a4b4-9064cb24ae71",
   "metadata": {
    "tags": []
   },
   "source": [
    "### Task 05 📍🔎"
   ]
  },
  {
   "cell_type": "markdown",
   "id": "dccb01c2-bef5-491f-add4-729e51c9cb76",
   "metadata": {
    "deletable": false,
    "editable": false
   },
   "source": [
    "<!-- BEGIN QUESTION -->\n",
    "\n",
    "Visualize the relationship between the air temperature and the process temperature with a scatterplot. Utilize the `fit_line = True` parameter of `scatter` to include the linear regression line in the visual.\n",
    "\n",
    "**Note**: You will predict process temperature from air temperature later in the activity, so place the air temperatures on the horizontal axis as that is common practice to do."
   ]
  },
  {
   "cell_type": "code",
   "execution_count": null,
   "id": "92fe90b9-e856-4325-ac24-bc2e6be590db",
   "metadata": {
    "tags": []
   },
   "outputs": [],
   "source": [
    "...\n",
    "plt.title('Process Temp. vs. Air Temp.')\n",
    "plt.show()"
   ]
  },
  {
   "cell_type": "markdown",
   "id": "7cc7f2d0-afab-4410-84c7-f20d6b2b1824",
   "metadata": {
    "deletable": false,
    "editable": false,
    "slideshow": {
     "slide_type": "fragment"
    }
   },
   "source": [
    "<!-- END QUESTION -->\n",
    "\n",
    "---"
   ]
  },
  {
   "cell_type": "markdown",
   "id": "6d7b0122-fee9-43a9-9492-225d3603ff6b",
   "metadata": {
    "tags": []
   },
   "source": [
    "### Task 06 📍"
   ]
  },
  {
   "cell_type": "markdown",
   "id": "bab9756f-27fe-452f-bb3b-fe756b98c81f",
   "metadata": {
    "deletable": false,
    "editable": false
   },
   "source": [
    "Calculate the correlation coefficient between these two sets of temperatures. Assign that value to `r_temps`."
   ]
  },
  {
   "cell_type": "code",
   "execution_count": null,
   "id": "469d88a1-a36b-4b65-9325-c32acbaf7751",
   "metadata": {
    "tags": []
   },
   "outputs": [],
   "source": [
    "r_temps = ...\n",
    "r_temps"
   ]
  },
  {
   "cell_type": "code",
   "execution_count": null,
   "id": "c5232785",
   "metadata": {
    "deletable": false,
    "editable": false
   },
   "outputs": [],
   "source": [
    "grader.check(\"task_06\")"
   ]
  },
  {
   "cell_type": "markdown",
   "id": "1dd4a8b0-2964-402e-a719-7eaa9ad37236",
   "metadata": {
    "editable": true,
    "slideshow": {
     "slide_type": ""
    },
    "tags": []
   },
   "source": [
    "---"
   ]
  },
  {
   "cell_type": "markdown",
   "id": "d5e19839-a79e-41ba-a003-2997ae91498a",
   "metadata": {
    "tags": []
   },
   "source": [
    "### Task 07 📍🔎"
   ]
  },
  {
   "cell_type": "markdown",
   "id": "d133a3cd-e028-4a2e-8f79-7f227b4c801b",
   "metadata": {
    "deletable": false,
    "editable": false
   },
   "source": [
    "<!-- BEGIN QUESTION -->\n",
    "\n",
    "Describe the relationship between these two variables. Incorporate the correlation coefficient, if relevant. "
   ]
  },
  {
   "cell_type": "markdown",
   "id": "6505e9e2",
   "metadata": {},
   "source": [
    "_Type your answer here, replacing this text._"
   ]
  },
  {
   "cell_type": "markdown",
   "id": "ce8ab4ae-a42b-4516-80c9-1acdb0d58eaf",
   "metadata": {
    "deletable": false,
    "editable": false,
    "slideshow": {
     "slide_type": "fragment"
    }
   },
   "source": [
    "<!-- END QUESTION -->\n",
    "\n",
    "---"
   ]
  },
  {
   "cell_type": "markdown",
   "id": "2ebd4e83-8e31-4413-a3f7-1b775d874e4a",
   "metadata": {},
   "source": [
    "### Fit Regression Line"
   ]
  },
  {
   "cell_type": "markdown",
   "id": "39c68be0-96ae-4fcd-b5d6-d806290c3aa3",
   "metadata": {},
   "source": [
    "You should notice that this relationship appears fairly linear, which makes linear regression a reasonable choice for predicting process temperature based on air temperature. Next, you'll model this relationship using a linear regression model, in other words, you'll fit a regression line to the data."
   ]
  },
  {
   "cell_type": "markdown",
   "id": "0ccc0ab5-712d-4fd6-afec-41821bb48830",
   "metadata": {
    "slideshow": {
     "slide_type": "fragment"
    }
   },
   "source": [
    "---"
   ]
  },
  {
   "cell_type": "markdown",
   "id": "e1a6fe84-d27e-4b63-ba49-0238671645c8",
   "metadata": {
    "tags": []
   },
   "source": [
    "### Task 08 📍"
   ]
  },
  {
   "cell_type": "markdown",
   "id": "9843b7a9-7948-4302-befa-90f292e157d7",
   "metadata": {
    "deletable": false,
    "editable": false
   },
   "source": [
    "Calculate the slope and intercept for the linear regression line associated with the air and process temperatures. Assign these values to `slope_temp` and `intercept_temp`, respectively."
   ]
  },
  {
   "cell_type": "code",
   "execution_count": null,
   "id": "e81b74fe-c2b1-4e0d-b071-802fc83d279e",
   "metadata": {
    "tags": []
   },
   "outputs": [],
   "source": [
    "slope_temp = ...\n",
    "intercept_temp = ...\n",
    "print(f'The slope of the line is {slope_temp:.3f} \\\n",
    "and the intercept of the line is {intercept_temp:.3f}.')"
   ]
  },
  {
   "cell_type": "code",
   "execution_count": null,
   "id": "2e80c43a",
   "metadata": {
    "deletable": false,
    "editable": false
   },
   "outputs": [],
   "source": [
    "grader.check(\"task_08\")"
   ]
  },
  {
   "cell_type": "markdown",
   "id": "35e1dd43-f0d4-43dd-aa0a-a1b5604e9141",
   "metadata": {
    "editable": true,
    "slideshow": {
     "slide_type": ""
    },
    "tags": []
   },
   "source": [
    "---"
   ]
  },
  {
   "cell_type": "markdown",
   "id": "68837377-2024-4954-b49e-228063f80e0b",
   "metadata": {
    "tags": []
   },
   "source": [
    "### Task 09 📍"
   ]
  },
  {
   "cell_type": "markdown",
   "id": "35f52eff-de38-4e62-ab22-a9f4f2da8b30",
   "metadata": {
    "deletable": false,
    "editable": false
   },
   "source": [
    "Define a function called `predict_process_temp` that takes in an air temperature value and returns the predicted process temperature based on the linear regression line defined by `slope_temp` and `intercept_temp`. The function should predict a process temperature of approximately 310 Kelvin for an air temperature of 300 Kelvin."
   ]
  },
  {
   "cell_type": "code",
   "execution_count": null,
   "id": "0669cb59-df8f-4543-aadc-222f9651a79b",
   "metadata": {
    "tags": []
   },
   "outputs": [],
   "source": [
    "...\n",
    "\n",
    "# Check the function using an air temp of 300\n",
    "predict_process_temp(300)"
   ]
  },
  {
   "cell_type": "code",
   "execution_count": null,
   "id": "b30b58a2",
   "metadata": {
    "deletable": false,
    "editable": false
   },
   "outputs": [],
   "source": [
    "grader.check(\"task_09\")"
   ]
  },
  {
   "cell_type": "markdown",
   "id": "2dd446c6-e3b0-42e6-beb5-c5ee3d11e407",
   "metadata": {
    "editable": true,
    "slideshow": {
     "slide_type": ""
    },
    "tags": []
   },
   "source": [
    "---"
   ]
  },
  {
   "cell_type": "markdown",
   "id": "a6fa3630-f618-4333-9478-c82344281daa",
   "metadata": {},
   "source": [
    "### Machine Failures"
   ]
  },
  {
   "cell_type": "markdown",
   "id": "c988573d-68cf-45a4-96a8-f01a5e5eeb9d",
   "metadata": {},
   "source": [
    "The `data` Table contains a column `'Machine failure'` that shows whether or not the machine had failed in relation to the provided measurements, such as air and process temperature. A value of `1` means that the machine has failed and is in need of repair/replacement."
   ]
  },
  {
   "cell_type": "code",
   "execution_count": null,
   "id": "0418a975-0220-424c-bd04-b15fc398d722",
   "metadata": {},
   "outputs": [],
   "source": [
    "data.iscatter('Air temperature [K]', 'Process temperature [K]', group='Machine failure')"
   ]
  },
  {
   "cell_type": "markdown",
   "id": "a8366f7a-c4c0-4eb2-a120-0001c3fdb9de",
   "metadata": {
    "editable": true,
    "slideshow": {
     "slide_type": ""
    },
    "tags": []
   },
   "source": [
    "---"
   ]
  },
  {
   "cell_type": "markdown",
   "id": "2fcbfb8e-b7d4-472b-82e2-beca04d669d7",
   "metadata": {
    "tags": []
   },
   "source": [
    "### Task 10 📍🔎"
   ]
  },
  {
   "cell_type": "markdown",
   "id": "bad2b74a-00c8-4ca6-b77a-44040f4c46f9",
   "metadata": {
    "deletable": false,
    "editable": false
   },
   "source": [
    "<!-- BEGIN QUESTION -->\n",
    "\n",
    "What do you notice about the machine failures in relation to the air and process temperatures?"
   ]
  },
  {
   "cell_type": "markdown",
   "id": "444c9e7a",
   "metadata": {},
   "source": [
    "_Type your answer here, replacing this text._"
   ]
  },
  {
   "cell_type": "markdown",
   "id": "08b00bf0-2526-4087-89ea-3c0d170a03f7",
   "metadata": {
    "deletable": false,
    "editable": false,
    "slideshow": {
     "slide_type": "fragment"
    }
   },
   "source": [
    "<!-- END QUESTION -->\n",
    "\n",
    "---"
   ]
  },
  {
   "cell_type": "markdown",
   "id": "c11c8fb1-554c-4ce0-b48b-78b84fe7404f",
   "metadata": {},
   "source": [
    "## Reflection"
   ]
  },
  {
   "cell_type": "markdown",
   "id": "8bb442e3-93ec-4e95-b913-ae40f3d100ff",
   "metadata": {},
   "source": [
    "In this activity, you reviewed the concepts behind linear regression and made predictions using linear models in a variety of situations (using data summary information and an actual data set). You considered this prediction in relation to the subject of predictive maintenance."
   ]
  },
  {
   "cell_type": "markdown",
   "id": "6f1a1575-d1cc-4e5b-9e36-6d2fce3c3b00",
   "metadata": {
    "editable": true,
    "slideshow": {
     "slide_type": ""
    },
    "tags": []
   },
   "source": [
    "---"
   ]
  },
  {
   "cell_type": "markdown",
   "id": "830cd3aa-7268-4b8d-9de1-b8291a77d457",
   "metadata": {
    "editable": true,
    "slideshow": {
     "slide_type": "notes"
    },
    "tags": []
   },
   "source": [
    "## License"
   ]
  },
  {
   "cell_type": "markdown",
   "id": "55e19cd7-8808-4101-a381-c0897b12ce07",
   "metadata": {
    "editable": true,
    "slideshow": {
     "slide_type": ""
    },
    "tags": []
   },
   "source": [
    "This content is licensed under the <a href=\"https://creativecommons.org/licenses/by-nc-sa/4.0/\">Creative Commons Attribution-NonCommercial-ShareAlike 4.0 International License (CC BY-NC-SA 4.0)</a>.\n",
    "\n",
    "<img src=\"./by-nc-sa.png\" width=100px>"
   ]
  }
 ],
 "metadata": {
  "kernelspec": {
   "display_name": "Python 3 (ipykernel)",
   "language": "python",
   "name": "python3"
  },
  "language_info": {
   "codemirror_mode": {
    "name": "ipython",
    "version": 3
   },
   "file_extension": ".py",
   "mimetype": "text/x-python",
   "name": "python",
   "nbconvert_exporter": "python",
   "pygments_lexer": "ipython3",
   "version": "3.11.9"
  },
  "otter": {
   "OK_FORMAT": true,
   "assignment_name": "gla11_sp25",
   "tests": {
    "task_02": {
     "name": "task_02",
     "points": null,
     "suites": [
      {
       "cases": [
        {
         "code": ">>> import numbers\n>>> isinstance(predicted_y, numbers.Number)\nTrue",
         "failure_message": "\"❌  predicted_y is not assigned to a number.\"",
         "hidden": false,
         "locked": false,
         "success_message": "\"✅  predicted_y is assigned to a number.\"\n"
        },
        {
         "code": ">>> import hashlib\n>>> \n>>> def get_hash(num):\n...     \"\"\"Helper function for assessing correctness.\"\"\"\n...     return hashlib.md5(str(num).encode()).hexdigest()\n>>> get_hash(round(predicted_y, 2))\n'98425f6d8950061f6376f07f702e43d5'",
         "failure_message": "\"❌  predicted_y is not correct.\"",
         "hidden": false,
         "locked": false,
         "success_message": "\"✅  predicted_y is correct.\"\n"
        }
       ],
       "scored": true,
       "setup": "",
       "teardown": "",
       "type": "doctest"
      }
     ]
    },
    "task_03": {
     "name": "task_03",
     "points": null,
     "suites": [
      {
       "cases": [
        {
         "code": ">>> callable(standard_units)\nTrue",
         "failure_message": "\"❌ standard_units is not defined.\"",
         "hidden": false,
         "locked": false,
         "success_message": "\"✅ standard_units is defined.\"\n"
        },
        {
         "code": ">>> callable(get_correlation)\nTrue",
         "failure_message": "\"❌ get_correlation is not defined.\"",
         "hidden": false,
         "locked": false,
         "success_message": "\"✅ get_correlation is defined.\"\n"
        },
        {
         "code": ">>> callable(get_slope)\nTrue",
         "failure_message": "\"❌ get_slope is not defined.\"",
         "hidden": false,
         "locked": false,
         "success_message": "\"✅ get_slope is defined.\"\n"
        },
        {
         "code": ">>> callable(get_intercept)\nTrue",
         "failure_message": "\"❌ get_intercept is not defined.\"",
         "hidden": false,
         "locked": false,
         "success_message": "\"✅ get_intercept is defined.\"\n"
        },
        {
         "code": ">>> x = np.array([1, 2, 3, 4, 5])\n>>> y = np.array([2, 4, 6, 8, 10])\n>>> np.isclose(get_slope(x, y), 2.0)\nTrue",
         "failure_message": "\"❌ get_slope doesn't work correctly for this test case.\"",
         "hidden": false,
         "locked": false,
         "success_message": "\"✅ get_slope works correctly for this test case.\"\n"
        },
        {
         "code": ">>> x = np.array([1, 2, 3, 4, 5])\n>>> y = np.array([2, 4, 6, 8, 10])\n>>> np.isclose(get_intercept(x, y), 0.0)\nTrue",
         "failure_message": "\"❌ get_intercept doesn't work correctly for this test case.\"",
         "hidden": false,
         "locked": false,
         "success_message": "\"✅ get_intercept works correctly for this test case.\"\n"
        },
        {
         "code": ">>> x = np.array([1, 2, 3, 4, 5])\n>>> y = np.array([10, 8, 6, 4, 2])\n>>> np.isclose(get_slope(x, y), -2.0)\nTrue",
         "failure_message": "\"❌ get_slope doesn't work correctly for this other test case.\"",
         "hidden": false,
         "locked": false,
         "success_message": "\"✅ get_slope works correctly for this other test case.\"\n"
        },
        {
         "code": ">>> x = np.array([1, 2, 3, 4, 5])\n>>> y = np.array([10, 8, 6, 4, 2])\n>>> np.isclose(get_intercept(x, y), 12.0)\nTrue",
         "failure_message": "\"❌ get_intercept doesn't work correctly for this othe rtest case.\"",
         "hidden": false,
         "locked": false,
         "success_message": "\"✅ get_intercept works correctly for this other test case.\"\n"
        }
       ],
       "scored": true,
       "setup": "",
       "teardown": "",
       "type": "doctest"
      }
     ]
    },
    "task_04": {
     "name": "task_04",
     "points": null,
     "suites": [
      {
       "cases": [
        {
         "code": ">>> isinstance(data, Table)\nTrue",
         "failure_message": "\"❌ data is not assigned to a Table.\"",
         "hidden": false,
         "locked": false,
         "success_message": "\"✅ data is assigned to a Table.\"\n"
        },
        {
         "code": ">>> data\nUDI  | Product ID | Type | Air temperature [K] | Process temperature [K] | Rotational speed [rpm] | Torque [Nm] | Tool wear [min] | Machine failure | TWF  | HDF  | PWF  | OSF  | RNF\n1    | M14860     | M    | 298.1               | 308.6                   | 1551                   | 42.8        | 0               | 0               | 0    | 0    | 0    | 0    | 0\n2    | L47181     | L    | 298.2               | 308.7                   | 1408                   | 46.3        | 3               | 0               | 0    | 0    | 0    | 0    | 0\n3    | L47182     | L    | 298.1               | 308.5                   | 1498                   | 49.4        | 5               | 0               | 0    | 0    | 0    | 0    | 0\n4    | L47183     | L    | 298.2               | 308.6                   | 1433                   | 39.5        | 7               | 0               | 0    | 0    | 0    | 0    | 0\n5    | L47184     | L    | 298.2               | 308.7                   | 1408                   | 40          | 9               | 0               | 0    | 0    | 0    | 0    | 0\n6    | M14865     | M    | 298.1               | 308.6                   | 1425                   | 41.9        | 11              | 0               | 0    | 0    | 0    | 0    | 0\n7    | L47186     | L    | 298.1               | 308.6                   | 1558                   | 42.4        | 14              | 0               | 0    | 0    | 0    | 0    | 0\n8    | L47187     | L    | 298.1               | 308.6                   | 1527                   | 40.2        | 16              | 0               | 0    | 0    | 0    | 0    | 0\n9    | M14868     | M    | 298.3               | 308.7                   | 1667                   | 28.6        | 18              | 0               | 0    | 0    | 0    | 0    | 0\n10   | M14869     | M    | 298.5               | 309                     | 1741                   | 28          | 21              | 0               | 0    | 0    | 0    | 0    | 0\n... (9990 rows omitted)",
         "failure_message": "\"❌ data does not seem correct.\"",
         "hidden": false,
         "locked": false,
         "success_message": "\"✅ data seems correct.\"\n"
        }
       ],
       "scored": true,
       "setup": "",
       "teardown": "",
       "type": "doctest"
      }
     ]
    },
    "task_06": {
     "name": "task_06",
     "points": null,
     "suites": [
      {
       "cases": [
        {
         "code": ">>> import numbers\n>>> isinstance(r_temps, numbers.Number)\nTrue",
         "failure_message": "\"❌ r_temps is not assigned to a numerical value.\"",
         "hidden": false,
         "locked": false,
         "success_message": "\"✅ r_temps is assigned to a numerical value.\"\n"
        },
        {
         "code": ">>> import hashlib\n>>> \n>>> def get_hash(num):\n...     \"\"\"Helper function for assessing correctness.\"\"\"\n...     return hashlib.md5(str(num).encode()).hexdigest()\n>>> get_hash(round(r_temps, 3))\n'4303e4aceafbd37817ed086985703b78'",
         "failure_message": "\"❌ r_temps does not seem correct.\"",
         "hidden": false,
         "locked": false,
         "success_message": "\"✅ r_temps seems correct.\"\n"
        }
       ],
       "scored": true,
       "setup": "",
       "teardown": "",
       "type": "doctest"
      }
     ]
    },
    "task_08": {
     "name": "task_08",
     "points": null,
     "suites": [
      {
       "cases": [
        {
         "code": ">>> import numbers\n>>> isinstance(slope_temp, numbers.Number)\nTrue",
         "failure_message": "\"❌ slope_temp is not assigned to a numerical value.\"",
         "hidden": false,
         "locked": false,
         "success_message": "\"✅ slope_temp is assigned to a numerical value.\"\n"
        },
        {
         "code": ">>> import numbers\n>>> isinstance(intercept_temp, numbers.Number)\nTrue",
         "failure_message": "\"❌ intercept_temp is not assigned to a numerical value.\"",
         "hidden": false,
         "locked": false,
         "success_message": "\"✅ intercept_temp is assigned to a numerical value.\"\n"
        },
        {
         "code": ">>> import hashlib\n>>> \n>>> def get_hash(num):\n...     \"\"\"Helper function for assessing correctness.\"\"\"\n...     return hashlib.md5(str(num).encode()).hexdigest()\n>>> get_hash(round(slope_temp, 3))\n'136ba81d3813591cdcc15fcb924b9437'",
         "failure_message": "\"❌ slope_temp does not seem correct.\"",
         "hidden": false,
         "locked": false,
         "success_message": "\"✅ slope_temp seems correct.\"\n"
        },
        {
         "code": ">>> import hashlib\n>>> \n>>> def get_hash(num):\n...     \"\"\"Helper function for assessing correctness.\"\"\"\n...     return hashlib.md5(str(num).encode()).hexdigest()\n>>> get_hash(round(intercept_temp, 3))\n'68d486c60105f88e3b59e2f9b5e5c320'",
         "failure_message": "\"❌ intercept_temp does not seem correct.\"",
         "hidden": false,
         "locked": false,
         "success_message": "\"✅ intercept_temp seems correct.\"\n"
        }
       ],
       "scored": true,
       "setup": "",
       "teardown": "",
       "type": "doctest"
      }
     ]
    },
    "task_09": {
     "name": "task_09",
     "points": null,
     "suites": [
      {
       "cases": [
        {
         "code": ">>> callable(predict_process_temp)\nTrue",
         "failure_message": "\"❌ predict_process_temp is not callable.\"",
         "hidden": false,
         "locked": false,
         "success_message": "\"✅ predict_process_temp is callable.\"\n"
        },
        {
         "code": ">>> check_300 = predict_process_temp(300)\n>>> np.isclose(check_300, 310, 2)\nTrue",
         "failure_message": "\"❌ predict_process_temp does not return a correct value for an air temperature of 300.\"",
         "hidden": false,
         "locked": false,
         "success_message": "\"✅ predict_process_temp returns a correct value for an air temperature of 300.\"\n"
        }
       ],
       "scored": true,
       "setup": "",
       "teardown": "",
       "type": "doctest"
      }
     ]
    }
   }
  }
 },
 "nbformat": 4,
 "nbformat_minor": 5
}
