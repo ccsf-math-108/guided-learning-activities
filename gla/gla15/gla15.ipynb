{
 "cells": [
  {
   "cell_type": "code",
   "execution_count": null,
   "id": "13598953",
   "metadata": {
    "deletable": false,
    "editable": false
   },
   "outputs": [],
   "source": [
    "# Initialize Otter\n",
    "import otter\n",
    "grader = otter.Notebook(\"gla15.ipynb\")"
   ]
  },
  {
   "cell_type": "markdown",
   "id": "692fbc6d-0645-4e75-b205-29989ec616ab",
   "metadata": {},
   "source": [
    "<img src=\"./ccsf.png\" alt=\"CCSF Logo\" width=200px style=\"margin:0px -5px\">"
   ]
  },
  {
   "cell_type": "markdown",
   "id": "c83b268c-d46e-450b-b4af-a2390020878c",
   "metadata": {
    "tags": []
   },
   "source": [
    "# Guided Learning Activity 15: Beyond `datascience`"
   ]
  },
  {
   "cell_type": "markdown",
   "id": "f5c0e5f0-1759-4129-8e2e-8301f1db6953",
   "metadata": {},
   "source": [
    "This Guided Learning Activity is designed for you to complete alongside a Data Ambassador from the course. You might find that it feels like a combination of the lectures and lab assignment. Whether you are participating live or watching the recording of the live meeting, let the Data Ambassador guide you through the following tasks. There will be moments for you to reflect and explore your own ideas as a way to solidify concepts and skills introduced by your instructor. Keep in mind that this is not a graded assignment for MATH 108 by default. If you have any concerns about participation, reach out to your instructor."
   ]
  },
  {
   "cell_type": "markdown",
   "id": "20d80b08-8562-4cc5-aa65-1e0c97ac6985",
   "metadata": {},
   "source": [
    "---"
   ]
  },
  {
   "cell_type": "markdown",
   "id": "eccd253c-ffd2-40f0-98ac-cc06cc8dec20",
   "metadata": {},
   "source": [
    "## Learning Objectives"
   ]
  },
  {
   "cell_type": "markdown",
   "id": "66e18ccd-f8f0-4f7c-a1f9-c872f5ca01af",
   "metadata": {},
   "source": [
    "1. Reflect on the design of MATH 108.\n",
    "2. Navigate tabular data using the `pandas` library.\n",
    "3. Create visualizations using the `matplotlib` library.\n",
    "6. Explore regression using the `sklearn` and `scipy` libraries.\n",
    "7. Explore classification using the `sklearn` library."
   ]
  },
  {
   "cell_type": "markdown",
   "id": "9a45b759-69b8-4061-b2f8-06483c0e2e92",
   "metadata": {},
   "source": [
    "---"
   ]
  },
  {
   "cell_type": "markdown",
   "id": "0c2302a6-fda0-41de-a349-169954a09cf8",
   "metadata": {},
   "source": [
    "## Configure the Notebook"
   ]
  },
  {
   "cell_type": "markdown",
   "id": "06843add-4d19-4e8d-a8ca-a9bcbee58f31",
   "metadata": {},
   "source": [
    "Run the following code cell to set up the notebook."
   ]
  },
  {
   "cell_type": "code",
   "execution_count": null,
   "id": "253bae4d-e069-42ce-b797-c3cfe5a9fc12",
   "metadata": {},
   "outputs": [],
   "source": [
    "import numpy as np"
   ]
  },
  {
   "cell_type": "markdown",
   "id": "5e948050-3ccc-4b92-b3ac-a06885a72567",
   "metadata": {},
   "source": [
    "---"
   ]
  },
  {
   "cell_type": "markdown",
   "id": "2a7cd7cb-2d64-4078-ae64-7af215ba5136",
   "metadata": {},
   "source": [
    "## MATH 108 Design"
   ]
  },
  {
   "cell_type": "markdown",
   "id": "b64c8f6a-9195-4832-b8db-9f24f73521ab",
   "metadata": {},
   "source": [
    "- MATH 108 was adapted from UC Berkeley's [**DATA 8** course](https://www.data8.org/)\n",
    "- Data 8 was designed to introduce first-year students to foundational topics in data science\n",
    "    - It assumed students had only a High School–level background in math (basic algebra and some statistics)\n",
    "    - It did **not** assume any prior programming experience\n",
    "- A central goal of the course was for students to **build their own versions** of common data analysis tools:\n",
    "    - Hypothesis tests, confidence intervals, regression models, k-nearest neighbors classifiers, and more\n",
    "- These tools typically have standard library implementations, but the emphasis in MATH 108 was on **understanding by constructing**\n",
    "- The `datascience` library supported this approach by simplifying the programming interface, making it easier for beginners to focus on core concepts while learning to code\n",
    "- For this activity, you will complete a few past guided learning activities using some more standard methods and avoid using the `datascience` library."
   ]
  },
  {
   "cell_type": "markdown",
   "id": "af9c91ec-efeb-4e09-93ee-6cd601d59b22",
   "metadata": {},
   "source": [
    "---"
   ]
  },
  {
   "cell_type": "markdown",
   "id": "9cc3473a-3145-4288-9441-7af599da47a9",
   "metadata": {},
   "source": [
    "## Common Libraries"
   ]
  },
  {
   "cell_type": "markdown",
   "id": "0768ab18-070d-487b-96eb-6578f455d5c2",
   "metadata": {},
   "source": [
    "---"
   ]
  },
  {
   "cell_type": "markdown",
   "id": "d37ba072-3b36-403a-937a-f40abc4c5026",
   "metadata": {},
   "source": [
    "### `pandas`"
   ]
  },
  {
   "cell_type": "markdown",
   "id": "09a031fd-8fd7-4734-8160-80f6d226de70",
   "metadata": {},
   "source": [
    "- In MATH 108, you worked with tabular data using the `Table` data type from the `datascience` library\n",
    "- A more common and widely used alternative is the [`DataFrame`](https://pandas.pydata.org/docs/reference/api/pandas.DataFrame.html) from the `pandas` library\n",
    "- While a `Table` is great for teaching and simplicity, a `DataFrame` offers more powerful and flexible tools for real-world data analysis\n",
    "- The first notable difference for you is that a `DataFrame` shows the row index number by default\n",
    "- Run the following code to import `pandas` using the standard alias `pd`"
   ]
  },
  {
   "cell_type": "code",
   "execution_count": null,
   "id": "c0373e82-95b4-4656-9dc6-adca39487e56",
   "metadata": {},
   "outputs": [],
   "source": [
    "import pandas as pd"
   ]
  },
  {
   "cell_type": "markdown",
   "id": "0458fa98-c785-47e5-b077-a92b8b5686b8",
   "metadata": {},
   "source": [
    "- View the [official User Guide for `pandas`](https://pandas.pydata.org/docs/user_guide/index.html) to see what features it has.\n",
    "- Here is a brief comparison between a `DataFrame` and a `Table`:\n",
    "    | Concept         | `datascience.Table`                  | `pandas.DataFrame`              |\n",
    "    |----------------|---------------------------------------|----------------------------------|\n",
    "    | Rows & columns | ✅ Yes                                 | ✅ Yes                            |\n",
    "    | Column access  | `tbl.column('label')` → NumPy array   | `df['label']` → Series           |\n",
    "    | Row access     | `tbl.row(index)`                      | `df.iloc[index]`                 |\n",
    "    | Select columns | `tbl.select('col1', 'col2')`          | `df[['col1', 'col2']]`           |\n",
    "    | Filter rows    | `tbl.where('col', condition)`         | `df[df['col'] > value]`          |\n",
    "    | Add columns    | `tbl.with_column('label', values)`    | `df['label'] = values`           |\n",
    "    | Summary funcs  | `tbl.group(...)`, `tbl.apply(...)`    | `df.groupby(...)`, `df.apply(...)` |\n",
    "    | Plotting       | `tbl.plot(...)`                       | `matplotlib` or `df.plot(...)`   |\n",
    "- If you haven't done so already, go through the notebook provided by UC Berkeley on [Translating from `datascience` to `pandas`](https://colab.research.google.com/drive/1zYnagJUnxZWI2BSrpRdnyG7Knu3Tkada?usp=sharing) that was linked in the MATH 108 Conclusion lecture."
   ]
  },
  {
   "cell_type": "markdown",
   "id": "4d24ae40-31a5-4f81-b7f5-486c7321aaf0",
   "metadata": {},
   "source": [
    "---"
   ]
  },
  {
   "cell_type": "markdown",
   "id": "6f5a0670-b127-4b46-860d-60d045383a00",
   "metadata": {},
   "source": [
    "### `matplotlib`"
   ]
  },
  {
   "cell_type": "markdown",
   "id": "d0f60f7c-dbe9-409d-9802-5b6d0190462c",
   "metadata": {},
   "source": [
    "- One of the most fundamental visualization libraries in Python is `matplotlib`\n",
    "- Matplotlib is renowned for its **customizability**, though it can be less intuitive for beginners.\n",
    "- The `datascience` library is built on top of Matplotlib\n",
    "- You might have noticed that MATH 108 instructors often use Matplotlib directly to add custom touches like titles, updated axes, colors, and more\n",
    "- Run the following code to import `matplotlib` using the standard alias `plt` and apply the same styling used in MATH 108"
   ]
  },
  {
   "cell_type": "code",
   "execution_count": null,
   "id": "cc0cb7ff-39a1-43e9-a991-4c76f5da63a9",
   "metadata": {},
   "outputs": [],
   "source": [
    "import matplotlib.pyplot as plt\n",
    "plt.style.use('fivethirtyeight')"
   ]
  },
  {
   "cell_type": "markdown",
   "id": "1207cc90-a2c5-4869-affe-cf881ced8a5b",
   "metadata": {},
   "source": [
    "View the [official User Guide for `matplotlib`](https://matplotlib.org/stable/users/index) to see what features it has."
   ]
  },
  {
   "cell_type": "markdown",
   "id": "0c062ca9-c38f-4a8b-99ad-62bf5ac683b7",
   "metadata": {},
   "source": [
    "---"
   ]
  },
  {
   "cell_type": "markdown",
   "id": "75454329-1384-457d-9de1-0f1143daab89",
   "metadata": {},
   "source": [
    "### `scikit.learn`"
   ]
  },
  {
   "cell_type": "markdown",
   "id": "e68cdeda-6d02-43e8-ba79-92f50fd1888f",
   "metadata": {},
   "source": [
    "- The two general types of machine learning problems introduced in MATH 108 are:\n",
    "  - **Regression**: Predicting numerical outcomes from numerical features.\n",
    "  - **Classification**: Predicting categorical outcomes from numerical features.\n",
    "- [**scikit-learn**](https://scikit-learn.org) is a widely used Python library for implementing machine learning models.\n",
    "  - It includes tools for linear and nonlinear regression, k-nearest neighbors (kNN) classification, and more.\n",
    "  - It also provides functions to **standardize data**, **evaluate models**, and **split data into training and testing sets**.\n",
    "- Use the following line to import `scikit-learn` using the standard alias `sk`:"
   ]
  },
  {
   "cell_type": "code",
   "execution_count": null,
   "id": "cebf1b43-b425-4fbc-960e-e9a64ff1ba7b",
   "metadata": {},
   "outputs": [],
   "source": [
    "import sklearn as sk"
   ]
  },
  {
   "cell_type": "markdown",
   "id": "d816b662-e11c-482f-b18b-127814868435",
   "metadata": {},
   "source": [
    "---"
   ]
  },
  {
   "cell_type": "markdown",
   "id": "e3abf4d6-ede5-4f1a-b610-f371cd9e9e6a",
   "metadata": {},
   "source": [
    "### `scipy`"
   ]
  },
  {
   "cell_type": "markdown",
   "id": "4dcd5f6c-8655-4730-a20d-a5ec554b2a22",
   "metadata": {},
   "source": [
    "- [**SciPy**](https://scipy.org) is a core library for scientific computing in Python, built on top of NumPy.\n",
    "  - It includes tools for **curve fitting**, **optimization**, **integration**, **statistics**, and more.\n",
    "  - The `scipy.optimize.curve_fit` function allows you to fit **custom mathematical models** to data.\n",
    "- Run the following line to import `scipy` and give the standard alias of `sp`:"
   ]
  },
  {
   "cell_type": "code",
   "execution_count": null,
   "id": "52e8c435-98ec-459a-b54f-1f38730f3011",
   "metadata": {},
   "outputs": [],
   "source": [
    "import scipy as sp"
   ]
  },
  {
   "cell_type": "markdown",
   "id": "4850bb1a-5e78-45ac-a605-fe668ffcb337",
   "metadata": {},
   "source": [
    "---"
   ]
  },
  {
   "cell_type": "markdown",
   "id": "657af574-b501-4233-88a0-122636f8a3c6",
   "metadata": {},
   "source": [
    "## Regression"
   ]
  },
  {
   "cell_type": "markdown",
   "id": "a3e0773e-1ce8-43c0-93e1-194cb58a305d",
   "metadata": {},
   "source": [
    "In a previous Guided Learning Activity, you explored the relationship between substrate concentration and reaction rate and fit both a linear and a nonlinear model to the data. You examined the patterns of the residual plots and compared MSE values to decide which of the two model options was better. Now, we will have you rework that activity without the `datascience` library."
   ]
  },
  {
   "cell_type": "markdown",
   "id": "6224030d-e22e-480b-a68d-9578a5bb583c",
   "metadata": {},
   "source": [
    "---"
   ]
  },
  {
   "cell_type": "markdown",
   "id": "2f36d48c-f4c4-4ea3-ab2c-3dee5307176f",
   "metadata": {},
   "source": [
    "### Michaelis–Menten Kinetics"
   ]
  },
  {
   "cell_type": "markdown",
   "id": "98faa4dd-a5fc-449d-bc3b-2437ca6e15ba",
   "metadata": {},
   "source": [
    "<a href=\"https://en.wikipedia.org/wiki/Michaelis%E2%80%93Menten_kinetics\" target=\"_blank\"><img src=\"./MM-curve.jpg\" width=400px alt=\"Curve of the Michaelis–Menten equation labelled in accordance with IUBMB recommendations\"></a>\n",
    "\n",
    "From <a href=\"https://en.wikipedia.org/wiki/Michaelis%E2%80%93Menten_kinetics\" target=\"_blank\">Wikipedia</a>:\n",
    "\n",
    "> In biochemistry, Michaelis–Menten kinetics, named after Leonor Michaelis and Maud Menten, is the simplest case of enzyme kinetics, applied to enzyme-catalysed reactions involving the transformation of one substrate into one product."
   ]
  },
  {
   "cell_type": "markdown",
   "id": "ef946ee6-0e41-403e-a6e7-b14a00e29b28",
   "metadata": {
    "editable": true,
    "slideshow": {
     "slide_type": ""
    },
    "tags": []
   },
   "source": [
    "---"
   ]
  },
  {
   "cell_type": "markdown",
   "id": "b24152ec-0988-488a-b90a-df6888911413",
   "metadata": {
    "editable": true,
    "slideshow": {
     "slide_type": ""
    },
    "tags": []
   },
   "source": [
    "### Biochemistry Basics"
   ]
  },
  {
   "cell_type": "markdown",
   "id": "34091ec7-7902-4bf0-9fb8-d0193891bc7e",
   "metadata": {},
   "source": [
    "- **Enzyme**: A protein that speeds up chemical reactions in the body.\n",
    "- **Substrate**: The molecule that the enzyme acts on (like a key in a lock).\n",
    "- **Enzyme + substrate → product**: The reaction rate depends on substrate amount.\n",
    "- **Saturation point**: When all enzymes are busy, adding more substrate won't increase speed."
   ]
  },
  {
   "cell_type": "markdown",
   "id": "80b51048-7a55-4e58-9698-870bd3a92b7a",
   "metadata": {
    "editable": true,
    "slideshow": {
     "slide_type": ""
    },
    "tags": []
   },
   "source": [
    "---"
   ]
  },
  {
   "cell_type": "markdown",
   "id": "d5f73dc9-ee51-4c83-a81c-65a768ed8042",
   "metadata": {},
   "source": [
    "### The Data"
   ]
  },
  {
   "cell_type": "markdown",
   "id": "fa1318b3-cbb3-4bc6-af3e-818dfc919901",
   "metadata": {},
   "source": [
    "The file [`puromycin.csv`](https://www.rdocumentation.org/packages/datasets/versions/3.6.2/topics/Puromycin) contains 23 rows and 3 columns of the reaction velocity versus substrate concentration in an enzymatic reaction involving untreated cells or cells treated with [Puromycin](https://en.wikipedia.org/wiki/Puromycin), an inhibitor that slows down enzymatic reactions."
   ]
  },
  {
   "cell_type": "markdown",
   "id": "69d1aaed-409f-40f0-8ae1-2ae6adc8c62e",
   "metadata": {
    "editable": true,
    "slideshow": {
     "slide_type": ""
    },
    "tags": []
   },
   "source": [
    "---"
   ]
  },
  {
   "cell_type": "markdown",
   "id": "5ccd8a13-5899-4b5f-ad07-935d09023f24",
   "metadata": {
    "tags": []
   },
   "source": [
    "### Task 01 📍"
   ]
  },
  {
   "cell_type": "markdown",
   "id": "7ff1adb5-9391-49ed-a15e-6a4b4e200ad7",
   "metadata": {
    "deletable": false,
    "editable": false
   },
   "source": [
    "Assign the `puromycin.csv` to the `DataFrame` called `puromycin`. The `DataFrame` should contain only the untreated data and the following columns:\n",
    "\n",
    "- `'Concentration'`: a numeric vector of substrate concentrations (ppm)\n",
    "- `'Reaction Rate'`: a numeric vector of instantaneous reaction rates (counts/min/min)\n",
    "\n",
    "**Conversion Notes**:\n",
    "- `pd.read_csv()` loads a `CSV` into a `DataFrame`, similar to `Table.read_table(...)`.\n",
    "- `tbl = tbl[tbl['column_label'] == 'value']]` filters rows of a `DataFrame` like `tbl.where('column_label', 'value')`.\n",
    "    - Instead of `.where()`, you use Boolean indexing with a condition inside `[]`.\n",
    "- `.drop(columns=...)` removes a column, similar to `tbl.drop(...)`.\n",
    "- `.rename(columns={...})` changes column names, like `tbl.relabeled(...)`.\n",
    "    - The `{...}` is a dictionary, containing `{key:value}` pairs.\n",
    "    - In this case, the pairs would be `{old_label: new_label, ...}`\n",
    "- `.reset_index(drop=True)` resets the row index (especially after filtering)."
   ]
  },
  {
   "cell_type": "code",
   "execution_count": null,
   "id": "654e2ef1-ab50-4689-b0ca-29f8b22f5ace",
   "metadata": {
    "tags": []
   },
   "outputs": [],
   "source": [
    "puromycin = ...\n",
    "puromycin"
   ]
  },
  {
   "cell_type": "code",
   "execution_count": null,
   "id": "8218337a",
   "metadata": {
    "deletable": false,
    "editable": false
   },
   "outputs": [],
   "source": [
    "grader.check(\"task_01\")"
   ]
  },
  {
   "cell_type": "markdown",
   "id": "ba9fe5e3-39a8-4d4b-96e4-577f20ac30e3",
   "metadata": {
    "slideshow": {
     "slide_type": "fragment"
    }
   },
   "source": [
    "---"
   ]
  },
  {
   "cell_type": "markdown",
   "id": "8765c207-0ac8-4888-b09d-7703c807b6f7",
   "metadata": {
    "tags": []
   },
   "source": [
    "### Task 02 📍🔎"
   ]
  },
  {
   "cell_type": "markdown",
   "id": "c48f8b78-524f-4308-aba6-2245f5da68f9",
   "metadata": {
    "deletable": false,
    "editable": false
   },
   "source": [
    "<!-- BEGIN QUESTION -->\n",
    "\n",
    "Visualize the relationship between the substrate concentrations and reaction rates, where the concentrations are the explanatory variable.\n",
    "\n",
    "**Conversion Notes**:\n",
    "- `df['column']` produces a `Series` (like an array), similar to `tbl.column('column')`.\n",
    "- `plt.scatter(x, y)` creates a scatter plot like `tbl.scatter(...)` in `datascience`.\n",
    "- You can add a title and update x and y labels using `plt.title`, `plt.xlabel`, and `plt.ylabel`.\n",
    "- `plt.show()` displays the plot."
   ]
  },
  {
   "cell_type": "code",
   "execution_count": null,
   "id": "bebd5979-84c4-4479-b7ad-8f93740f2e75",
   "metadata": {
    "tags": []
   },
   "outputs": [],
   "source": [
    "..."
   ]
  },
  {
   "cell_type": "markdown",
   "id": "3d8f665f-dcda-493d-8c2f-ee7003859ca7",
   "metadata": {
    "deletable": false,
    "editable": false,
    "slideshow": {
     "slide_type": "fragment"
    }
   },
   "source": [
    "<!-- END QUESTION -->\n",
    "\n",
    "---"
   ]
  },
  {
   "cell_type": "markdown",
   "id": "ed3e2d13-ce3f-4d62-a69e-7f2c96ad5d36",
   "metadata": {
    "tags": []
   },
   "source": [
    "### Task 03 📍🔎"
   ]
  },
  {
   "cell_type": "markdown",
   "id": "bafd321f-9449-4929-95bb-abbf4ca501d6",
   "metadata": {
    "deletable": false,
    "editable": false
   },
   "source": [
    "<!-- BEGIN QUESTION -->\n",
    "\n",
    "Fit a linear model to the data in `puromycin`, and use the model to create an array of predicted reaction rates (`y_pred`) based on the model and given concentration amounts.\n",
    "\n",
    "**Notes**:\n",
    "- Determining the slope and intercept that minimize MSE is part of fitting a linear model to a data set.\n",
    "- `sklearn` has a tool `LinearRegression` from the `linear_model` sub-module to help with that.\n",
    "    - Use `from sklearn.linear_model import LinearRegression`\n",
    "    - `LinearRegression()` creates an empty linear regression model (e.g. `linear_model`) object-like `fit_line(...)` in MATH 108.\n",
    "- `X` is a `DataFrame` with the predictor(s)\n",
    "    - double brackets `[[]]` keep it 2-dimensional (as required by `sklearn`).\n",
    "    - Like: `tbl.select('column')`\n",
    "- `y` is a `Series` (1D)\n",
    "    - This is the variable we're trying to predict.\n",
    "    - Like: `tbl.column('column')`\n",
    "- `linear_model.fit(X, y)` determines and stores the correlation coefficient, slope, intercept, etc. associated with the regression line for the provided data.\n",
    "- After fitting the model, you can use it to predict outcomes (`linear_model.predict(X)`) for given inputs (`X`).\n",
    "    - This returns an array of predicted `y` values based on the learned regression line."
   ]
  },
  {
   "cell_type": "code",
   "execution_count": null,
   "id": "e64feb29-8775-4fbc-9c32-9878a4e9ad00",
   "metadata": {
    "tags": []
   },
   "outputs": [],
   "source": [
    "...\n",
    "X = ...\n",
    "y = ...\n",
    "linear_model = ...\n",
    "...\n",
    "y_pred = ...\n",
    "y_pred"
   ]
  },
  {
   "cell_type": "markdown",
   "id": "2ed44ad9-1e44-4e0f-9277-61e85d34b4d6",
   "metadata": {
    "deletable": false,
    "editable": false,
    "slideshow": {
     "slide_type": "fragment"
    }
   },
   "source": [
    "<!-- END QUESTION -->\n",
    "\n",
    "---"
   ]
  },
  {
   "cell_type": "markdown",
   "id": "5468873c-8fff-40f2-baa9-9323c53836c2",
   "metadata": {
    "tags": []
   },
   "source": [
    "### Task 04 📍🔎"
   ]
  },
  {
   "cell_type": "markdown",
   "id": "9cb1f299-4d2c-4b91-8e35-b6aca70fe42b",
   "metadata": {
    "deletable": false,
    "editable": false
   },
   "source": [
    "<!-- BEGIN QUESTION -->\n",
    "\n",
    "Add the fit line to the scatter plot. Include a legend that provides a label for the scatterplot and regression line.\n",
    "\n",
    "**Notes**:\n",
    "- `plt.plot(x, y)` creates a **line plot**, similar to `tbl.plot(...)` in the `datascience` library.\n",
    "- To **label a line** in the plot, use the `label='Name'` parameter inside `plt.plot(...)`.\n",
    "- `plt.legend()` adds a **legend box** to the plot, displaying the label(s) you’ve specified.\n",
    "    - This is especially useful when comparing multiple lines or datasets in one plot."
   ]
  },
  {
   "cell_type": "code",
   "execution_count": null,
   "id": "95ea1ccf-972d-441a-87d1-5fba9555820f",
   "metadata": {
    "tags": []
   },
   "outputs": [],
   "source": [
    "..."
   ]
  },
  {
   "cell_type": "markdown",
   "id": "90aff8f8-ecb9-4ed9-8f13-023bfd84fcdf",
   "metadata": {
    "deletable": false,
    "editable": false,
    "slideshow": {
     "slide_type": ""
    },
    "tags": []
   },
   "source": [
    "<!-- END QUESTION -->\n",
    "\n",
    "---"
   ]
  },
  {
   "cell_type": "markdown",
   "id": "84abbe84-dbf0-4b55-8a39-3cd5a75dfdf4",
   "metadata": {
    "tags": []
   },
   "source": [
    "### Task 05 📍🔎"
   ]
  },
  {
   "cell_type": "markdown",
   "id": "15ad23cb-2a16-4306-8ebf-c766431bf04f",
   "metadata": {
    "deletable": false,
    "editable": false
   },
   "source": [
    "<!-- BEGIN QUESTION -->\n",
    "\n",
    "Create a residual plot for this regression model. Include a horizontal line at $y=0$.\n",
    "\n",
    "**Notes**:\n",
    "- `plt.axhline(y=...)` creates a horizontal line plot vertical posted at the provided `y` value."
   ]
  },
  {
   "cell_type": "code",
   "execution_count": null,
   "id": "96d2ac7a-0b10-4328-b4c9-cee35bd180c6",
   "metadata": {
    "tags": []
   },
   "outputs": [],
   "source": [
    "residuals = ...\n",
    "\n",
    "..."
   ]
  },
  {
   "cell_type": "markdown",
   "id": "d6e49169-8c19-45fb-a19b-049d5ad9f791",
   "metadata": {
    "deletable": false,
    "editable": false,
    "slideshow": {
     "slide_type": ""
    },
    "tags": []
   },
   "source": [
    "<!-- END QUESTION -->\n",
    "\n",
    "---"
   ]
  },
  {
   "cell_type": "markdown",
   "id": "7de360f5-11df-476a-8182-35d6d9186852",
   "metadata": {
    "tags": []
   },
   "source": [
    "### Task 06 📍🔎"
   ]
  },
  {
   "cell_type": "markdown",
   "id": "2b22456c-404b-4573-a0a1-415f414d2115",
   "metadata": {
    "deletable": false,
    "editable": false
   },
   "source": [
    "<!-- BEGIN QUESTION -->\n",
    "\n",
    "Calculate the mean squared error for the best fit linear model.\n",
    "\n",
    "**Notes**:\n",
    "- There is an MSE function in `sklearn.metrics`\n",
    "- Use `from sklearn.metrics import mean_squared_error`"
   ]
  },
  {
   "cell_type": "code",
   "execution_count": null,
   "id": "eb6bc3ca-e32b-4619-9cca-f71c7fa5b154",
   "metadata": {
    "tags": []
   },
   "outputs": [],
   "source": [
    "...\n",
    "\n",
    "mse = ...\n",
    "print(\"Mean Squared Error:\", mse)"
   ]
  },
  {
   "cell_type": "markdown",
   "id": "61871a4a-b2bf-4826-ad53-cb301e95005c",
   "metadata": {
    "deletable": false,
    "editable": false,
    "slideshow": {
     "slide_type": ""
    },
    "tags": []
   },
   "source": [
    "<!-- END QUESTION -->\n",
    "\n",
    "---"
   ]
  },
  {
   "cell_type": "markdown",
   "id": "caf632c1-993b-4589-9038-2b7b177ebad8",
   "metadata": {
    "tags": []
   },
   "source": [
    "### Task 07 📍🔎"
   ]
  },
  {
   "cell_type": "markdown",
   "id": "f702ee93-fb78-4a86-8d8d-671c4456826d",
   "metadata": {
    "deletable": false,
    "editable": false
   },
   "source": [
    "<!-- BEGIN QUESTION -->\n",
    "\n",
    "Next, fit the model defined by the Michaelis-Menten Function, and make predictions `y_pred_2` from the provided concentrations in `puromycin`.\n",
    "\n",
    "**Notes:**\n",
    "- A general curve can be fit to data using the `scipy` function `curve_fit`.\n",
    "    - Use  `from scipy.optimize import curve_fit` to access this function.\n",
    "    - You should provide `curve_fit` with the function, the $X$-data, and the $y$-data for it to fit the function to the data.\n",
    "    - `curve_fit` returns a few items, the first is an array of parameters for the given function that minimize MSE.\n",
    "- `df['column_label'].values` provides the values of the `Series` as a NumPy array."
   ]
  },
  {
   "cell_type": "code",
   "execution_count": null,
   "id": "a810934f-a37f-4801-bd10-4a5dfca0113c",
   "metadata": {
    "tags": []
   },
   "outputs": [],
   "source": [
    "...\n",
    "\n",
    "def michaelis_menten(S, Vmax, Km):\n",
    "    return ...\n",
    "\n",
    "X_vals = ...\n",
    "y_vals = ...\n",
    "\n",
    "params, __ = ... # __ is used to \"catch\" the rest of the output\n",
    "Vmax, Km = params # expand the params array\n",
    "\n",
    "y_pred_2 = ...\n",
    "y_pred_2"
   ]
  },
  {
   "cell_type": "markdown",
   "id": "9e2bd7fb-198d-4b7a-99ed-7618cfdff7b9",
   "metadata": {
    "deletable": false,
    "editable": false,
    "slideshow": {
     "slide_type": "fragment"
    }
   },
   "source": [
    "<!-- END QUESTION -->\n",
    "\n",
    "---"
   ]
  },
  {
   "cell_type": "markdown",
   "id": "a3df514a-95eb-4903-b5cd-406b452cdb09",
   "metadata": {
    "tags": []
   },
   "source": [
    "### Task 08 📍🔎"
   ]
  },
  {
   "cell_type": "markdown",
   "id": "9f78cc78-bcd7-4d70-8e32-09f5872740cc",
   "metadata": {
    "deletable": false,
    "editable": false
   },
   "source": [
    "<!-- BEGIN QUESTION -->\n",
    "\n",
    "Visualize the fit line defined by the Michaelis–Menten formula on the scatterplot relating reaction rate vs. substrate concentration."
   ]
  },
  {
   "cell_type": "code",
   "execution_count": null,
   "id": "ec8cf57b-3df4-4a52-9846-24ec12c4e3c1",
   "metadata": {
    "tags": []
   },
   "outputs": [],
   "source": [
    "..."
   ]
  },
  {
   "cell_type": "markdown",
   "id": "4a7251cf-f588-47b5-b31a-9845d08a887d",
   "metadata": {
    "deletable": false,
    "editable": false,
    "slideshow": {
     "slide_type": "fragment"
    }
   },
   "source": [
    "<!-- END QUESTION -->\n",
    "\n",
    "---"
   ]
  },
  {
   "cell_type": "markdown",
   "id": "84c98a99-81d3-4505-b9a1-ecd268e654da",
   "metadata": {
    "tags": []
   },
   "source": [
    "### Task 09 📍🔎"
   ]
  },
  {
   "cell_type": "markdown",
   "id": "83684e14-af3e-4c65-b005-4345ed638552",
   "metadata": {
    "deletable": false,
    "editable": false
   },
   "source": [
    "<!-- BEGIN QUESTION -->\n",
    "\n",
    "Create a residual plot for this model and calculate the MSE value for this model (`mse_2`)."
   ]
  },
  {
   "cell_type": "code",
   "execution_count": null,
   "id": "a3d7f9b3-0013-4fc2-9446-1b9ba5102848",
   "metadata": {
    "tags": []
   },
   "outputs": [],
   "source": [
    "..."
   ]
  },
  {
   "cell_type": "markdown",
   "id": "2eb92b16-78fc-44a0-9021-8baadfaa2c7b",
   "metadata": {
    "deletable": false,
    "editable": false,
    "slideshow": {
     "slide_type": "fragment"
    }
   },
   "source": [
    "<!-- END QUESTION -->\n",
    "\n",
    "---"
   ]
  },
  {
   "cell_type": "markdown",
   "id": "fcf269e3-f71f-4338-82b3-210a71cc8b7f",
   "metadata": {},
   "source": [
    "## Classification"
   ]
  },
  {
   "cell_type": "markdown",
   "id": "4feae2bb-fb67-45a3-a0ee-c151cfeb4b47",
   "metadata": {},
   "source": [
    "In a previous Guided Learning Activity, you used gallstone disease diagnoses data and research to create a kNN classifier to classify a patient as potentially having gallstone disease based on a few key features. You fine tuned the classifier by picking an optimal `k` value based on assessing accuracy scores for a validation set. Lastly, you provided an overall accuracy score for the model based on a test set. Now, we will have you rework that activity without the `datascience` library."
   ]
  },
  {
   "cell_type": "markdown",
   "id": "bc23ad7c-02c1-4894-aa60-de4b6e2f1054",
   "metadata": {},
   "source": [
    "---"
   ]
  },
  {
   "cell_type": "markdown",
   "id": "0caf66fd-0ab5-45fc-82d0-fb3d465cdf10",
   "metadata": {},
   "source": [
    "### Gallstone Disease"
   ]
  },
  {
   "cell_type": "markdown",
   "id": "dbec5664-c003-4d64-9996-4585a97daeae",
   "metadata": {},
   "source": [
    "<a href=\"https://en.wikipedia.org/wiki/Gallstone#/media/File:Gallstones.png\" target=\"_blank\"><img src=\"./gallstones.png\" width=400px alt=\"A gallstone blocking a bile duct\"></a>\n",
    "\n",
    "According to [John Hopkins Medicine](https://www.hopkinsmedicine.org/health/conditions-and-diseases/gallstone-disease):\n",
    "\n",
    "> Gallstone disease is the most common disorder affecting the biliary system, the body's system of transporting bile. Gallstones are solid, pebble-like masses that form in the gallbladder or the biliary tract (the ducts leading from the liver to the small intestine). They form when the bile hardens and are caused by an excess of cholesterol, bile salts or bilirubin."
   ]
  },
  {
   "cell_type": "markdown",
   "id": "13a3da86-6fa3-4354-a216-8a70fc8351c1",
   "metadata": {},
   "source": [
    "---"
   ]
  },
  {
   "cell_type": "markdown",
   "id": "620240c3-2d42-4d86-9979-06fee730cd00",
   "metadata": {},
   "source": [
    "### Research"
   ]
  },
  {
   "cell_type": "markdown",
   "id": "5b45fe80-d516-43be-a590-ad6598cadfbb",
   "metadata": {},
   "source": [
    "A recent paper titled [_Early prediction of gallstone disease with a machine learning-based method from bioimpedance and laboratory data_](https://journals.lww.com/md-journal/fulltext/2024/02230/early_prediction_of_gallstone_disease_with_a.40.aspx) showed that vitamin D, C-reactive protein (CRP) level, total body water, and lean mass are crucial features in predicting gallstones."
   ]
  },
  {
   "cell_type": "markdown",
   "id": "e5e0be0e-a569-4333-abba-121d09bf61e4",
   "metadata": {},
   "source": [
    "---"
   ]
  },
  {
   "cell_type": "markdown",
   "id": "57121668-9ea4-44c4-86ad-f87d5fe4b723",
   "metadata": {},
   "source": [
    "### Data"
   ]
  },
  {
   "cell_type": "markdown",
   "id": "3c22d0e5-edbf-4121-84c7-e0502f82f015",
   "metadata": {},
   "source": [
    "The UC Irvine Machine Learning Repository hosts [the dataset from this study](https://archive.ics.uci.edu/dataset/1150/gallstone-1), which contains information on 319 individuals, 161 of whom were diagnosed with gallstone disease."
   ]
  },
  {
   "cell_type": "markdown",
   "id": "f9808c15-4b82-4bd1-8ada-9d5660c06959",
   "metadata": {},
   "source": [
    "---"
   ]
  },
  {
   "cell_type": "markdown",
   "id": "caa2862b-3b06-40dc-8c56-0bde39afb084",
   "metadata": {
    "tags": []
   },
   "source": [
    "### Task 10 📍"
   ]
  },
  {
   "cell_type": "markdown",
   "id": "192938ad-a66c-42eb-92f9-040b47a12c42",
   "metadata": {
    "deletable": false,
    "editable": false
   },
   "source": [
    "Create a `DataFrame` called `gallstone` from the data in `dataset_uci.csv`."
   ]
  },
  {
   "cell_type": "code",
   "execution_count": null,
   "id": "41d1463f-1321-408f-9ece-5212eb54fdee",
   "metadata": {
    "tags": []
   },
   "outputs": [],
   "source": [
    "gallstone = ...\n",
    "gallstone"
   ]
  },
  {
   "cell_type": "code",
   "execution_count": null,
   "id": "3461f9d2",
   "metadata": {
    "deletable": false,
    "editable": false
   },
   "outputs": [],
   "source": [
    "grader.check(\"task_10\")"
   ]
  },
  {
   "cell_type": "markdown",
   "id": "6bfb2609-0f57-455c-b73c-2d9b4d07e635",
   "metadata": {
    "slideshow": {
     "slide_type": "fragment"
    }
   },
   "source": [
    "---"
   ]
  },
  {
   "cell_type": "markdown",
   "id": "3de9687b-cc95-4040-9579-a3e0496fa23d",
   "metadata": {
    "tags": []
   },
   "source": [
    "### Task 11 📍🔎"
   ]
  },
  {
   "cell_type": "markdown",
   "id": "d4af90e6-e5db-4d33-9cbc-8d3f16c6de20",
   "metadata": {
    "deletable": false,
    "editable": false
   },
   "source": [
    "<!-- BEGIN QUESTION -->\n",
    "\n",
    "Create a training set `train`, a validation set `val`, and a testing set `test` from the `gallstone` dataset:\n",
    "\n",
    "- The **test set** should contain **20%** of the total data.\n",
    "- The **validation set** should contain **20%** of the total data.\n",
    "- The **training set** should contain the remaining **60%** of the data.\n",
    "\n",
    "Also, narrow down the columns in the `DataFrames` to only include `'Gallstone Status'` and the key features: `'Vitamin D'`, `'C-Reactive Protein (CRP)'`, `'Total Body Water (TBW)'`, and `'Lean Mass (LM) (%)'` for each `DataFrame`. You should reset the index of the `DataFrame` as well.\n",
    "\n",
    "**Notes**:\n",
    "- `sklearn` provides a function called `train_test_split`, which is similar to `tbl.split(...)`.\n",
    "- Use `from sklearn.model_selection import train_test_split` to import the function.\n",
    "- Set the `random_state` parameter so that your results are reproducible and match ours."
   ]
  },
  {
   "cell_type": "code",
   "execution_count": null,
   "id": "d24c1759-07a7-44eb-b0a3-88c0a42f28ee",
   "metadata": {
    "tags": []
   },
   "outputs": [],
   "source": [
    "...\n",
    "\n",
    "seed = 42\n",
    "train_val, test = ...\n",
    "train, val = ...\n",
    "\n",
    "key_features = ['Vitamin D', 'C-Reactive Protein (CRP)',\n",
    "                'Total Body Water (TBW)', 'Lean Mass (LM) (%)']\n",
    "\n",
    "train = train[['Gallstone Status'] + key_features].reset_index(drop=True)\n",
    "val = val[['Gallstone Status'] + key_features].reset_index(drop=True)\n",
    "test = test[['Gallstone Status'] + key_features].reset_index(drop=True)\n",
    "display(train)\n",
    "display(val)\n",
    "display(test)"
   ]
  },
  {
   "cell_type": "markdown",
   "id": "9652cdb8-c83e-4ac1-aab8-d3373c354d20",
   "metadata": {
    "deletable": false,
    "editable": false,
    "slideshow": {
     "slide_type": "fragment"
    }
   },
   "source": [
    "<!-- END QUESTION -->\n",
    "\n",
    "---"
   ]
  },
  {
   "cell_type": "markdown",
   "id": "cec803bc-f580-4ca2-82c7-b6a71296d4cc",
   "metadata": {
    "tags": []
   },
   "source": [
    "### Task 12 📍🔎"
   ]
  },
  {
   "cell_type": "markdown",
   "id": "539100d1-cd83-4fec-a4c9-3abe85b8830c",
   "metadata": {
    "deletable": false,
    "editable": false
   },
   "source": [
    "<!-- BEGIN QUESTION -->\n",
    "\n",
    "Standardize the data in `train`, `val`, and `test` using the mean and standard deviation from `train`, so you don't perform any data leakage on the validation and test sets.\n",
    "\n",
    "**Notes**:\n",
    "- `sklearn` has a function `StandardScaler` which helps standardize data values.\n",
    "    - Use `from sklearn.preprocessing import StandardScaler` to access it.\n",
    "    - You `fit` the scaler to the data similarly to how you fit the regression models.\n",
    "- With the fit scaler to the training data, you can use the `transform` method to update the data in all 3 sets based on the statistics of the training data."
   ]
  },
  {
   "cell_type": "code",
   "execution_count": null,
   "id": "0084de86-4dd6-45c1-b999-aa06aa6a434f",
   "metadata": {
    "tags": []
   },
   "outputs": [],
   "source": [
    "...\n",
    "\n",
    "scaler = ...\n",
    "...\n",
    "\n",
    "train[key_features] = ...\n",
    "val[key_features] = ...\n",
    "test[key_features] = ...\n",
    "display(train)\n",
    "display(val)\n",
    "display(test)"
   ]
  },
  {
   "cell_type": "markdown",
   "id": "42320bb7-1c3a-44ae-9f5c-c58c0e6f4d83",
   "metadata": {
    "deletable": false,
    "editable": false,
    "slideshow": {
     "slide_type": "fragment"
    }
   },
   "source": [
    "<!-- END QUESTION -->\n",
    "\n",
    "---"
   ]
  },
  {
   "cell_type": "markdown",
   "id": "2a1bbdd1-7e44-428f-b379-1c4bcd64a877",
   "metadata": {
    "tags": []
   },
   "source": [
    "### Task 13 📍🔎"
   ]
  },
  {
   "cell_type": "markdown",
   "id": "15bd36b7-0271-4794-8182-afb71c6506c0",
   "metadata": {
    "deletable": false,
    "editable": false
   },
   "source": [
    "<!-- BEGIN QUESTION -->\n",
    "\n",
    "Fit a $k$NN classifier to the training data, check the accuracy for several values of $k$ based on the validation set, and visualize the trend of the accuracy values for various $k$ values to pick the optimal one.\n",
    "\n",
    "**Notes**:\n",
    "- `sklearn` has a kNN function called `KNeighborsClassifier`.\n",
    "    - Use `from sklearn.neighbors import KNeighborsClassifier` to access it.\n",
    "- `sklearn` also an accuracy function called `accuracy_score`.\n",
    "    - Use `from sklearn.metrics import accuracy_score` to access it.\n",
    "- To fit the model, make predictions, and access the accuracy, you'll need the $X$ and $y$ values in `Series` or array format."
   ]
  },
  {
   "cell_type": "code",
   "execution_count": null,
   "id": "61e1b8e6-7173-4a3f-a652-8db50f76714e",
   "metadata": {
    "tags": []
   },
   "outputs": [],
   "source": [
    "...\n",
    "...\n",
    "\n",
    "X_train = ...\n",
    "y_train = ...\n",
    "X_val = ...\n",
    "y_val = ...\n",
    "X_test = ...\n",
    "y_test = ...\n",
    "\n",
    "k_values = ...\n",
    "val_accuracies = ...\n",
    "\n",
    "for k in k_values:\n",
    "    knn = ...\n",
    "    ...\n",
    "    y_val_pred = ...\n",
    "    acc = ...\n",
    "    ...\n",
    "\n",
    "...\n",
    "plt.xlabel('k')\n",
    "plt.ylabel('Validation Accuracy')\n",
    "plt.title('Validation Accuracy vs. k')\n",
    "plt.show()"
   ]
  },
  {
   "cell_type": "markdown",
   "id": "c9900e24-71da-444c-b0de-6fdb404eec35",
   "metadata": {
    "deletable": false,
    "editable": false,
    "slideshow": {
     "slide_type": ""
    },
    "tags": []
   },
   "source": [
    "<!-- END QUESTION -->\n",
    "\n",
    "---"
   ]
  },
  {
   "cell_type": "markdown",
   "id": "6ea2253c-4ffa-445d-95a9-2d646adbd1ab",
   "metadata": {
    "tags": []
   },
   "source": [
    "### Task 14 📍🔎"
   ]
  },
  {
   "cell_type": "markdown",
   "id": "85ded0ab-82ff-4531-bfbb-1c808a260489",
   "metadata": {
    "deletable": false,
    "editable": false
   },
   "source": [
    "<!-- BEGIN QUESTION -->\n",
    "\n",
    "Using the optimal `k` value from the previous task, fit a kNN classifier to the training data, make predictions using the test set, and calculate the accuracy for the model based on the test set."
   ]
  },
  {
   "cell_type": "code",
   "execution_count": null,
   "id": "6978f34d-71f8-4b7f-b71f-17d1f4874c80",
   "metadata": {
    "tags": []
   },
   "outputs": [],
   "source": [
    "optimal_k = ...\n",
    "\n",
    "knn = ...\n",
    "...\n",
    "\n",
    "y_pred = ...\n",
    "\n",
    "print(\"Test Set Accuracy:\", ...)"
   ]
  },
  {
   "cell_type": "markdown",
   "id": "a96e7f8e-a6d3-406a-abf9-da0f893f913f",
   "metadata": {
    "deletable": false,
    "editable": false,
    "slideshow": {
     "slide_type": "fragment"
    }
   },
   "source": [
    "<!-- END QUESTION -->\n",
    "\n",
    "---"
   ]
  },
  {
   "cell_type": "markdown",
   "id": "c11c8fb1-554c-4ce0-b48b-78b84fe7404f",
   "metadata": {},
   "source": [
    "## Reflection"
   ]
  },
  {
   "cell_type": "markdown",
   "id": "8bb442e3-93ec-4e95-b913-ae40f3d100ff",
   "metadata": {},
   "source": [
    "In this activity, you reflected on the course design for MATH 108, learned about a few key Python libraries for data analysis and machine learning, and revisited two Guided Learning Activities by completing similar tasks without the `datascience` library used in MATH 108."
   ]
  },
  {
   "cell_type": "markdown",
   "id": "6f1a1575-d1cc-4e5b-9e36-6d2fce3c3b00",
   "metadata": {
    "editable": true,
    "slideshow": {
     "slide_type": ""
    },
    "tags": []
   },
   "source": [
    "---"
   ]
  },
  {
   "cell_type": "markdown",
   "id": "830cd3aa-7268-4b8d-9de1-b8291a77d457",
   "metadata": {
    "editable": true,
    "slideshow": {
     "slide_type": "notes"
    },
    "tags": []
   },
   "source": [
    "## License"
   ]
  },
  {
   "cell_type": "markdown",
   "id": "55e19cd7-8808-4101-a381-c0897b12ce07",
   "metadata": {
    "editable": true,
    "slideshow": {
     "slide_type": ""
    },
    "tags": []
   },
   "source": [
    "This content is licensed under the <a href=\"https://creativecommons.org/licenses/by-nc-sa/4.0/\">Creative Commons Attribution-NonCommercial-ShareAlike 4.0 International License (CC BY-NC-SA 4.0)</a>.\n",
    "\n",
    "<img src=\"./by-nc-sa.png\" width=100px>"
   ]
  }
 ],
 "metadata": {
  "kernelspec": {
   "display_name": "Python 3 (ipykernel)",
   "language": "python",
   "name": "python3"
  },
  "language_info": {
   "codemirror_mode": {
    "name": "ipython",
    "version": 3
   },
   "file_extension": ".py",
   "mimetype": "text/x-python",
   "name": "python",
   "nbconvert_exporter": "python",
   "pygments_lexer": "ipython3",
   "version": "3.11.9"
  },
  "otter": {
   "OK_FORMAT": true,
   "assignment_name": "gla15_sp25",
   "tests": {
    "task_01": {
     "name": "task_01",
     "points": null,
     "suites": [
      {
       "cases": [
        {
         "code": ">>> isinstance(puromycin, pd.DataFrame)\nTrue",
         "failure_message": "\"❌ puromycin is not a DataFrame\"",
         "hidden": false,
         "locked": false,
         "success_message": "\"✅ puromycin is a DataFrame\"\n"
        }
       ],
       "scored": true,
       "setup": "",
       "teardown": "",
       "type": "doctest"
      }
     ]
    },
    "task_10": {
     "name": "task_10",
     "points": null,
     "suites": [
      {
       "cases": [
        {
         "code": ">>> isinstance(gallstone, pd.DataFrame)\nTrue",
         "failure_message": "\"❌ gallstone is not a DataFrame\"",
         "hidden": false,
         "locked": false,
         "success_message": "\"✅ gallstone is a DataFrame\"\n"
        }
       ],
       "scored": true,
       "setup": "",
       "teardown": "",
       "type": "doctest"
      }
     ]
    }
   }
  }
 },
 "nbformat": 4,
 "nbformat_minor": 5
}
