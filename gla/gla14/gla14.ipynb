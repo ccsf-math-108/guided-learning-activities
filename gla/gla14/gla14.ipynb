{
 "cells": [
  {
   "cell_type": "code",
   "execution_count": null,
   "id": "26247834",
   "metadata": {
    "deletable": false,
    "editable": false
   },
   "outputs": [],
   "source": [
    "# Initialize Otter\n",
    "import otter\n",
    "grader = otter.Notebook(\"gla14.ipynb\")"
   ]
  },
  {
   "cell_type": "markdown",
   "id": "692fbc6d-0645-4e75-b205-29989ec616ab",
   "metadata": {},
   "source": [
    "<img src=\"./ccsf.png\" alt=\"CCSF Logo\" width=200px style=\"margin:0px -5px\">"
   ]
  },
  {
   "cell_type": "markdown",
   "id": "c83b268c-d46e-450b-b4af-a2390020878c",
   "metadata": {
    "tags": []
   },
   "source": [
    "# Guided Learning Activity 14: Bayes' Rule"
   ]
  },
  {
   "cell_type": "markdown",
   "id": "f5c0e5f0-1759-4129-8e2e-8301f1db6953",
   "metadata": {},
   "source": [
    "This Guided Learning Activity is designed for you to complete alongside a Data Ambassador from the course. You might find that it feels like a combination of the lectures and lab assignment. Whether you are participating live or watching the recording of the live meeting, let the Data Ambassador guide you through the following tasks. There will be moments for you to reflect and explore your own ideas as a way to solidify concepts and skills introduced by your instructor. Keep in mind that this is not a graded assignment for MATH 108 by default. If you have any concerns about participation, reach out to your instructor."
   ]
  },
  {
   "cell_type": "markdown",
   "id": "20d80b08-8562-4cc5-aa65-1e0c97ac6985",
   "metadata": {},
   "source": [
    "---"
   ]
  },
  {
   "cell_type": "markdown",
   "id": "eccd253c-ffd2-40f0-98ac-cc06cc8dec20",
   "metadata": {},
   "source": [
    "## Learning Objectives"
   ]
  },
  {
   "cell_type": "markdown",
   "id": "66e18ccd-f8f0-4f7c-a1f9-c872f5ca01af",
   "metadata": {},
   "source": [
    "1. Review Fundamentals of Probability Theory\n",
    "2. Outline Bayes' Rule.\n",
    "3. Calculate probability values using various probability rules (including Bayes' Rule).\n",
    "4. Connect probability theory with generative AI.\n",
    "5. Create a sentence generator using prior probabilities.\n",
    "6. Consider how to extend the generator by incorporating a sentence review."
   ]
  },
  {
   "cell_type": "markdown",
   "id": "9a45b759-69b8-4061-b2f8-06483c0e2e92",
   "metadata": {},
   "source": [
    "---"
   ]
  },
  {
   "cell_type": "markdown",
   "id": "0c2302a6-fda0-41de-a349-169954a09cf8",
   "metadata": {},
   "source": [
    "## Configure the Notebook"
   ]
  },
  {
   "cell_type": "markdown",
   "id": "06843add-4d19-4e8d-a8ca-a9bcbee58f31",
   "metadata": {},
   "source": [
    "Run the following code cell to set up the notebook."
   ]
  },
  {
   "cell_type": "code",
   "execution_count": null,
   "id": "253bae4d-e069-42ce-b797-c3cfe5a9fc12",
   "metadata": {},
   "outputs": [],
   "source": [
    "from datascience import *\n",
    "import numpy as np\n",
    "%matplotlib inline\n",
    "import matplotlib.pyplot as plt\n",
    "plt.style.use('fivethirtyeight')"
   ]
  },
  {
   "cell_type": "markdown",
   "id": "5e948050-3ccc-4b92-b3ac-a06885a72567",
   "metadata": {},
   "source": [
    "---"
   ]
  },
  {
   "cell_type": "markdown",
   "id": "9cc3473a-3145-4288-9441-7af599da47a9",
   "metadata": {},
   "source": [
    "## Fundamentals of Probability"
   ]
  },
  {
   "cell_type": "markdown",
   "id": "0768ab18-070d-487b-96eb-6578f455d5c2",
   "metadata": {},
   "source": [
    "---"
   ]
  },
  {
   "cell_type": "markdown",
   "id": "d37ba072-3b36-403a-937a-f40abc4c5026",
   "metadata": {},
   "source": [
    "### Probability"
   ]
  },
  {
   "cell_type": "markdown",
   "id": "09a031fd-8fd7-4734-8160-80f6d226de70",
   "metadata": {},
   "source": [
    "- **Definition**:  \n",
    "  A numerical measure of the chance that an event will occur.\n",
    "- **Event**:  \n",
    "  A collection of one or more possible outcomes.\n",
    "- **Probability Values**:  \n",
    "  Range from **0 (impossible)** to **1 (certain)**, or **0% to 100%**."
   ]
  },
  {
   "cell_type": "markdown",
   "id": "4d24ae40-31a5-4f81-b7f5-486c7321aaf0",
   "metadata": {},
   "source": [
    "---"
   ]
  },
  {
   "cell_type": "markdown",
   "id": "081c1501-b8c6-4ba8-812a-5c3441f2f3f5",
   "metadata": {},
   "source": [
    "### Interpretations of Probability"
   ]
  },
  {
   "cell_type": "markdown",
   "id": "45547ed7-f7f7-41d7-938f-359ff0edf8f1",
   "metadata": {},
   "source": [
    "#### Theoretical Probability"
   ]
  },
  {
   "cell_type": "markdown",
   "id": "2a56604c-3b04-4c10-a24b-ba148f5cca3e",
   "metadata": {},
   "source": [
    "- Based on logical analysis of all possible outcomes.\n",
    "- **Formula**:  \n",
    "  $$\n",
    "  P(\\text{event}) = \\frac{\\text{Number of favorable outcomes}}{\\text{Total number of possible outcomes}}\n",
    "  $$"
   ]
  },
  {
   "cell_type": "markdown",
   "id": "a94e9cfe-60a1-4a26-a7fa-e22db4f01efa",
   "metadata": {},
   "source": [
    "---"
   ]
  },
  {
   "cell_type": "markdown",
   "id": "4192fc59-2604-4043-b287-82325d0e322e",
   "metadata": {},
   "source": [
    "#### Empirical (Objective): Frequentist Probability"
   ]
  },
  {
   "cell_type": "markdown",
   "id": "4ffd8aa0-e3a0-41d7-bf01-dcf8ed82e4f8",
   "metadata": {},
   "source": [
    "- Based on observed **relative frequencies**.\n",
    "- **Formula**:  \n",
    "  $$\n",
    "  P(\\text{event}) = \\frac{\\text{Number of times event occurred}}{\\text{Total number of trials}}\n",
    "  $$"
   ]
  },
  {
   "cell_type": "markdown",
   "id": "a6536abe-6a9b-4e6f-9500-79a0bd9536a7",
   "metadata": {},
   "source": [
    "---"
   ]
  },
  {
   "cell_type": "markdown",
   "id": "259e5742-3b0d-4ef4-a377-29c48ad6648e",
   "metadata": {},
   "source": [
    "#### Empirical (Subjective): Bayesian Probability"
   ]
  },
  {
   "cell_type": "markdown",
   "id": "6a3e7e2f-ac8f-4742-ace5-b8fd09918f23",
   "metadata": {},
   "source": [
    "- Represents a **degree of belief**, updated with new evidence.\n",
    "- Combines **prior knowledge, experience, and data**.\n",
    "- Bayes' Rule is a way to **update probabilities when new information (evidence) is observed**.\n",
    "$$\n",
    "P(\\text{event}\\mid\\text{evidence}) = \\frac{P(\\text{evidence}\\mid \\text{event}) \\cdot P(\\text{event})}{P(\\text{evidence})}\n",
    "$$"
   ]
  },
  {
   "cell_type": "markdown",
   "id": "00d14c78-ed8d-41ca-96d3-7a5610f7fa6d",
   "metadata": {},
   "source": [
    "---"
   ]
  },
  {
   "cell_type": "markdown",
   "id": "82dbe4b4-19c3-4c62-a2cb-4c090651c743",
   "metadata": {},
   "source": [
    "#### Components of Bayes' Rule"
   ]
  },
  {
   "cell_type": "markdown",
   "id": "8e18487f-1b6f-4a20-938f-1b02f7cbe766",
   "metadata": {},
   "source": [
    "- $P(\\text{event} \\mid \\text{evidence})$: **Posterior** (updated belief after seeing evidence)\n",
    "- $P(\\text{evidence} \\mid \\text{event})$: **Likelihood** (how likely is the evidence if the event is true?)\n",
    "- $P(\\text{event})$: **Prior** (initial belief before seeing the evidence)\n",
    "- $P(\\text{evidence})$: Evidence probability (overall chance of seeing the evidence)"
   ]
  },
  {
   "cell_type": "markdown",
   "id": "e4689fcf-1019-45ce-9992-4e12830e0218",
   "metadata": {},
   "source": [
    "---"
   ]
  },
  {
   "cell_type": "markdown",
   "id": "c229d115-1a43-4da8-a7df-61cf48647aa7",
   "metadata": {},
   "source": [
    "#### Key Idea of Bayes' Rule"
   ]
  },
  {
   "cell_type": "markdown",
   "id": "0f07433e-2c6a-451b-8f7a-4ab67180f590",
   "metadata": {},
   "source": [
    "- **Posterior $\\propto$ Likelihood $\\times$ Prior**\n",
    "    - Start with a **prior belief**.\n",
    "    - Gather **new evidence (likelihood)**.\n",
    "    - Update your belief to get the **posterior**.\n",
    "- This is how Bayesian probability allows us to **combine experience, prior knowledge, and data to make informed decisions.**\n"
   ]
  },
  {
   "cell_type": "markdown",
   "id": "c292dab5-4bbe-49da-a83c-135a0e32829d",
   "metadata": {},
   "source": [
    "---"
   ]
  },
  {
   "cell_type": "markdown",
   "id": "4261e5aa-558a-4d23-a86f-29dbeb48f33a",
   "metadata": {
    "tags": []
   },
   "source": [
    "### Task 01 📍🔎"
   ]
  },
  {
   "attachments": {},
   "cell_type": "markdown",
   "id": "6383e2f0-b3cd-4985-948f-477207395e47",
   "metadata": {
    "deletable": false,
    "editable": false
   },
   "source": [
    "<!-- BEGIN QUESTION -->\n",
    "\n",
    "Suppose that we've observed a cat and collected the following data on their behavior over several day:"
   ]
  },
  {
   "cell_type": "code",
   "execution_count": null,
   "id": "47f51fe9-43c9-4172-982f-758650a851fe",
   "metadata": {
    "deletable": false,
    "editable": false
   },
   "outputs": [],
   "source": [
    "observations = Table.read_table('cat_behavior.csv')\n",
    "observations"
   ]
  },
  {
   "cell_type": "markdown",
   "id": "cc7226d0-2572-4ea0-ae02-803ccbbc5826",
   "metadata": {
    "deletable": false,
    "editable": false
   },
   "source": [
    "What is the probability that the cat's next behavior is `\"slept on bed\"`?"
   ]
  },
  {
   "cell_type": "markdown",
   "id": "ecd11756",
   "metadata": {},
   "source": [
    "_Type your answer here, replacing this text._"
   ]
  },
  {
   "cell_type": "code",
   "execution_count": null,
   "id": "32c43d76-eb82-4b71-a5ff-0c1225e272ee",
   "metadata": {
    "tags": []
   },
   "outputs": [],
   "source": []
  },
  {
   "cell_type": "markdown",
   "id": "5c975498-3247-445a-bb89-4bc163677089",
   "metadata": {
    "deletable": false,
    "editable": false,
    "slideshow": {
     "slide_type": "fragment"
    }
   },
   "source": [
    "<!-- END QUESTION -->\n",
    "\n",
    "---"
   ]
  },
  {
   "cell_type": "markdown",
   "id": "c643ebfb-f99d-49b1-8e40-39faaf6922e0",
   "metadata": {
    "tags": []
   },
   "source": [
    "### Task 02 📍🔎"
   ]
  },
  {
   "cell_type": "markdown",
   "id": "07fb5345-ac52-41de-8e4b-549e59a4293f",
   "metadata": {
    "deletable": false,
    "editable": false
   },
   "source": [
    "<!-- BEGIN QUESTION -->\n",
    "\n",
    "Given it's the **afternoon**, what is the probability that the cat will `\"slept on bed\"`?\n"
   ]
  },
  {
   "cell_type": "markdown",
   "id": "2a37bacb",
   "metadata": {},
   "source": [
    "_Type your answer here, replacing this text._"
   ]
  },
  {
   "cell_type": "code",
   "execution_count": null,
   "id": "937c3b4b-8b63-43e5-a012-596a53539eb7",
   "metadata": {
    "tags": []
   },
   "outputs": [],
   "source": []
  },
  {
   "cell_type": "markdown",
   "id": "90f8dc0c-0290-4e1d-a3bd-bbd987939025",
   "metadata": {
    "deletable": false,
    "editable": false,
    "slideshow": {
     "slide_type": "fragment"
    }
   },
   "source": [
    "<!-- END QUESTION -->\n",
    "\n",
    "---"
   ]
  },
  {
   "cell_type": "markdown",
   "id": "7a23c349-60a9-4add-869c-65942f2e9c10",
   "metadata": {
    "tags": []
   },
   "source": [
    "### Task 03 📍🔎"
   ]
  },
  {
   "cell_type": "markdown",
   "id": "f9e59961-c311-4d6a-beba-7379ce7e0776",
   "metadata": {
    "deletable": false,
    "editable": false
   },
   "source": [
    "<!-- BEGIN QUESTION -->\n",
    "\n",
    "Now, if you are told that **the cat is sleeping**, what is the chance that it is the afternoon?"
   ]
  },
  {
   "cell_type": "markdown",
   "id": "a41675bd",
   "metadata": {},
   "source": [
    "_Type your answer here, replacing this text._"
   ]
  },
  {
   "cell_type": "code",
   "execution_count": null,
   "id": "4f9c4014-3acd-4086-85e7-61b75cd66696",
   "metadata": {
    "tags": []
   },
   "outputs": [],
   "source": []
  },
  {
   "cell_type": "markdown",
   "id": "89a064e8-1383-418c-a00f-7bdb774ca01e",
   "metadata": {
    "deletable": false,
    "editable": false,
    "slideshow": {
     "slide_type": "fragment"
    }
   },
   "source": [
    "<!-- END QUESTION -->\n",
    "\n",
    "---"
   ]
  },
  {
   "cell_type": "markdown",
   "id": "d07deefc-6550-4a5b-b73e-ff53c82dac44",
   "metadata": {
    "tags": []
   },
   "source": [
    "### Task 04 📍🔎"
   ]
  },
  {
   "cell_type": "markdown",
   "id": "5eb47954-fc94-4af4-acec-3665519a6a82",
   "metadata": {
    "deletable": false,
    "editable": false
   },
   "source": [
    "<!-- BEGIN QUESTION -->\n",
    "\n",
    "Recalculate that same probability using Bayes' Rule. Since you have no concept of the time of day, assume that there is a 50/50 chance of it being the afternoon."
   ]
  },
  {
   "cell_type": "markdown",
   "id": "957608b4",
   "metadata": {},
   "source": [
    "_Type your answer here, replacing this text._"
   ]
  },
  {
   "cell_type": "code",
   "execution_count": null,
   "id": "a597dc72-522d-4dc4-bfe3-b53569950253",
   "metadata": {
    "tags": []
   },
   "outputs": [],
   "source": []
  },
  {
   "cell_type": "markdown",
   "id": "0b02d62b-b284-4e26-91c3-de27bd1296a9",
   "metadata": {
    "deletable": false,
    "editable": false,
    "slideshow": {
     "slide_type": "fragment"
    }
   },
   "source": [
    "<!-- END QUESTION -->\n",
    "\n",
    "---"
   ]
  },
  {
   "cell_type": "markdown",
   "id": "341283b9-31f7-42c3-b246-017b39694017",
   "metadata": {
    "tags": []
   },
   "source": [
    "### Task 05 📍🔎"
   ]
  },
  {
   "cell_type": "markdown",
   "id": "552a8c6c-9eea-4bb8-95c0-184fb5a68597",
   "metadata": {
    "deletable": false,
    "editable": false
   },
   "source": [
    "<!-- BEGIN QUESTION -->\n",
    "\n",
    "If you were told the cat was sleeping by having a picture shown to you and you noticed some fairly bright daylight in the photo, then your instinct should tell you that it is not just a 50/50 chance that it is the afternoon. Update the probability that it is the afternoon given that the cat is sleeping on the bed utilizing this new information."
   ]
  },
  {
   "cell_type": "markdown",
   "id": "a4e3a588",
   "metadata": {},
   "source": [
    "_Type your answer here, replacing this text._"
   ]
  },
  {
   "cell_type": "code",
   "execution_count": null,
   "id": "2acf3343-8a1c-4f16-a281-b8bb25431119",
   "metadata": {
    "tags": []
   },
   "outputs": [],
   "source": []
  },
  {
   "cell_type": "code",
   "execution_count": null,
   "id": "9641aa4b-29b9-423a-b18e-d1d86a5a1907",
   "metadata": {
    "tags": []
   },
   "outputs": [],
   "source": []
  },
  {
   "cell_type": "code",
   "execution_count": null,
   "id": "d711a28a-6f97-44cf-9ca6-7b41e8f01d99",
   "metadata": {
    "tags": []
   },
   "outputs": [],
   "source": []
  },
  {
   "cell_type": "code",
   "execution_count": null,
   "id": "3acc0224-a01e-4d2b-89ca-1f914e1544b6",
   "metadata": {
    "tags": []
   },
   "outputs": [],
   "source": []
  },
  {
   "cell_type": "markdown",
   "id": "01c31005-3a9c-4b66-b0d5-1b4451573f65",
   "metadata": {
    "deletable": false,
    "editable": false,
    "slideshow": {
     "slide_type": "fragment"
    }
   },
   "source": [
    "<!-- END QUESTION -->\n",
    "\n",
    "---"
   ]
  },
  {
   "cell_type": "markdown",
   "id": "6b2472ac-7c84-42e0-88d7-3738da8a2b27",
   "metadata": {},
   "source": [
    "## Sentence Generation"
   ]
  },
  {
   "cell_type": "markdown",
   "id": "119ec422-3533-4cad-b027-f55bdde2af6f",
   "metadata": {},
   "source": [
    "Once we understand Bayes' Rule, we can see how probabilistic thinking applies to tasks like generating sentences with AI models."
   ]
  },
  {
   "cell_type": "markdown",
   "id": "a505359b-d53c-441f-a775-a7cef16fa20b",
   "metadata": {},
   "source": [
    "---"
   ]
  },
  {
   "cell_type": "markdown",
   "id": "a0466d2a-9816-419a-8490-4a7db667e977",
   "metadata": {},
   "source": [
    "### Generative AI"
   ]
  },
  {
   "cell_type": "markdown",
   "id": "d0b1c03f-71f7-4d74-8852-9d721e325b7c",
   "metadata": {},
   "source": [
    "- At a high level, when an AI model like ChatGPT, Claude, etc. generates a sentence, image, or other output, it's **predicting what is most likely to come next based on patterns it has seen before**.\n",
    "- For generating the next word in a sentence, the model is essentially calculating:\n",
    "\n",
    "$$\n",
    "P(\\text{next word} \\mid \\text{previous words}) = \\frac{P(\\text{previous words} \\mid \\text{next word}) \\times P(\\text{next word})}{P(\\text{previous words})}\n",
    "$$\n",
    "\n",
    "- This is **Bayes' Rule**, applied to language:\n",
    "    - The model updates its belief about the next word using both:\n",
    "        - **Prior**: How often that word appears overall.\n",
    "        - **Likelihood**: How well that word would explain the previous words.\n"
   ]
  },
  {
   "cell_type": "markdown",
   "id": "f7c29eb3-e95c-40ac-8b95-25e0ee5db0dc",
   "metadata": {},
   "source": [
    "---"
   ]
  },
  {
   "cell_type": "markdown",
   "id": "7f49bacd-25d0-498b-a8fc-0e9a8592a452",
   "metadata": {
    "tags": []
   },
   "source": [
    "### Task 06 📍"
   ]
  },
  {
   "cell_type": "markdown",
   "id": "02db190e-a711-46ab-8a47-8e4491defa9e",
   "metadata": {
    "deletable": false,
    "editable": false
   },
   "source": [
    "Data in the form of examples is at the heart of generative AI. For the rest of this activity, suppose that you only have access to the following sentences that are written in the form \"The \\[noun\\] \\[verb\\] \\[prepositional phrase\\].\""
   ]
  },
  {
   "cell_type": "code",
   "execution_count": null,
   "id": "bbbfe189-082b-4ca9-b2e1-17391a723d53",
   "metadata": {
    "deletable": false,
    "editable": false
   },
   "outputs": [],
   "source": [
    "sentences = Table.read_table('sentences.csv')\n",
    "sentences"
   ]
  },
  {
   "cell_type": "markdown",
   "id": "8c26921e-388b-4150-b5eb-f8be5e989e61",
   "metadata": {
    "deletable": false,
    "editable": false
   },
   "source": [
    "Complete the following function that extracts the noun, verb, and prepositional phrase from those simple sentences.\n",
    "\n",
    "**Hint**: The `split` and `join` string methods were used early on in MATH 108."
   ]
  },
  {
   "cell_type": "code",
   "execution_count": null,
   "id": "e0f22185-a33a-4def-ad4d-98bc48e7db71",
   "metadata": {
    "tags": []
   },
   "outputs": [],
   "source": [
    "def noun_verb_prep(sentence):\n",
    "    '''\n",
    "    Extracts the noun, verb, and prepositional phrase from a simple sentence.\n",
    "\n",
    "    Assumes the sentence has the format: 'The [noun] [verb] [prepositional phrase].'\n",
    "    Returns a tuple: (noun, verb, prepositional phrase as a string).\n",
    "    '''\n",
    "    sentence_no_punc = sentence[:-1] # Removes the ending punctuation\n",
    "    split_sentence = ...\n",
    "    noun = ...\n",
    "    verb = ...\n",
    "    prep = ...\n",
    "    return noun, verb, prep\n",
    "\n",
    "# Test the function: It should return 'cat', 'jumped', 'onto the table'\n",
    "noun_verb_prep('The cat jumped onto the table.')"
   ]
  },
  {
   "cell_type": "code",
   "execution_count": null,
   "id": "fb6df677",
   "metadata": {
    "deletable": false,
    "editable": false
   },
   "outputs": [],
   "source": [
    "grader.check(\"task_06\")"
   ]
  },
  {
   "cell_type": "markdown",
   "id": "7413595b-e18a-456e-a867-061bbd8c171b",
   "metadata": {
    "slideshow": {
     "slide_type": "fragment"
    }
   },
   "source": [
    "---"
   ]
  },
  {
   "cell_type": "markdown",
   "id": "f15f9eda-8cb2-4071-a4c9-6f7e58248fd1",
   "metadata": {
    "tags": []
   },
   "source": [
    "### Task 07 📍"
   ]
  },
  {
   "cell_type": "markdown",
   "id": "a744f089-1626-43da-a57e-313eb0928825",
   "metadata": {
    "deletable": false,
    "editable": false
   },
   "source": [
    "Create a table called `deconstructed` that is based on the `sentences` table and has the following 3 columns:\n",
    "- `'noun'`: The noun from the relevant sentence in the `sentences` table\n",
    "- `'verb'`: The verb from the relevant sentence in the `sentences` table\n",
    "- `'prep_phrase'`: The prepositional phrase from the relevant sentence in the `sentences` table\n",
    "\n",
    "**Hint**: Use `noun_verb_prep` and build up the requested table from a row perspective."
   ]
  },
  {
   "cell_type": "code",
   "execution_count": null,
   "id": "d94f9337-b698-415d-9d01-4d7257ea7222",
   "metadata": {
    "tags": []
   },
   "outputs": [],
   "source": [
    "rows = ...\n",
    "deconstructed = Table(['noun', 'verb', 'prep_phrase']).with_rows(...)\n",
    "deconstructed"
   ]
  },
  {
   "cell_type": "code",
   "execution_count": null,
   "id": "f795f877",
   "metadata": {
    "deletable": false,
    "editable": false
   },
   "outputs": [],
   "source": [
    "grader.check(\"task_07\")"
   ]
  },
  {
   "cell_type": "markdown",
   "id": "6707ba57-82c6-49e2-9c18-61dbb4d4ac64",
   "metadata": {},
   "source": [
    "---"
   ]
  },
  {
   "cell_type": "markdown",
   "id": "de28f25c-ce91-45f1-b193-2ec64efc8086",
   "metadata": {
    "tags": []
   },
   "source": [
    "### Task 08 📍"
   ]
  },
  {
   "cell_type": "markdown",
   "id": "1e304735-a23d-4146-b514-3450ed8ac966",
   "metadata": {
    "deletable": false,
    "editable": false
   },
   "source": [
    "Write a function `generate_verb` that generates the next verb in a sentence given a noun, using the observed data (a table like `deconstructed`) to calculate the likelihood (conditional probability) of the verb given the noun.\n",
    "\n",
    "- Filter the table for the given noun.\n",
    "- Calculate the probability of each verb appearing with that noun.\n",
    "- Randomly choose a verb using the calculated probabilities.\n",
    "- If the noun combination is not in the table, just pick a random verb from the table.\n",
    "\n",
    "\n",
    "**Hint**: You can use `.group()` and add a probability column by dividing the counts by the total.\n",
    "\n",
    "**Note**: The function `np.random.choice` has an optional parameter `p`, which is an array of probabilities. It lets the function randomly select an item from the list with weighted likelihoods, meaning items with higher probabilities are more likely to be chosen."
   ]
  },
  {
   "cell_type": "code",
   "execution_count": null,
   "id": "f99b0051-a132-4f62-8c79-9d77302288f9",
   "metadata": {
    "tags": []
   },
   "outputs": [],
   "source": [
    "def generate_verb(noun, deconstructed):\n",
    "    '''\n",
    "    Generate a verb for the given noun using the conditional probability\n",
    "    P(verb | noun) based on the deconstructed table.\n",
    "    If the noun is not found, returns a random verb from the table.\n",
    "    '''\n",
    "    filtered = ...\n",
    "    \n",
    "    if filtered.num_rows == 0:\n",
    "        return ...\n",
    "    else:\n",
    "        verb_counts = ...\n",
    "        verb_counts = ...\n",
    "        return ...\n",
    "\n",
    "# Test the function. \n",
    "generate_verb('cat', deconstructed)"
   ]
  },
  {
   "cell_type": "code",
   "execution_count": null,
   "id": "91349835",
   "metadata": {
    "deletable": false,
    "editable": false
   },
   "outputs": [],
   "source": [
    "grader.check(\"task_08\")"
   ]
  },
  {
   "cell_type": "markdown",
   "id": "6baef0ea-41d2-4e44-8302-282a9435d05b",
   "metadata": {},
   "source": [
    "---"
   ]
  },
  {
   "cell_type": "markdown",
   "id": "516b2709-0daf-4e4e-a60f-46a3b857c99a",
   "metadata": {
    "tags": []
   },
   "source": [
    "### Task 09 📍"
   ]
  },
  {
   "cell_type": "markdown",
   "id": "68700b6a-962e-46db-b553-08847af0d84c",
   "metadata": {
    "deletable": false,
    "editable": false
   },
   "source": [
    "Write a function `generate_prep_phrase` that predicts the prepositional phrase given the noun and the predicted verb.\n",
    "\n",
    "- Filter the table for the given noun and verb.\n",
    "- Calculate the probability of each prepositional phrase appearing with that noun and verb.\n",
    "- Randomly choose a prepositional phrase using the calculated probabilities.\n",
    "- If the noun and verb combination is not in the table, just pick a random prepositional phrase.\n",
    "\n",
    "**Hint**: This is similar to the previous function."
   ]
  },
  {
   "cell_type": "code",
   "execution_count": null,
   "id": "ad55a377-cdcb-4e28-8f4b-a5d759188612",
   "metadata": {
    "tags": []
   },
   "outputs": [],
   "source": [
    "def generate_prep_phrase(noun, verb, deconstructed):\n",
    "    '''\n",
    "    Predicts a prepositional phrase for the given noun and verb using\n",
    "    P(prep_phrase | noun, verb). If not found, returns a random prep phrase.\n",
    "    '''\n",
    "    filtered = ...\n",
    "    \n",
    "    if filtered.num_rows == 0:\n",
    "        return ...\n",
    "    else:\n",
    "        prep_counts = ...\n",
    "        prep_counts = ...\n",
    "        return ...\n",
    "\n",
    "# Test the function. It should return 'The cat slept for the afternoon.'\n",
    "generate_prep_phrase('cat', 'slept', deconstructed)"
   ]
  },
  {
   "cell_type": "code",
   "execution_count": null,
   "id": "9e7d67cd",
   "metadata": {
    "deletable": false,
    "editable": false
   },
   "outputs": [],
   "source": [
    "grader.check(\"task_09\")"
   ]
  },
  {
   "cell_type": "markdown",
   "id": "043e8c15-86c5-44ff-8ebd-0a56717c01ff",
   "metadata": {},
   "source": [
    "---"
   ]
  },
  {
   "cell_type": "markdown",
   "id": "37509246-68a0-423b-bc35-911b1c375188",
   "metadata": {
    "tags": []
   },
   "source": [
    "### Task 10 📍"
   ]
  },
  {
   "cell_type": "markdown",
   "id": "aa899c98-89ca-4062-902b-5dd9592328cd",
   "metadata": {
    "deletable": false,
    "editable": false
   },
   "source": [
    "Write a function `generate_sentence` that takes a noun and uses your two functions to generate a sentence in the format: \"The \\[noun\\] \\[verb\\] \\[prepositional phrase\\].\"\n",
    "\n",
    "- First, use your `generate_verb` function to predict the verb based on the noun.\n",
    "- Next, use your `generate_prep_phrase` function to predict the prepositional phrase based on the noun and verb.\n",
    "- Return the full sentence."
   ]
  },
  {
   "cell_type": "code",
   "execution_count": null,
   "id": "c34369e8-9be6-48a5-9352-58733f82c99c",
   "metadata": {
    "tags": []
   },
   "outputs": [],
   "source": [
    "def generate_sentence_prob(noun, deconstructed):\n",
    "    '''\n",
    "    Generates a full sentence:\n",
    "    'The [noun] [verb] [prep_phrase].'\n",
    "    by using generate_verb and generate_prep_phrase.\n",
    "    '''\n",
    "    verb = ...\n",
    "    prep_phrase = ...\n",
    "    return f\"The {noun} {verb} {prep_phrase}.\"\n",
    "\n",
    "# Test the function.\n",
    "generate_sentence_prob('teacher', deconstructed)"
   ]
  },
  {
   "cell_type": "code",
   "execution_count": null,
   "id": "6ad518fa",
   "metadata": {
    "deletable": false,
    "editable": false
   },
   "outputs": [],
   "source": [
    "grader.check(\"task_10\")"
   ]
  },
  {
   "cell_type": "markdown",
   "id": "80495d50-37f5-462a-8232-ab9126f0fd84",
   "metadata": {},
   "source": [
    "---"
   ]
  },
  {
   "cell_type": "markdown",
   "id": "b8e801c3-44df-44c9-8747-42ae5de69755",
   "metadata": {
    "tags": []
   },
   "source": [
    "### Task 11 📍🔎"
   ]
  },
  {
   "cell_type": "markdown",
   "id": "94b7ece3-1c08-4496-8208-68eddb0e953e",
   "metadata": {
    "deletable": false,
    "editable": false
   },
   "source": [
    "<!-- BEGIN QUESTION -->\n",
    "\n",
    "Since `'teacher'` is in the provided data table, this function is not generating a sentence without any context. It is using the established patterns and making a guess of what a likely sentence will be based on the sentences it has seen so far. Call the function a few times, you should see some sentences that don't make sense."
   ]
  },
  {
   "cell_type": "code",
   "execution_count": null,
   "id": "a8bf6649-fc4a-4f37-92f9-ea2995ac7e9c",
   "metadata": {
    "deletable": false,
    "editable": false
   },
   "outputs": [],
   "source": [
    "generate_sentence_prob('teacher', deconstructed)"
   ]
  },
  {
   "cell_type": "markdown",
   "id": "ad60d979-38df-4744-b815-bba7f04f5b4e",
   "metadata": {
    "deletable": false,
    "editable": false
   },
   "source": [
    "Why do you think that happens? How might this connect to what large language models like ChatGPT, Claude, etc. do when they \"hallucinate\"?"
   ]
  },
  {
   "cell_type": "markdown",
   "id": "67e3d419",
   "metadata": {},
   "source": [
    "_Type your answer here, replacing this text._"
   ]
  },
  {
   "cell_type": "markdown",
   "id": "e489b6a0-cd3a-4ee5-9a27-d499d256eb1f",
   "metadata": {
    "deletable": false,
    "editable": false,
    "slideshow": {
     "slide_type": "fragment"
    }
   },
   "source": [
    "<!-- END QUESTION -->\n",
    "\n",
    "---"
   ]
  },
  {
   "cell_type": "markdown",
   "id": "e9a80ef6-c032-48b0-bf85-9ae65f3f0f3e",
   "metadata": {
    "tags": []
   },
   "source": [
    "### Task 12 📍🔎"
   ]
  },
  {
   "cell_type": "markdown",
   "id": "f4549df0-15e9-428c-8816-80d1aa4d58fa",
   "metadata": {
    "deletable": false,
    "editable": false
   },
   "source": [
    "<!-- BEGIN QUESTION -->\n",
    "\n",
    "How might human feedback (like corrections or ratings) be used to adjust the likelihoods in models like this one and improve the accuracy of future predictions? In other words, how can feedback help update the probabilities the model uses to generate better sentences?"
   ]
  },
  {
   "cell_type": "markdown",
   "id": "6b9180f7",
   "metadata": {},
   "source": [
    "_Type your answer here, replacing this text._"
   ]
  },
  {
   "cell_type": "markdown",
   "id": "b3313d09-c098-48cc-a4e1-7bf6825378eb",
   "metadata": {
    "deletable": false,
    "editable": false,
    "slideshow": {
     "slide_type": "fragment"
    }
   },
   "source": [
    "<!-- END QUESTION -->\n",
    "\n",
    "---"
   ]
  },
  {
   "cell_type": "markdown",
   "id": "c11c8fb1-554c-4ce0-b48b-78b84fe7404f",
   "metadata": {},
   "source": [
    "## Reflection"
   ]
  },
  {
   "cell_type": "markdown",
   "id": "8bb442e3-93ec-4e95-b913-ae40f3d100ff",
   "metadata": {},
   "source": [
    "In this activity, you reviewed some of the basic ideas behind probability and focused on conditional probability and Bayes' Rule. You saw how probability theory is a core component to generative AI, and you built a sentence generator that uses example sentences and probability theory. Lastly, you reflected on how to incorporate likelihoods through a generated sentence review process to update your functions sentences."
   ]
  },
  {
   "cell_type": "markdown",
   "id": "6f1a1575-d1cc-4e5b-9e36-6d2fce3c3b00",
   "metadata": {
    "editable": true,
    "slideshow": {
     "slide_type": ""
    },
    "tags": []
   },
   "source": [
    "---"
   ]
  },
  {
   "cell_type": "markdown",
   "id": "830cd3aa-7268-4b8d-9de1-b8291a77d457",
   "metadata": {
    "editable": true,
    "slideshow": {
     "slide_type": "notes"
    },
    "tags": []
   },
   "source": [
    "## License"
   ]
  },
  {
   "cell_type": "markdown",
   "id": "55e19cd7-8808-4101-a381-c0897b12ce07",
   "metadata": {
    "editable": true,
    "slideshow": {
     "slide_type": ""
    },
    "tags": []
   },
   "source": [
    "This content is licensed under the <a href=\"https://creativecommons.org/licenses/by-nc-sa/4.0/\">Creative Commons Attribution-NonCommercial-ShareAlike 4.0 International License (CC BY-NC-SA 4.0)</a>.\n",
    "\n",
    "<img src=\"./by-nc-sa.png\" width=100px>"
   ]
  }
 ],
 "metadata": {
  "kernelspec": {
   "display_name": "Python 3 (ipykernel)",
   "language": "python",
   "name": "python3"
  },
  "language_info": {
   "codemirror_mode": {
    "name": "ipython",
    "version": 3
   },
   "file_extension": ".py",
   "mimetype": "text/x-python",
   "name": "python",
   "nbconvert_exporter": "python",
   "pygments_lexer": "ipython3",
   "version": "3.11.9"
  },
  "otter": {
   "OK_FORMAT": true,
   "assignment_name": "gla14_sp25",
   "tests": {
    "task_06": {
     "name": "task_06",
     "points": null,
     "suites": [
      {
       "cases": [
        {
         "code": ">>> callable(noun_verb_prep)\nTrue",
         "failure_message": "\"❌ noun_verb_prep is not callable \"",
         "hidden": false,
         "locked": false,
         "success_message": "\"✅ noun_verb_prep is callable.\"\n"
        },
        {
         "code": ">>> noun_verb_prep('The cat jumped onto the table.')\n('cat', 'jumped', 'onto the table')",
         "failure_message": "\"❌ noun_verb_prep doesn't work as expected with the given sentence.\"",
         "hidden": false,
         "locked": false,
         "success_message": "\"✅ noun_verb_prep works as expected with the given sentence.\"\n"
        },
        {
         "code": ">>> noun_verb_prep('The bird flew over the tree.')\n('bird', 'flew', 'over the tree')",
         "failure_message": "\"❌ noun_verb_prep doesn't work as expected with the new sentence.\"",
         "hidden": false,
         "locked": false,
         "success_message": "\"✅ noun_verb_prep works as expected with the new sentence.\"\n"
        }
       ],
       "scored": true,
       "setup": "",
       "teardown": "",
       "type": "doctest"
      }
     ]
    },
    "task_07": {
     "name": "task_07",
     "points": null,
     "suites": [
      {
       "cases": [
        {
         "code": ">>> isinstance(deconstructed, Table)\nTrue",
         "failure_message": "❌ deconstructed is not assigned to a Table.",
         "hidden": false,
         "locked": false,
         "success_message": "✅ deconstructed is assigned to a Table."
        },
        {
         "code": ">>> deconstructed.labels\n('noun', 'verb', 'prep_phrase')",
         "failure_message": "❌ deconstructed doesn't have the correct labels.",
         "hidden": false,
         "locked": false,
         "success_message": "✅ deconstructed has the correct labels."
        },
        {
         "code": ">>> deconstructed.num_rows\n200",
         "failure_message": "❌ deconstructed doesn't have the correct number of rows.",
         "hidden": false,
         "locked": false,
         "success_message": "✅ deconstructed has the correct number of rows."
        },
        {
         "code": ">>> deconstructed\nnoun    | verb    | prep_phrase\ncat     | jumped  | onto the table\ndog     | barked  | at the mailman\nstudent | read    | in the library\nteacher | spoke   | in front of the class\ncat     | slept   | on the windowsill\ndog     | ran     | around the yard\nstudent | studied | for the exam\nteacher | walked  | in front of the class\ncat     | jumped  | onto the chair\ndog     | slept   | under the bed\n... (190 rows omitted)",
         "failure_message": "❌ deconstructed does not seem to be correct.",
         "hidden": false,
         "locked": false,
         "success_message": "✅ deconstructed seems to be correct."
        }
       ],
       "scored": true,
       "setup": "",
       "teardown": "",
       "type": "doctest"
      }
     ]
    },
    "task_08": {
     "name": "task_08",
     "points": null,
     "suites": [
      {
       "cases": [
        {
         "code": ">>> callable(generate_verb)\nTrue",
         "failure_message": "❌ generate_verb is not callable.",
         "hidden": false,
         "locked": false,
         "success_message": "✅ generate_verb is callable."
        },
        {
         "code": ">>> generate_verb('cat', deconstructed).split()[-1] in set(deconstructed.column('verb'))\nTrue",
         "failure_message": "❌ generate_verb did not return a possible verb.",
         "hidden": false,
         "locked": false,
         "success_message": "✅ generate_verb returned a possible verb"
        },
        {
         "code": ">>> generate_verb('mouse', deconstructed).split()[-1] in set(deconstructed.column('verb'))\nTrue",
         "failure_message": "❌ generate_verb did not return a possible verb.",
         "hidden": false,
         "locked": false,
         "success_message": "✅ generate_verb returned a possible verb"
        }
       ],
       "scored": true,
       "setup": "",
       "teardown": "",
       "type": "doctest"
      }
     ]
    },
    "task_09": {
     "name": "task_09",
     "points": null,
     "suites": [
      {
       "cases": [
        {
         "code": ">>> callable(generate_prep_phrase)\nTrue",
         "failure_message": "❌ generate_prep_phrase is not callable.",
         "hidden": false,
         "locked": false,
         "success_message": "✅ generate_prep_phrase is callable."
        },
        {
         "code": ">>> ' '.join(generate_prep_phrase('cat', 'slept', deconstructed).split()) in set(deconstructed.column('prep_phrase'))\nTrue",
         "failure_message": "❌ generate_prep_phrase did not return a possible prepositional phrase for 'The cat slept'.",
         "hidden": false,
         "locked": false,
         "success_message": "✅ generate_prep_phrase returned a possible prepositional phrase for 'The cat slept'."
        },
        {
         "code": ">>> ' '.join(generate_prep_phrase('dog', 'danced', deconstructed).split()) in set(deconstructed.column('prep_phrase'))\nTrue",
         "failure_message": "❌ generate_prep did not return a possible prepositional phrase for 'The dog danced'.",
         "hidden": false,
         "locked": false,
         "success_message": "✅ generate_prep returned a possible prepositional phrase for 'The dog danced'."
        },
        {
         "code": ">>> ' '.join(generate_prep_phrase('horse', 'swam', deconstructed).split()) in set(deconstructed.column('prep_phrase'))\nTrue",
         "failure_message": "❌ generate_prep did not return a possible prepositional phrase for 'The dog swam'.",
         "hidden": false,
         "locked": false,
         "success_message": "✅ generate_prep returned a possible prepositional phrase for 'The horse swam'."
        }
       ],
       "scored": true,
       "setup": "",
       "teardown": "",
       "type": "doctest"
      }
     ]
    },
    "task_10": {
     "name": "task_10",
     "points": null,
     "suites": [
      {
       "cases": [
        {
         "code": ">>> callable(generate_sentence_prob)\nTrue",
         "failure_message": "❌ generate_sentence_prob is not callable.",
         "hidden": false,
         "locked": false,
         "success_message": "✅ generate_sentence_prob is callable."
        }
       ],
       "scored": true,
       "setup": "",
       "teardown": "",
       "type": "doctest"
      }
     ]
    }
   }
  }
 },
 "nbformat": 4,
 "nbformat_minor": 5
}
