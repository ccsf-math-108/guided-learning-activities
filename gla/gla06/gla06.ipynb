{
 "cells": [
  {
   "cell_type": "code",
   "execution_count": null,
   "id": "35029122",
   "metadata": {
    "deletable": false,
    "editable": false
   },
   "outputs": [],
   "source": [
    "# Initialize Otter\n",
    "import otter\n",
    "grader = otter.Notebook(\"gla06.ipynb\")"
   ]
  },
  {
   "cell_type": "markdown",
   "id": "692fbc6d-0645-4e75-b205-29989ec616ab",
   "metadata": {},
   "source": [
    "<img src=\"./ccsf.png\" alt=\"CCSF Logo\" width=200px style=\"margin:0px -5px\">"
   ]
  },
  {
   "cell_type": "markdown",
   "id": "c83b268c-d46e-450b-b4af-a2390020878c",
   "metadata": {
    "tags": []
   },
   "source": [
    "# Guided Learning Activity 06: The Law of Large Numbers"
   ]
  },
  {
   "cell_type": "markdown",
   "id": "f5c0e5f0-1759-4129-8e2e-8301f1db6953",
   "metadata": {},
   "source": [
    "This Guided Learning Activity is designed for you to complete alongside a Data Ambassador from the course. You might find that it feels like a combination of the lectures and lab assignment. Whether you are participating live or watching the recording of the live meeting, let the Data Ambassador guide you through the following tasks. There will be moments for you to reflect and explore your own ideas as a way to solidify concepts and skills introduced by your instructor. Keep in mind that this is not a graded assignment for MATH 108 by default. If you have any concerns about participation, reach out to your instructor."
   ]
  },
  {
   "cell_type": "markdown",
   "id": "20d80b08-8562-4cc5-aa65-1e0c97ac6985",
   "metadata": {},
   "source": [
    "---"
   ]
  },
  {
   "cell_type": "markdown",
   "id": "eccd253c-ffd2-40f0-98ac-cc06cc8dec20",
   "metadata": {},
   "source": [
    "## Learning Objectives"
   ]
  },
  {
   "cell_type": "markdown",
   "id": "66e18ccd-f8f0-4f7c-a1f9-c872f5ca01af",
   "metadata": {},
   "source": [
    "1. Apply probability rules to perform calculations.\n",
    "2. Use heatmaps to create and analyze visual representations of probabilistic data.\n",
    "3. Create functions to simulate probabilistic behavior.\n",
    "4. Distinguish between probability and empirical distributions.\n",
    "5. Observe the Law of Large Numbers and use it to detect false claims."
   ]
  },
  {
   "cell_type": "markdown",
   "id": "9a45b759-69b8-4061-b2f8-06483c0e2e92",
   "metadata": {},
   "source": [
    "---"
   ]
  },
  {
   "cell_type": "markdown",
   "id": "0c2302a6-fda0-41de-a349-169954a09cf8",
   "metadata": {},
   "source": [
    "## Configure the Notebook"
   ]
  },
  {
   "cell_type": "markdown",
   "id": "06843add-4d19-4e8d-a8ca-a9bcbee58f31",
   "metadata": {},
   "source": [
    "Run the following code cell to set up the notebook."
   ]
  },
  {
   "cell_type": "code",
   "execution_count": null,
   "id": "253bae4d-e069-42ce-b797-c3cfe5a9fc12",
   "metadata": {},
   "outputs": [],
   "source": [
    "from datascience import *\n",
    "import numpy as np\n",
    "from sequence import generate_sequence\n",
    "%matplotlib inline\n",
    "import matplotlib.pyplot as plt\n",
    "plt.style.use('fivethirtyeight')"
   ]
  },
  {
   "cell_type": "markdown",
   "id": "0768ab18-070d-487b-96eb-6578f455d5c2",
   "metadata": {},
   "source": [
    "---"
   ]
  },
  {
   "cell_type": "markdown",
   "id": "005bfc25-da71-4dce-bfd8-169a3329e5a0",
   "metadata": {},
   "source": [
    "## A Two-Digit Sequence Generator"
   ]
  },
  {
   "cell_type": "markdown",
   "id": "d30e4710-78f1-4b90-9b22-8466b0c52c76",
   "metadata": {},
   "source": [
    "Someone created a sequence generator function `generate_sequence` that creates two-digit sequences (as a list of two numbers) based on the numbers 1, 2, 3, 4, 5, 6. Run the following code cell a few times to see the function in action."
   ]
  },
  {
   "cell_type": "code",
   "execution_count": null,
   "id": "ae665aba-7c4d-4a5e-8175-9e71feaaa452",
   "metadata": {},
   "outputs": [],
   "source": [
    "generate_sequence()"
   ]
  },
  {
   "cell_type": "markdown",
   "id": "1fee7a9a-2d10-4ed1-9f7f-f11b9f0d3af9",
   "metadata": {},
   "source": [
    "---"
   ]
  },
  {
   "cell_type": "markdown",
   "id": "c070ed7b-ebf0-484b-9c9a-1b58ed2637c7",
   "metadata": {},
   "source": [
    "### Claimed Behavior"
   ]
  },
  {
   "cell_type": "markdown",
   "id": "5582bcaa-f6db-41ee-b5d6-237930b3829b",
   "metadata": {},
   "source": [
    "The creator of `generator_sequence` claims that the function generates sequences by randomly picking two digits in the following way:\n",
    "```mermaid\n",
    "graph TD;\n",
    "    A[Start] --> B[\"Randomly select first digit from {1,2,3,4,5,6}\"]\n",
    "    B --> C{\"Is the first digit even?\"}\n",
    "    \n",
    "    C -->|\"Yes\"| E[\"Randomly select second digit from {1,2,3,4,5,6}\"]\n",
    "    C -->|\"No\"| D[\"Randomly select second digit from {2,4,6}\"]\n",
    "```"
   ]
  },
  {
   "cell_type": "markdown",
   "id": "630d0137-9592-4408-9519-7126caf6d1cf",
   "metadata": {},
   "source": [
    "---"
   ]
  },
  {
   "cell_type": "markdown",
   "id": "8dcff3c9-d10c-413e-ac2c-2c254a9c7815",
   "metadata": {},
   "source": [
    "### Probability Exercises"
   ]
  },
  {
   "cell_type": "markdown",
   "id": "15bfaba0-05c0-4457-94b3-7c9239b8f271",
   "metadata": {},
   "source": [
    "For the next few tasks, practice applying the basic principles from probability theory to calculate some probability values. Work through these tasks assuming the function `generate_sequence` works as claimed."
   ]
  },
  {
   "cell_type": "markdown",
   "id": "33bfc072-71c4-4cf5-a1b8-1a9836a8adbe",
   "metadata": {
    "tags": []
   },
   "source": [
    "### Task 01 📍"
   ]
  },
  {
   "cell_type": "markdown",
   "id": "71f1c84e-764a-463b-b717-3d1b8242206b",
   "metadata": {
    "deletable": false,
    "editable": false
   },
   "source": [
    "What is the probability that the first number in the sequence generated by `generate_sequence()` is `3`?\n",
    "\n",
    "Assign `prob_first_3` to a value or expression that represents this probability value. The value should be a number between `0` and `1`, inclusive."
   ]
  },
  {
   "cell_type": "code",
   "execution_count": null,
   "id": "246bf590-44e6-4c27-9484-6e7336413b0a",
   "metadata": {
    "tags": []
   },
   "outputs": [],
   "source": [
    "prob_first_3 = ...\n",
    "prob_first_3"
   ]
  },
  {
   "cell_type": "code",
   "execution_count": null,
   "id": "b4b84cc6",
   "metadata": {
    "deletable": false,
    "editable": false
   },
   "outputs": [],
   "source": [
    "grader.check(\"task_01\")"
   ]
  },
  {
   "cell_type": "markdown",
   "id": "abb7e15c-1272-4382-8ad5-abb7dd0aa8e4",
   "metadata": {},
   "source": [
    "---"
   ]
  },
  {
   "cell_type": "markdown",
   "id": "473cc02a-d980-4289-b803-8940fe4ddd27",
   "metadata": {
    "tags": []
   },
   "source": [
    "### Task 02 📍"
   ]
  },
  {
   "cell_type": "markdown",
   "id": "4a173fda-35cf-479c-8728-bbea091a4dd3",
   "metadata": {
    "deletable": false,
    "editable": false
   },
   "source": [
    "What is the probability that `generate_sequence()` would produce the sequence `[5, 6]`?\n",
    "\n",
    "Assign `prob_56` to a value or expression that represents this probability value. The value should be a number between `0` and `1`, inclusive."
   ]
  },
  {
   "cell_type": "code",
   "execution_count": null,
   "id": "361b3ddd-6dee-4cfe-b3fe-9ae86a2cb757",
   "metadata": {
    "tags": []
   },
   "outputs": [],
   "source": [
    "prob_56 = ...\n",
    "prob_56"
   ]
  },
  {
   "cell_type": "code",
   "execution_count": null,
   "id": "1645d94d",
   "metadata": {
    "deletable": false,
    "editable": false
   },
   "outputs": [],
   "source": [
    "grader.check(\"task_02\")"
   ]
  },
  {
   "cell_type": "markdown",
   "id": "61c7fdc2-128f-4ac8-9006-b4d44be0d15e",
   "metadata": {},
   "source": [
    "---"
   ]
  },
  {
   "cell_type": "markdown",
   "id": "6bc1b362-add6-48a9-a978-bbaf4b5f6701",
   "metadata": {
    "tags": []
   },
   "source": [
    "### Task 03 📍"
   ]
  },
  {
   "cell_type": "markdown",
   "id": "48606c7d-7c48-4736-8592-eb13d95d9b5b",
   "metadata": {
    "deletable": false,
    "editable": false
   },
   "source": [
    "What is the probability that `generate_sequence()` would produce the sequence `[6, 5]`?\n",
    "\n",
    "Assign `prob_65` to a value or expression that represents this probability value. The value should be a number between `0` and `1`, inclusive."
   ]
  },
  {
   "cell_type": "code",
   "execution_count": null,
   "id": "40b3a885-0333-43b9-bf6c-ac6ae0a48312",
   "metadata": {
    "tags": []
   },
   "outputs": [],
   "source": [
    "prob_65 = ...\n",
    "prob_65"
   ]
  },
  {
   "cell_type": "code",
   "execution_count": null,
   "id": "dab25959",
   "metadata": {
    "deletable": false,
    "editable": false
   },
   "outputs": [],
   "source": [
    "grader.check(\"task_03\")"
   ]
  },
  {
   "cell_type": "markdown",
   "id": "ec5bdc6a-87f8-4d39-be92-dda71e1407b6",
   "metadata": {},
   "source": [
    "---"
   ]
  },
  {
   "cell_type": "markdown",
   "id": "a5730390-9b71-43d1-84a5-660bc94124b7",
   "metadata": {
    "tags": []
   },
   "source": [
    "### Task 04 📍"
   ]
  },
  {
   "cell_type": "markdown",
   "id": "30870be6-a438-4c58-b034-89581c02810a",
   "metadata": {
    "deletable": false,
    "editable": false
   },
   "source": [
    "What is the probability that `generate_sequence()` would produce the sequence `[1, 1]`?\n",
    "\n",
    "Assign `prob_11` to a value or expression that represents this probability value. The value should be a number between `0` and `1`, inclusive."
   ]
  },
  {
   "cell_type": "code",
   "execution_count": null,
   "id": "f11a6b7d-bffa-4dc0-9c35-284f73052ae8",
   "metadata": {
    "tags": []
   },
   "outputs": [],
   "source": [
    "prob_11 = ...\n",
    "prob_11"
   ]
  },
  {
   "cell_type": "code",
   "execution_count": null,
   "id": "8e721fc6",
   "metadata": {
    "deletable": false,
    "editable": false
   },
   "outputs": [],
   "source": [
    "grader.check(\"task_04\")"
   ]
  },
  {
   "cell_type": "markdown",
   "id": "ce49daa5-8b32-4b48-95b1-5b78a4b9032a",
   "metadata": {},
   "source": [
    "---"
   ]
  },
  {
   "cell_type": "markdown",
   "id": "873691aa-6307-40c7-b44d-8583342faea6",
   "metadata": {
    "tags": []
   },
   "source": [
    "### Task 05 📍"
   ]
  },
  {
   "cell_type": "markdown",
   "id": "b3a58ce7-52ff-46cd-9832-f85e6ae3d283",
   "metadata": {
    "deletable": false,
    "editable": false
   },
   "source": [
    "What is the probability that `generate_sequence()` will produce a two-digit sequence where both digits in the generated sequence are greater than `4`?\n",
    "\n",
    "Assign `prob_both_above_4` to a value or expression that represents this probability value. The value should be a number between `0` and `1`, inclusive."
   ]
  },
  {
   "cell_type": "code",
   "execution_count": null,
   "id": "8266606f-a497-4b7f-a008-8c3d0f9ac860",
   "metadata": {
    "tags": []
   },
   "outputs": [],
   "source": [
    "prob_both_above_4 = ...\n",
    "prob_both_above_4"
   ]
  },
  {
   "cell_type": "code",
   "execution_count": null,
   "id": "529b0463",
   "metadata": {
    "deletable": false,
    "editable": false
   },
   "outputs": [],
   "source": [
    "grader.check(\"task_05\")"
   ]
  },
  {
   "cell_type": "markdown",
   "id": "d3a96ec6-5c66-4df2-8f53-322780942455",
   "metadata": {},
   "source": [
    "---"
   ]
  },
  {
   "cell_type": "markdown",
   "id": "ed1c73cc-cb05-460c-b6fb-6a6424f772f8",
   "metadata": {
    "tags": []
   },
   "source": [
    "### Task 06 📍"
   ]
  },
  {
   "cell_type": "markdown",
   "id": "188b600b-ed89-4262-9ee1-a04b95ccc9a2",
   "metadata": {
    "deletable": false,
    "editable": false
   },
   "source": [
    "If `generate_sequence()` is ran 10 times, what is the probability that at least one of the ten two-digit sequences is `[5, 6]`?\n",
    "\n",
    "Assign `prob_at_least_one_56` to a value or expression that represents this probability value. The value should be a number between `0` and `1`, inclusive."
   ]
  },
  {
   "cell_type": "code",
   "execution_count": null,
   "id": "fa5a4a34-db70-4253-ae25-86646ca86da2",
   "metadata": {
    "tags": []
   },
   "outputs": [],
   "source": [
    "prob_at_least_one_56 = ...\n",
    "prob_at_least_one_56"
   ]
  },
  {
   "cell_type": "code",
   "execution_count": null,
   "id": "eea2effe",
   "metadata": {
    "deletable": false,
    "editable": false
   },
   "outputs": [],
   "source": [
    "grader.check(\"task_06\")"
   ]
  },
  {
   "cell_type": "markdown",
   "id": "8b85819e-320a-4526-aeba-9dbea3724793",
   "metadata": {},
   "source": [
    "---"
   ]
  },
  {
   "cell_type": "markdown",
   "id": "791b2951-16d5-4634-ae56-b25bbba9b19d",
   "metadata": {},
   "source": [
    "### Probability Distribution"
   ]
  },
  {
   "cell_type": "markdown",
   "id": "a4ca4d63-d126-4447-aa2c-ed67c74d78d9",
   "metadata": {},
   "source": [
    "* A **Probability distribution** describes the theoretical likelihood of the different outcomes in a random process.\n",
    "    * They are based on mathematical models and assumptions.\n",
    "* For the two-number sequence generated from the claimed behavior of the `generate_sequence` function, the probability distribution of this experiment is the collection of all possible two-number sequences together with the probability that each will occur."
   ]
  },
  {
   "cell_type": "markdown",
   "id": "546cb6c0-249c-4703-8807-bc60d73df0c2",
   "metadata": {},
   "source": [
    "---"
   ]
  },
  {
   "cell_type": "markdown",
   "id": "fec9b2f1-6f34-4113-954f-f7945dc158af",
   "metadata": {
    "tags": []
   },
   "source": [
    "### Task 07 📍"
   ]
  },
  {
   "cell_type": "markdown",
   "id": "b1a6b50a-ba4a-4b0a-a7b6-b78826023f89",
   "metadata": {
    "deletable": false,
    "editable": false
   },
   "source": [
    "Create a function called `prob_of_sequence` that:\n",
    "* Takes two integers as input (assumed to be numbers between 1 and 6, inclusive)\n",
    "* Returns the probability of generating a two-digit sequence based on the provided integers and the claimed behavior of the `generate_sequence` function. Here is the logic again for the how the function is claimed to work:\n",
    "\n",
    "```mermaid\n",
    "graph LR;\n",
    "    A[Start] --> B[\"Randomly select first digit from {1,2,3,4,5,6}\"]\n",
    "    B --> C{\"Is the first digit even?\"}\n",
    "    \n",
    "    C -->|\"Yes\"| E[\"Randomly select second digit from {1,2,3,4,5,6}\"]\n",
    "    C -->|\"No\"| D[\"Randomly select second digit from {2,4,6}\"]\n",
    "```\n",
    "\n",
    "**Hint:** `prob_of_sequence(5, 5)` should return `0`."
   ]
  },
  {
   "cell_type": "code",
   "execution_count": null,
   "id": "d8704c5b-8690-4fd7-acb9-b4e0364cafa7",
   "metadata": {
    "tags": []
   },
   "outputs": [],
   "source": [
    "# Define the function\n",
    "def prob_of_sequence(first_digit, second_digit):\n",
    "    ...\n",
    "\n",
    "# Check the function\n",
    "prob_of_sequence(5, 5)"
   ]
  },
  {
   "cell_type": "code",
   "execution_count": null,
   "id": "c69b77a7",
   "metadata": {
    "deletable": false,
    "editable": false
   },
   "outputs": [],
   "source": [
    "grader.check(\"task_07\")"
   ]
  },
  {
   "cell_type": "markdown",
   "id": "718237ed-b6cb-49f5-aa51-edc253c40eee",
   "metadata": {},
   "source": [
    "---"
   ]
  },
  {
   "cell_type": "markdown",
   "id": "c5a21d5c-34f1-4122-8222-2db1044f5539",
   "metadata": {
    "tags": []
   },
   "source": [
    "### Task 08 📍"
   ]
  },
  {
   "cell_type": "markdown",
   "id": "08571b23-ddbb-41ea-80b9-8ecc05500c5e",
   "metadata": {
    "deletable": false,
    "editable": false
   },
   "source": [
    "Create a table called `prob_dist_tbl` that contains 3 columns `'First Digit'`, `'Second Digit'`, and `'Probability'` and the rows show all the possible sequences and their related probabilities. For example, the table should be in the following format:\n",
    "\n",
    "|First Digit|Second Digit|Probability|\n",
    "|---|---|---|\n",
    "|`1`|`1`|`prob_of_sequence(1, 1)`|\n",
    "|...|...|...|\n",
    "|`5`|`6`|`prob_of_sequence(5, 6)`|\n",
    "|...|...|...|\n",
    "|`6`|`6`|`prob_of_sequence(6, 6)`|\n",
    "\n",
    "**Hints**: \n",
    "* Try starting from an empty table and building up `prob_dist_tbl` row by row using `for` loops and the `with_row` table method.\n",
    "* In each `for` loop, go through all the numbers 1 through 6.\n",
    "* Use the function `prob_of_sequence` to calculate the probability of the sequence."
   ]
  },
  {
   "cell_type": "code",
   "execution_count": null,
   "id": "7a46bc79-ccfc-4070-b6d8-1e6a87c49854",
   "metadata": {
    "tags": []
   },
   "outputs": [],
   "source": [
    "digits = np.arange(1, 7)\n",
    "prob_dist_tbl = Table([\"First Digit\", \"Second Digit\", \"Probability\"])\n",
    "for first_digit in ...:\n",
    "    for second_digit in ...:\n",
    "        ...\n",
    "\n",
    "prob_dist_tbl"
   ]
  },
  {
   "cell_type": "code",
   "execution_count": null,
   "id": "c5870f66",
   "metadata": {
    "deletable": false,
    "editable": false
   },
   "outputs": [],
   "source": [
    "grader.check(\"task_08\")"
   ]
  },
  {
   "cell_type": "markdown",
   "id": "b285ffe5-15c0-48b5-9f76-140abf74caf5",
   "metadata": {},
   "source": [
    "---"
   ]
  },
  {
   "cell_type": "markdown",
   "id": "3bae3ba1-73af-42e8-b464-cc0b9beb4fdc",
   "metadata": {},
   "source": [
    "### Heat Map"
   ]
  },
  {
   "cell_type": "markdown",
   "id": "3be55630-e5ca-4b11-a643-db456118b22c",
   "metadata": {},
   "source": [
    "A heat map is a visualization that utilizes variations in shading to convey additional information. When relating pairs of values with a numerical value, you can use a heat map to visualize the intensity of the numerical value for each pair. \n",
    "\n",
    "<img src=\"./heatmap.svg\" alt=\"Heatmap example\"/>\n",
    "\n",
    "For example, the above heat map shows a colored rectangular region corresponding to a town and a month. The shading of the region is defined by the average temperature in each relative town and month combination. This visual provides you with a way to quickly see how it is hotter in the summer and cooler in the winter. \n",
    "\n",
    "Notice that a heat map somewhat resembles a colorized pivot table. Next, we'll guide you to use a heat map to visualize the probability distribution for the two-digit sequence scenario above. "
   ]
  },
  {
   "cell_type": "markdown",
   "id": "e641a7f6-25b8-41c8-b6bc-c425b7c601e6",
   "metadata": {
    "tags": []
   },
   "source": [
    "### Task 09 📍"
   ]
  },
  {
   "cell_type": "markdown",
   "id": "29b0daa3-e98c-4c8c-bb79-6f34215d42f4",
   "metadata": {
    "deletable": false,
    "editable": false
   },
   "source": [
    "To help create a heat map, write a function `to_pivot` that takes in a 3 column table in the format of `prob_dist_tbl` as input and returns the same information as a pivot table where the First Digit values are on the rows and the Second Digit values are on the columns. You can expect from the table provided as input that:\n",
    "* The first column is labeled `'First Digit'` and has distinct values.\n",
    "* The second column is labeled `'Second Digit'` and has distinct values.\n",
    "* The third column contains numerical values like probabilities (or relative frequencies).\n",
    "\n",
    "Here is a partial visual of the structure of the output of this function when applied to `prob_dist_tbl`.\n",
    "\n",
    "<img src=\"./to_pivot.png\" alt=\"A preview of the resulting pivot table\" width=500px/>\n",
    "\n",
    "\n",
    "**Hints**: \n",
    "* You can use a function like `sum` for the `collect` function with the `pivot` method.\n",
    "* Try calling the function on `prob_dist_tbl` to see if you get the same information from the previous task but in a different format."
   ]
  },
  {
   "cell_type": "code",
   "execution_count": null,
   "id": "40ec27b3-4933-4ae2-95c4-b416ea90367d",
   "metadata": {
    "tags": []
   },
   "outputs": [],
   "source": [
    "def to_pivot(tbl):\n",
    "    return ..."
   ]
  },
  {
   "cell_type": "code",
   "execution_count": null,
   "id": "e0024ab1",
   "metadata": {
    "deletable": false,
    "editable": false
   },
   "outputs": [],
   "source": [
    "grader.check(\"task_09\")"
   ]
  },
  {
   "cell_type": "markdown",
   "id": "d4eda9bb-0311-416e-92c9-1e8bd30c4344",
   "metadata": {},
   "source": [
    "---"
   ]
  },
  {
   "cell_type": "markdown",
   "id": "b279703c-1ce0-46d1-9f67-c8949f7f3d58",
   "metadata": {},
   "source": [
    "### `heatmap` Function"
   ]
  },
  {
   "cell_type": "markdown",
   "id": "bfdbb2b4-cb00-4a95-b8f3-8de375a3174d",
   "metadata": {
    "tags": []
   },
   "source": [
    "### Task 10 📍"
   ]
  },
  {
   "cell_type": "markdown",
   "id": "d0be1e4f-11b5-4299-8201-c1a3f1b7f130",
   "metadata": {
    "deletable": false,
    "editable": false
   },
   "source": [
    "We've created the following function `heatmap` that takes in a table like `prob_dist_tbl`, uses your `to_pivot` function, and creates a heat map. Run the following code cell to define that function and try it out with the `prob_dist_tbl`."
   ]
  },
  {
   "cell_type": "code",
   "execution_count": null,
   "id": "992c7994-4d1f-4787-acb2-e69523bb2098",
   "metadata": {
    "tags": []
   },
   "outputs": [],
   "source": [
    "def heatmap(tbl):\n",
    "    '''\n",
    "    Produces a heat map for a tbl like prob_dist_tbl where the first column is\n",
    "    labeled \"First Digit\", the second column is labeled \"Second Digit\", and\n",
    "    the third column is a column of probability or relative frequency values.\n",
    "    '''\n",
    "    import plotly.express as px\n",
    "    fig = px.imshow(\n",
    "            to_pivot(tbl).to_df().set_index('First Digit'),\n",
    "            labels=dict(x=\"First Digit\", y=\"Second Digit\", color=\"Probability/Relative Frequency\"),\n",
    "            text_auto=True,\n",
    "            aspect=\"auto\"\n",
    "        )\n",
    "    fig.update_layout(\n",
    "        yaxis = dict(\n",
    "        tickmode = 'array',\n",
    "        tickvals = np.arange(1, 11))\n",
    "    )\n",
    "    display(fig)\n",
    "\n",
    "# Call the function on prob_dist_tbl\n",
    "heatmap(prob_dist_tbl)"
   ]
  },
  {
   "cell_type": "code",
   "execution_count": null,
   "id": "11bcded5",
   "metadata": {
    "deletable": false,
    "editable": false
   },
   "outputs": [],
   "source": [
    "grader.check(\"task_10\")"
   ]
  },
  {
   "cell_type": "markdown",
   "id": "f39dfce9-4981-4ac0-91fa-efdecaa7d37a",
   "metadata": {},
   "source": [
    "---"
   ]
  },
  {
   "cell_type": "markdown",
   "id": "e909527c-fc72-4184-803e-1f94b662b595",
   "metadata": {
    "tags": []
   },
   "source": [
    "### Task 11 📍🔎"
   ]
  },
  {
   "cell_type": "markdown",
   "id": "f05e1506-b247-4f1f-9b48-dfe750ceb023",
   "metadata": {
    "deletable": false,
    "editable": false
   },
   "source": [
    "<!-- BEGIN QUESTION -->\n",
    "\n",
    "What do you notice about the shade variation in the heat map visualization for the probability distribution for the two-digit sequence generation?"
   ]
  },
  {
   "cell_type": "markdown",
   "id": "8f92563a",
   "metadata": {},
   "source": [
    "_Type your answer here, replacing this text._"
   ]
  },
  {
   "cell_type": "markdown",
   "id": "97b8379c-40c5-4954-b926-1aaa8f290ce3",
   "metadata": {
    "deletable": false,
    "editable": false,
    "slideshow": {
     "slide_type": "fragment"
    }
   },
   "source": [
    "<!-- END QUESTION -->\n",
    "\n",
    "---"
   ]
  },
  {
   "cell_type": "markdown",
   "id": "9518074f-f3a4-49ac-89f4-ce58ef783baf",
   "metadata": {},
   "source": [
    "### Empirical Distributions"
   ]
  },
  {
   "cell_type": "markdown",
   "id": "d8366163-a8e2-4668-b0de-470381210394",
   "metadata": {},
   "source": [
    "* **Empirical distributions** are derived from actual observed data. Instead of being based on theoretical probabilities, they reflect the frequencies of observed occurrences in a repeated experiment.\n",
    "* You can create an empirical distribution for the two-digit sequence generation by running the `generate_sequence` function many times and calculating the relative frequency for all the sequences based on your observations."
   ]
  },
  {
   "cell_type": "markdown",
   "id": "57d410ac-6cde-4606-8bd0-71cbd115540b",
   "metadata": {},
   "source": [
    "---"
   ]
  },
  {
   "cell_type": "markdown",
   "id": "8cec9758-0d40-4d86-90ac-31457517c900",
   "metadata": {
    "tags": []
   },
   "source": [
    "### Task 12 📍"
   ]
  },
  {
   "cell_type": "markdown",
   "id": "20e619ca-0ce1-4b3d-b586-2a5b859a44c1",
   "metadata": {
    "deletable": false,
    "editable": false
   },
   "source": [
    "Write a function called `simulate_one_sequence_as_claimed` that takes no input and returns a list of 2 items where\n",
    "* The first item is a random number betwen 1 and 6, inclusive.\n",
    "* The second item is:\n",
    "    * a random number between 1 and 6, inclusive if the first item is even,\n",
    "    * a random number from 2, 4, 6 if the first number is odd."
   ]
  },
  {
   "cell_type": "code",
   "execution_count": null,
   "id": "c41a71c8-ae71-47cd-9649-6e155d377e66",
   "metadata": {
    "tags": []
   },
   "outputs": [],
   "source": [
    "def simulate_one_sequence_as_claimed():\n",
    "    ...\n",
    "\n",
    "# Try calling the function\n",
    "simulate_one_sequence_as_claimed()"
   ]
  },
  {
   "cell_type": "code",
   "execution_count": null,
   "id": "bacba2f3",
   "metadata": {
    "deletable": false,
    "editable": false
   },
   "outputs": [],
   "source": [
    "grader.check(\"task_12\")"
   ]
  },
  {
   "cell_type": "markdown",
   "id": "ef6f57ee-2db8-4bfc-947b-9e31f494b843",
   "metadata": {},
   "source": [
    "---"
   ]
  },
  {
   "cell_type": "markdown",
   "id": "1104aaf2-b59a-4094-b9bf-a2fc5d539f14",
   "metadata": {},
   "source": [
    "### Observing Many Simulations"
   ]
  },
  {
   "cell_type": "markdown",
   "id": "b0e3dd01-79bd-48f3-8175-8c31354eae88",
   "metadata": {},
   "source": [
    "Now that you have a way of simulating the generation of one two-digit sequence based on the way the function `generate_sequence` actual works and based on the way the function claims to work, you can use a `for` loop to simulate generating these two number sequences many many times. To speed things a long, we used all the Python code you know to create a function for you that generates `n` two-digit sequences based on a function like `generate_sequence` or `simulate_one_sequence_as_claimed` and produces a heat map visualization showing an empirical distribution for those sequences.\n",
    "\n",
    "Run the following code cell a few times to define the function and generate an empirical distribution for 100 observations of two number sequences generated from `generate_sequence` and `simulate_one_sequence_as_claimed`."
   ]
  },
  {
   "cell_type": "code",
   "execution_count": null,
   "id": "2fe0fa92-6c9e-4029-9cf8-232649d6fbf4",
   "metadata": {},
   "outputs": [],
   "source": [
    "def simulate_two_number_sequence(function, n):\n",
    "    simulated_observation_tbl = Table(['First Digit', 'Second Digit'])\n",
    "    \n",
    "    for _ in np.arange(n):\n",
    "        simulated_observation_tbl = simulated_observation_tbl.with_row(\n",
    "            function()\n",
    "        )\n",
    "    empirical_dist_tbl = simulated_observation_tbl.group(['First Digit', 'Second Digit'])\n",
    "    frequencies = empirical_dist_tbl.column('count')\n",
    "    relative_frequencies = frequencies / len(frequencies)\n",
    "    empirical_dist_tbl = empirical_dist_tbl.with_column('count', relative_frequencies)\n",
    "    empirical_dist_tbl = empirical_dist_tbl.relabeled('count', 'Relative Frequency')\n",
    "    heatmap(empirical_dist_tbl)\n",
    "\n",
    "# Run the simulation 100 times.\n",
    "n = 100\n",
    "print('An emperical distribution (n=100) based on how `generate_sequence` actual works:')\n",
    "simulate_two_number_sequence(generate_sequence, n)\n",
    "print('An emperical distribution (n=100) based on how `generate_sequence` is claimed to work:')\n",
    "simulate_two_number_sequence(simulate_one_sequence_as_claimed, n)"
   ]
  },
  {
   "cell_type": "markdown",
   "id": "cbdc0cba-0819-44f9-9de1-c8de4229479a",
   "metadata": {},
   "source": [
    "---"
   ]
  },
  {
   "cell_type": "markdown",
   "id": "0665833f-01a9-4614-b92f-e8a0df9a051d",
   "metadata": {},
   "source": [
    "## Law of Large Numbers (Law of Averages)"
   ]
  },
  {
   "cell_type": "markdown",
   "id": "2a3753ce-24e8-4b91-8234-98c212f60bdd",
   "metadata": {},
   "source": [
    "The Law of Large Numbers states that if a chance experiment is repeatedly simulated under identical conditions, the relative frequency of an event will converge to its theoretical probability as the number of repetitions increases. \"Converge\" is a technical term that roughly means that, with a sufficiently large sample size, the relative frequency becomes very close to the theoretical probability."
   ]
  },
  {
   "cell_type": "markdown",
   "id": "06e0df4b-542a-47b7-9d47-7fa7246446ac",
   "metadata": {},
   "source": [
    "---"
   ]
  },
  {
   "cell_type": "markdown",
   "id": "6c978a65-92f0-444c-a406-7c4dfd3b2f09",
   "metadata": {},
   "source": [
    "### Convergence Example"
   ]
  },
  {
   "cell_type": "markdown",
   "id": "8fdd609a-4782-4fef-b78d-8327b0ceb5cc",
   "metadata": {},
   "source": [
    "For example, imagine drawing numbered ($1$, $2$, $3$, $4$, $5$) tokens from a bag at random where each token has an equal chance of being selected. The theoretical probability of drawing any one number is $1/5$ ($20\\%$).\n",
    "\n",
    "* Small Sample Size ($n = 10$):\n",
    "    * If you randomly draw 10 numbers, you might get $1$ five times ($50\\%$) and never get $3$ ($0\\%$), which deviates significantly from the expected $20\\%$ for each number.\n",
    "    * The empirical distribution (a bar chart of how often each number appears) will look uneven and may not reflect the true distribution.\n",
    "* Larger Sample Size ($n = 100$)\n",
    "    * With $100$ draws, each number appears closer to $20\\%$ of the time, but there will still be some variation (e.g., $1$ appears $18$ times, $3$ appears $22$ times).\n",
    "* Even Larger Sample Size ($n = 10,000$)\n",
    "    * With $10,000$ draws, the proportion of each number appearing will be very close to $20\\%$, and the empirical distribution will closely match the true uniform distribution.\n",
    " \n",
    "<img src=\"./empirical_dists.png\" alt=\"Example empirical distributions for n = 10, n = 100, and n = 10,000\">\n",
    "\n",
    "* Since generating all possible samples and computing exact probabilities is often infeasible, empirical histograms approximate probability distributions.\n",
    "* By repeatedly simulating random processes, you can estimate probabilities without complex mathematical calculations, making computer simulations a powerful tool for understanding randomness."
   ]
  },
  {
   "cell_type": "markdown",
   "id": "0bbd7e2c-4cb2-4512-8eb6-d1a003c47774",
   "metadata": {},
   "source": [
    "---"
   ]
  },
  {
   "cell_type": "markdown",
   "id": "c1a57db4-8b8c-4e86-9d79-48df8b6647c7",
   "metadata": {
    "tags": []
   },
   "source": [
    "### Task 13 📍🔎"
   ]
  },
  {
   "cell_type": "markdown",
   "id": "2236756e-120a-46a8-92fb-9936f5acd901",
   "metadata": {
    "deletable": false,
    "editable": false
   },
   "source": [
    "<!-- BEGIN QUESTION -->\n",
    "\n",
    "Using the slider belwo, slowly increase the value of `n` to see how the heatmaps generated from `generate_sequence` and `simulate_one_sequence_as_claimed` differ as the value of `n` increases. What do you notice about the distribution in relation to the probability distribution heat map [Task 10](#Task-10), and how does your observation relate to the Law of Large Numbers (Law of Averages)?\n",
    "\n",
    "Here is the probability distribution heat map for reference:"
   ]
  },
  {
   "cell_type": "code",
   "execution_count": null,
   "id": "ae25458c-c9fc-4afc-bc2f-598aa59c2155",
   "metadata": {
    "deletable": false,
    "editable": false
   },
   "outputs": [],
   "source": [
    "heatmap(prob_dist_tbl)"
   ]
  },
  {
   "cell_type": "code",
   "execution_count": null,
   "id": "953da964-526b-40bf-acc6-405d554b9431",
   "metadata": {
    "deletable": false,
    "editable": false
   },
   "outputs": [],
   "source": [
    "import ipywidgets as widgets\n",
    "from IPython.display import display\n",
    "\n",
    "slider = widgets.IntSlider(value=10, min=10, max=10000, step=10, description='n:', continuous_update=False)\n",
    "\n",
    "def update_plot(n):\n",
    "    print(f'An empirical distribution (n={n}) based on how `generate_sequence` works:')\n",
    "    simulate_two_number_sequence(generate_sequence, n)\n",
    "    print(f'An empirical distribution (n={n}) based on how `simulate_one_sequence_as_claimed` works:')\n",
    "    simulate_two_number_sequence(simulate_one_sequence_as_claimed, n)\n",
    "\n",
    "widgets.interactive(update_plot, n=slider)"
   ]
  },
  {
   "cell_type": "markdown",
   "id": "7173b941",
   "metadata": {},
   "source": [
    "_Type your answer here, replacing this text._"
   ]
  },
  {
   "cell_type": "markdown",
   "id": "79387bd4-33ac-48d2-ba9e-f86d30f48fa2",
   "metadata": {
    "deletable": false,
    "editable": false,
    "slideshow": {
     "slide_type": "fragment"
    }
   },
   "source": [
    "<!-- END QUESTION -->\n",
    "\n",
    "---"
   ]
  },
  {
   "cell_type": "markdown",
   "id": "c11c8fb1-554c-4ce0-b48b-78b84fe7404f",
   "metadata": {},
   "source": [
    "## Reflection"
   ]
  },
  {
   "cell_type": "markdown",
   "id": "8bb442e3-93ec-4e95-b913-ae40f3d100ff",
   "metadata": {},
   "source": [
    "In this activity, you practiced using fundamental probability rules to perform calculations. Additionally, you explored the Law of Large Numbers by conducting probability simulations and analyzing their outcomes. You used computational tools to visualize results, interpret statistical trends, and understand how increasing trial counts lead to expected theoretical probabilities. By engaging in hands-on experimentation and reflection, you gained insight into randomness, convergence, and the importance of large sample sizes in probability theory."
   ]
  },
  {
   "cell_type": "markdown",
   "id": "6f1a1575-d1cc-4e5b-9e36-6d2fce3c3b00",
   "metadata": {
    "editable": true,
    "slideshow": {
     "slide_type": ""
    },
    "tags": []
   },
   "source": [
    "---"
   ]
  },
  {
   "cell_type": "markdown",
   "id": "830cd3aa-7268-4b8d-9de1-b8291a77d457",
   "metadata": {
    "editable": true,
    "slideshow": {
     "slide_type": "notes"
    },
    "tags": []
   },
   "source": [
    "## License"
   ]
  },
  {
   "cell_type": "markdown",
   "id": "55e19cd7-8808-4101-a381-c0897b12ce07",
   "metadata": {
    "editable": true,
    "slideshow": {
     "slide_type": ""
    },
    "tags": []
   },
   "source": [
    "This content is licensed under the <a href=\"https://creativecommons.org/licenses/by-nc-sa/4.0/\">Creative Commons Attribution-NonCommercial-ShareAlike 4.0 International License (CC BY-NC-SA 4.0)</a>.\n",
    "\n",
    "<img src=\"./by-nc-sa.png\" width=100px>"
   ]
  }
 ],
 "metadata": {
  "kernelspec": {
   "display_name": "Python 3 (ipykernel)",
   "language": "python",
   "name": "python3"
  },
  "language_info": {
   "codemirror_mode": {
    "name": "ipython",
    "version": 3
   },
   "file_extension": ".py",
   "mimetype": "text/x-python",
   "name": "python",
   "nbconvert_exporter": "python",
   "pygments_lexer": "ipython3",
   "version": "3.11.9"
  },
  "otter": {
   "OK_FORMAT": true,
   "assignment_name": "gla06_sp25",
   "tests": {
    "task_01": {
     "name": "task_01",
     "points": null,
     "suites": [
      {
       "cases": [
        {
         "code": ">>> 0 <= prob_first_3 <= 1\nTrue",
         "failure_message": "❌ prob_first_3 should be a number between 0 and 1, inclusive.",
         "hidden": false,
         "locked": false,
         "points": 1,
         "success_message": "✅ prob_first_3 is a number between 0 and 1, inclusive."
        },
        {
         "code": ">>> import hashlib\n>>> \n>>> def get_hash(num):\n...     \"\"\"Helper function for assessing correctness.\"\"\"\n...     return hashlib.md5(str(num).encode()).hexdigest()\n>>> get_hash(round(prob_first_3, 4))\n'f452927b0b2a755192117d956a8d47f6'",
         "failure_message": "❌ Your value for prob_first_3 is not correct!",
         "hidden": false,
         "locked": false,
         "points": 1,
         "success_message": "✅ Your value for prob_first_3 is correct!"
        }
       ],
       "scored": true,
       "setup": "",
       "teardown": "",
       "type": "doctest"
      }
     ]
    },
    "task_02": {
     "name": "task_02",
     "points": null,
     "suites": [
      {
       "cases": [
        {
         "code": ">>> 0 <= prob_56 <= 1\nTrue",
         "failure_message": "❌ prob_56 should be a number between 0 and 1, inclusive.",
         "hidden": false,
         "locked": false,
         "points": 1,
         "success_message": "✅ prob_56 is a number between 0 and 1, inclusive."
        },
        {
         "code": ">>> import hashlib\n>>> \n>>> def get_hash(num):\n...     \"\"\"Helper function for assessing correctness.\"\"\"\n...     return hashlib.md5(str(num).encode()).hexdigest()\n>>> get_hash(round(prob_56, 4))\n'df81a7e22f745aaa86a19eef6f805fe9'",
         "failure_message": "❌ Your value for prob_56 is not correct!",
         "hidden": false,
         "locked": false,
         "points": 1,
         "success_message": "✅ Your value for prob_56 is correct!"
        }
       ],
       "scored": true,
       "setup": "",
       "teardown": "",
       "type": "doctest"
      }
     ]
    },
    "task_03": {
     "name": "task_03",
     "points": null,
     "suites": [
      {
       "cases": [
        {
         "code": ">>> 0 <= prob_65 <= 1\nTrue",
         "failure_message": "❌ prob_65 should be a number between 0 and 1, inclusive.",
         "hidden": false,
         "locked": false,
         "points": 1,
         "success_message": "✅ prob_65 is a number between 0 and 1, inclusive."
        },
        {
         "code": ">>> import hashlib\n>>> \n>>> def get_hash(num):\n...     \"\"\"Helper function for assessing correctness.\"\"\"\n...     return hashlib.md5(str(num).encode()).hexdigest()\n>>> get_hash(round(prob_65, 4))\n'610d1d4a9b4c2eb67d3fc40c54242fe3'",
         "failure_message": "\"❌ Your value for prob_65 is not correct!\"",
         "hidden": false,
         "locked": false,
         "points": 1,
         "success_message": "\"✅ Your value for prob_65 is correct!\"\n"
        }
       ],
       "scored": true,
       "setup": "",
       "teardown": "",
       "type": "doctest"
      }
     ]
    },
    "task_04": {
     "name": "task_04",
     "points": null,
     "suites": [
      {
       "cases": [
        {
         "code": ">>> 0 <= prob_11 <= 1\nTrue",
         "failure_message": "❌ prob_11 should be a number between 0 and 1, inclusive.",
         "hidden": false,
         "locked": false,
         "points": 1,
         "success_message": "✅ prob_11 is a number between 0 and 1, inclusive."
        },
        {
         "code": ">>> import hashlib\n>>> \n>>> def get_hash(num):\n...     \"\"\"Helper function for assessing correctness.\"\"\"\n...     return hashlib.md5(str(num).encode()).hexdigest()\n>>> get_hash(round(float(prob_11), 4))\n'30565a8911a6bb487e3745c0ea3c8224'",
         "failure_message": "\"❌ Your value for prob_11 is not correct!\"",
         "hidden": false,
         "locked": false,
         "points": 1,
         "success_message": "\"✅ Your value for prob_11 is correct!\"\n"
        }
       ],
       "scored": true,
       "setup": "",
       "teardown": "",
       "type": "doctest"
      }
     ]
    },
    "task_05": {
     "name": "task_05",
     "points": null,
     "suites": [
      {
       "cases": [
        {
         "code": ">>> 0 <= prob_both_above_4 <= 1\nTrue",
         "failure_message": "❌ prob_both_above_4 should be a number between 0 and 1, inclusive.",
         "hidden": false,
         "locked": false,
         "points": 1,
         "success_message": "✅ prob_both_above_4 is a number between 0 and 1, inclusive."
        },
        {
         "code": ">>> import hashlib\n>>> \n>>> def get_hash(num):\n...     \"\"\"Helper function for assessing correctness.\"\"\"\n...     return hashlib.md5(str(num).encode()).hexdigest()\n>>> get_hash(round(prob_both_above_4, 4))\n'd57f947492e971cd782fd274e0a5a476'",
         "failure_message": "\"❌ Your value for prob_both_above_4 is not correct!\"",
         "hidden": false,
         "locked": false,
         "points": 1,
         "success_message": "\"✅ Your value for prob_both_above_4 is correct!\"\n"
        }
       ],
       "scored": true,
       "setup": "",
       "teardown": "",
       "type": "doctest"
      }
     ]
    },
    "task_06": {
     "name": "task_06",
     "points": null,
     "suites": [
      {
       "cases": [
        {
         "code": ">>> 0 <= prob_at_least_one_56 <= 1\nTrue",
         "failure_message": "❌ prob_at_least_one_56 should be a number between 0 and 1, inclusive.",
         "hidden": false,
         "locked": false,
         "points": 1,
         "success_message": "✅ prob_at_least_one_56 is a number between 0 and 1, inclusive."
        },
        {
         "code": ">>> import hashlib\n>>> \n>>> def get_hash(num):\n...     \"\"\"Helper function for assessing correctness.\"\"\"\n...     return hashlib.md5(str(num).encode()).hexdigest()\n>>> get_hash(round(prob_at_least_one_56, 4))\n'26ae7ac909ef45597b951dd303b33257'",
         "failure_message": "❌ Your value for prob_at_least_one_56 is not correct!",
         "hidden": false,
         "locked": false,
         "points": 1,
         "success_message": "✅ Your value for prob_at_least_one_56 is correct!"
        }
       ],
       "scored": true,
       "setup": "",
       "teardown": "",
       "type": "doctest"
      }
     ]
    },
    "task_07": {
     "name": "task_07",
     "points": null,
     "suites": [
      {
       "cases": [
        {
         "code": ">>> callable(prob_of_sequence)\nTrue",
         "failure_message": "\"❌ prob_of_sequence is not callable.\"",
         "hidden": false,
         "locked": false,
         "points": 1,
         "success_message": "\"✅ prob_of_sequence is callable.\"\n"
        },
        {
         "code": ">>> digits = np.arange(1, 7)\n>>> a_first_digit = np.random.choice(digits)\n>>> a_second_digit = np.random.choice(digits)\n>>> test_prob_of_sequence = prob_of_sequence(a_first_digit, a_second_digit)\n>>> 0 <= test_prob_of_sequence <= 1\nTrue",
         "failure_message": "\"❌ prob_of_sequence should return a numerical value betwen 0 and 1, inclusive.\"",
         "hidden": false,
         "locked": false,
         "points": 1,
         "success_message": "\"✅ prob_of_sequence returns a numerical value betwen 0 and 1, inclusive.\"\n"
        },
        {
         "code": ">>> np.isclose(prob_of_sequence(5, 6), prob_56)\nTrue",
         "failure_message": "\"❌ prob_of_sequence(5, 6) should produce the same result as prob_56.\"",
         "hidden": false,
         "locked": false,
         "points": 1,
         "success_message": "\"✅ prob_of_sequence(5, 6) produces the same result as prob_56.\"\n"
        },
        {
         "code": ">>> np.isclose(prob_of_sequence(6, 5), prob_65)\nTrue",
         "failure_message": "\"❌ prob_of_sequence(6, 5) should produce the same result as prob_65.\"",
         "hidden": false,
         "locked": false,
         "points": 1,
         "success_message": "\"✅ prob_of_sequence(6, 5) produces the same result as prob_65.\"\n"
        },
        {
         "code": ">>> np.isclose(prob_of_sequence(1, 1), prob_11)\nTrue",
         "failure_message": "\"❌ prob_of_sequence(1, 1) should produce the same result as prob_11.\"",
         "hidden": false,
         "locked": false,
         "points": 1,
         "success_message": "\"✅ prob_of_sequence(1, 1) produces the same result as prob_11.\"\n"
        }
       ],
       "scored": true,
       "setup": "",
       "teardown": "",
       "type": "doctest"
      }
     ]
    },
    "task_08": {
     "name": "task_08",
     "points": null,
     "suites": [
      {
       "cases": [
        {
         "code": ">>> isinstance(prob_dist_tbl, Table)\nTrue",
         "failure_message": "\"❌ prob_dist_tbl should be a Table.\"",
         "hidden": false,
         "locked": false,
         "points": 1,
         "success_message": "\"✅ prob_dist_tbl is a Table.\"\n"
        },
        {
         "code": ">>> prob_dist_tbl.labels\n('First Digit', 'Second Digit', 'Probability')",
         "failure_message": "\"❌ prob_dist_tbl does not have the correct column labels, they should be 'First Digit', 'Second Digit', 'Probability'.\"",
         "hidden": false,
         "locked": false,
         "points": 1,
         "success_message": "\"✅ prob_dist_tbl has the correct column labels.\"\n"
        },
        {
         "code": ">>> prob_dist_tbl.num_rows\n36",
         "failure_message": "\"❌ prob_dist_tbl does not have the correct number of rows. There should be 100 rows.\"",
         "hidden": false,
         "locked": false,
         "points": 1,
         "success_message": "\"✅ prob_dist_tbl has the correct number of rows.\"\n"
        },
        {
         "code": ">>> np.sum(prob_dist_tbl.column('Probability'))\n1.0",
         "failure_message": "\"❌ The sum of the probabilities in a probability distribution must be 1. |\nSomething is not correct about at least one of your probability values. |\nWhat is the probability of any one of the sequences occurring?\"",
         "hidden": false,
         "locked": false,
         "points": 1,
         "success_message": "\"✅ The sum of the probabilities is 1.\"\n"
        },
        {
         "code": ">>> prob_dist_tbl\nFirst Digit | Second Digit | Probability\n1           | 1            | 0\n1           | 2            | 0.0555556\n1           | 3            | 0\n1           | 4            | 0.0555556\n1           | 5            | 0\n1           | 6            | 0.0555556\n2           | 1            | 0.0277778\n2           | 2            | 0.0277778\n2           | 3            | 0.0277778\n2           | 4            | 0.0277778\n... (26 rows omitted)",
         "failure_message": "\"❌ prob_dist_tbl does not seem correct.?\"",
         "hidden": false,
         "locked": false,
         "points": 1,
         "success_message": "\"✅ prob_dist_tbl seems correct.\"\n"
        }
       ],
       "scored": true,
       "setup": "",
       "teardown": "",
       "type": "doctest"
      }
     ]
    },
    "task_09": {
     "name": "task_09",
     "points": null,
     "suites": [
      {
       "cases": [
        {
         "code": ">>> callable(to_pivot)\nTrue",
         "failure_message": "❌ to_pivot is not callable. It should be defined as a function.",
         "hidden": false,
         "locked": false,
         "success_message": "✅ to_pivot is callable."
        },
        {
         "code": ">>> test = to_pivot(prob_dist_tbl)\n>>> isinstance(test, Table)\nTrue",
         "failure_message": "❌ to_pivot does not produce a Table. Are you using the pivot table method with input?",
         "hidden": false,
         "locked": false,
         "success_message": "✅ to_pivot produces a Table."
        },
        {
         "code": ">>> test = to_pivot(prob_dist_tbl)\n>>> test.labels[0] == 'First Digit' and test.labels == ('First Digit', '1', '2', '3', '4', '5', '6')\nTrue",
         "failure_message": "❌ to_pivot doesn't produce the correct column values when applied to prob_dist_tbl. Did you switch up your rows and columns with the pivot command?",
         "hidden": false,
         "locked": false,
         "success_message": "✅ to_pivot produces the correct column values when applied to prob_dist_tbl."
        },
        {
         "code": ">>> test = to_pivot(prob_dist_tbl)\n>>> test.column(0)\narray([1, 2, 3, 4, 5, 6])",
         "failure_message": "❌ to_pivot doesn't produce the correct column values when applied to prob_dist_tbl. Did you switch up your rows and columns with the pivot command?",
         "hidden": false,
         "locked": false,
         "success_message": "✅ to_pivot produces the correct row values when applied to prob_dist_tbl."
        },
        {
         "code": ">>> to_pivot(prob_dist_tbl)\nFirst Digit | 1         | 2         | 3         | 4         | 5         | 6\n1           | 0         | 0.0555556 | 0         | 0.0555556 | 0         | 0.0555556\n2           | 0.0277778 | 0.0277778 | 0.0277778 | 0.0277778 | 0.0277778 | 0.0277778\n3           | 0         | 0.0555556 | 0         | 0.0555556 | 0         | 0.0555556\n4           | 0.0277778 | 0.0277778 | 0.0277778 | 0.0277778 | 0.0277778 | 0.0277778\n5           | 0         | 0.0555556 | 0         | 0.0555556 | 0         | 0.0555556\n6           | 0.0277778 | 0.0277778 | 0.0277778 | 0.0277778 | 0.0277778 | 0.0277778",
         "hidden": false,
         "locked": false,
         "success_message": "\"✅ to_pivot produces the expected pivot table when applied to prob_dist_tbl.\"\n\"❌ to_pivot doesn't produce the expected pivot table when applied to prob_dist_tbl.\""
        },
        {
         "code": ">>> test_tbl = Table().with_columns('First Digit', ['A', 'A', 'B', 'B'], 'Second Digit', ['T', 'F', 'T', 'F'], 'col3', [0.25, 0.5, 0, 0.25])\n>>> to_pivot(test_tbl)\nFirst Digit | F    | T\nA           | 0.5  | 0.25\nB           | 0.25 | 0",
         "failure_message": "❌ to_pivot doesn't produce the expected pivot table when applied to our test table that has different labels than prob_dist_tbl. Make sure you create the pivot table using the column index values, not the column labels.",
         "hidden": false,
         "locked": false,
         "success_message": "✅ to_pivot produces the expected pivot table when applied to our test table that has different labels than prob_dist_tbl."
        }
       ],
       "scored": true,
       "setup": "",
       "teardown": "",
       "type": "doctest"
      }
     ]
    },
    "task_10": {
     "name": "task_10",
     "points": null,
     "suites": [
      {
       "cases": [
        {
         "code": ">>> callable(heatmap)\nTrue",
         "failure_message": "❌ You have not run the code cell to and or have defined the heatmap function. Ask for help.",
         "hidden": false,
         "locked": false,
         "success_message": "✅ You have run the code cell to and have defined the heatmap function."
        }
       ],
       "scored": true,
       "setup": "",
       "teardown": "",
       "type": "doctest"
      }
     ]
    },
    "task_12": {
     "name": "task_12",
     "points": null,
     "suites": [
      {
       "cases": [
        {
         "code": ">>> callable(simulate_one_sequence_as_claimed)\nTrue",
         "failure_message": "❌ simulate_one_sequence_as_claimed should be callable.",
         "hidden": false,
         "locked": false,
         "success_message": "✅ simulate_one_sequence_as_claimed is callable."
        },
        {
         "code": ">>> isinstance(simulate_one_sequence_as_claimed(), list)\nTrue",
         "failure_message": "❌ simulate_one_sequence_as_claimed should produce a list. You can use square bracket notation to make a list.",
         "hidden": false,
         "locked": false,
         "success_message": "✅ simulate_one_sequence_as_claimed produces a list."
        },
        {
         "code": ">>> test_simulate_one_sequence_as_claimed = simulate_one_sequence_as_claimed()\n>>> 1 <= test_simulate_one_sequence_as_claimed[0] <= 6\nTrue",
         "failure_message": "❌ simulate_one_sequence_as_claimed doesn't produce possible values for the first digit.",
         "hidden": false,
         "locked": false,
         "success_message": "✅ simulate_one_sequence_as_claimed produces possible values for the first digit."
        },
        {
         "code": ">>> test_simulate_one_sequence_as_claimed = simulate_one_sequence_as_claimed()\n>>> if test_simulate_one_sequence_as_claimed[0] % 2 == 0:\n...     print(1 <= test_simulate_one_sequence_as_claimed[1] <= 6)\n... else:\n...     print(test_simulate_one_sequence_as_claimed[1] % 2 == 0)\nTrue\n",
         "failure_message": "❌ simulate_one_sequence_as_claimed doesn't produce possible values for the second digit.",
         "hidden": false,
         "locked": false,
         "success_message": "✅ simulate_one_sequence_as_claimed produces possible values for the second digit."
        }
       ],
       "scored": true,
       "setup": "",
       "teardown": "",
       "type": "doctest"
      }
     ]
    }
   }
  }
 },
 "nbformat": 4,
 "nbformat_minor": 5
}
