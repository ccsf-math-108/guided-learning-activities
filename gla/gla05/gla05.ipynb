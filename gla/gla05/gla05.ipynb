{
 "cells": [
  {
   "cell_type": "code",
   "execution_count": null,
   "id": "405da823",
   "metadata": {
    "deletable": false,
    "editable": false
   },
   "outputs": [],
   "source": [
    "# Initialize Otter\n",
    "import otter\n",
    "grader = otter.Notebook(\"gla05.ipynb\")"
   ]
  },
  {
   "cell_type": "markdown",
   "id": "692fbc6d-0645-4e75-b205-29989ec616ab",
   "metadata": {},
   "source": [
    "<img src=\"./ccsf.png\" alt=\"CCSF Logo\" width=200px style=\"margin:0px -5px\">"
   ]
  },
  {
   "cell_type": "markdown",
   "id": "c83b268c-d46e-450b-b4af-a2390020878c",
   "metadata": {
    "tags": []
   },
   "source": [
    "# Guided Learning Activity 05: Data Analysis"
   ]
  },
  {
   "cell_type": "markdown",
   "id": "f5c0e5f0-1759-4129-8e2e-8301f1db6953",
   "metadata": {},
   "source": [
    "This Guided Learning Activity is designed for you to complete alongside a Data Ambassador from the course. You might find that it feels like a combination of the lectures and lab assignment. Whether you are participating live or watching the recording of the live meeting, let the Data Ambassador guide you through the following tasks. There will be moments for you to reflect and explore your own ideas as a way to solidify concepts and skills introduced by your instructor. Keep in mind that this is not a graded assignment for MATH 108 by default. If you have any concerns about participation, reach out to your instructor."
   ]
  },
  {
   "cell_type": "markdown",
   "id": "20d80b08-8562-4cc5-aa65-1e0c97ac6985",
   "metadata": {},
   "source": [
    "---"
   ]
  },
  {
   "cell_type": "markdown",
   "id": "eccd253c-ffd2-40f0-98ac-cc06cc8dec20",
   "metadata": {},
   "source": [
    "## Learning Objectives"
   ]
  },
  {
   "cell_type": "markdown",
   "id": "66e18ccd-f8f0-4f7c-a1f9-c872f5ca01af",
   "metadata": {},
   "source": [
    "1. Understand how to use the `datascience` library to manipulate and summarize health-related survey data. \n",
    "2. Learn to compute and interpret prevalence rates for health conditions. \n",
    "3. Explore data visualization techniques to compare hypertension prevalence across demographic groups.  \n",
    "4. Practice using `.group()`, `.pivot()`, and `.join()` table methods to organize and analyze data.  \n",
    "5. Gain insights into how national survey data informs public health policies and medical research.  "
   ]
  },
  {
   "cell_type": "markdown",
   "id": "3f3ef5e2-d54e-44b8-a185-be0fae620e5d",
   "metadata": {},
   "source": [
    "---"
   ]
  },
  {
   "cell_type": "markdown",
   "id": "fda55315-0e2a-46f8-ae5b-76b6dfa2cb16",
   "metadata": {},
   "source": [
    "## National Health and Nutrition Examination Survey"
   ]
  },
  {
   "cell_type": "markdown",
   "id": "d1a6b74e-1a5f-4430-a4d6-cbb2c39f5ea1",
   "metadata": {},
   "source": [
    "<img src=\"./NHANES-Trademark.avif\" width=200px alt=\"NHANES logo\">\n",
    "\n",
    "* The [National Health and Nutrition Examination Survey](https://www.cdc.gov/nchs/nhanes/about/index.html) (NHANES), conducted by the National Center for Health Statistics, collects data on the health, diet, and nutrition of U.S. adults and children.\n",
    "* It is the only national survey that includes health exams, lab tests, and dietary interviews for all ages.\n",
    "* The study aims to represent the civilian, non-institutionalized U.S. population, excluding those in supervised care, active-duty military personnel and families overseas, and citizens outside the 50 states and D.C.\n",
    "* It includes non-institutional group quarters like college dorms.\n",
    "* NHANES data inform medical practices and public health policies to improve overall health in the U.S.\n",
    "* In this activity, you will utilize data from the [2021-2023 NHANES cycle](https://wwwn.cdc.gov/nchs/nhanes/continuousnhanes/default.aspx?Cycle=2021-2023)."
   ]
  },
  {
   "cell_type": "markdown",
   "id": "032aead6-c5fc-4922-8277-c948ab711e37",
   "metadata": {},
   "source": [
    "---"
   ]
  },
  {
   "cell_type": "markdown",
   "id": "4bfaf574-a288-47d6-a510-15110587fb9d",
   "metadata": {},
   "source": [
    "### Hypertension"
   ]
  },
  {
   "cell_type": "markdown",
   "id": "23fbb050-ec19-4594-a6e5-dd091740346c",
   "metadata": {},
   "source": [
    "Hypertension, commonly known as high blood pressure, is a chronic medical condition defined as **systolic blood pressure at or above 130 mmHg and/or diastolic blood pressure at or above 80 mmHg**. As a leading modifiable risk factor for cardiovascular diseases, stroke, kidney failure, and dementia, hypertension affects over 1.3 billion adults globally according to the [World Health Organization (WHO)](https://www.who.int/thailand/news/detail/19-09-2023-first-who-report-details-devastating-impact-of-hypertension-and-ways-to-stop-it). Its societal importance stems from its pervasive prevalence, \"silent\" asymptomatic progression, and disproportionate impact on various communities due to socioeconomic and environmental factors. Systematic monitoring through surveys like NHANES enables early detection of population-level trends, evaluation of public health interventions, and identification of health disparities - critical for reducing cardiovascular mortality and containing associated economic burdens. In this activity, you will focus on recreating results from the NCHS Data Brief No. 511 from October 2024 titled [_Hypertension Prevalence, Awareness, Treatment, and Control Among Adults Age 18 and Older: United States, August 2021–August 2023_](https://www.cdc.gov/nchs/products/databriefs/db511.htm)."
   ]
  },
  {
   "cell_type": "markdown",
   "id": "cf3d6177-b6f1-4816-b7fb-c79862fcc816",
   "metadata": {},
   "source": [
    "---"
   ]
  },
  {
   "cell_type": "markdown",
   "id": "c8fd80e0-6770-4ada-8fef-5888fec3d6f6",
   "metadata": {},
   "source": [
    "### Blood Pressure"
   ]
  },
  {
   "cell_type": "markdown",
   "id": "15ffa58e-74b8-41fc-9f94-fd70f57653f3",
   "metadata": {},
   "source": [
    "According to the [American Heart Association](https://www.heart.org/en/health-topics/high-blood-pressure/understanding-blood-pressure-readings), your blood pressure is recorded as two numbers:\n",
    "\n",
    "* Systolic blood pressure is the first number. It measures the pressure your blood is pushing against your artery walls when the heart beats.\n",
    "* Diastolic blood pressure is the second number. It measures the pressure your blood is pushing against your artery walls while the heart muscle rests between beats.\n",
    "\n",
    "The following table from the same source categorizes various blood pressure measurement intervals for adults (18+).\n",
    "\n",
    "| **Blood Pressure Category**                       | **Systolic (mm Hg)**         | **Diastolic (mm Hg)**         |\n",
    "|--------------------------------------------------|------------------------------|-------------------------------|\n",
    "| **Normal**                                       | Less than 120                | Less than 80                  |\n",
    "| **Elevated**                                     | 120 – 129                    | Less than 80                  |\n",
    "| **High Blood Pressure (Hypertension) Stage 1**  | 130 – 139                    | 80 – 89                       |\n",
    "| **High Blood Pressure (Hypertension) Stage 2**  | 140 or higher                | 90 or higher                  |\n",
    "| **Hypertensive Crisis** (consult your doctor)    | Higher than 180              | Higher than 120               |\n",
    "\n",
    "For children, hypertension is defined differently. "
   ]
  },
  {
   "cell_type": "markdown",
   "id": "2665e22c-04aa-4178-b340-7cc99bd12055",
   "metadata": {},
   "source": [
    "---"
   ]
  },
  {
   "cell_type": "markdown",
   "id": "f9769d9b-3c84-4a4e-8b5f-9e4eb5463740",
   "metadata": {},
   "source": [
    "### Pandas"
   ]
  },
  {
   "cell_type": "markdown",
   "id": "857b3627-4df7-4659-89d5-03bb7c4c899e",
   "metadata": {},
   "source": [
    "<a href=\"https://pandas.pydata.org/about/citing.html\"><img src=\"./pandas.svg\" width=200px alt=\"Pandas logo\"></a>\n",
    "\n",
    "* [Pandas](https://pandas.pydata.org/) is a powerful open-source Python library for data manipulation and analysis, built on NumPy.\n",
    "* Designed for working with structured/relational data, it excels at cleaning, transforming, and analyzing datasets through intuitive functions for filtering, grouping, merging, and handling missing values.\n",
    "* The `datascience` used in MATH 108 was created to provide a softer entry point to more professional libraries like Pandas, but it is somewhat limited in its functionality.\n",
    "* You can convert between datascience Tables and Pandas DataFrames using the [`to_df`](https://datascience.readthedocs.io/en/master/_autosummary/datascience.tables.Table.to_df.html#datascience.tables.Table.to_df) and [`from_df`](https://datascience.readthedocs.io/en/master/_autosummary/datascience.tables.Table.from_df.html#datascience.tables.Table.from_df) functions from the `datascience` library.\n",
    "* We will only use Pandas in this activity to extract NHANES data.\n",
    "    * The data is sorted in `XPT` (`.xpt`) files, a common statistical file type derived by the [SAS Institute](https://www.sas.com/).\n",
    "    * The Pandas function [`read_sas`](https://pandas.pydata.org/docs/reference/api/pandas.read_sas.html) can read `XPT` files\n",
    "* Run the following command to import Pandas as `pd` along with the other common tools and configurations from MATH 108."
   ]
  },
  {
   "cell_type": "code",
   "execution_count": null,
   "id": "85ef82e7-8ff5-4e5b-bc20-13507d4cfe71",
   "metadata": {},
   "outputs": [],
   "source": [
    "import pandas as pd\n",
    "from datascience import *\n",
    "import numpy as np\n",
    "%matplotlib inline\n",
    "import matplotlib.pyplot as plt\n",
    "plt.style.use('fivethirtyeight')"
   ]
  },
  {
   "cell_type": "markdown",
   "id": "a93a785b-8a69-49ba-af8a-4a5aa68eec06",
   "metadata": {},
   "source": [
    "---"
   ]
  },
  {
   "cell_type": "markdown",
   "id": "d3435ee4-b839-464b-98b8-91b98b2337b1",
   "metadata": {},
   "source": [
    "### The Data"
   ]
  },
  {
   "cell_type": "markdown",
   "id": "54eaaf12-7805-4e9a-aded-796076590627",
   "metadata": {},
   "source": [
    "In order to recreate the results found in [_Hypertension Prevalence, Awareness, Treatment, and Control Among Adults Age 18 and Older: United States, August 2021–August 2023_](https://www.cdc.gov/nchs/products/databriefs/db511.htm), you will need to access demographics and physical examination data sourced from the [2021 - 2023 NHANES website](https://wwwn.cdc.gov/nchs/nhanes/continuousnhanes/default.aspx?Cycle=2021-2023). "
   ]
  },
  {
   "cell_type": "markdown",
   "id": "a63d49aa-8b38-4536-86bd-74481f5e572c",
   "metadata": {},
   "source": [
    "---"
   ]
  },
  {
   "cell_type": "markdown",
   "id": "7e4e470f-2ebb-4354-b900-0331e43ccaae",
   "metadata": {},
   "source": [
    "#### Demographics Data"
   ]
  },
  {
   "cell_type": "markdown",
   "id": "b13ec95c-c207-47ef-bdfa-a0a9180fbce0",
   "metadata": {},
   "source": [
    "* The [demographics data](https://wwwn.cdc.gov/nchs/nhanes/search/datapage.aspx?Component=Demographics&Cycle=2021-2023) is stored in the file `DEMO_L.xpt`.\n",
    "* The <a href=\"https://wwwn.cdc.gov/Nchs/Data/Nhanes/Public/2021/DataFiles/DEMO_L.htm\">demographics documentation file</a> contains information about the data, such as what the variable codes represent."
   ]
  },
  {
   "cell_type": "markdown",
   "id": "847a8404-07ac-4769-b3f9-63faa7e67922",
   "metadata": {},
   "source": [
    "---"
   ]
  },
  {
   "cell_type": "markdown",
   "id": "1d328663-fd9c-4fd0-9387-e3022939d0d6",
   "metadata": {
    "tags": []
   },
   "source": [
    "#### Task 01 📍"
   ]
  },
  {
   "cell_type": "markdown",
   "id": "4aa12b4f-ecfb-4641-9c8c-6b4010088737",
   "metadata": {
    "deletable": false,
    "editable": false
   },
   "source": [
    "Use the `pd.read_sas` Pandas function and `Table.read_df` `datascience` function to create a table called `demographics` from  `DEMO_L.xpt`."
   ]
  },
  {
   "cell_type": "code",
   "execution_count": null,
   "id": "cd0989d7-7a1c-41ed-b9bf-ec084672ae9d",
   "metadata": {
    "tags": []
   },
   "outputs": [],
   "source": [
    "demographics = ...\n",
    "demographics"
   ]
  },
  {
   "cell_type": "code",
   "execution_count": null,
   "id": "fe2a214b",
   "metadata": {
    "deletable": false,
    "editable": false
   },
   "outputs": [],
   "source": [
    "grader.check(\"task_01\")"
   ]
  },
  {
   "cell_type": "markdown",
   "id": "5ea075af-9c52-4462-9509-ba54b423072a",
   "metadata": {},
   "source": [
    "---"
   ]
  },
  {
   "cell_type": "markdown",
   "id": "1a054116-4189-41d4-9020-d89bbaf48797",
   "metadata": {},
   "source": [
    "#### Examination Data"
   ]
  },
  {
   "cell_type": "markdown",
   "id": "1cc8589f-8693-4348-a69b-b21deff3f1f5",
   "metadata": {},
   "source": [
    "* The [examination data on blood pressure](https://wwwn.cdc.gov/nchs/nhanes/search/datapage.aspx?Component=Examination&Cycle=2021-2023) is stored in the file `BPXO_L.xpt`.\n",
    "* The <a href=\"https://wwwn.cdc.gov/Nchs/Data/Nhanes/Public/2021/DataFiles/BPXO_L.htm\">examination documentation file</a> contains information about the data, such as what the variable codes represent."
   ]
  },
  {
   "cell_type": "markdown",
   "id": "a1ab989e-e128-4eea-bdda-5fc232e8ece0",
   "metadata": {},
   "source": [
    "---"
   ]
  },
  {
   "cell_type": "markdown",
   "id": "ed6cdaac-b4fd-4b46-8834-ec8131a6ff87",
   "metadata": {
    "tags": []
   },
   "source": [
    "#### Task 02 📍"
   ]
  },
  {
   "cell_type": "markdown",
   "id": "1160e6a5-1774-4b42-9de4-9419d144cc4b",
   "metadata": {
    "deletable": false,
    "editable": false
   },
   "source": [
    "Use the `pd.read_sas` Pandas function and `Table.read_df` `datascience` function to create a table called `examination` from  `BPXO_L.xpt`."
   ]
  },
  {
   "cell_type": "code",
   "execution_count": null,
   "id": "5b132823-38e0-433c-b9e8-08db04037b83",
   "metadata": {
    "tags": []
   },
   "outputs": [],
   "source": [
    "examination = ...\n",
    "examination"
   ]
  },
  {
   "cell_type": "code",
   "execution_count": null,
   "id": "1a44dc99",
   "metadata": {
    "deletable": false,
    "editable": false
   },
   "outputs": [],
   "source": [
    "grader.check(\"task_02\")"
   ]
  },
  {
   "cell_type": "markdown",
   "id": "b30b5aad-96b8-4cb6-ae9f-98d657fbf304",
   "metadata": {},
   "source": [
    "---"
   ]
  },
  {
   "cell_type": "markdown",
   "id": "b1eb499a-5008-4e28-b03b-3314f9905baa",
   "metadata": {},
   "source": [
    "#### Questionnaire Data"
   ]
  },
  {
   "cell_type": "markdown",
   "id": "219b36a9-41b5-4813-9bdb-0301f82b7592",
   "metadata": {},
   "source": [
    "* The [questionnaire data on blood pressure and cholesterol](https://wwwn.cdc.gov/nchs/nhanes/search/datapage.aspx?Component=Questionnaire&Cycle=2021-2023) is stored in the file `BPQ_L.xpt`.\n",
    "* The <a href=\"https://wwwn.cdc.gov/Nchs/Data/Nhanes/Public/2021/DataFiles/BPQ_L.htm\">questionnaire documentation file</a> contains information about the data, such as what the variable codes represent."
   ]
  },
  {
   "cell_type": "markdown",
   "id": "b62015c7-7e64-44e7-8ae5-ed072213040d",
   "metadata": {},
   "source": [
    "---"
   ]
  },
  {
   "cell_type": "markdown",
   "id": "713e7dfb-b847-4257-a449-f7f2967d679f",
   "metadata": {
    "tags": []
   },
   "source": [
    "#### Task 03 📍"
   ]
  },
  {
   "cell_type": "markdown",
   "id": "527f5e6c-b7b8-4640-b5cd-90de6cdd8e99",
   "metadata": {
    "deletable": false,
    "editable": false
   },
   "source": [
    "Use the `pd.read_sas` Pandas function and `Table.read_df` `datascience` function to create a table called `questionnaire` from  `BPQ_L.xpt`."
   ]
  },
  {
   "cell_type": "code",
   "execution_count": null,
   "id": "46ac56b9-6b42-4d49-94f3-c63c5011e74b",
   "metadata": {
    "tags": []
   },
   "outputs": [],
   "source": [
    "questionnaire = ...\n",
    "questionnaire"
   ]
  },
  {
   "cell_type": "code",
   "execution_count": null,
   "id": "6169a1d9",
   "metadata": {
    "deletable": false,
    "editable": false
   },
   "outputs": [],
   "source": [
    "grader.check(\"task_03\")"
   ]
  },
  {
   "cell_type": "markdown",
   "id": "22985f2e-6219-43b1-b765-03680fd1d6df",
   "metadata": {},
   "source": [
    "---"
   ]
  },
  {
   "cell_type": "markdown",
   "id": "db2a7dd6-3c66-4797-9c10-c7c1159411d4",
   "metadata": {},
   "source": [
    "### Defining Hypertension"
   ]
  },
  {
   "cell_type": "markdown",
   "id": "4a352ad6-9021-4697-80c4-efea16938fee",
   "metadata": {},
   "source": [
    "According to the NHANES data report:\n",
    "> An average of up to three brachial systolic and diastolic blood pressure readings were taken using an oscillometric device. All blood pressure readings were obtained during a participant's health examination in the mobile examination center by trained staff following a standard protocol.\n",
    "\n",
    "So, an individual (identified by their `SEQN` number) will be defined as having hypertension if their average systolic blood pressure is at or above 130 mmHg and/or their average diastolic blood pressure is at or above 80 mmHg, or if they are currently taking medication to lower blood pressure.\n",
    "* The systolic blood pressure values are associated with columns labels starting with `'BPXOSY'` in `examination`.\n",
    "* The diastolic blood pressure values are associated with columns labels starting with `'BPXODI'` in `examination`.\n",
    "* The results of the individuals reporting if they are taking blood pressure medication (`1`) are found in the `'BPQ150'` variable in `questionnaire`."
   ]
  },
  {
   "cell_type": "markdown",
   "id": "c37ce341-a044-477a-ad11-5b24bc1f9991",
   "metadata": {},
   "source": [
    "---"
   ]
  },
  {
   "cell_type": "markdown",
   "id": "a4e80a56-dead-4ffa-83a5-ec525193b661",
   "metadata": {
    "tags": []
   },
   "source": [
    "### Task 04 📍"
   ]
  },
  {
   "cell_type": "markdown",
   "id": "8a032f3f-0a3b-4dc5-a85c-4235ad8c754a",
   "metadata": {
    "deletable": false,
    "editable": false
   },
   "source": [
    "Create a table called `blood_pressure` that contains the same information from `examination` along with an additional column at the right end called `'BPQ150'` that includes the same information from `'BPQ150'` in the `questionnaire` table where there is a match in the two tables based on the `'SEQN'` values."
   ]
  },
  {
   "cell_type": "code",
   "execution_count": null,
   "id": "38432488-1ee8-4db5-98ea-765c07c3fcb2",
   "metadata": {
    "tags": []
   },
   "outputs": [],
   "source": [
    "blood_pressure = ...\n",
    "blood_pressure"
   ]
  },
  {
   "cell_type": "code",
   "execution_count": null,
   "id": "81400eb8-f655-4ba6-a942-02688c57e220",
   "metadata": {
    "deletable": false,
    "editable": false
   },
   "outputs": [],
   "source": [
    "\"\"\" # BEGIN TEST CONFIG\n",
    "hidden: false\n",
    "success_message: \"✅ blood_pressure is a Table.\"\n",
    "failure_message: \"❌ blood_pressure is not a Table.\"\n",
    "\"\"\" # END TEST CONFIG\n",
    "\n",
    "isinstance(blood_pressure, Table)"
   ]
  },
  {
   "cell_type": "code",
   "execution_count": null,
   "id": "bad0a804-fc82-49d1-a703-75446b9a07f3",
   "metadata": {
    "deletable": false,
    "editable": false
   },
   "outputs": [],
   "source": [
    "\"\"\" # BEGIN TEST CONFIG\n",
    "hidden: false\n",
    "success_message: \"✅ blood_pressure has the correct number of rows.\"\n",
    "failure_message: \"❌ blood_pressure does not have the correct number of rows.\"\n",
    "\"\"\" # END TEST CONFIG\n",
    "\n",
    "blood_pressure.num_rows"
   ]
  },
  {
   "cell_type": "code",
   "execution_count": null,
   "id": "e1f1ba88-17ff-47d2-b1ad-a7cc22653188",
   "metadata": {
    "deletable": false,
    "editable": false
   },
   "outputs": [],
   "source": [
    "\"\"\" # BEGIN TEST CONFIG\n",
    "hidden: false\n",
    "success_message: \"✅ blood_pressure has the correct column labels.\"\n",
    "failure_message: \"❌ blood_pressure does not have the correct column labels.\"\n",
    "\"\"\" # END TEST CONFIG\n",
    "\n",
    "blood_pressure.labels == ('SEQN',\n",
    " 'BPAOARM',\n",
    " 'BPAOCSZ',\n",
    " 'BPXOSY1',\n",
    " 'BPXODI1',\n",
    " 'BPXOSY2',\n",
    " 'BPXODI2',\n",
    " 'BPXOSY3',\n",
    " 'BPXODI3',\n",
    " 'BPXOPLS1',\n",
    " 'BPXOPLS2',\n",
    " 'BPXOPLS3',\n",
    " 'BPQ150')"
   ]
  },
  {
   "cell_type": "code",
   "execution_count": null,
   "id": "63eef386-41af-48c5-b6d6-8f877df3b391",
   "metadata": {
    "deletable": false,
    "editable": false
   },
   "outputs": [],
   "source": [
    "\"\"\" # BEGIN TEST CONFIG\n",
    "hidden: false\n",
    "success_message: \"✅ blood_pressure seems like the correct table.\"\n",
    "failure_message: \"❌ blood_pressure does not seem like the correct table.\"\n",
    "\"\"\" # END TEST CONFIG\n",
    "\n",
    "blood_pressure"
   ]
  },
  {
   "cell_type": "markdown",
   "id": "4c1b32c8-f687-423d-8ae4-4f5e97f00833",
   "metadata": {
    "editable": true,
    "slideshow": {
     "slide_type": ""
    },
    "tags": []
   },
   "source": [
    "---"
   ]
  },
  {
   "cell_type": "markdown",
   "id": "130fc103-43ec-4f70-b2d9-a08b361390b6",
   "metadata": {
    "tags": []
   },
   "source": [
    "### Task 05 📍"
   ]
  },
  {
   "cell_type": "markdown",
   "id": "3296d889-e474-422a-9ee2-7bf66ed00361",
   "metadata": {
    "deletable": false,
    "editable": false
   },
   "source": [
    "Create a table called `blood_pressure_with_hypertension` that contains the same information from `blood_pressure` with an extra column called `'HYPERTENSION'` of `bool` values to the far right-end of the `blood_pressure` table, indicating whether or not the individual should be labeled as having hypertension based on the above definition. We've provided a few functions and a template to help with this one!"
   ]
  },
  {
   "cell_type": "code",
   "execution_count": null,
   "id": "6c401a9d-dde8-4f81-9861-3290538fffdb",
   "metadata": {
    "tags": []
   },
   "outputs": [],
   "source": [
    "def average_bp(measurement1, measurement2, measurement3):\n",
    "    return np.average([measurement1, measurement2, measurement3])\n",
    "\n",
    "def bp_medication(bqp150):\n",
    "    if bqp150 == 1:\n",
    "        return True\n",
    "    else:\n",
    "        return False\n",
    "    \n",
    "BPXOSY_AVE_arr = ...\n",
    "BPXODI_AVE_arr = ...\n",
    "bp_medication_arr = ...\n",
    "hypertension_arr = ...\n",
    "blood_pressure_with_hypertension = ...\n",
    "blood_pressure_with_hypertension"
   ]
  },
  {
   "cell_type": "code",
   "execution_count": null,
   "id": "71efca27",
   "metadata": {
    "deletable": false,
    "editable": false
   },
   "outputs": [],
   "source": [
    "grader.check(\"task_05\")"
   ]
  },
  {
   "cell_type": "markdown",
   "id": "81a97c0b-3126-44dc-b359-04dda7cc04b7",
   "metadata": {
    "editable": true,
    "slideshow": {
     "slide_type": ""
    },
    "tags": []
   },
   "source": [
    "---"
   ]
  },
  {
   "cell_type": "markdown",
   "id": "4a6e5972-72be-453f-88c0-842808147ffd",
   "metadata": {},
   "source": [
    "### Including Demographics"
   ]
  },
  {
   "cell_type": "markdown",
   "id": "c2d377d2-8189-403c-8d1d-a37222b26aec",
   "metadata": {},
   "source": [
    "* Based on the data and defintion we have, the calculated prevalence of hypertension in the data set is around 32\\%.\n",
    "* The NHANES report indicates a higher prevalence of hypertension of 47.7\\%.\n",
    "* The report only considers those 18+ in age.\n",
    "* The report indicates that blood pressure analysis \"excluded pregnant women.\"\n",
    "* The report also indicates that \n",
    "* You should filter the blood pressure data based on the age of the individual and their pregnancy status.\n",
    "* Additionally, the report showcases the prevalence of hypertension for various adult age groups and by gender."
   ]
  },
  {
   "cell_type": "markdown",
   "id": "59317245-9a25-4160-a652-925022f65c1a",
   "metadata": {
    "editable": true,
    "slideshow": {
     "slide_type": ""
    },
    "tags": []
   },
   "source": [
    "---"
   ]
  },
  {
   "cell_type": "markdown",
   "id": "35933342-fb39-43d7-9786-feedf0a83254",
   "metadata": {
    "tags": []
   },
   "source": [
    "### Task 06 📍"
   ]
  },
  {
   "cell_type": "markdown",
   "id": "51d0d7df-b444-4db4-9c3c-075f7d034a9d",
   "metadata": {
    "deletable": false,
    "editable": false
   },
   "source": [
    "Join the `demographics` table with the `blood_pressure_with_hypertension` table for individuals 18+ in age into one table called `nhanes` who were not labeled as being pregnant (`'RIDEXPRG'` value of `1`). The table should contain the columns:\n",
    "* `'AGE'`: The age (`int`) of the individual (exclude those individuals under 18 in age)\n",
    "* `'GENDER'`: The self-reported sex (`int`) of the individual assigned at birth, given two choices:\n",
    "    * `1`: Male\n",
    "    * `2`: Female\n",
    "* `'HYPERTENSION'`: The classification of hypertension (`bool`) as defined above"
   ]
  },
  {
   "cell_type": "code",
   "execution_count": null,
   "id": "5ec44b00-6a08-45ba-90f8-6348bdd95c2d",
   "metadata": {
    "tags": []
   },
   "outputs": [],
   "source": [
    "..."
   ]
  },
  {
   "cell_type": "code",
   "execution_count": null,
   "id": "613d9605",
   "metadata": {
    "deletable": false,
    "editable": false
   },
   "outputs": [],
   "source": [
    "grader.check(\"task_06\")"
   ]
  },
  {
   "cell_type": "markdown",
   "id": "580d5e23-074f-44bd-b2d1-e2739b4d0d6d",
   "metadata": {
    "editable": true,
    "slideshow": {
     "slide_type": ""
    },
    "tags": []
   },
   "source": [
    "---"
   ]
  },
  {
   "cell_type": "markdown",
   "id": "f9060caa-790e-46e8-8f7b-5e7df92421e1",
   "metadata": {
    "tags": []
   },
   "source": [
    "### Task 07 📍"
   ]
  },
  {
   "cell_type": "markdown",
   "id": "51698bc4-902a-4e05-b34c-20eeda796703",
   "metadata": {
    "deletable": false,
    "editable": false
   },
   "source": [
    "What is the prevalence of hypertension according to this data? That is, what percentage of the individuals in the `nhanes` table are labeled as having hypertension? Assign that percentage value (`float`) to `hypertension_prevalence_2021_2023`."
   ]
  },
  {
   "cell_type": "code",
   "execution_count": null,
   "id": "17e022a4-14e9-4b4e-8038-8f6f018dc72f",
   "metadata": {
    "tags": []
   },
   "outputs": [],
   "source": [
    "..."
   ]
  },
  {
   "cell_type": "code",
   "execution_count": null,
   "id": "553e343f",
   "metadata": {
    "deletable": false,
    "editable": false
   },
   "outputs": [],
   "source": [
    "grader.check(\"task_07\")"
   ]
  },
  {
   "cell_type": "markdown",
   "id": "48bfd3a9-b64a-4890-97fd-2a8cc6fa77bc",
   "metadata": {
    "editable": true,
    "slideshow": {
     "slide_type": ""
    },
    "tags": []
   },
   "source": [
    "---"
   ]
  },
  {
   "cell_type": "markdown",
   "id": "caacebcd-d62d-4a23-86f0-b44bfdcb9271",
   "metadata": {
    "tags": []
   },
   "source": [
    "### Task 08 📍"
   ]
  },
  {
   "cell_type": "markdown",
   "id": "6b5f2ee2-8143-43ca-89aa-50d9417419e0",
   "metadata": {
    "deletable": false,
    "editable": false
   },
   "source": [
    "The NHANES report breaks down the prevalence of hypertension based on the age categories: `'18 - 39'`, `'40 - 59'`, and `'60 and older'`. Add a column to `nhanes` called `'AGE CATEGORY'` where each individual is assigned to the relevant age category based on their age."
   ]
  },
  {
   "cell_type": "code",
   "execution_count": null,
   "id": "f7379d6e-d2d1-4075-b0a2-c4aa478bb0d0",
   "metadata": {
    "tags": []
   },
   "outputs": [],
   "source": [
    "..."
   ]
  },
  {
   "cell_type": "code",
   "execution_count": null,
   "id": "52d48659",
   "metadata": {
    "deletable": false,
    "editable": false
   },
   "outputs": [],
   "source": [
    "grader.check(\"task_08\")"
   ]
  },
  {
   "cell_type": "markdown",
   "id": "b7f53a50-af65-4e0a-8c9e-b2f4defaf087",
   "metadata": {
    "editable": true,
    "slideshow": {
     "slide_type": ""
    },
    "tags": []
   },
   "source": [
    "---"
   ]
  },
  {
   "cell_type": "markdown",
   "id": "23682b80-a70d-49af-87a6-cd58e43974af",
   "metadata": {},
   "source": [
    "### Visualizing Hypertension Prevalence"
   ]
  },
  {
   "cell_type": "markdown",
   "id": "05f8ca6d-f47b-4115-b106-5032c0f58501",
   "metadata": {},
   "source": [
    "To wrap up this activity, you're goal is to partially recreate the following prevalence graphic from the report:\n",
    "\n",
    "<a href=\"https://www.cdc.gov/nchs/products/databriefs/db511.htm\"><img src=\"./db511-fig1.avif\" width=600px alt=\"NHANES hypertension prevalence graphic\"></a>\n",
    "\n",
    "You won't include the leftmost bars for both men and women, and you won't include the 18 and older age category for brevity."
   ]
  },
  {
   "cell_type": "markdown",
   "id": "eccb22c1-fd6e-4ed9-b691-013a40d413d6",
   "metadata": {},
   "source": [
    "---"
   ]
  },
  {
   "cell_type": "markdown",
   "id": "9586ddce-7f98-4faf-84a8-27d84c4756cf",
   "metadata": {
    "tags": []
   },
   "source": [
    "### Task 09 📍"
   ]
  },
  {
   "cell_type": "markdown",
   "id": "80634161-53d2-4792-ae02-2c7e9c23a506",
   "metadata": {
    "deletable": false,
    "editable": false
   },
   "source": [
    "To create this graphic, you'll need to restructure the data in the following format:\n",
    "\n",
    "<img src=\"./graph_table.png\" width=300px alt=\"Data table for creating the graphic.\">\n",
    "\n",
    "Create the table `nhanes_for_graphic` that includes 2 rows (one for each gender label, `'Men'` and `'Women'`, from the graphic) and 4 columns for the `'GENDER'` and 3 age categories. The values in the table should be the prevalence of hypertension for each gender and age category combination. \n",
    "\n",
    "**Note:** This will require several steps, so stay focused and check your work as you go!"
   ]
  },
  {
   "cell_type": "code",
   "execution_count": null,
   "id": "057b808e-5e09-4c10-b300-66b9f769c5ea",
   "metadata": {
    "tags": []
   },
   "outputs": [],
   "source": [
    "nhanes_for_graphic = ...\n",
    "nhanes_for_graphic"
   ]
  },
  {
   "cell_type": "code",
   "execution_count": null,
   "id": "aad3861d",
   "metadata": {
    "deletable": false,
    "editable": false
   },
   "outputs": [],
   "source": [
    "grader.check(\"task_09\")"
   ]
  },
  {
   "cell_type": "markdown",
   "id": "fe12d6c4-4d5a-4b7f-ad40-7d232413e37c",
   "metadata": {
    "editable": true,
    "slideshow": {
     "slide_type": ""
    },
    "tags": []
   },
   "source": [
    "---"
   ]
  },
  {
   "cell_type": "markdown",
   "id": "4fec0ae8-582e-42d2-9b07-63535bdf1b4e",
   "metadata": {
    "tags": []
   },
   "source": [
    "### Task 09 📍🔎"
   ]
  },
  {
   "cell_type": "markdown",
   "id": "5fd699f1-180c-4832-90e4-68848a8abc61",
   "metadata": {
    "deletable": false,
    "editable": false
   },
   "source": [
    "<!-- BEGIN QUESTION -->\n",
    "\n",
    "Finally, using the `nhanes_for_graphic` table, create bar charts for each gender label, and within each gender, there is a bar for each of the 3 age categories. Make sure to reflect on the findings.\n",
    "\n",
    "**Note:** You will notice some discrepancies in the values since the NHANES made a few other modifications that we did not consider here."
   ]
  },
  {
   "cell_type": "code",
   "execution_count": null,
   "id": "0b0dd301-6374-4703-bd5a-fddf66c59c20",
   "metadata": {
    "tags": []
   },
   "outputs": [],
   "source": [
    "...\n",
    "\n",
    "plt.title('Hypertension Prevalence')\n",
    "plt.show()"
   ]
  },
  {
   "cell_type": "code",
   "execution_count": null,
   "id": "7b0837db",
   "metadata": {
    "deletable": false,
    "editable": false
   },
   "outputs": [],
   "source": [
    "grader.check(\"task_09\")"
   ]
  },
  {
   "cell_type": "markdown",
   "id": "8fc7f483-168f-4ca0-b8c6-bdb982b242d2",
   "metadata": {
    "deletable": false,
    "editable": false,
    "slideshow": {
     "slide_type": "fragment"
    }
   },
   "source": [
    "<!-- END QUESTION -->\n",
    "\n",
    "---"
   ]
  },
  {
   "cell_type": "markdown",
   "id": "c11c8fb1-554c-4ce0-b48b-78b84fe7404f",
   "metadata": {},
   "source": [
    "## Reflection"
   ]
  },
  {
   "cell_type": "markdown",
   "id": "8bb442e3-93ec-4e95-b913-ae40f3d100ff",
   "metadata": {},
   "source": [
    "In this activity, you worked with real-world health data from NHANES to analyze hypertension prevalence across different demographic groups. You applied data wrangling techniques, such as grouping, pivoting, and computing new columns, to uncover meaningful patterns. By visualizing the results, you gained insights into the disparities in hypertension prevalence and reinforced key programming concepts. More importantly, you saw how large-scale survey data plays a crucial role in public health decision-making. As you reflect on this work, consider how similar techniques could be used to investigate other health conditions or societal trends."
   ]
  },
  {
   "cell_type": "markdown",
   "id": "6f1a1575-d1cc-4e5b-9e36-6d2fce3c3b00",
   "metadata": {
    "editable": true,
    "slideshow": {
     "slide_type": ""
    },
    "tags": []
   },
   "source": [
    "---"
   ]
  },
  {
   "cell_type": "markdown",
   "id": "830cd3aa-7268-4b8d-9de1-b8291a77d457",
   "metadata": {
    "editable": true,
    "slideshow": {
     "slide_type": "notes"
    },
    "tags": []
   },
   "source": [
    "## License"
   ]
  },
  {
   "cell_type": "markdown",
   "id": "55e19cd7-8808-4101-a381-c0897b12ce07",
   "metadata": {
    "editable": true,
    "slideshow": {
     "slide_type": ""
    },
    "tags": []
   },
   "source": [
    "This content is licensed under the <a href=\"https://creativecommons.org/licenses/by-nc-sa/4.0/\">Creative Commons Attribution-NonCommercial-ShareAlike 4.0 International License (CC BY-NC-SA 4.0)</a>.\n",
    "\n",
    "<img src=\"./by-nc-sa.png\" width=100px>"
   ]
  }
 ],
 "metadata": {
  "kernelspec": {
   "display_name": "Python 3 (ipykernel)",
   "language": "python",
   "name": "python3"
  },
  "language_info": {
   "codemirror_mode": {
    "name": "ipython",
    "version": 3
   },
   "file_extension": ".py",
   "mimetype": "text/x-python",
   "name": "python",
   "nbconvert_exporter": "python",
   "pygments_lexer": "ipython3",
   "version": "3.11.9"
  },
  "otter": {
   "OK_FORMAT": true,
   "assignment_name": "gla05_sp25",
   "tests": {
    "task_01": {
     "name": "task_01",
     "points": null,
     "suites": [
      {
       "cases": [
        {
         "code": ">>> isinstance(demographics, Table)\nTrue",
         "failure_message": "❌ demographics is not a Table.",
         "hidden": false,
         "locked": false,
         "success_message": "✅ demographics is a Table."
        },
        {
         "code": ">>> demographics.num_rows\n11933",
         "failure_message": "❌ demographics does not have the correct number of rows.",
         "hidden": false,
         "locked": false,
         "success_message": "✅ demographics has the correct number of rows."
        },
        {
         "code": ">>> demographics.labels == ('SEQN', 'SDDSRVYR', 'RIDSTATR', 'RIAGENDR', 'RIDAGEYR', 'RIDAGEMN', 'RIDRETH1', 'RIDRETH3', 'RIDEXMON', 'RIDEXAGM', 'DMQMILIZ', 'DMDBORN4', 'DMDYRUSR', 'DMDEDUC2', 'DMDMARTZ', 'RIDEXPRG', 'DMDHHSIZ', 'DMDHRGND', 'DMDHRAGZ', 'DMDHREDZ', 'DMDHRMAZ', 'DMDHSEDZ', 'WTINT2YR', 'WTMEC2YR', 'SDMVSTRA', 'SDMVPSU', 'INDFMPIR')\nTrue",
         "failure_message": "❌ demographics does not have the correct column labels.",
         "hidden": false,
         "locked": false,
         "success_message": "✅ demographics has the correct column labels."
        },
        {
         "code": ">>> demographics\nSEQN   | SDDSRVYR | RIDSTATR | RIAGENDR | RIDAGEYR | RIDAGEMN | RIDRETH1 | RIDRETH3 | RIDEXMON | RIDEXAGM | DMQMILIZ | DMDBORN4 | DMDYRUSR | DMDEDUC2 | DMDMARTZ | RIDEXPRG | DMDHHSIZ | DMDHRGND | DMDHRAGZ | DMDHREDZ | DMDHRMAZ | DMDHSEDZ | WTINT2YR | WTMEC2YR    | SDMVSTRA | SDMVPSU | INDFMPIR\n130378 | 12       | 2        | 1        | 43       | nan      | 5        | 6        | 2        | nan      | 2        | 2        | 6        | 5        | 1        | nan      | 4        | nan      | nan      | nan      | nan      | nan      | 50055.5  | 54374.5     | 173      | 2       | 5\n130379 | 12       | 2        | 1        | 66       | nan      | 3        | 3        | 2        | nan      | 2        | 1        | nan      | 5        | 1        | nan      | 2        | nan      | nan      | nan      | nan      | nan      | 29087.5  | 34084.7     | 173      | 2       | 5\n130380 | 12       | 2        | 2        | 44       | nan      | 2        | 2        | 1        | nan      | 2        | 2        | 6        | 3        | 1        | 2        | 7        | nan      | nan      | nan      | nan      | nan      | 80062.7  | 81196.3     | 174      | 1       | 1.41\n130381 | 12       | 2        | 2        | 5        | nan      | 5        | 7        | 1        | 71       | nan      | 1        | nan      | nan      | nan      | nan      | 2        | 2        | 2        | 2        | 3        | nan      | 38807.3  | 55698.6     | 182      | 2       | 1.53\n130382 | 12       | 2        | 1        | 2        | nan      | 3        | 3        | 2        | 34       | nan      | 1        | nan      | nan      | nan      | nan      | 4        | 2        | 2        | 3        | 1        | 2        | 30607.5  | 36434.1     | 182      | 2       | 3.6\n130383 | 12       | 1        | 2        | 3        | nan      | 2        | 2        | nan      | nan      | nan      | 1        | nan      | nan      | nan      | nan      | 3        | 2        | 2        | nan      | 1        | nan      | 43456.1  | 5.39761e-79 | 176      | 2       | nan\n130384 | 12       | 1        | 1        | 43       | nan      | 1        | 1        | nan      | nan      | 2        | 2        | 5        | 2        | 3        | nan      | 2        | nan      | nan      | nan      | nan      | nan      | 15078.7  | 5.39761e-79 | 179      | 2       | 0.63\n130385 | 12       | 1        | 2        | 65       | nan      | 3        | 3        | nan      | nan      | 2        | 1        | nan      | 3        | 1        | nan      | 2        | nan      | nan      | nan      | nan      | nan      | 16151    | 5.39761e-79 | 187      | 2       | 5\n130386 | 12       | 2        | 1        | 34       | nan      | 1        | 1        | 1        | nan      | 2        | 1        | nan      | 4        | 1        | nan      | 3        | nan      | nan      | nan      | nan      | nan      | 30995.3  | 39988.5     | 179      | 1       | 1.33\n130387 | 12       | 2        | 2        | 68       | nan      | 3        | 3        | 2        | nan      | 2        | 1        | nan      | 5        | 3        | nan      | 1        | nan      | nan      | nan      | nan      | nan      | 19897    | 20776.3     | 181      | 1       | 1.32\n... (11923 rows omitted)",
         "failure_message": "❌ demographics does not seem like the correct table.",
         "hidden": false,
         "locked": false,
         "success_message": "✅ demographics seems like the correct table."
        }
       ],
       "scored": true,
       "setup": "",
       "teardown": "",
       "type": "doctest"
      }
     ]
    },
    "task_02": {
     "name": "task_02",
     "points": null,
     "suites": [
      {
       "cases": [
        {
         "code": ">>> isinstance(examination, Table)\nTrue",
         "failure_message": "❌ examination is not a Table.",
         "hidden": false,
         "locked": false,
         "success_message": "✅ examination is a Table."
        },
        {
         "code": ">>> examination.num_rows\n7801",
         "failure_message": "❌ examination does not have the correct number of rows.",
         "hidden": false,
         "locked": false,
         "success_message": "✅ examination has the correct number of rows."
        },
        {
         "code": ">>> examination.labels == ('SEQN', 'BPAOARM', 'BPAOCSZ', 'BPXOSY1', 'BPXODI1', 'BPXOSY2', 'BPXODI2', 'BPXOSY3', 'BPXODI3', 'BPXOPLS1', 'BPXOPLS2', 'BPXOPLS3')\nTrue",
         "failure_message": "❌ examination does not have the correct column labels.",
         "hidden": false,
         "locked": false,
         "success_message": "✅ examination has the correct column labels."
        },
        {
         "code": ">>> examination\nSEQN   | BPAOARM | BPAOCSZ | BPXOSY1 | BPXODI1 | BPXOSY2 | BPXODI2 | BPXOSY3 | BPXODI3 | BPXOPLS1 | BPXOPLS2 | BPXOPLS3\n130378 | b'R'    | 4       | 135     | 98      | 131     | 96      | 132     | 94      | 82       | 79       | 82\n130379 | b'R'    | 4       | 121     | 84      | 117     | 76      | 113     | 76      | 72       | 71       | 73\n130380 | b'R'    | 4       | 111     | 79      | 112     | 80      | 104     | 76      | 84       | 83       | 77\n130386 | b'R'    | 4       | 110     | 72      | 120     | 74      | 115     | 75      | 59       | 64       | 64\n130387 | b'R'    | 4       | 143     | 76      | 136     | 74      | 145     | 78      | 80       | 80       | 77\n130388 | b'R'    | 5       | 130     | 95      | 128     | 100     | 129     | 104     | 76       | 84       | 86\n130389 | b'R'    | 3       | 145     | 76      | 130     | 81      | 124     | 81      | 58       | 54       | 62\n130390 | b'R'    | 5       | 113     | 78      | 106     | 78      | 115     | 68      | 95       | 95       | 93\n130391 | b'R'    | 4       | 105     | 73      | 104     | 74      | 109     | 71      | 97       | 98       | 94\n130392 | b'L'    | 4       | 154     | 76      | 167     | 70      | 154     | 68      | 59       | 61       | 61\n... (7791 rows omitted)",
         "failure_message": "❌ examination does not seem like the correct table.",
         "hidden": false,
         "locked": false,
         "success_message": "✅ examination seems like the correct table."
        }
       ],
       "scored": true,
       "setup": "",
       "teardown": "",
       "type": "doctest"
      }
     ]
    },
    "task_03": {
     "name": "task_03",
     "points": null,
     "suites": [
      {
       "cases": [
        {
         "code": ">>> isinstance(questionnaire, Table)\nTrue",
         "failure_message": "❌ questionnaire is not a Table.",
         "hidden": false,
         "locked": false,
         "success_message": "✅ questionnaire is a Table."
        },
        {
         "code": ">>> questionnaire.num_rows\n8501",
         "failure_message": "❌ questionnaire does not have the correct number of rows.",
         "hidden": false,
         "locked": false,
         "success_message": "✅ questionnaire has the correct number of rows."
        },
        {
         "code": ">>> questionnaire.labels == ('SEQN', 'BPQ020', 'BPQ030', 'BPQ150', 'BPQ080', 'BPQ101D')\nTrue",
         "failure_message": "❌ questionnaire does not have the correct column labels.",
         "hidden": false,
         "locked": false,
         "success_message": "✅ questionnaire has the correct column labels."
        },
        {
         "code": ">>> questionnaire\nSEQN   | BPQ020 | BPQ030 | BPQ150 | BPQ080 | BPQ101D\n130378 | 1      | 1      | 1      | 2      | 2\n130379 | 1      | 1      | 1      | 2      | 2\n130380 | 2      | nan    | nan    | 1      | 1\n130384 | 2      | nan    | nan    | 2      | 2\n130385 | 2      | nan    | nan    | 2      | 2\n130386 | 2      | nan    | nan    | 2      | 2\n130387 | 1      | 1      | 1      | 1      | 2\n130388 | 1      | 1      | 2      | 2      | 2\n130389 | 1      | 1      | 1      | 1      | 1\n130390 | 2      | nan    | nan    | 2      | 2\n... (8491 rows omitted)",
         "failure_message": "❌ questionnaire does not seem like the correct table.",
         "hidden": false,
         "locked": false,
         "success_message": "✅ questionnaire seems like the correct table."
        }
       ],
       "scored": true,
       "setup": "",
       "teardown": "",
       "type": "doctest"
      }
     ]
    },
    "task_05": {
     "name": "task_05",
     "points": null,
     "suites": [
      {
       "cases": [
        {
         "code": ">>> isinstance(blood_pressure_with_hypertension, Table)\nTrue",
         "failure_message": "❌ blood_pressure_with_hypertension is not a Table.",
         "hidden": false,
         "locked": false,
         "success_message": "✅ blood_pressure_with_hypertension is a Table."
        },
        {
         "code": ">>> blood_pressure_with_hypertension.num_rows\n6615",
         "failure_message": "❌ blood_pressure_with_hypertension does not have the correct number of rows.",
         "hidden": false,
         "locked": false,
         "success_message": "✅ blood_pressure_with_hypertension has the correct number of rows."
        },
        {
         "code": ">>> blood_pressure_with_hypertension.labels == ('SEQN', 'BPAOARM', 'BPAOCSZ', 'BPXOSY1', 'BPXODI1', 'BPXOSY2', 'BPXODI2', 'BPXOSY3', 'BPXODI3', 'BPXOPLS1', 'BPXOPLS2', 'BPXOPLS3', 'BPQ150', 'HYPERTENSION')\nTrue",
         "failure_message": "❌ blood_pressure_with_hypertension does not have the correct column labels.",
         "hidden": false,
         "locked": false,
         "success_message": "✅ blood_pressure_with_hypertension has the correct column labels."
        },
        {
         "code": ">>> blood_pressure\nSEQN   | BPAOARM | BPAOCSZ | BPXOSY1 | BPXODI1 | BPXOSY2 | BPXODI2 | BPXOSY3 | BPXODI3 | BPXOPLS1 | BPXOPLS2 | BPXOPLS3 | BPQ150\n130378 | b'R'    | 4       | 135     | 98      | 131     | 96      | 132     | 94      | 82       | 79       | 82       | 1\n130379 | b'R'    | 4       | 121     | 84      | 117     | 76      | 113     | 76      | 72       | 71       | 73       | 1\n130380 | b'R'    | 4       | 111     | 79      | 112     | 80      | 104     | 76      | 84       | 83       | 77       | nan\n130386 | b'R'    | 4       | 110     | 72      | 120     | 74      | 115     | 75      | 59       | 64       | 64       | nan\n130387 | b'R'    | 4       | 143     | 76      | 136     | 74      | 145     | 78      | 80       | 80       | 77       | 1\n130388 | b'R'    | 5       | 130     | 95      | 128     | 100     | 129     | 104     | 76       | 84       | 86       | 2\n130389 | b'R'    | 3       | 145     | 76      | 130     | 81      | 124     | 81      | 58       | 54       | 62       | 1\n130390 | b'R'    | 5       | 113     | 78      | 106     | 78      | 115     | 68      | 95       | 95       | 93       | nan\n130391 | b'R'    | 4       | 105     | 73      | 104     | 74      | 109     | 71      | 97       | 98       | 94       | nan\n130392 | b'L'    | 4       | 154     | 76      | 167     | 70      | 154     | 68      | 59       | 61       | 61       | 1\n... (6605 rows omitted)",
         "failure_message": "❌ blood_pressure does not seem like the correct table.",
         "hidden": false,
         "locked": false,
         "success_message": "✅ blood_pressure seems like the correct table."
        }
       ],
       "scored": true,
       "setup": "",
       "teardown": "",
       "type": "doctest"
      }
     ]
    },
    "task_06": {
     "name": "task_06",
     "points": null,
     "suites": [
      {
       "cases": [
        {
         "code": ">>> isinstance(nhanes, Table)\nTrue",
         "failure_message": "❌ nhanes is not a Table.",
         "hidden": false,
         "locked": false,
         "success_message": "✅ nhanes is a Table."
        },
        {
         "code": ">>> nhanes.num_rows\n6296",
         "failure_message": "❌ nhanes does not have the correct number of rows.",
         "hidden": false,
         "locked": false,
         "success_message": "✅ nhanes has the correct number of rows."
        },
        {
         "code": ">>> nhanes.labels == ('AGE', 'GENDER', 'HYPERTENSION')\nTrue",
         "failure_message": "❌ nhanes does not have the correct column labels.",
         "hidden": false,
         "locked": false,
         "success_message": "✅ nhanes has the correct column labels."
        },
        {
         "code": ">>> nhanes\nAGE  | GENDER | HYPERTENSION\n43   | 1      | True\n66   | 1      | True\n44   | 2      | False\n34   | 1      | False\n68   | 2      | True\n27   | 2      | True\n59   | 1      | True\n31   | 2      | False\n33   | 2      | False\n74   | 2      | True\n... (6286 rows omitted)",
         "failure_message": "❌ nhanes does not seem correct.",
         "hidden": false,
         "locked": false,
         "success_message": "✅ nhanes seems correct."
        }
       ],
       "scored": true,
       "setup": "",
       "teardown": "",
       "type": "doctest"
      }
     ]
    },
    "task_07": {
     "name": "task_07",
     "points": null,
     "suites": [
      {
       "cases": [
        {
         "code": ">>> import numbers\n>>> isinstance(hypertension_prevalence_2021_2023, numbers.Number)\nTrue",
         "failure_message": "❌ hypertension_prevalence_2021_2023 is not a numerical value.",
         "hidden": false,
         "locked": false,
         "success_message": "✅ hypertension_prevalence_2021_2023 is a numerical value."
        },
        {
         "code": ">>> hypertension_prevalence_2021_2023\n52.477763659466326",
         "failure_message": "❌ hypertension_prevalence_2021_2023 doesn't seem correct.",
         "hidden": false,
         "locked": false,
         "success_message": "✅ hypertension_prevalence_2021_2023 seems correct."
        }
       ],
       "scored": true,
       "setup": "",
       "teardown": "",
       "type": "doctest"
      }
     ]
    },
    "task_08": {
     "name": "task_08",
     "points": null,
     "suites": [
      {
       "cases": [
        {
         "code": ">>> isinstance(nhanes, Table)\nTrue",
         "failure_message": "❌ nhanes is not a Table.",
         "hidden": false,
         "locked": false,
         "success_message": "✅ nhanes is a Table."
        },
        {
         "code": ">>> nhanes.num_rows\n6296",
         "failure_message": "❌ nhanes does not have the correct number of rows.",
         "hidden": false,
         "locked": false,
         "success_message": "✅ nhanes has the correct number of rows."
        },
        {
         "code": ">>> nhanes.labels == ('AGE', 'GENDER', 'HYPERTENSION', 'AGE CATEGORY')\nTrue",
         "failure_message": "❌ nhanes does not have the correct column labels.",
         "hidden": false,
         "locked": false,
         "success_message": "✅ nhanes has the correct column labels."
        },
        {
         "code": ">>> nhanes.group('AGE CATEGORY')\nAGE CATEGORY | count\n18 - 39      | 1792\n40 - 59      | 1732\n60 and older | 2772",
         "failure_message": "❌ nhanes does not seem correct.",
         "hidden": false,
         "locked": false,
         "success_message": "✅ nhanes seems correct."
        }
       ],
       "scored": true,
       "setup": "",
       "teardown": "",
       "type": "doctest"
      }
     ]
    },
    "task_09": {
     "name": "task_09",
     "points": null,
     "suites": [
      {
       "cases": [
        {
         "code": ">>> True\nTrue",
         "failure_message": "❌ ",
         "hidden": false,
         "locked": false,
         "success_message": "✅ "
        }
       ],
       "scored": true,
       "setup": "",
       "teardown": "",
       "type": "doctest"
      }
     ]
    }
   }
  }
 },
 "nbformat": 4,
 "nbformat_minor": 5
}
